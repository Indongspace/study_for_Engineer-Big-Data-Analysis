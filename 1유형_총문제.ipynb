{
 "cells": [
  {
   "cell_type": "code",
   "execution_count": 2,
   "id": "a1d8969b-9125-46ab-8a2e-8632b56d74ce",
   "metadata": {},
   "outputs": [
    {
     "data": {
      "text/html": [
       "<div>\n",
       "<style scoped>\n",
       "    .dataframe tbody tr th:only-of-type {\n",
       "        vertical-align: middle;\n",
       "    }\n",
       "\n",
       "    .dataframe tbody tr th {\n",
       "        vertical-align: top;\n",
       "    }\n",
       "\n",
       "    .dataframe thead th {\n",
       "        text-align: right;\n",
       "    }\n",
       "</style>\n",
       "<table border=\"1\" class=\"dataframe\">\n",
       "  <thead>\n",
       "    <tr style=\"text-align: right;\">\n",
       "      <th></th>\n",
       "      <th>car</th>\n",
       "      <th>mpg</th>\n",
       "      <th>cyl</th>\n",
       "      <th>disp</th>\n",
       "      <th>hp</th>\n",
       "      <th>drat</th>\n",
       "      <th>wt</th>\n",
       "      <th>qsec</th>\n",
       "      <th>vs</th>\n",
       "      <th>am</th>\n",
       "      <th>gear</th>\n",
       "      <th>carb</th>\n",
       "    </tr>\n",
       "  </thead>\n",
       "  <tbody>\n",
       "    <tr>\n",
       "      <th>0</th>\n",
       "      <td>Mazda RX4</td>\n",
       "      <td>21.0</td>\n",
       "      <td>6</td>\n",
       "      <td>160.0</td>\n",
       "      <td>110</td>\n",
       "      <td>3.90</td>\n",
       "      <td>2.620</td>\n",
       "      <td>16.46</td>\n",
       "      <td>0</td>\n",
       "      <td>1</td>\n",
       "      <td>4</td>\n",
       "      <td>4</td>\n",
       "    </tr>\n",
       "    <tr>\n",
       "      <th>1</th>\n",
       "      <td>Mazda RX4 Wag</td>\n",
       "      <td>21.0</td>\n",
       "      <td>6</td>\n",
       "      <td>160.0</td>\n",
       "      <td>110</td>\n",
       "      <td>3.90</td>\n",
       "      <td>2.875</td>\n",
       "      <td>17.02</td>\n",
       "      <td>0</td>\n",
       "      <td>1</td>\n",
       "      <td>4</td>\n",
       "      <td>4</td>\n",
       "    </tr>\n",
       "    <tr>\n",
       "      <th>2</th>\n",
       "      <td>Datsun 710</td>\n",
       "      <td>22.8</td>\n",
       "      <td>4</td>\n",
       "      <td>108.0</td>\n",
       "      <td>93</td>\n",
       "      <td>3.85</td>\n",
       "      <td>2.320</td>\n",
       "      <td>18.61</td>\n",
       "      <td>1</td>\n",
       "      <td>1</td>\n",
       "      <td>4</td>\n",
       "      <td>1</td>\n",
       "    </tr>\n",
       "    <tr>\n",
       "      <th>3</th>\n",
       "      <td>Hornet 4 Drive</td>\n",
       "      <td>21.4</td>\n",
       "      <td>6</td>\n",
       "      <td>258.0</td>\n",
       "      <td>110</td>\n",
       "      <td>3.08</td>\n",
       "      <td>3.215</td>\n",
       "      <td>19.44</td>\n",
       "      <td>1</td>\n",
       "      <td>0</td>\n",
       "      <td>3</td>\n",
       "      <td>1</td>\n",
       "    </tr>\n",
       "    <tr>\n",
       "      <th>4</th>\n",
       "      <td>Hornet Sportabout</td>\n",
       "      <td>18.7</td>\n",
       "      <td>8</td>\n",
       "      <td>360.0</td>\n",
       "      <td>175</td>\n",
       "      <td>3.15</td>\n",
       "      <td>3.440</td>\n",
       "      <td>17.02</td>\n",
       "      <td>0</td>\n",
       "      <td>0</td>\n",
       "      <td>3</td>\n",
       "      <td>2</td>\n",
       "    </tr>\n",
       "  </tbody>\n",
       "</table>\n",
       "</div>"
      ],
      "text/plain": [
       "                 car   mpg  cyl   disp   hp  drat     wt   qsec  vs  am  gear  \\\n",
       "0          Mazda RX4  21.0    6  160.0  110  3.90  2.620  16.46   0   1     4   \n",
       "1      Mazda RX4 Wag  21.0    6  160.0  110  3.90  2.875  17.02   0   1     4   \n",
       "2         Datsun 710  22.8    4  108.0   93  3.85  2.320  18.61   1   1     4   \n",
       "3     Hornet 4 Drive  21.4    6  258.0  110  3.08  3.215  19.44   1   0     3   \n",
       "4  Hornet Sportabout  18.7    8  360.0  175  3.15  3.440  17.02   0   0     3   \n",
       "\n",
       "   carb  \n",
       "0     4  \n",
       "1     4  \n",
       "2     1  \n",
       "3     1  \n",
       "4     2  "
      ]
     },
     "execution_count": 2,
     "metadata": {},
     "output_type": "execute_result"
    }
   ],
   "source": [
    "import pandas as pd\n",
    "import numpy as np\n",
    "df = pd.read_csv('mtcars.csv')\n",
    "df.head()"
   ]
  },
  {
   "cell_type": "code",
   "execution_count": 3,
   "id": "72062ce3-306c-4fa5-9784-7175476fb527",
   "metadata": {},
   "outputs": [
    {
     "name": "stdout",
     "output_type": "stream",
     "text": [
      "15\n"
     ]
    }
   ],
   "source": [
    " # 문제 1\n",
    " # mpg 변수의 제 1사분위수를 구하고 반올림하여 정수값으로 출력하시오.\n",
    "df = pd.read_csv(\"mtcars.csv\")\n",
    "Q1 = df['mpg'].quantile(0.25)\n",
    "print(int(Q1))"
   ]
  },
  {
   "cell_type": "code",
   "execution_count": 4,
   "id": "c39b2c59-9d13-47a3-8652-ce1056bdf72e",
   "metadata": {},
   "outputs": [
    {
     "name": "stdout",
     "output_type": "stream",
     "text": [
      "5\n"
     ]
    }
   ],
   "source": [
    "# 문제 2\n",
    " # mpg 값이 19이상 21이하인 데이터의 수를 구하시오.\n",
    "df = pd.read_csv(\"mtcars.csv\")\n",
    "cond1 = (df['mpg']>=19)\n",
    "cond2 = (df['mpg']<=21)\n",
    "print(len(df[cond1&cond2]))"
   ]
  },
  {
   "cell_type": "code",
   "execution_count": 5,
   "id": "10a07c5e-887f-4546-add7-83f34b6fe686",
   "metadata": {},
   "outputs": [
    {
     "name": "stdout",
     "output_type": "stream",
     "text": [
      "83.5\n"
     ]
    }
   ],
   "source": [
    " # 문제 3\n",
    " # hp 변수의 IQR 값을 구하시오.\n",
    "df = pd.read_csv(\"mtcars.csv\")\n",
    "Q1 = df['hp'].quantile(0.25)\n",
    "Q3 = df['hp'].quantile(0.75)\n",
    "IQR = Q3 - Q1\n",
    "print(IQR)"
   ]
  },
  {
   "cell_type": "code",
   "execution_count": 12,
   "id": "9ca919d1-0912-471c-9e4a-c00c51e863af",
   "metadata": {},
   "outputs": [
    {
     "name": "stdout",
     "output_type": "stream",
     "text": [
      "42\n"
     ]
    }
   ],
   "source": [
    "# 문제 4\n",
    " # wt 변수의 상위 10개 값의 총합을 구하여 소수점을 버리고 정수로 출력하시오. \n",
    "df = pd.read_csv(\"mtcars.csv\")\n",
    "df1 = df.copy()\n",
    "df1 = df1.sort_values('wt', ascending=False).head(10)\n",
    "print(int(df1['wt'].sum())) # 주의 : 소수점 반올림이 아니라 버리는 문제"
   ]
  },
  {
   "cell_type": "code",
   "execution_count": 15,
   "id": "f64484f0-246b-4392-a798-ddca1bf0fec4",
   "metadata": {},
   "outputs": [
    {
     "name": "stdout",
     "output_type": "stream",
     "text": [
      "0.2\n"
     ]
    }
   ],
   "source": [
    "# 문제 5\n",
    " # 전체 자동차에서 cyl가 6인 비율이 얼마인지 반올림하여 소수점 첫째자리까지 출력하시오.\n",
    "df = pd.read_csv(\"mtcars.csv\")\n",
    "cyl_6 = (df['cyl']==6)\n",
    "print(round(len(df[cyl_6]) / len(df), 1))"
   ]
  },
  {
   "cell_type": "code",
   "execution_count": 16,
   "id": "6eea1915-7051-48b0-aa5b-7468a523e43a",
   "metadata": {},
   "outputs": [
    {
     "data": {
      "text/plain": [
       "cyl\n",
       "8    14\n",
       "4    11\n",
       "6     7\n",
       "Name: count, dtype: int64"
      ]
     },
     "execution_count": 16,
     "metadata": {},
     "output_type": "execute_result"
    }
   ],
   "source": [
    "df['cyl'].value_counts()"
   ]
  },
  {
   "cell_type": "code",
   "execution_count": 18,
   "id": "1261f2cd-4cee-4321-846b-2023bfa679be",
   "metadata": {},
   "outputs": [
    {
     "name": "stdout",
     "output_type": "stream",
     "text": [
      "20\n"
     ]
    }
   ],
   "source": [
    "# 문제 6\n",
    " # 첫번째 행부터 순서대로 10개 뽑은 후 mpg 열의 평균값을 반올림하여 정수로 출력하시오. \n",
    "df = pd.read_csv(\"mtcars.csv\")\n",
    "df = df.head(10)\n",
    "print(round(df['mpg'].mean()))"
   ]
  },
  {
   "cell_type": "code",
   "execution_count": 21,
   "id": "da284cb4-98a9-4189-89b4-5534a945636b",
   "metadata": {},
   "outputs": [
    {
     "name": "stdout",
     "output_type": "stream",
     "text": [
      "3.44\n"
     ]
    }
   ],
   "source": [
    " # 문제 7\n",
    " # 첫번째 행부터 순서대로 50%까지 데이터를 뽑아 wt 변수의 중앙값을 구하시오.\n",
    "df = pd.read_csv(\"mtcars.csv\")\n",
    "#print(len(df)/2)\n",
    "df = df.head(16)\n",
    "median = df['wt'].median()\n",
    "print(median)"
   ]
  },
  {
   "cell_type": "code",
   "execution_count": 23,
   "id": "1fa9bb22-06f4-45c8-8ca0-934bee440bbb",
   "metadata": {},
   "outputs": [
    {
     "name": "stdout",
     "output_type": "stream",
     "text": [
      "5\n"
     ]
    }
   ],
   "source": [
    " #\t문제\t8\t\n",
    "#\t결측값이\t있는\t데이터의\t수를\t출력하시오.\t\n",
    "#\t데이터\t생성(수정금지)\n",
    "df = pd.DataFrame( {\n",
    "    '날짜': ['20220103','20220105', None,'20230127','20220203', '20220205','20230210','20230223','20230312','20230422','20220505','20230511'],\n",
    "    '제품' : ['A','B', None, 'B', 'A', None,'A', 'B', 'A', 'B', 'A', 'A'],\n",
    "    '판매수': [3, None, 5, 10, 10, 10, 15, 15, 20, None, 30, 40], \n",
    "    '개당수익': [300, 400, 500, 600, 400, 500, 500, 600, 600, 700, 600, 600] })\n",
    "print(sum(df.isnull().sum()))"
   ]
  },
  {
   "cell_type": "code",
   "execution_count": 26,
   "id": "c2beda82-2654-4cf2-b212-36336be6fe93",
   "metadata": {},
   "outputs": [
    {
     "name": "stdout",
     "output_type": "stream",
     "text": [
      "15\n"
     ]
    }
   ],
   "source": [
    "#\t문제\t9\n",
    " #\t'판매수'\t컬럼의\t결측값을\t판매수의\t중앙값으로\t대체하고\t\n",
    "#\t\t판매수의\t평균값을\t반올림하여\t정수로\t출력하시오.\t\n",
    "#\t데이터\t생성(수정금지)\n",
    "df = pd.DataFrame( {\n",
    "    '날짜': ['20220103','20220105', None,'20230127','20220203', '20220205','20230210','20230223','20230312','20230422','20220505','20230511'],\n",
    "    '제품' : ['A','B', None, 'B', 'A', None,'A', 'B', 'A', 'B', 'A', 'A'],\n",
    "    '판매수': [3, None, 5, 10, 10, 10, 15, 15, 20, None, 30, 40], \n",
    "    '개당수익': [300, 400, 500, 600, 400, 500, 500, 600, 600, 700, 600, 600] })\n",
    "\n",
    "df['판매수'] = df['판매수'].fillna(df['판매수'].median())\n",
    "print(round(df['판매수'].mean()))"
   ]
  },
  {
   "cell_type": "code",
   "execution_count": 41,
   "id": "95519d2b-5901-46c6-a495-db98aa53c5a5",
   "metadata": {},
   "outputs": [
    {
     "name": "stdout",
     "output_type": "stream",
     "text": [
      "5\n"
     ]
    }
   ],
   "source": [
    "#\t문제\t10\n",
    " #\t판매수\t컬럼에\t결측치가\t있는\t행을\t제거하고,\n",
    " #\t첫번째\t행부터\t순서대로\t50%까지의\t데이터를\t추출하여\n",
    "#\t판매수\t변수의\tQ1(제1사분위수)값을\t반올림하여\t정수로\t출력하시오.\t\n",
    "#\t데이터\t(수정금지)\n",
    "df = pd.DataFrame( {\n",
    "    '날짜': ['20220103','20220105', None,'20230127','20220203', '20220205','20230210','20230223','20230312','20230422','20220505','20230511'],\n",
    "    '제품' : ['A','B', None, 'B', 'A', None,'A', 'B', 'A', 'B', 'A', 'A'],\n",
    "    '판매수': [3, None, 5, 10, 10, 10, 15, 15, 20, None, 30, 40], \n",
    "    '개당수익': [300, 400, 500, 600, 400, 500, 500, 600, 600, 700, 600, 600] })\n",
    "df = df['판매수'].dropna()\n",
    "middle = int(len(df)*0.5)\n",
    "df = df[:middle]\n",
    "Q1 = df.quantile(0.25)\n",
    "print(round(Q1))"
   ]
  },
  {
   "cell_type": "code",
   "execution_count": 43,
   "id": "a5da884b-0a8e-40c0-9751-368b507cf4d8",
   "metadata": {},
   "outputs": [
    {
     "name": "stdout",
     "output_type": "stream",
     "text": [
      "7\n"
     ]
    }
   ],
   "source": [
    " # 문제 11\n",
    " # cyl가 4인 자동차와 6인 자동차 그룹의 mpg 평균값 차이를 절대값으로 반올림하여 정수로 출력\n",
    "df = pd.read_csv(\"mtcars.csv\")\n",
    "cyl_4 = (df['cyl']==4)\n",
    "cyl_6 = (df['cyl']==6)\n",
    "df_4 = df[cyl_4]\n",
    "df_6 = df[cyl_6]\n",
    "mean_4 = df_4['mpg'].mean()\n",
    "mean_6 = df_6['mpg'].mean()\n",
    "print(round(abs(mean_4 - mean_6)))"
   ]
  },
  {
   "cell_type": "code",
   "execution_count": 45,
   "id": "916140b3-22d6-4271-bb83-617d4673c16f",
   "metadata": {},
   "outputs": [
    {
     "name": "stdout",
     "output_type": "stream",
     "text": [
      "2\n"
     ]
    }
   ],
   "source": [
    " # 문제 12\n",
    " # hp 변수에 대해 데이터표준화(Z-score)를 진행하고 이상치의 수를 구하시오.\n",
    " # (단, 이상치는 Z값이 1.5를 초과하거나 -1.5 미만인 값이다)\n",
    "df = pd.read_csv(\"mtcars.csv\")\n",
    "mean = df['hp'].mean()\n",
    "std = df['hp'].std()\n",
    "df['hp'] = (df['hp']-mean)/std\n",
    "upper = (df['hp']>1.5)\n",
    "lower = (df['hp']<-1.5)\n",
    "print(len(df[upper|lower]))"
   ]
  },
  {
   "cell_type": "code",
   "execution_count": 48,
   "id": "a6be2c67-a048-4c6d-b126-cbdb64f3d6a9",
   "metadata": {},
   "outputs": [
    {
     "name": "stdout",
     "output_type": "stream",
     "text": [
      "5\n"
     ]
    }
   ],
   "source": [
    "# 문제 13\n",
    " # mpg 컬럼을 최소최대 Scaling을 진행한 후 0.7보다 큰 값을 가지는 레코드 수를 구하라.\n",
    "df = pd.read_csv(\"mtcars.csv\")\n",
    "max = df['mpg'].max()\n",
    "min = df['mpg'].min()\n",
    "df['mpg'] = (df['mpg']-min)/(max-min)\n",
    "cond1 = (df['mpg']>0.7)\n",
    "print(len(df[cond1]))"
   ]
  },
  {
   "cell_type": "code",
   "execution_count": 50,
   "id": "824450d5-9a98-43b2-958e-c57c9002645f",
   "metadata": {},
   "outputs": [
    {
     "name": "stdout",
     "output_type": "stream",
     "text": [
      "3\n"
     ]
    }
   ],
   "source": [
    " # 문제 14\n",
    " # wt컬럼에 대해 상자그림 기준으로 이상치의 개수를 구하시오. \n",
    "df = pd.read_csv(\"mtcars.csv\")\n",
    "Q1 = df['wt'].quantile(0.25)\n",
    "Q3 = df['wt'].quantile(0.75)\n",
    "IQR = Q3 - Q1\n",
    "upper = (df['wt']> Q3 + 1.5*IQR)\n",
    "lower = (df['wt']<Q1 - 1.5*IQR)\n",
    "print(len(df[upper]) + len(df[lower]))"
   ]
  },
  {
   "cell_type": "code",
   "execution_count": 51,
   "id": "6f3fe1cb-fa69-4f31-9ac8-1a80bc4f4150",
   "metadata": {},
   "outputs": [
    {
     "name": "stdout",
     "output_type": "stream",
     "text": [
      "2\n"
     ]
    }
   ],
   "source": [
    "#\t문제\t15\n",
    " #\t판매수\t컬럼의\t결측치를\t최소값으로\t대체하고\n",
    "#\t결측치가\t있을\t때와\t최소값으로\t대체했을\t때\t평균값의\t차이를\t절대값으로\t반올림하여\t정수로\t출력하시오\n",
    "#\t데이터\t생성\t(수정금지)\n",
    "df = pd.DataFrame( {\n",
    "    '날짜': ['20220103','20220105', None,'20230127','20220203', '20220205','20230210','20230223','20230312','20230422','20220505','20230511'],\n",
    "    '제품' : ['A','B', None, 'B', 'A', None,'A', 'B', 'A', 'B', 'A', 'A'],\n",
    "    '판매수': [3, None, 5, 10, 10, 10, 15, 15, 20, None, 30, 40], \n",
    "    '개당수익': [300, 400, 500, 600, 400, 500, 500, 600, 600, 700, 600, 600] })\n",
    "isna = df['판매수'].mean()\n",
    "df1 = df.copy()\n",
    "df1['판매수'] = df1['판매수'].fillna(df1['판매수'].min())\n",
    "notna = df1['판매수'].mean()\n",
    "\n",
    "print(round(abs(isna-notna)))"
   ]
  },
  {
   "cell_type": "code",
   "execution_count": 62,
   "id": "0d2123f0-ad71-4e3f-b4aa-a591e662543b",
   "metadata": {},
   "outputs": [
    {
     "name": "stdout",
     "output_type": "stream",
     "text": [
      "65\n"
     ]
    }
   ],
   "source": [
    "# 문제 16\n",
    " # vs변수가 0이 아닌 차량 중에 mpg 값이 가장 큰 차량의 hp 값을 출력하시오.  \n",
    "df = pd.read_csv(\"mtcars.csv\")\n",
    "cond1 = (df['vs']!=0)\n",
    "df = df[cond1]\n",
    "# df = df.sort_values('mpg', ascending=False).head(1)\n",
    "# print(df['hp'])\n",
    "df = df.sort_values('mpg', ascending=False)\n",
    "print(df['hp'].iloc[0])"
   ]
  },
  {
   "cell_type": "code",
   "execution_count": 64,
   "id": "bc0b9493-8605-4f30-97a6-1e231f56e6ef",
   "metadata": {},
   "outputs": [
    {
     "name": "stdout",
     "output_type": "stream",
     "text": [
      "21.8\n"
     ]
    }
   ],
   "source": [
    "# 문제 17\n",
    " # gear 변수값이 3, 4인 두 그룹의 hp 표준편차값의 차이를 절대값으로\n",
    "# 반올림하여 소수점 첫째자리까지 출력하시오. \n",
    "df = pd.read_csv(\"mtcars.csv\")\n",
    "gear_3 = (df['gear']==3)\n",
    "gear_4 = (df['gear']==4)\n",
    "df_3 = df[gear_3]\n",
    "df_4 = df[gear_4]\n",
    "std_3 = df_3['hp'].std()\n",
    "std_4 = df_4['hp'].std()\n",
    "print(round(abs(std_3 - std_4), 1))"
   ]
  },
  {
   "cell_type": "code",
   "execution_count": 81,
   "id": "638667ac-7d5a-4574-afcf-9f57937197ba",
   "metadata": {},
   "outputs": [
    {
     "name": "stdout",
     "output_type": "stream",
     "text": [
      "            mpg\n",
      "gear           \n",
      "3     16.106667\n",
      "4     24.533333\n",
      "5     21.380000\n",
      "28.075\n"
     ]
    }
   ],
   "source": [
    " # 문제 18\n",
    " # gear 변수의 값별로 그룹화하여 mpg평균값을 산출하고 \n",
    "# 평균값이 높은 그룹의 mpg 제3사분위수 값을 구하시오.\n",
    "df = pd.read_csv(\"mtcars.csv\")\n",
    "df = df.loc[:, ['gear','mpg']]\n",
    "print(df.groupby('gear').mean())\n",
    "gear_4 = df[(df['gear']==4)]\n",
    "Q3 = gear_4['mpg'].quantile(0.75)\n",
    "print(Q3)"
   ]
  },
  {
   "cell_type": "code",
   "execution_count": 93,
   "id": "1aa55d8a-379b-4bc7-8bf2-3bbf0bc19cd1",
   "metadata": {},
   "outputs": [
    {
     "name": "stdout",
     "output_type": "stream",
     "text": [
      "187\n"
     ]
    }
   ],
   "source": [
    " # 문제 19\n",
    " # hp 항목의 상위 7번째 값으로 상위 7개 값을 변환한 후,\n",
    " # hp가 150 이상인 데이터를 추출하여 hp의 평균값을 반올림하여 정수로 출력하시오.\n",
    "df = pd.read_csv(\"mtcars.csv\")\n",
    "df = df.sort_values('hp', ascending=False)\n",
    "top_7 = df['hp'].iloc[6]\n",
    "df['hp'] = np.where(df['hp']>=top_7, top_7, df['hp'])\n",
    "cond1 = df[ (df['hp']>=150) ]\n",
    "print(round(cond1['hp'].mean()))"
   ]
  },
  {
   "cell_type": "code",
   "execution_count": 96,
   "id": "22b001bc-c183-4385-95be-7012883f00b1",
   "metadata": {},
   "outputs": [
    {
     "name": "stdout",
     "output_type": "stream",
     "text": [
      "19\n"
     ]
    }
   ],
   "source": [
    " # 문제 20\n",
    " # car변수에 Merc 문구가 포함된 자동차의 mpg 평균값을 반올림하여 정수로 출력하시오.\n",
    "df = pd.read_csv(\"mtcars.csv\")\n",
    "df_merc = df[ df['car'].str.contains('Merc') ]\n",
    "print(round(df_merc['mpg'].mean()))"
   ]
  },
  {
   "cell_type": "code",
   "execution_count": 107,
   "id": "f982d97e-db09-4968-a482-f5e4d66d575b",
   "metadata": {},
   "outputs": [
    {
     "name": "stdout",
     "output_type": "stream",
     "text": [
      "11900\n"
     ]
    }
   ],
   "source": [
    " #\t문제\t21\n",
    " #\t'22년\t1분기\t매출액을\t구하시오\n",
    "#\t(매출액\t=\t판매수*개당수익)\n",
    "import pandas as pd\n",
    "df = pd.DataFrame( {\n",
    "    '날짜': ['20220103','20220105', '20230105','20230127','20220203', '20220205','20230210','20230223','20230312','20230422','20220505','20230511'],\n",
    "    '제품' : ['A','B', 'A', 'B', 'A', 'B','A', 'B', 'A', 'B', 'A', 'A'],\n",
    "    '판매수': [3, 5, 5, 10, 10, 10, 15, 15, 20, 25, 30, 40], \n",
    "    '개당수익': [300, 400, 500, 600, 400, 500, 500, 600, 600, 700, 600, 600] })\n",
    "\n",
    "df['매출액'] = df['판매수']*df['개당수익']\n",
    "df['날짜'] = pd.to_datetime(df['날짜'])\n",
    "df = df[df['날짜'].between('2022-01-01', '2022-03-31')]\n",
    "print(df['매출액'].sum())"
   ]
  },
  {
   "cell_type": "code",
   "execution_count": 113,
   "id": "dc348d5b-9edd-4462-80b2-477fdabfd989",
   "metadata": {},
   "outputs": [
    {
     "name": "stdout",
     "output_type": "stream",
     "text": [
      "48600\n"
     ]
    }
   ],
   "source": [
    " #\t문제\t22\n",
    " #\t'22년과\t'23년의\t총\t매출액\t차이를\t절대값으로\t구하시오.\t\n",
    "#\t(매출액\t=\t판매수*개당수익)\n",
    "df = pd.DataFrame( {\n",
    "    '날짜': ['20220103','20220105', '20230105','20230127','20220203', '20220205','20230210','20230223','20230312','20230422','20220505','20230511'],\n",
    "    '제품' : ['A','B', 'A', 'B', 'A', 'B','A', 'B', 'A', 'B', 'A', 'A'],\n",
    "    '판매수': [3, 5, 5, 10, 10, 10, 15, 15, 20, 25, 30, 40], \n",
    "    '개당수익': [300, 400, 500, 600, 400, 500, 500, 600, 600, 700, 600, 600] })\n",
    "df['매출액'] = df['판매수']*df['개당수익']\n",
    "df['날짜'] = pd.to_datetime(df['날짜'])\n",
    "df['year'] = df['날짜'].dt.year\n",
    "df_2022 = df[df['year']==2022]\n",
    "df_2023 = df[df['year']==2023]\n",
    "sum_2022 = df_2022['매출액'].sum()\n",
    "sum_2023 = df_2023['매출액'].sum()\n",
    "print(abs(sum_2022 - sum_2023))"
   ]
  },
  {
   "cell_type": "code",
   "execution_count": 126,
   "id": "5503d30f-be09-4e4c-87c3-42268c8295a5",
   "metadata": {},
   "outputs": [
    {
     "name": "stdout",
     "output_type": "stream",
     "text": [
      "80\n"
     ]
    }
   ],
   "source": [
    " #\t문제\t23\n",
    " #\t'23년\t총\t매출액이\t큰\t제품의\t23년\t판매수를\t구하시오.\n",
    " #\t(매출액\t=\t판매수*개당수익)\n",
    "df = pd.DataFrame( {\n",
    "    '날짜': ['20220103','20220105', '20230105','20230127','20220203', '20220205','20230210','20230223','20230312','20230422','20220505','20230511'],\n",
    "    '제품' : ['A','B', 'A', 'B', 'A', 'B','A', 'B', 'A', 'B', 'A', 'A'],\n",
    "    '판매수': [3, 5, 5, 10, 10, 10, 15, 15, 20, 25, 30, 40], \n",
    "    '개당수익': [300, 400, 500, 600, 400, 500, 500, 600, 600, 700, 600, 600] })\n",
    "df['매출액'] = df['판매수']*df['개당수익']\n",
    "\n",
    "df = df[df['날짜'].str.contains('2023')]\n",
    "df = df.loc[:, ['제품', '판매수','매출액']]\n",
    "df.reset_index(drop=True, inplace=True)\n",
    "# df.groupby('제품').sum() 제품 A의 판매수 구하기\n",
    "df_A = df[df['제품']=='A']\n",
    "print(df_A['판매수'].sum())"
   ]
  },
  {
   "cell_type": "code",
   "execution_count": 128,
   "id": "590bb585-8b8c-4985-8fba-23d158744c01",
   "metadata": {},
   "outputs": [
    {
     "name": "stdout",
     "output_type": "stream",
     "text": [
      "4\n"
     ]
    }
   ],
   "source": [
    "#\t문제\t24\n",
    " #\t매출액이\t4천원\t초과,\t1만원\t미만인\t데이터\t수를\t출력하시오.\t\n",
    "#\t(매출액\t=\t판매수*개당수익)\n",
    "df = pd.DataFrame( {\n",
    "    '날짜': ['20220103','20220105', '20230105','20230127','20220203', '20220205','20230210','20230223','20230312','20230422','20220505','20230511'],\n",
    "    '제품' : ['A','B', 'A', 'B', 'A', 'B','A', 'B', 'A', 'B', 'A', 'A'],\n",
    "    '판매수': [3, 5, 5, 10, 10, 10, 15, 15, 20, 25, 30, 40], \n",
    "    '개당수익': [300, 400, 500, 600, 400, 500, 500, 600, 600, 700, 600, 600] })\n",
    "df['매출액'] = df['판매수']*df['개당수익']\n",
    "cond1 = (df['매출액']>4000)\n",
    "cond2 = (df['매출액']<10000)\n",
    "print(len(df[cond1&cond2]))"
   ]
  },
  {
   "cell_type": "code",
   "execution_count": 133,
   "id": "145f8423-a2fe-455a-b5fe-53216dee61e6",
   "metadata": {},
   "outputs": [
    {
     "name": "stdout",
     "output_type": "stream",
     "text": [
      "25\n"
     ]
    }
   ],
   "source": [
    " # 문제 25\n",
    " # 23년 9월 24일 16:00~22:00 사이에 전체 제품의 판매수를 구하시오. \n",
    "# 시간 데이터 만들기(수정금지)\n",
    "df = pd.DataFrame( {\n",
    "    '물품' : ['A', 'B', 'A', 'B', 'A', 'B', 'A'],\n",
    "    '판매수': [5, 10, 15, 15, 20, 25, 40], \n",
    "    '개당수익': [500, 600, 500, 600, 600, 700, 600] })\n",
    "time = pd.date_range('2023-09-24 12:25:00','2023-09-25 14:45:30', periods= 7)\n",
    "df['time']=time\n",
    "df = df[ ['time','물품','판매수','개당수익']]\n",
    "df = df[df['time'].between('2023-09-24 16:00:00', '2023-09-24 22:00:00')]\n",
    "print(df['판매수'].sum())"
   ]
  },
  {
   "cell_type": "code",
   "execution_count": 138,
   "id": "2c9ac3d2-1fc1-4e87-be7d-3a8a4daba579",
   "metadata": {},
   "outputs": [
    {
     "name": "stdout",
     "output_type": "stream",
     "text": [
      "25\n"
     ]
    }
   ],
   "source": [
    "# 다른 풀이\n",
    "df = pd.DataFrame( {\n",
    "    '물품' : ['A', 'B', 'A', 'B', 'A', 'B', 'A'],\n",
    "    '판매수': [5, 10, 15, 15, 20, 25, 40], \n",
    "    '개당수익': [500, 600, 500, 600, 600, 700, 600] })\n",
    "time = pd.date_range('2023-09-24 12:25:00','2023-09-25 14:45:30', periods= 7)\n",
    "df['time']=time\n",
    "df = df[ ['time','물품','판매수','개당수익']]\n",
    "df.set_index('time', drop=True, inplace=True)\n",
    "df = df.loc[(df.index>='2023-09-24 16:00:00')&(df.index<='2023-09-24 22:00:00')]\n",
    "print(df['판매수'].sum())"
   ]
  },
  {
   "cell_type": "code",
   "execution_count": 142,
   "id": "433c7ae4-7504-4abf-8cd3-64138b645899",
   "metadata": {},
   "outputs": [
    {
     "name": "stdout",
     "output_type": "stream",
     "text": [
      "26500\n"
     ]
    }
   ],
   "source": [
    "# 문제 26\n",
    "# 9월 25일 00:00~12:00 까지의 B물품의 매출액 총합을 구하시오.\n",
    "# (매출액 = 판매수*개당수익)\n",
    "# 시간 데이터 만들기(수정금지)\n",
    "df = pd.DataFrame( {\n",
    "    '물품' : ['A', 'B', 'A', 'B', 'A', 'B', 'A'],\n",
    "    '판매수': [5, 10, 15, 15, 20, 25, 40], \n",
    "    '개당수익': [500, 600, 500, 600, 600, 700, 600] } )\n",
    "df['time'] = pd.date_range('2023-09-24 12:25:00','2023-09-25 14:45:30', periods=7)\n",
    "\n",
    "df['매출액'] = df['판매수']*df['개당수익']\n",
    "\n",
    "df = df[ ['time','물품','판매수','개당수익','매출액'] ]\n",
    "df.set_index('time', drop=True, inplace=True)\n",
    "df = df[(df.index>='2023-09-25 00:00:00')&(df.index<='2023-09-25 12:00:00')]\n",
    "df_B = df[df['물품']=='B']\n",
    "print(df_B['매출액'].sum())"
   ]
  },
  {
   "cell_type": "code",
   "execution_count": 148,
   "id": "2464264f-f91f-4a71-8921-29df9fd894a4",
   "metadata": {},
   "outputs": [
    {
     "name": "stdout",
     "output_type": "stream",
     "text": [
      "10000\n"
     ]
    }
   ],
   "source": [
    "# 문제 27\n",
    "# 9월 24일 12:00~24:00 까지의 A물품의 매출액 총합을 구하시오.\n",
    "# (매출액 = 판매수*개당수익)\n",
    "# 시간 데이터 만들기(수정금지)\n",
    "df = pd.DataFrame( {\n",
    "    '물품' : ['A', 'B', 'A', 'B', 'A', 'B', 'A'],\n",
    "    '판매수': [5, 10, 15, 15, 20, 25, 40], \n",
    "    '개당수익': [500, 600, 500, 600, 600, 700, 600] } )\n",
    "df['time'] = pd.date_range('2023-09-24 12:25:00','2023-09-25 14:45:30', periods=7)\n",
    "df = df[ ['time','물품','판매수','개당수익'] ]\n",
    "df = df.set_index('time', drop=True)\n",
    "df.reset_index(inplace=True)\n",
    "df['매출액'] = df['판매수']*df['개당수익']\n",
    "df = df[df['time'].between('2023-09-24 12:00:00','2023-09-25 00:00:00')]\n",
    "df_A = df[df['물품']=='A']\n",
    "print(df_A['매출액'].sum())"
   ]
  },
  {
   "cell_type": "code",
   "execution_count": 154,
   "id": "ba7031da-fafc-40e8-9894-0c0afaa8b196",
   "metadata": {},
   "outputs": [
    {
     "name": "stdout",
     "output_type": "stream",
     "text": [
      "10000\n"
     ]
    }
   ],
   "source": [
    "# 다른 풀이\n",
    "df = pd.DataFrame( {\n",
    "    '물품' : ['A', 'B', 'A', 'B', 'A', 'B', 'A'],\n",
    "    '판매수': [5, 10, 15, 15, 20, 25, 40], \n",
    "    '개당수익': [500, 600, 500, 600, 600, 700, 600] } )\n",
    "df['time'] = pd.date_range('2023-09-24 12:25:00','2023-09-25 14:45:30', periods=7)\n",
    "df = df[ ['time','물품','판매수','개당수익'] ]\n",
    "df = df.set_index('time', drop=True)\n",
    "df['매출액'] = df['판매수']*df['개당수익']\n",
    "df = df[(df.index>='2023-09-24 12:00:00')&(df.index<='2023-09-25 00:00:00')]\n",
    "df_A = df[df['물품']=='A']\n",
    "print(df_A['매출액'].sum())"
   ]
  },
  {
   "cell_type": "code",
   "execution_count": 155,
   "id": "a57739a2-8fee-4ffe-98ef-20727b2665a0",
   "metadata": {},
   "outputs": [],
   "source": [
    "# 참고\n",
    "# 만약 날짜와 상관없이 특정 시간대를 필터링 해야할 때\n",
    "# df.between_time(start_time='00:00:00', end_time='00:00:00')"
   ]
  },
  {
   "cell_type": "code",
   "execution_count": 156,
   "id": "fd222601-1477-4593-8984-e7b0c61cd394",
   "metadata": {},
   "outputs": [
    {
     "name": "stdout",
     "output_type": "stream",
     "text": [
      "9\n"
     ]
    }
   ],
   "source": [
    "# 체험형 페이지 제공 문제\n",
    "# 제공된 데이터의 qsec 칼럼을 최소-최대 척도로 변환한 후 0.5보다 큰 값을 가지는 레코드 수를 입력\n",
    "# 정수 형태, 정수 답안, 소수점 포함한 경우 소수점 첫째 자리에서 반올림하여 계산\n",
    "\n",
    "# 출력을 원할 경우 print() 함수 활용\n",
    "# 예시) print(df.head())\n",
    "\n",
    "# getcwd(), chdir() 등 작업 폴더 설정 불필요\n",
    "# 파일 경로 상 내부 드라이브 경로(C: 등) 접근 불가\n",
    "\n",
    "import pandas as pd\n",
    "\n",
    "df = pd.read_csv(\"mtcars.csv\")\n",
    "\n",
    "# 사용자 코딩\n",
    "max = df['qsec'].max()\n",
    "min = df['qsec'].min()\n",
    "df['qsec'] = (df['qsec']-min)/(max-min)\n",
    "cond1 = (df['qsec']>0.5)\n",
    "print(len(df[cond1]))\n",
    "\n",
    "\n",
    "# 해당 화면에서는 제출하지 않으며, 문제 풀이 후 답안제출에서 결괏값 제출\n"
   ]
  },
  {
   "cell_type": "code",
   "execution_count": 166,
   "id": "62c4790e-440e-4c41-8abf-7aa107a96fa2",
   "metadata": {},
   "outputs": [
    {
     "name": "stdout",
     "output_type": "stream",
     "text": [
      "1.51\n"
     ]
    }
   ],
   "source": [
    " #\t예제문제\t풀이\n",
    "#\t다음은\t학생\t10명의\t과목별\t점수\t데이터이다.\t\n",
    "#\t점수\t데이터의\t결측치를\t제거한\t후,\t학생들이\t가장\t많이\t듣는\t과목의\t점수를\n",
    "#\t표준화\t한\t후\tZ-score의\t최대값을\t반올림하여\t소수점\t둘째\t자리까지\t구하시오.\n",
    " #\t데이터\t생성\t(수정금지)\n",
    "import\tpandas\tas\tpd\n",
    "import\tnumpy\tas\tnp\n",
    "df\t=\tpd.DataFrame(\t{\n",
    "\t\t\t\t'과목':\t['국어','국어',\t'수학','수학','영어',\t'영어','영어','영어','영어','영어'],\n",
    "\t\t\t\t'점수'\t:\t[72,\t75,\t80,\t72,\t65,\t72,\t80,\t75,\t92,\tNone]})\n",
    "df = df.dropna()\n",
    "# df['과목'].value_counts() # 영어\n",
    "df = df[df['과목']=='영어']\n",
    "mean = df['점수'].mean()\n",
    "std = df['점수'].std()\n",
    "df['점수'] = (df['점수'] - mean)/std\n",
    "max = df['점수'].max()\n",
    "print(round(max, 2))"
   ]
  },
  {
   "cell_type": "code",
   "execution_count": 175,
   "id": "2756acfb-10a0-468c-9302-6b948bda0427",
   "metadata": {},
   "outputs": [
    {
     "name": "stdout",
     "output_type": "stream",
     "text": [
      "3\n"
     ]
    }
   ],
   "source": [
    "# 예제문제 풀이\n",
    "# mtcars 데이터셋에서 mpg와 상관관계가 가장 큰 변수를 선정하고\n",
    "# 그 변수의 평균값을 반올림하여 정수로 출력하시오.\n",
    " #\t데이터\t생성\t(수정금지)\n",
    "import\tpandas\tas\tpd\n",
    "import\tnumpy\tas\tnp\n",
    "df\t=\tpd.read_csv(\"mtcars.csv\")\n",
    "df\t=\tdf[\t['mpg','disp','hp',\t'wt','qsec']]\n",
    "corr = df.corr()\n",
    "# corr = abs(corr)\n",
    "# corr.sort_values('mpg', ascending=False) # wt\n",
    "print(round(df['wt'].mean()))"
   ]
  },
  {
   "cell_type": "code",
   "execution_count": 177,
   "id": "4a1fd57f-de05-4d3c-ad4f-f0ffcd458dbc",
   "metadata": {},
   "outputs": [
    {
     "name": "stdout",
     "output_type": "stream",
     "text": [
      "-0.8676593765172278 1.293958701350513e-10\n"
     ]
    }
   ],
   "source": [
    "from scipy.stats import pearsonr\n",
    "\n",
    "r, pvalue = pearsonr(df['mpg'], df['wt'])\n",
    "print(r, pvalue)"
   ]
  },
  {
   "cell_type": "code",
   "execution_count": 178,
   "id": "219e3d15-757a-4b69-83aa-b2bcdbd1be75",
   "metadata": {},
   "outputs": [
    {
     "name": "stdout",
     "output_type": "stream",
     "text": [
      "3\n"
     ]
    }
   ],
   "source": [
    "# 핵심문제 14번\n",
    "# wt 컬럼에 대해 상자그림 기준으로 이상치의 개수를 구하시오.\n",
    "df = pd.read_csv('mtcars.csv')\n",
    "Q1 = df['wt'].quantile(0.25)\n",
    "Q3 = df['wt'].quantile(0.75)\n",
    "IQR = Q3 - Q1\n",
    "upper = (df['wt'] > Q3 + 1.5*IQR)\n",
    "lower = (df['wt'] < Q1 - 1.5*IQR)\n",
    "print(len(df[upper]) + len(df[lower]))"
   ]
  }
 ],
 "metadata": {
  "kernelspec": {
   "display_name": "Python 3 (ipykernel)",
   "language": "python",
   "name": "python3"
  },
  "language_info": {
   "codemirror_mode": {
    "name": "ipython",
    "version": 3
   },
   "file_extension": ".py",
   "mimetype": "text/x-python",
   "name": "python",
   "nbconvert_exporter": "python",
   "pygments_lexer": "ipython3",
   "version": "3.12.3"
  }
 },
 "nbformat": 4,
 "nbformat_minor": 5
}
