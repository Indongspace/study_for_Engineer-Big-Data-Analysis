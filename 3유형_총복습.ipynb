{
 "cells": [
  {
   "cell_type": "markdown",
   "id": "a909ce8d-4770-4d02-943f-b62d15a5ba12",
   "metadata": {},
   "source": [
    "## 모집단 1개(집단의 평균 vs 특정값)"
   ]
  },
  {
   "cell_type": "code",
   "execution_count": 1,
   "id": "ab8ab1ee-e487-45aa-801b-fb0e84e1a88c",
   "metadata": {},
   "outputs": [],
   "source": [
    "# 검정방법\n",
    "# 1) (정규성O) 단일표본 t검정(1sample t-test)\n",
    "# 2) (정규성X) 윌콕슨 부호순위 검정"
   ]
  },
  {
   "cell_type": "code",
   "execution_count": 2,
   "id": "c0462dbd-fc37-4043-841f-561feba0f13e",
   "metadata": {},
   "outputs": [],
   "source": [
    "# 가설검정 순서(중요!!)\n",
    "# 1. 가설설정\n",
    "# 2. 유의수준 확인\n",
    "# 3. 정규성 검정\n",
    "# 4. 검정실시(통계량, p-value 확인)\n",
    "# 5. 귀무가설 기각여부 결정(채택/기각)"
   ]
  },
  {
   "cell_type": "code",
   "execution_count": 3,
   "id": "b781d2b5-9e0c-43e7-bfb7-52441dc18381",
   "metadata": {},
   "outputs": [
    {
     "data": {
      "text/html": [
       "<div>\n",
       "<style scoped>\n",
       "    .dataframe tbody tr th:only-of-type {\n",
       "        vertical-align: middle;\n",
       "    }\n",
       "\n",
       "    .dataframe tbody tr th {\n",
       "        vertical-align: top;\n",
       "    }\n",
       "\n",
       "    .dataframe thead th {\n",
       "        text-align: right;\n",
       "    }\n",
       "</style>\n",
       "<table border=\"1\" class=\"dataframe\">\n",
       "  <thead>\n",
       "    <tr style=\"text-align: right;\">\n",
       "      <th></th>\n",
       "      <th>car</th>\n",
       "      <th>mpg</th>\n",
       "      <th>cyl</th>\n",
       "      <th>disp</th>\n",
       "      <th>hp</th>\n",
       "      <th>drat</th>\n",
       "      <th>wt</th>\n",
       "      <th>qsec</th>\n",
       "      <th>vs</th>\n",
       "      <th>am</th>\n",
       "      <th>gear</th>\n",
       "      <th>carb</th>\n",
       "    </tr>\n",
       "  </thead>\n",
       "  <tbody>\n",
       "    <tr>\n",
       "      <th>0</th>\n",
       "      <td>Mazda RX4</td>\n",
       "      <td>21.0</td>\n",
       "      <td>6</td>\n",
       "      <td>160.0</td>\n",
       "      <td>110</td>\n",
       "      <td>3.90</td>\n",
       "      <td>2.620</td>\n",
       "      <td>16.46</td>\n",
       "      <td>0</td>\n",
       "      <td>1</td>\n",
       "      <td>4</td>\n",
       "      <td>4</td>\n",
       "    </tr>\n",
       "    <tr>\n",
       "      <th>1</th>\n",
       "      <td>Mazda RX4 Wag</td>\n",
       "      <td>21.0</td>\n",
       "      <td>6</td>\n",
       "      <td>160.0</td>\n",
       "      <td>110</td>\n",
       "      <td>3.90</td>\n",
       "      <td>2.875</td>\n",
       "      <td>17.02</td>\n",
       "      <td>0</td>\n",
       "      <td>1</td>\n",
       "      <td>4</td>\n",
       "      <td>4</td>\n",
       "    </tr>\n",
       "    <tr>\n",
       "      <th>2</th>\n",
       "      <td>Datsun 710</td>\n",
       "      <td>22.8</td>\n",
       "      <td>4</td>\n",
       "      <td>108.0</td>\n",
       "      <td>93</td>\n",
       "      <td>3.85</td>\n",
       "      <td>2.320</td>\n",
       "      <td>18.61</td>\n",
       "      <td>1</td>\n",
       "      <td>1</td>\n",
       "      <td>4</td>\n",
       "      <td>1</td>\n",
       "    </tr>\n",
       "  </tbody>\n",
       "</table>\n",
       "</div>"
      ],
      "text/plain": [
       "             car   mpg  cyl   disp   hp  drat     wt   qsec  vs  am  gear  \\\n",
       "0      Mazda RX4  21.0    6  160.0  110  3.90  2.620  16.46   0   1     4   \n",
       "1  Mazda RX4 Wag  21.0    6  160.0  110  3.90  2.875  17.02   0   1     4   \n",
       "2     Datsun 710  22.8    4  108.0   93  3.85  2.320  18.61   1   1     4   \n",
       "\n",
       "   carb  \n",
       "0     4  \n",
       "1     4  \n",
       "2     1  "
      ]
     },
     "execution_count": 3,
     "metadata": {},
     "output_type": "execute_result"
    }
   ],
   "source": [
    "import pandas as pd\n",
    "import numpy as np\n",
    "df = pd.read_csv('mtcars.csv')\n",
    "df.head(3)"
   ]
  },
  {
   "cell_type": "code",
   "execution_count": 5,
   "id": "526a3410-a05d-4452-bd1a-c4f6a023bcd3",
   "metadata": {},
   "outputs": [
    {
     "name": "stdout",
     "output_type": "stream",
     "text": [
      "0.9476 0.1229\n",
      "ShapiroResult(statistic=0.9475647265971182, pvalue=0.12288135948636081)\n"
     ]
    }
   ],
   "source": [
    "# 1. mtcars 데이터셋의 mpg열 데이터의 평균이 20과 같다고 할 수 있는지 검정하시오. 유의수준 5%\n",
    "import scipy.stats as stats\n",
    "from scipy.stats import shapiro\n",
    "# 1. 가설설정\n",
    "# H0 : mpg열의 평균이 20과 같다.\n",
    "# H1 : mpg열의 평균이 20과 같지 않다.\n",
    "# 2. 유의수준 확인 : 유의수준 5%로 확인\n",
    "# 3. 정규성 검정\n",
    "# H0 : 정규분포를 따른다.\n",
    "# H1 : 정규분포를 따르지 않는다.\n",
    "statistic, pvalue = stats.shapiro(df['mpg'])\n",
    "print(round(statistic, 4), round(pvalue, 4))\n",
    "result = stats.shapiro(df['mpg'])\n",
    "print(result)"
   ]
  },
  {
   "cell_type": "code",
   "execution_count": 6,
   "id": "a22feac8-f521-43ca-9e6b-fb21c031a967",
   "metadata": {},
   "outputs": [],
   "source": [
    "# p-value 값이 유의수준(0.05)보다 크다. 귀무가설(H0) 채택\n",
    "# 만약 정규분포를 따르지 않는다면 비모수 검정방법을 써야함(윌콕슨의 부호순위 검정)"
   ]
  },
  {
   "cell_type": "code",
   "execution_count": 7,
   "id": "4c9fd955-1393-445d-8fec-ea49da76014c",
   "metadata": {},
   "outputs": [
    {
     "name": "stdout",
     "output_type": "stream",
     "text": [
      "0.0851 0.9328\n"
     ]
    }
   ],
   "source": [
    "# 4.1 (정규성만족 O) t-검정 실시\n",
    "statistic, pvalue = stats.ttest_1samp(df['mpg'], popmean=20, alternative='two-sided')\n",
    "# H1 : 왼쪽값과 오른쪽값이 같지 않다.\n",
    "print(round(statistic, 4), round(pvalue, 4))"
   ]
  },
  {
   "cell_type": "code",
   "execution_count": 8,
   "id": "a50520c6-7147-49d5-8610-5fab2ec6619d",
   "metadata": {},
   "outputs": [
    {
     "name": "stdout",
     "output_type": "stream",
     "text": [
      "249.0 0.7891\n"
     ]
    }
   ],
   "source": [
    "# 4.2 (정규성만족 X) wilcoxon 부호순위 검정\n",
    "statistic, pvalue = stats.wilcoxon(df['mpg']-20, alternative='two-sided')\n",
    "print(round(statistic, 4), round(pvalue, 4))"
   ]
  },
  {
   "cell_type": "code",
   "execution_count": 9,
   "id": "3fb89a81-e516-478a-96c0-b1f888f43971",
   "metadata": {},
   "outputs": [
    {
     "data": {
      "text/plain": [
       "20.090625000000003"
      ]
     },
     "execution_count": 9,
     "metadata": {},
     "output_type": "execute_result"
    }
   ],
   "source": [
    "# 5. 귀무가설 기각여부 결정(채택/기각)\n",
    "# p-value 값이 0.05보다 크기 때문에 귀무가설을 채택한다\n",
    "# 즉, mpg열의 평균이 20과 같다고 할 수 있다.\n",
    "# 답 : 채택\n",
    "df['mpg'].mean()"
   ]
  },
  {
   "cell_type": "code",
   "execution_count": 10,
   "id": "d846bfdc-9b99-4e25-a331-3971fcc3bc15",
   "metadata": {},
   "outputs": [
    {
     "name": "stdout",
     "output_type": "stream",
     "text": [
      "0.9476 0.1229\n"
     ]
    }
   ],
   "source": [
    "# 2. mtcars 데이터셋의 mpg열 데이터의 평균이 17보다 크다고 할 수 있는지 검정하시오.(유의수준 5%)\n",
    "# 1. 가설설정\n",
    "# H0 : mpg열의 평균이 17보다 작거나 같다 (mpg mean <= 17)\n",
    "# H1 : mpg열의 평균이 17보다 크다 (mpg mean > 17)\n",
    "# 2. 유의수준 확인 : 유의수준 5%로 확인\n",
    "# 3. 정규성 검정\n",
    "statistic, pvalue = stats.shapiro(df['mpg'])\n",
    "print(round(statistic, 4), round(pvalue, 4))"
   ]
  },
  {
   "cell_type": "code",
   "execution_count": 11,
   "id": "d2b6d438-c6c0-4ccc-ae82-c999b0f80099",
   "metadata": {},
   "outputs": [
    {
     "name": "stdout",
     "output_type": "stream",
     "text": [
      "2.9008 0.0034\n"
     ]
    }
   ],
   "source": [
    "# 4.1 (정규성만족 O) t-검정 실시\n",
    "statistic, pvalue = stats.ttest_1samp(df['mpg'], popmean=17, alternative='greater')\n",
    "print(round(statistic, 4), round(pvalue, 4))"
   ]
  },
  {
   "cell_type": "code",
   "execution_count": 12,
   "id": "d2c08cc5-3d27-42cd-9288-c4ff979e189c",
   "metadata": {},
   "outputs": [
    {
     "name": "stdout",
     "output_type": "stream",
     "text": [
      "395.5 0.0066\n"
     ]
    }
   ],
   "source": [
    "# 4.2 (정규성만족 X) wilcoxon 부호순위 검정\n",
    "statistic, pvalue = stats.wilcoxon(df['mpg']-17, alternative='greater')\n",
    "print(round(statistic, 4), round(pvalue, 4))"
   ]
  },
  {
   "cell_type": "code",
   "execution_count": 13,
   "id": "46e960ed-f0a8-4a82-aade-4d6c5e4d9352",
   "metadata": {},
   "outputs": [],
   "source": [
    "# 5. 귀무가설 기각여부 결정(채택/기각)\n",
    "# p-value 값이 0.05보다 작기 때문에 귀무가설을 기각한다. 대립가설 채택\n",
    "# 즉, mpg 열의 평균이 17보다 크다고 할 수 있다.\n",
    "# 답 : 기각"
   ]
  },
  {
   "cell_type": "code",
   "execution_count": 14,
   "id": "fa664b1c-7e92-4352-8d8a-f32241447d44",
   "metadata": {},
   "outputs": [
    {
     "name": "stdout",
     "output_type": "stream",
     "text": [
      "0.9476 0.1229\n"
     ]
    }
   ],
   "source": [
    "# 3. mtcars 데이터셋의 mpg열 데이터의 평균이 17보다 작다고 할 수 있는지 검정하시오.(유의수준 5%)\n",
    "# 1. 가설설정\n",
    "# H0 : mpg열 데이터의 평균이 17보다 크거나 같다. mpg mean >= 17\n",
    "# H1 : mpg열 데이터의 평균이 17보다 작다 mpg mean < 17\n",
    "# 2. 유의수준 확인 : 유의수준 5%로 확인\n",
    "# 3. 정규성 검정\n",
    "statistic, pvalue = stats.shapiro(df['mpg'])\n",
    "print(round(statistic, 4), round(pvalue, 4))"
   ]
  },
  {
   "cell_type": "code",
   "execution_count": 15,
   "id": "1665d8b7-d385-43be-ae96-71fcd4901b72",
   "metadata": {},
   "outputs": [
    {
     "name": "stdout",
     "output_type": "stream",
     "text": [
      "2.9008 0.9966\n"
     ]
    }
   ],
   "source": [
    "# 4.1 (정규성만족 O) t-검정 실시\n",
    "statistic, pvalue = stats.ttest_1samp(df['mpg'], popmean=17, alternative='less')\n",
    "print(round(statistic, 4), round(pvalue, 4))"
   ]
  },
  {
   "cell_type": "code",
   "execution_count": 16,
   "id": "4db12b0a-d109-4e7e-8b34-0eee518c07d0",
   "metadata": {},
   "outputs": [
    {
     "name": "stdout",
     "output_type": "stream",
     "text": [
      "395.5 0.9938\n"
     ]
    }
   ],
   "source": [
    "# 4.2 (정규성만족 X) wilcoxon 부호순위 검정\n",
    "statistic, pvalue = stats.wilcoxon(df['mpg']-17, alternative='less')\n",
    "print(round(statistic, 4), round(pvalue, 4))"
   ]
  },
  {
   "cell_type": "code",
   "execution_count": 17,
   "id": "66d9b188-a9f3-4eb7-853e-582904a07cfc",
   "metadata": {},
   "outputs": [],
   "source": [
    "# 5. 귀무가설 기각여부 결정(채택/기각)\n",
    "# p-value 값이 0.05보다 크므로 귀무가설 채택\n",
    "# 즉, mpg열 데이터의 평균이 17보다 크거나 같다고 할 수 있다.\n",
    "# 답 : 채택"
   ]
  },
  {
   "cell_type": "markdown",
   "id": "a408b42d-8416-457c-a257-9de12439f01c",
   "metadata": {},
   "source": [
    "## 모집단 2개"
   ]
  },
  {
   "cell_type": "code",
   "execution_count": 1,
   "id": "a898e901-1bae-48fd-9388-53e1ebf500ec",
   "metadata": {},
   "outputs": [],
   "source": [
    "# 1. 대응표본(쌍체) : 동일한 객체의 전 vs 후 평균비교\n",
    "# (정규성O) 대응표본(쌍체)t검정(paired t-test) : 동일한 객체의 전 vs 후 평균비교\n",
    "# (정규성X) 윌콕슨 부호순위 검정(wilcoxon)\n",
    "# 2. 독립표본 : A집단의 평균 vs B집단의 평균\n",
    "# (정규성O) 독립표본t검정(2sample t-test)\n",
    "# (정규성X) 윌콕슨의 순위합 검정(ranksums)"
   ]
  },
  {
   "cell_type": "code",
   "execution_count": 2,
   "id": "81731fa3-cbe3-4bf4-a629-cf84c08c4efb",
   "metadata": {},
   "outputs": [],
   "source": [
    "# 가설검정 순서(중요)\n",
    "# 1. 대응표본(쌍체) t검정(paired t-test)\n",
    "# 1. 가설설정\n",
    "# 2. 유의수준 확인\n",
    "# 3. 정규성 검정 (주의) 차이값에 대한 정규성\n",
    "# 4. 검정실시(통계량, p-value 확인)\n",
    "# 5. 귀무가설 기각여부 결정(채택/기각)"
   ]
  },
  {
   "cell_type": "code",
   "execution_count": 3,
   "id": "324b8b2c-b88d-49f3-b6ef-f27cbd079fb3",
   "metadata": {},
   "outputs": [],
   "source": [
    "# 2. 독립표본 t검정(2sample t-test)\n",
    "# 1. 가설설정\n",
    "# 2. 유의수준 확인\n",
    "# 3. 정규성 검정 (주의) 두 집단 모두 정규성을 따를 경우!\n",
    "# 4. 등분산 검정\n",
    "# 5. 검정실시(통계량, p-value 확인) (주의) 등분산 여부 확인\n",
    "# 6. 귀무가설 기각여부 결정(채택/기각)"
   ]
  },
  {
   "cell_type": "code",
   "execution_count": 4,
   "id": "30e8199a-367c-4b04-8aaa-20d444df8d69",
   "metadata": {},
   "outputs": [],
   "source": [
    "# Case 1) 대응표본(쌍체)t검정(paired t-test)\n",
    "# 다음은 혈압약을 먹은 전,후의 혈압 데이터이다.\n",
    "# 혈압약을 먹기 전,후의 차이가 있는지 쌍체 t검정을 실시하시오 (유의수준 5%)\n",
    "# before : 혈압약을 먹기 전 혈압, after : 혈압약을 먹은 후의 혈압\n",
    "# H0(귀무가설) : after - before = 0\n",
    "# H1(대립가설) : after - before != 0 "
   ]
  },
  {
   "cell_type": "code",
   "execution_count": 5,
   "id": "50c15bdc-b437-409e-a827-1430b4fb874f",
   "metadata": {},
   "outputs": [],
   "source": [
    "import pandas as pd\n",
    "import numpy as np\n",
    "import scipy.stats as stats\n",
    "from scipy.stats import shapiro"
   ]
  },
  {
   "cell_type": "code",
   "execution_count": 6,
   "id": "3adff981-8a69-45fd-bffc-4643634f2138",
   "metadata": {},
   "outputs": [
    {
     "name": "stdout",
     "output_type": "stream",
     "text": [
      "   before  after\n",
      "0     120    110\n",
      "1     135    132\n",
      "2     122    123\n"
     ]
    }
   ],
   "source": [
    " #\t데이터\t만들기\n",
    "df\t=\tpd.DataFrame(\t{\n",
    "\t'before':\t[120,\t135,\t122,\t124,\t135,\t122,\t145,\t160,\t155,\t142,\t144,\t135,\t167],\n",
    "\t'after'\t:\t[110,\t132,\t123,\t119,\t123,\t115,\t140,\t162,\t142,\t138,\t135,\t142,\t160]\t})\n",
    " print(df.head(3))"
   ]
  },
  {
   "cell_type": "code",
   "execution_count": 7,
   "id": "0e3f6cfe-b274-4c08-b491-d8a9d767ecd1",
   "metadata": {},
   "outputs": [
    {
     "name": "stdout",
     "output_type": "stream",
     "text": [
      "0.9589 0.7363\n"
     ]
    }
   ],
   "source": [
    "# 1. 가설설정\n",
    "# H0 : 약을 먹기전과 먹은 후의 혈압 평균은 같다(효과가 없다)\n",
    "# H1 : 약을 먹기전과 먹은 후의 혈압 평균은 같지 않다(효과가 있다)\n",
    "# 2. 유의수준 확인 : 유의수준 5%로 확인\n",
    "# 3. 정규성 검정 (차이값에 대해 정규성 확인)\n",
    "statistic, pvalue = stats.shapiro(df['after']-df['before'])\n",
    "print(round(statistic, 4), round(pvalue, 4))"
   ]
  },
  {
   "cell_type": "code",
   "execution_count": 8,
   "id": "5c2d27c8-97b6-4cb9-bec3-e37dc69b6d4e",
   "metadata": {},
   "outputs": [],
   "source": [
    "# p-value 값이 유의수준(0.05)보다 크다.  귀무가설(H0) 채택(정규성검정의 H0 : 정규분포를 따른다)"
   ]
  },
  {
   "cell_type": "code",
   "execution_count": 9,
   "id": "e5fec1b3-d73c-4094-ad35-c6aa593eb267",
   "metadata": {},
   "outputs": [
    {
     "name": "stdout",
     "output_type": "stream",
     "text": [
      "-3.1382 0.0086\n"
     ]
    }
   ],
   "source": [
    "# 4.1 (정규성O) 대응표본(쌍체) t검정(paired t-test)\n",
    "statistic, pvalue = stats.ttest_rel(df['after'], df['before'], alternative='two-sided')\n",
    "print(round(statistic, 4), round(pvalue, 4))"
   ]
  },
  {
   "cell_type": "code",
   "execution_count": 10,
   "id": "6e2da6c6-bf74-44ee-ac1b-73e929c108e0",
   "metadata": {},
   "outputs": [
    {
     "name": "stdout",
     "output_type": "stream",
     "text": [
      "11.0 0.0134\n"
     ]
    }
   ],
   "source": [
    "# 4.2 (정규성X) wilcoxon 부호순위 검정\n",
    "statistic, pvalue = stats.wilcoxon(df['after']-df['before'], alternative='two-sided')\n",
    "print(round(statistic, 4), round(pvalue, 4))"
   ]
  },
  {
   "cell_type": "code",
   "execution_count": 11,
   "id": "d65d9d7b-d1ea-46c9-a52e-33cbc3511b46",
   "metadata": {},
   "outputs": [],
   "source": [
    "# 5. 귀무가설 기각여부 결정(채택/기각)\n",
    "# p-value 값이 0.05보다 작기 때문에 귀무가설을 기각한다.\n",
    "# 즉, 약을 먹기 전과 먹은 후의 혈압 평균은 같지 않다(효과가 있다)\n",
    "# 답 : 기각"
   ]
  },
  {
   "cell_type": "code",
   "execution_count": 12,
   "id": "d4f98e7f-3f76-41c0-810b-be57b62659db",
   "metadata": {},
   "outputs": [],
   "source": [
    "# 혈압약을 먹은 후 혈압이 감소했는지 확인하기 위해 쌍체 t검정을 실시하시오 (유의수준 5%)\n",
    "# H0 : after - before >= 0\n",
    "# H1 : after - before < 0"
   ]
  },
  {
   "cell_type": "code",
   "execution_count": 13,
   "id": "1eb963f5-48a4-4f3d-9eff-25683df27452",
   "metadata": {},
   "outputs": [
    {
     "name": "stdout",
     "output_type": "stream",
     "text": [
      "0.9589 0.7363\n"
     ]
    }
   ],
   "source": [
    "# 1. 가설설정\n",
    "# H0 : 혈압약을 먹은 후 혈압이 같거나 증가했다. (after - before >= 0)\n",
    "# H1 : 혈압약을 먹은 후 혈압이 감소했다. (after - before < 0)\n",
    "# 2. 유의수준 확인 : 유의수준 5%로 확인\n",
    "# 3. 정규성 검정\n",
    "# H0 : 차이값 정규분포를 따른다\n",
    "# H1 : 차이값 정규분포를 따르지 않는다.\n",
    "statistic, pvalue = stats.shapiro(df['after']-df['before'])\n",
    "print(round(statistic, 4), round(pvalue, 4))"
   ]
  },
  {
   "cell_type": "code",
   "execution_count": 14,
   "id": "897eec09-fb1d-4ff8-9fc4-fbff81ba6ded",
   "metadata": {},
   "outputs": [
    {
     "name": "stdout",
     "output_type": "stream",
     "text": [
      "-3.1382 0.0043\n"
     ]
    }
   ],
   "source": [
    "# 4.1 (정규성O) 대응표본 t검정\n",
    "statistic, pvalue = stats.ttest_rel(df['after'], df['before'], alternative='less')\n",
    "print(round(statistic, 4), round(pvalue, 4))"
   ]
  },
  {
   "cell_type": "code",
   "execution_count": 15,
   "id": "6df351d3-0ed2-4139-ba98-f139691d83a4",
   "metadata": {},
   "outputs": [
    {
     "name": "stdout",
     "output_type": "stream",
     "text": [
      "11.0 0.0067\n"
     ]
    }
   ],
   "source": [
    "# 4.2 (정규성X) wilcoxon 부호순위 검정\n",
    "statistic, pvalue = stats.wilcoxon(df['after']-df['before'], alternative='less')\n",
    "print(round(statistic, 4), round(pvalue, 4))"
   ]
  },
  {
   "cell_type": "code",
   "execution_count": 16,
   "id": "03c70110-5949-499d-b39e-7544422c40fa",
   "metadata": {},
   "outputs": [],
   "source": [
    "# 5. 귀무가설 기각여부 결정(채택/기각)\n",
    "# p-value가 0.05보다 작으므로 귀무가설 기각\n",
    "# 즉, 혈압약을 먹은 후 혈압 평균이 감소했다.\n",
    "# 답 : 기각"
   ]
  },
  {
   "cell_type": "code",
   "execution_count": 17,
   "id": "ad71f676-fb45-479d-9c74-fa3df2d536a1",
   "metadata": {},
   "outputs": [],
   "source": [
    "# Case 2) 독립표본t검정(2sample t-test)\n",
    "# 다음은 A그룹과 B그룹 인원의 혈압 데이터이다.\n",
    "# 두 그룹의 혈압평균이 다르다고 할 수 있는지 독립표본 t검정을 실시하시오. (유의수준 5%)\n",
    "# A : A그룹 인원의 혈압, B : B그룹 인원의 혈압\n",
    "# H0(귀무가설) : A = B\n",
    "# H1(대립가설) : A != B"
   ]
  },
  {
   "cell_type": "code",
   "execution_count": 18,
   "id": "3c43b4e2-440b-4013-ae1e-9e370f649965",
   "metadata": {},
   "outputs": [
    {
     "name": "stdout",
     "output_type": "stream",
     "text": [
      "     A    B\n",
      "0  120  110\n",
      "1  135  132\n",
      "2  122  123\n"
     ]
    }
   ],
   "source": [
    "#\t데이터\t만들기\n",
    "df = pd.DataFrame({\n",
    "\t\t\t\t'A': [120,\t135,\t122,\t124,\t135,\t122,\t145,\t160,\t155,\t142,\t144,\t135,\t167],\n",
    "\t\t\t\t'B'\t: [110,\t132,\t123,\t119,\t123,\t115,\t140,\t162,\t142,\t138,\t135,\t142,\t160]})\n",
    "print(df.head(3))"
   ]
  },
  {
   "cell_type": "code",
   "execution_count": 19,
   "id": "74afb802-efb6-4884-8653-3d1e230a159b",
   "metadata": {},
   "outputs": [
    {
     "name": "stdout",
     "output_type": "stream",
     "text": [
      "0.9314 0.3558\n",
      "0.9498 0.5956\n"
     ]
    }
   ],
   "source": [
    "# 1. 가설설정\n",
    "# H0 : A그룹과 B그룹의 혈압 평균은 같다. (A=B)\n",
    "# H1 : A그룹과 B그룹의 혈압 평균은 같지 않다. (A!=B)\n",
    "# 2. 유의수준 확인 : 유의수준 5%로 확인\n",
    "# 3. 정규성 검정\n",
    "# H0(귀무가설) : 정규분포를 따른다.\n",
    "# H1(대립가설) : 정규분포를 따르지 않는다.\n",
    "statisticA, pvalueA = stats.shapiro(df['A'])\n",
    "statisticB, pvalueB = stats.shapiro(df['B'])\n",
    "print(round(statisticA, 4), round(pvalueA, 4))\n",
    "print(round(statisticB, 4), round(pvalueB, 4))"
   ]
  },
  {
   "cell_type": "code",
   "execution_count": 20,
   "id": "d5d5b62d-ab86-40ef-a87b-6eab0a67693e",
   "metadata": {},
   "outputs": [],
   "source": [
    "# p-value 값이 유의수준(0.05)보다 크다. 귀무가설(H0) 채택\n",
    "# 만약 하나라도 정규분포를 따르지 않는다면 비모수 검정방법을 써야 함 (윌콕슨의 순위합 검정 ranksums)"
   ]
  },
  {
   "cell_type": "code",
   "execution_count": 21,
   "id": "bfbcf3a7-0749-4ee3-a285-1b8b0500a869",
   "metadata": {},
   "outputs": [
    {
     "name": "stdout",
     "output_type": "stream",
     "text": [
      "0.0279 0.8673\n"
     ]
    }
   ],
   "source": [
    "# 4. 등분산성 검정\n",
    "# H0(귀무가설) : 등분산 한다.\n",
    "# H1(대립가설) : 등분산 하지 않는다.\n",
    "statistic, pvalue = stats.bartlett(df['A'], df['B'])\n",
    "print(round(statistic, 4), round(pvalue, 4))"
   ]
  },
  {
   "cell_type": "code",
   "execution_count": 22,
   "id": "07d6b7a9-b2f9-4dd7-9c4c-c38870f44c81",
   "metadata": {},
   "outputs": [],
   "source": [
    "# p-value 값이 유의수준(0.05)보다 크다. 귀무가설(H0) 채택 => 등분산성을 따른다고 할 수 있다."
   ]
  },
  {
   "cell_type": "code",
   "execution_count": 23,
   "id": "11b46a04-a0d4-4292-96d5-6452f7934384",
   "metadata": {},
   "outputs": [
    {
     "name": "stdout",
     "output_type": "stream",
     "text": [
      "0.8192 0.4207\n"
     ]
    }
   ],
   "source": [
    "# 5.1 (정규성O, 등분산성 O/X) t검정\n",
    "statistic, pvalue = stats.ttest_ind(df['A'], df['B'], equal_var=True, alternative='two-sided')\n",
    "# 만약 등분산 하지 않으면 False로 설정\n",
    "print(round(statistic, 4), round(pvalue, 4))"
   ]
  },
  {
   "cell_type": "code",
   "execution_count": 24,
   "id": "ef280036-bb07-49e6-81db-5c1237cef00d",
   "metadata": {},
   "outputs": [
    {
     "name": "stdout",
     "output_type": "stream",
     "text": [
      "0.8462 0.3975\n"
     ]
    }
   ],
   "source": [
    "# 5.2 (정규성X) 윌콕슨의 순위합 검정\n",
    "statistic, pvalue = stats.ranksums(df['A'], df['B'], alternative='two-sided')\n",
    "print(round(statistic, 4), round(pvalue, 4))"
   ]
  },
  {
   "cell_type": "code",
   "execution_count": 25,
   "id": "87318a7a-de4d-493d-b394-1fd929f3fc9a",
   "metadata": {},
   "outputs": [],
   "source": [
    "# 6. 귀무가설 기각여부 결정(채택/기각)\n",
    "# p-value 값이 0.05보다 크기 때문에 귀무가설 채택한다\n",
    "# 즉, A그룹과 B그룹의 혈압 평균은 같다고 할 수 있다.\n",
    "# 답 : 채택"
   ]
  },
  {
   "cell_type": "code",
   "execution_count": 26,
   "id": "f869ed73-d576-4a51-89f8-05d409703d43",
   "metadata": {},
   "outputs": [
    {
     "name": "stdout",
     "output_type": "stream",
     "text": [
      "138.9231\n",
      "133.9231\n"
     ]
    }
   ],
   "source": [
    "print(round(df['A'].mean(), 4))\n",
    "print(round(df['B'].mean(), 4))"
   ]
  },
  {
   "cell_type": "code",
   "execution_count": 27,
   "id": "048643bc-14d0-4f3b-bcac-2ad7a7cf8b34",
   "metadata": {},
   "outputs": [],
   "source": [
    "# A그룹의 혈압 평균이 B그룹보다 크다고 할 수 있는지 독립표본 t검정을 실시하시오. (유의수준 5%)\n",
    "# H0 : A - B <= 0 (A<=B) \n",
    "# H1 : A - B > 0 (A>B)"
   ]
  },
  {
   "cell_type": "code",
   "execution_count": 35,
   "id": "0fd7a653-959b-490f-96fe-f55b6ade0606",
   "metadata": {},
   "outputs": [
    {
     "name": "stdout",
     "output_type": "stream",
     "text": [
      "0.9314 0.3558\n",
      "0.9498 0.5956\n"
     ]
    }
   ],
   "source": [
    "# 1. 가설설정\n",
    "# H0 : A그룹의 혈압 평균이 B그룹보다 작거나 같다.\n",
    "# H1 : A그룹의 혈압 평균이 B그룹보다 크다\n",
    "# 2. 유의수준 확인 : 유의수준 5%로 확인\n",
    "# 3. 정규성 검정\n",
    "import scipy.stats as stats\n",
    "from scipy.stats import shapiro\n",
    "statisticA, pvalueA = stats.shapiro(df['A'])\n",
    "statisticB, pvalueB = stats.shapiro(df['B'])\n",
    "print(round(statisticA, 4), round(pvalueA, 4))\n",
    "print(round(statisticB, 4), round(pvalueB, 4))"
   ]
  },
  {
   "cell_type": "code",
   "execution_count": 29,
   "id": "4be63c0e-e9f0-4d1e-b867-dbe7ce0926b8",
   "metadata": {},
   "outputs": [],
   "source": [
    "# 두 집단 모두 정규성 만족"
   ]
  },
  {
   "cell_type": "code",
   "execution_count": 30,
   "id": "d200b4e1-42e7-49e6-bf70-ba51e0d94c7e",
   "metadata": {},
   "outputs": [
    {
     "name": "stdout",
     "output_type": "stream",
     "text": [
      "0.0279 0.8673\n"
     ]
    }
   ],
   "source": [
    "# 4. 등분산성 검정\n",
    "# H0 : 등분산한다.\n",
    "# H1 : 등분산하지 않는다.\n",
    "statistic, pvalue = stats.bartlett(df['A'], df['B'])\n",
    "print(round(statistic, 4), round(pvalue, 4))"
   ]
  },
  {
   "cell_type": "code",
   "execution_count": 31,
   "id": "599c6556-38a1-482d-94f7-ddf89c0e9ae2",
   "metadata": {},
   "outputs": [],
   "source": [
    "# 등분산 한다."
   ]
  },
  {
   "cell_type": "code",
   "execution_count": 32,
   "id": "87e9e8ee-3748-4fbc-b4bc-8db8984347ab",
   "metadata": {},
   "outputs": [
    {
     "name": "stdout",
     "output_type": "stream",
     "text": [
      "0.8192 0.2104\n"
     ]
    }
   ],
   "source": [
    "# 5.1 (정규성O, 등분산O) 독립표본 t검정\n",
    "statistic, pvalue = stats.ttest_ind(df['A'], df['B'], equal_var=True, alternative='greater')\n",
    "print(round(statistic, 4), round(pvalue, 4))"
   ]
  },
  {
   "cell_type": "code",
   "execution_count": 36,
   "id": "63000f93-a239-40d1-aae3-9be74c4a329f",
   "metadata": {},
   "outputs": [
    {
     "name": "stdout",
     "output_type": "stream",
     "text": [
      "0.8462 0.1987\n"
     ]
    }
   ],
   "source": [
    "# 5.2 (정규성X) 윌콕슨 순위합 검정\n",
    "statistic, pvalue = stats.ranksums(df['A'], df['B'], alternative='greater')\n",
    "print(round(statistic, 4), round(pvalue, 4))"
   ]
  },
  {
   "cell_type": "code",
   "execution_count": 34,
   "id": "7cd14148-e64b-4619-8d1b-c3048151d78e",
   "metadata": {},
   "outputs": [],
   "source": [
    "# 6. 귀무가설 기각여부 결정(채택/기각)\n",
    "# p-value 가 0.05보다 크므로 귀무가설 채택\n",
    "# 즉, A가 B보다 크다고 할 수 없다. 작거나 같다\n",
    "# 답 : 채택"
   ]
  },
  {
   "cell_type": "markdown",
   "id": "74cf4fb1-b1b5-4184-bac3-be43125e87f9",
   "metadata": {},
   "source": [
    "## 모집단 3개 이상"
   ]
  },
  {
   "cell_type": "code",
   "execution_count": 37,
   "id": "6ed8e821-3f68-42a7-b32c-a0c390049f3d",
   "metadata": {},
   "outputs": [],
   "source": [
    "# 검정방법\n",
    "# 1. 분산분석(ANOVA) : A집단 vs B집단 vs C집단 vs ...\n",
    "# (정규성O) ANOVA분석\n",
    "# (정규성X) 크루스칼-왈리스 검정(kruskal-wallis test)"
   ]
  },
  {
   "cell_type": "code",
   "execution_count": 38,
   "id": "5a324413-b454-47ec-bc87-558a02ccb371",
   "metadata": {},
   "outputs": [],
   "source": [
    "# 가설검정 순서(중요)\n",
    "# 1. 가설설정\n",
    "# 2. 유의수준 확인\n",
    "# 3. 정규성 검정 (주의) 집단 모두 정규성을 따를 경우!\n",
    "# 4. 등분산 검정\n",
    "# 5. 검정실시(통계량, p-value확인) (주의) 등분산여부 확인\n",
    "# 6. 귀무가설 기각여부 결정(채택/기각)"
   ]
  },
  {
   "cell_type": "code",
   "execution_count": 39,
   "id": "78b5bee2-62f6-4d8a-bfb1-82988a0dbea6",
   "metadata": {},
   "outputs": [],
   "source": [
    "# 다음은 A, B, C 그룹 인원 성적 데이터이다.\n",
    "# 세 그룹의 성적 평균이 같다고 할 수 있는지 ANOVA 분석을 실시하시오. (유의수준 5%)\n",
    "# A, B, C : 각 그룹 인원의 성적\n",
    "# H0(귀무가설) : A(평균) = B(평균) = C(평균)\n",
    "# H1(대립가설) : Not H0 (적어도 하나는 같지 않다)"
   ]
  },
  {
   "cell_type": "code",
   "execution_count": 40,
   "id": "6db2bf30-f684-46b1-8264-301626be7965",
   "metadata": {},
   "outputs": [],
   "source": [
    "import pandas as pd\n",
    "import numpy as np\n",
    "import scipy.stats as stats\n",
    "from scipy.stats import shapiro"
   ]
  },
  {
   "cell_type": "code",
   "execution_count": 41,
   "id": "29eb1ee8-56fd-4255-bef5-babff01bda02",
   "metadata": {},
   "outputs": [
    {
     "name": "stdout",
     "output_type": "stream",
     "text": [
      "     A    B    C\n",
      "0  120  110  130\n",
      "1  135  132  120\n",
      "2  122  123  115\n"
     ]
    }
   ],
   "source": [
    " #\t데이터\t만들기\n",
    "df = pd.DataFrame(\t{\n",
    "\t'A': [120,\t135,\t122,\t124,\t135,\t122,\t145,\t160,\t155,\t142,\t144,\t135,\t167],\n",
    "\t'B'\t: [110,\t132,\t123,\t119,\t123,\t115,\t140,\t162,\t142,\t138,\t135,\t142,\t160],\n",
    "\t'C'\t: [130,\t120,\t115,\t122,\t133,\t144,\t122,\t120,\t110,\t134,\t125,\t122,\t122]})\n",
    " print(df.head(3))"
   ]
  },
  {
   "cell_type": "code",
   "execution_count": 43,
   "id": "74b7541a-36ae-4fd8-bf27-4ac46925905f",
   "metadata": {},
   "outputs": [
    {
     "name": "stdout",
     "output_type": "stream",
     "text": [
      "ShapiroResult(statistic=0.9314373738322363, pvalue=0.35584957364120257)\n",
      "ShapiroResult(statistic=0.9498199298581277, pvalue=0.5955637454032426)\n",
      "ShapiroResult(statistic=0.9396706636806645, pvalue=0.4526517552551474)\n"
     ]
    }
   ],
   "source": [
    "# 1. 가설설정\n",
    "# H0 : 세 그룹 성적의 평균값이 같다. (A(평균) = B(평균) = C(평균))\n",
    "# H1 : 세 그룹의 성적 평균값이 적어도 하나는 같지 않다. (not H0)\n",
    "# 2. 유의수준 확인 : 유의수준 5%로 확인\n",
    "# 3. 정규성 검정\n",
    "print(stats.shapiro(df['A']))\n",
    "print(stats.shapiro(df['B']))\n",
    "print(stats.shapiro(df['C']))"
   ]
  },
  {
   "cell_type": "code",
   "execution_count": 45,
   "id": "83e54dac-610a-4b90-bd0e-61d06a31f54f",
   "metadata": {},
   "outputs": [],
   "source": [
    "# 세 집단 모두 p-value 값이 유의수준(0.05) 보다 크다. 귀무가설(H0)채택 => 정규분포를 따른다고 할 수 있다.\n",
    "# 만약 하나라도 정규분포를 따르지 않는다면 비모수 검정방법을 써야 함 (크루스칼-왈리스 검정)"
   ]
  },
  {
   "cell_type": "code",
   "execution_count": 47,
   "id": "abf51d8f-5eae-43e8-a523-6979cdb694be",
   "metadata": {},
   "outputs": [
    {
     "name": "stdout",
     "output_type": "stream",
     "text": [
      "BartlettResult(statistic=4.222248448848066, pvalue=0.12110174433684852)\n"
     ]
    }
   ],
   "source": [
    "# 4. 등분산성 검정\n",
    "# H0(귀무가설) : 등분산 한다.\n",
    "# H1(대립가설) : 등분산 하지 않는다.\n",
    "print(stats.bartlett(df['A'], df['B'], df['C']))"
   ]
  },
  {
   "cell_type": "code",
   "execution_count": 48,
   "id": "58d90f6b-b6ca-43ea-a80a-6de927ad880b",
   "metadata": {},
   "outputs": [],
   "source": [
    "# p-value 값이 유의수준(0.05)보다 크다. 귀무가설(H0)채택 => 등분산 한다고 할 수 있다."
   ]
  },
  {
   "cell_type": "code",
   "execution_count": 49,
   "id": "493f1292-8332-4c07-8a26-b7e4b2e13e07",
   "metadata": {},
   "outputs": [
    {
     "name": "stdout",
     "output_type": "stream",
     "text": [
      "3.6971 0.0346\n"
     ]
    }
   ],
   "source": [
    "# 5.1 (정규성O, 등분산성 O) 분산분석(F_oneway)\n",
    "statistic, pvalue = stats.f_oneway(df['A'], df['B'], df['C'])\n",
    "print(round(statistic, 4), round(pvalue, 4))"
   ]
  },
  {
   "cell_type": "code",
   "execution_count": 50,
   "id": "ce353f2e-ea10-4477-8f11-2081d5214127",
   "metadata": {},
   "outputs": [],
   "source": [
    "# 5.2 (정규성O, 등분산성X) Welch-ANOVA 분석\n",
    "# import pingouin as pg # pingouin 패키지 미지원\n",
    "# pg.welch_anova(dv='그룹변수명', between='성적데이터', data=데이터)\n",
    "# pg.welch_anova(df['A'], df['B'], df['C']) 형태로 분석 불가"
   ]
  },
  {
   "cell_type": "code",
   "execution_count": 51,
   "id": "aa0789bb-083d-497c-ab26-f77b2c7a1c4a",
   "metadata": {},
   "outputs": [
    {
     "name": "stdout",
     "output_type": "stream",
     "text": [
      "6.897 0.0318\n"
     ]
    }
   ],
   "source": [
    "# 5.3 (정규성X) 크루스칼 왈리스 검정\n",
    "statistic, pvalue = stats.kruskal(df['A'], df['B'], df['C'])\n",
    "print(round(statistic, 4), round(pvalue, 4))"
   ]
  },
  {
   "cell_type": "code",
   "execution_count": 52,
   "id": "503257f4-97b1-4cbe-8345-a50aa8c821c7",
   "metadata": {},
   "outputs": [],
   "source": [
    "# 6. 귀무가설 기각여부 결정(채택/기각)\n",
    "# p-value 값이 0.05보다 작기 때문에 귀무가설을 기각한다. (대립가설채택)\n",
    "# 즉, A, B, C 그룹의 성적 평균이 같다고 할 수 없다.\n",
    "# 답 : 기각"
   ]
  },
  {
   "cell_type": "code",
   "execution_count": 53,
   "id": "9457e68e-c6eb-4a4b-a938-1ac431a774db",
   "metadata": {},
   "outputs": [
    {
     "name": "stdout",
     "output_type": "stream",
     "text": [
      "  항목  value\n",
      "0  A    120\n",
      "1  A    135\n",
      "2  A    122\n"
     ]
    }
   ],
   "source": [
    "# 데이터 형태가 다를 경우\n",
    "#\t데이터\t만들기\n",
    "df2\t= pd.DataFrame(\t{\n",
    " '항목': ['A','A','A','A','A','A','A','A','A','A','A','A','A',\n",
    "         'B','B','B','B','B','B','B','B','B','B','B','B','B',\n",
    "         'C','C','C','C','C','C','C','C','C','C','C','C','C',],\n",
    " 'value': [120,\t135,\t122,\t124,\t135,\t122,\t145,\t160,\t155,\t142,\t144,\t135,\t167,\n",
    " 110,\t132,\t123,\t119,\t123,\t115,\t140,\t162,\t142,\t138,\t135,\t142,\t160,\n",
    " 130,\t120,\t115,\t122,\t133,\t144,\t122,\t120,\t110,\t134,\t125,\t122,\t122]\n",
    " })\n",
    "print(df2.head(3))"
   ]
  },
  {
   "cell_type": "code",
   "execution_count": 54,
   "id": "a13be1a5-d385-4b8c-9e2e-d629c83764e7",
   "metadata": {},
   "outputs": [
    {
     "name": "stdout",
     "output_type": "stream",
     "text": [
      "0     120\n",
      "1     135\n",
      "2     122\n",
      "3     124\n",
      "4     135\n",
      "5     122\n",
      "6     145\n",
      "7     160\n",
      "8     155\n",
      "9     142\n",
      "10    144\n",
      "11    135\n",
      "12    167\n",
      "Name: value, dtype: int64 13    110\n",
      "14    132\n",
      "15    123\n",
      "16    119\n",
      "17    123\n",
      "18    115\n",
      "19    140\n",
      "20    162\n",
      "21    142\n",
      "22    138\n",
      "23    135\n",
      "24    142\n",
      "25    160\n",
      "Name: value, dtype: int64 26    130\n",
      "27    120\n",
      "28    115\n",
      "29    122\n",
      "30    133\n",
      "31    144\n",
      "32    122\n",
      "33    120\n",
      "34    110\n",
      "35    134\n",
      "36    125\n",
      "37    122\n",
      "38    122\n",
      "Name: value, dtype: int64\n"
     ]
    }
   ],
   "source": [
    "a = df2[df2['항목']=='A']['value']\n",
    "b = df2[df2['항목']=='B']['value']\n",
    "c = df2[df2['항목']=='C']['value']\n",
    "print(a, b, c)"
   ]
  },
  {
   "cell_type": "code",
   "execution_count": 56,
   "id": "bfcf6b8a-d240-4bbc-9810-1e86c38cd1a5",
   "metadata": {},
   "outputs": [
    {
     "name": "stdout",
     "output_type": "stream",
     "text": [
      "ShapiroResult(statistic=0.9314373738322363, pvalue=0.35584957364120257)\n",
      "ShapiroResult(statistic=0.9498199298581277, pvalue=0.5955637454032426)\n",
      "ShapiroResult(statistic=0.9396706636806645, pvalue=0.4526517552551474)\n"
     ]
    }
   ],
   "source": [
    "print(stats.shapiro(a))\n",
    "print(stats.shapiro(b))\n",
    "print(stats.shapiro(c))"
   ]
  },
  {
   "cell_type": "code",
   "execution_count": 57,
   "id": "1e236f73-a85d-4196-89bf-8789fecdb774",
   "metadata": {},
   "outputs": [
    {
     "name": "stdout",
     "output_type": "stream",
     "text": [
      "4.2222 0.1211\n"
     ]
    }
   ],
   "source": [
    "statistic, pvalue = stats.bartlett(a,b,c)\n",
    "print(round(statistic, 4), round(pvalue, 4))"
   ]
  },
  {
   "cell_type": "code",
   "execution_count": 59,
   "id": "38b56270-44c1-4aa3-8529-014d7730914b",
   "metadata": {},
   "outputs": [
    {
     "name": "stdout",
     "output_type": "stream",
     "text": [
      "3.6971 0.0346\n"
     ]
    }
   ],
   "source": [
    "statistic, pvalue = stats.f_oneway(a,b,c)\n",
    "print(round(statistic, 4), round(pvalue, 4))"
   ]
  },
  {
   "cell_type": "code",
   "execution_count": 60,
   "id": "c12b3779-45aa-4857-ac1f-e773cb3c1ccb",
   "metadata": {},
   "outputs": [
    {
     "name": "stdout",
     "output_type": "stream",
     "text": [
      "6.897 0.0318\n"
     ]
    }
   ],
   "source": [
    "statistic, pvalue = stats.kruskal(a,b,c)\n",
    "print(round(statistic, 4), round(pvalue, 4))"
   ]
  },
  {
   "cell_type": "markdown",
   "id": "7a6bc32a-b666-4b2c-9bfe-3e8941809d43",
   "metadata": {},
   "source": [
    "## 카이제곱 검정"
   ]
  },
  {
   "cell_type": "code",
   "execution_count": 61,
   "id": "9a56216d-1008-42ec-9b0a-fae7dd03e07a",
   "metadata": {},
   "outputs": [],
   "source": [
    "# Case 1. 적합도 검정 - 각 범주에 속할 확률이 같은지?\n",
    "# Case 2. 독립성 검정 - 두 개의 범주형 변수가 서로 독립인지?"
   ]
  },
  {
   "cell_type": "code",
   "execution_count": 62,
   "id": "f193982f-3012-4b62-a911-8ef33ea32d31",
   "metadata": {},
   "outputs": [],
   "source": [
    "# 가설검정 순서(중요!!)\n",
    "# 1. 가설설정\n",
    "# 2. 유의수준 확인\n",
    "# 3. 검정실시(통계량, p-value확인, 기대빈도 확인)\n",
    "# 4. 귀무가설 기각여부 결정(채택/기각)"
   ]
  },
  {
   "cell_type": "code",
   "execution_count": 64,
   "id": "ee553b0b-5a54-4cdf-9e6a-b4b82750f2ca",
   "metadata": {},
   "outputs": [],
   "source": [
    "# Case 1. 적합도 검정 - 각 범주에 속할 확률이 같은지?\n",
    "# 랜덤 박스에 상품 A, B, C, D가 들어있다.\n",
    "# 다음은 랜덤박스에서 100번 상품을 꺼냈을 때의 상품 데이터라고 할 때 \n",
    "# 상품이 동일한 비율로 들어있다고 할 수 있는지 검정해보시오."
   ]
  },
  {
   "cell_type": "code",
   "execution_count": 65,
   "id": "e528500f-ac68-4825-8330-d52605c2254d",
   "metadata": {},
   "outputs": [
    {
     "data": {
      "text/html": [
       "<div>\n",
       "<style scoped>\n",
       "    .dataframe tbody tr th:only-of-type {\n",
       "        vertical-align: middle;\n",
       "    }\n",
       "\n",
       "    .dataframe tbody tr th {\n",
       "        vertical-align: top;\n",
       "    }\n",
       "\n",
       "    .dataframe thead th {\n",
       "        text-align: right;\n",
       "    }\n",
       "</style>\n",
       "<table border=\"1\" class=\"dataframe\">\n",
       "  <thead>\n",
       "    <tr style=\"text-align: right;\">\n",
       "      <th></th>\n",
       "      <th>A</th>\n",
       "      <th>B</th>\n",
       "      <th>C</th>\n",
       "      <th>D</th>\n",
       "    </tr>\n",
       "  </thead>\n",
       "  <tbody>\n",
       "    <tr>\n",
       "      <th>0</th>\n",
       "      <td>30</td>\n",
       "      <td>20</td>\n",
       "      <td>15</td>\n",
       "      <td>35</td>\n",
       "    </tr>\n",
       "  </tbody>\n",
       "</table>\n",
       "</div>"
      ],
      "text/plain": [
       "    A   B   C   D\n",
       "0  30  20  15  35"
      ]
     },
     "execution_count": 65,
     "metadata": {},
     "output_type": "execute_result"
    }
   ],
   "source": [
    "import pandas as pd\n",
    "import numpy as np\n",
    "#\t데이터\t생성\n",
    "row1 = [30,\t20,\t15,\t35]\n",
    "df = pd.DataFrame([row1], columns=['A','B','C',\t'D'])\n",
    "df"
   ]
  },
  {
   "cell_type": "code",
   "execution_count": 66,
   "id": "60bd1183-c36e-4ea2-8335-d196f915bb46",
   "metadata": {},
   "outputs": [],
   "source": [
    "# 1. 가설설정\n",
    "# H0 : 랜덤박스에 상품 A, B, C, D가 동일한 비율로 들어있다.\n",
    "# H1 : 랜덤박스에 상품 A, B, C, D가 동일한 비율로 들어있지 않다."
   ]
  },
  {
   "cell_type": "code",
   "execution_count": 67,
   "id": "1ea076ce-a5ec-46d7-b5a9-4c9d9bd286b6",
   "metadata": {},
   "outputs": [],
   "source": [
    "# 2. 유의수준 확인 : 유의수준 5%로 확인"
   ]
  },
  {
   "cell_type": "code",
   "execution_count": 69,
   "id": "8382c78f-98d7-4168-bf2a-67c628dfe4c2",
   "metadata": {},
   "outputs": [
    {
     "name": "stdout",
     "output_type": "stream",
     "text": [
      "10.0 0.0186\n"
     ]
    }
   ],
   "source": [
    "# 3. 검정실시(통계량, p-value)\n",
    "from scipy.stats import chisquare\n",
    "# chisquare(f_obs=f_obs, f_exp=f_exp) # 관측빈도, 기대빈도\n",
    "# 관측빈도와 기대빈도 구하기\n",
    "f_obs = [30, 20, 15, 35]\n",
    "# f_obs = df.iloc[0]\n",
    "f_exp = [25, 25, 25, 25]\n",
    "\n",
    "statistic, pvalue = chisquare(f_obs=f_obs, f_exp=f_exp)\n",
    "print(round(statistic, 4), round(pvalue, 4))\n",
    "# 자유도는 n-1 = 3"
   ]
  },
  {
   "cell_type": "code",
   "execution_count": 70,
   "id": "7174ceeb-3352-4348-8eba-b208d811b83f",
   "metadata": {},
   "outputs": [],
   "source": [
    "# 4. 귀무가설 기각여부 결정(채택/기각)\n",
    "# p-value 값이 0.05보다 작기 때문에 귀무가설을 기각한다\n",
    "# 즉, 랜덤박스에 상품 A, B, C, D가 동일한 비율로 들어있지 않다고 할 수 있다.\n",
    "# 답 : 기각"
   ]
  },
  {
   "cell_type": "code",
   "execution_count": 71,
   "id": "d6754cda-2fe9-4353-aa05-a7471542d0da",
   "metadata": {},
   "outputs": [],
   "source": [
    "# 랜덤박스에 상품 A, B, C가 들어있다.\n",
    "# 다음은 랜덤박스에서 150번 상품을 꺼냈을 때의 상품 데이터라고 할 때\n",
    "# 상품별로 A 30%, B 15%, C 55% 비율로 들어있다고 할 수 있는지 검정해보시오."
   ]
  },
  {
   "cell_type": "code",
   "execution_count": 72,
   "id": "ac600445-f04e-413e-8a90-616fb564a5ee",
   "metadata": {},
   "outputs": [
    {
     "data": {
      "text/html": [
       "<div>\n",
       "<style scoped>\n",
       "    .dataframe tbody tr th:only-of-type {\n",
       "        vertical-align: middle;\n",
       "    }\n",
       "\n",
       "    .dataframe tbody tr th {\n",
       "        vertical-align: top;\n",
       "    }\n",
       "\n",
       "    .dataframe thead th {\n",
       "        text-align: right;\n",
       "    }\n",
       "</style>\n",
       "<table border=\"1\" class=\"dataframe\">\n",
       "  <thead>\n",
       "    <tr style=\"text-align: right;\">\n",
       "      <th></th>\n",
       "      <th>A</th>\n",
       "      <th>B</th>\n",
       "      <th>C</th>\n",
       "    </tr>\n",
       "  </thead>\n",
       "  <tbody>\n",
       "    <tr>\n",
       "      <th>0</th>\n",
       "      <td>50</td>\n",
       "      <td>25</td>\n",
       "      <td>75</td>\n",
       "    </tr>\n",
       "  </tbody>\n",
       "</table>\n",
       "</div>"
      ],
      "text/plain": [
       "    A   B   C\n",
       "0  50  25  75"
      ]
     },
     "execution_count": 72,
     "metadata": {},
     "output_type": "execute_result"
    }
   ],
   "source": [
    " #\t데이터\t생성\n",
    "row1 = [50,25,75]\n",
    "df = pd.DataFrame([row1], columns=['A','B','C'])\n",
    "df"
   ]
  },
  {
   "cell_type": "code",
   "execution_count": 73,
   "id": "206d2630-bd5f-4b08-89da-254e8df46712",
   "metadata": {},
   "outputs": [
    {
     "name": "stdout",
     "output_type": "stream",
     "text": [
      "1.5152 0.4688\n"
     ]
    }
   ],
   "source": [
    "# 1. 가설설정\n",
    "# H0 : 상품별로 A 30%, B 15%, C 55% 비율로 들어있다.\n",
    "# H1 : 상품별로 A 30%, B 15%, C 55% 비율로 들어있지 않다.\n",
    "# 2. 유의수준 확인 : 유의수준 5%로 확인\n",
    "# 3. 검정실시\n",
    "from scipy.stats import chisquare\n",
    "statistic, pvalue = chisquare(f_obs=df.iloc[0], f_exp=[150*0.3, 150*0.15, 150*0.55])\n",
    "print(round(statistic, 4), round(pvalue, 4)) # 자유도는 2"
   ]
  },
  {
   "cell_type": "code",
   "execution_count": 76,
   "id": "0e541e4f-0a7f-463e-a9e0-545cfe83a9cb",
   "metadata": {},
   "outputs": [],
   "source": [
    "# 4. 귀무가설 기각여부 결정(채택/기각)\n",
    "# p-value 가 0.05보다 크므로 귀무가설 채택\n",
    "# 즉, 상품별로 A 30%, B 15%, C 55% 비율로 들어있다고 할 수 있다.\n",
    "# 답 : 채택"
   ]
  },
  {
   "cell_type": "code",
   "execution_count": 77,
   "id": "6ccf30e6-b88c-449b-b0f0-e37befb85fad",
   "metadata": {},
   "outputs": [],
   "source": [
    "# Case 2. 독립성 검정 - 두 개의 범주형 변수가 서로 독립인지?\n",
    "# 연령대에 따라 먹는 아이스크림의 차이가 있는지 독립성 검정을 실시하시오."
   ]
  },
  {
   "cell_type": "code",
   "execution_count": 78,
   "id": "521f9566-383c-4545-8dcb-5bc60be921b9",
   "metadata": {},
   "outputs": [
    {
     "data": {
      "text/html": [
       "<div>\n",
       "<style scoped>\n",
       "    .dataframe tbody tr th:only-of-type {\n",
       "        vertical-align: middle;\n",
       "    }\n",
       "\n",
       "    .dataframe tbody tr th {\n",
       "        vertical-align: top;\n",
       "    }\n",
       "\n",
       "    .dataframe thead th {\n",
       "        text-align: right;\n",
       "    }\n",
       "</style>\n",
       "<table border=\"1\" class=\"dataframe\">\n",
       "  <thead>\n",
       "    <tr style=\"text-align: right;\">\n",
       "      <th></th>\n",
       "      <th>딸기</th>\n",
       "      <th>초코</th>\n",
       "      <th>바닐라</th>\n",
       "    </tr>\n",
       "  </thead>\n",
       "  <tbody>\n",
       "    <tr>\n",
       "      <th>10대</th>\n",
       "      <td>200</td>\n",
       "      <td>190</td>\n",
       "      <td>250</td>\n",
       "    </tr>\n",
       "    <tr>\n",
       "      <th>20대</th>\n",
       "      <td>220</td>\n",
       "      <td>250</td>\n",
       "      <td>300</td>\n",
       "    </tr>\n",
       "  </tbody>\n",
       "</table>\n",
       "</div>"
      ],
      "text/plain": [
       "      딸기   초코  바닐라\n",
       "10대  200  190  250\n",
       "20대  220  250  300"
      ]
     },
     "execution_count": 78,
     "metadata": {},
     "output_type": "execute_result"
    }
   ],
   "source": [
    " #\t데이터\t생성\n",
    "row1, row2 = [200,\t190, 250], [220, 250, 300]\n",
    "df = pd.DataFrame([row1,\trow2],\tcolumns=['딸기','초코','바닐라'],\tindex=['10대',\t'20대'])\n",
    "df"
   ]
  },
  {
   "cell_type": "code",
   "execution_count": 79,
   "id": "a75d750e-285d-453c-b626-6f73305cf162",
   "metadata": {},
   "outputs": [],
   "source": [
    "# 1. 가설설정\n",
    "# H0 : 연령대와 먹는 아이스크림의 종류는 서로 관련이 없다(두 변수는 서로 독립이다)\n",
    "# H1 : 연령대와 먹는 아이스크림의 종류는 서로 관련이 있다(두 변수는 서로 독립이 아니다)"
   ]
  },
  {
   "cell_type": "code",
   "execution_count": 80,
   "id": "aa0d012a-73f5-410a-95f2-55667bab4948",
   "metadata": {},
   "outputs": [],
   "source": [
    "# 2. 유의수준 확인 : 유의수준 5%로 확인"
   ]
  },
  {
   "cell_type": "code",
   "execution_count": 81,
   "id": "fefcb532-c82c-4b53-bd9e-81f5ffa68c40",
   "metadata": {},
   "outputs": [
    {
     "name": "stdout",
     "output_type": "stream",
     "text": [
      "1.708360126075226\n",
      "0.4256320394874311\n",
      "2\n",
      "[[190.64 199.72 249.65]\n",
      " [229.36 240.28 300.35]]\n",
      "--------------------\n",
      "Chi2ContingencyResult(statistic=1.708360126075226, pvalue=0.4256320394874311, dof=2, expected_freq=array([[190.63829787, 199.71631206, 249.64539007],\n",
      "       [229.36170213, 240.28368794, 300.35460993]]))\n"
     ]
    }
   ],
   "source": [
    "# 3. 검정실시(통계량, p-value, 기대빈도 확인)\n",
    "from scipy.stats import chi2_contingency\n",
    "statistic, pvalue, dof, expected = chi2_contingency(df)\n",
    "# statistic(통계량), pvalue, dof(자유도), expected_freq(기대빈도)\n",
    "\n",
    "# 아래와 같이 입력해도 동일한 결과값\n",
    "# statistic, pvalue, dof, expected = chi2_contingency([row1, row2])\n",
    "# statistic, pvalue, dof, expected = chi2_contingency([df.iloc[0], df.iloc[1]])\n",
    "\n",
    "print(statistic)\n",
    "print(pvalue)\n",
    "print(dof)\n",
    "print(np.round(expected,2))\n",
    "print('--------------------')\n",
    "print(chi2_contingency(df))"
   ]
  },
  {
   "cell_type": "code",
   "execution_count": 82,
   "id": "ae7f2892-19e6-4acd-bf17-f38cec8261b1",
   "metadata": {},
   "outputs": [
    {
     "name": "stdout",
     "output_type": "stream",
     "text": [
      "[[190.63829787 199.71631206 249.64539007]\n",
      " [229.36170213 240.28368794 300.35460993]]\n"
     ]
    }
   ],
   "source": [
    "print(expected)"
   ]
  },
  {
   "cell_type": "code",
   "execution_count": 83,
   "id": "7a291850-79a7-4d0f-9413-beb5ade65728",
   "metadata": {},
   "outputs": [],
   "source": [
    "# 4. 귀무가설 기각여부 결정(채택/기각)\n",
    "# p-value 값이 0.05보다 크기 때문에 귀무가설 채택\n",
    "# 즉, 연령대와 먹는 아이스크림의 종류는 서로 관련이 없다고 할 수 있다.\n",
    "# 답 : 채택"
   ]
  },
  {
   "cell_type": "code",
   "execution_count": 84,
   "id": "a4724a8a-4d40-45b6-b639-3e2ef43af123",
   "metadata": {},
   "outputs": [
    {
     "data": {
      "text/html": [
       "<div>\n",
       "<style scoped>\n",
       "    .dataframe tbody tr th:only-of-type {\n",
       "        vertical-align: middle;\n",
       "    }\n",
       "\n",
       "    .dataframe tbody tr th {\n",
       "        vertical-align: top;\n",
       "    }\n",
       "\n",
       "    .dataframe thead th {\n",
       "        text-align: right;\n",
       "    }\n",
       "</style>\n",
       "<table border=\"1\" class=\"dataframe\">\n",
       "  <thead>\n",
       "    <tr style=\"text-align: right;\">\n",
       "      <th></th>\n",
       "      <th>아이스크림</th>\n",
       "      <th>연령</th>\n",
       "      <th>인원</th>\n",
       "    </tr>\n",
       "  </thead>\n",
       "  <tbody>\n",
       "    <tr>\n",
       "      <th>0</th>\n",
       "      <td>딸기</td>\n",
       "      <td>10대</td>\n",
       "      <td>200</td>\n",
       "    </tr>\n",
       "    <tr>\n",
       "      <th>1</th>\n",
       "      <td>초코</td>\n",
       "      <td>10대</td>\n",
       "      <td>190</td>\n",
       "    </tr>\n",
       "    <tr>\n",
       "      <th>2</th>\n",
       "      <td>바닐라</td>\n",
       "      <td>10대</td>\n",
       "      <td>250</td>\n",
       "    </tr>\n",
       "    <tr>\n",
       "      <th>3</th>\n",
       "      <td>딸기</td>\n",
       "      <td>20대</td>\n",
       "      <td>220</td>\n",
       "    </tr>\n",
       "    <tr>\n",
       "      <th>4</th>\n",
       "      <td>초코</td>\n",
       "      <td>20대</td>\n",
       "      <td>250</td>\n",
       "    </tr>\n",
       "    <tr>\n",
       "      <th>5</th>\n",
       "      <td>바닐라</td>\n",
       "      <td>20대</td>\n",
       "      <td>300</td>\n",
       "    </tr>\n",
       "  </tbody>\n",
       "</table>\n",
       "</div>"
      ],
      "text/plain": [
       "  아이스크림   연령   인원\n",
       "0    딸기  10대  200\n",
       "1    초코  10대  190\n",
       "2   바닐라  10대  250\n",
       "3    딸기  20대  220\n",
       "4    초코  20대  250\n",
       "5   바닐라  20대  300"
      ]
     },
     "execution_count": 84,
     "metadata": {},
     "output_type": "execute_result"
    }
   ],
   "source": [
    "# 만약 데이터 형태가 다를 경우?\n",
    "#\t★\ttip\t:\tpd.crosstab()\t사용방법\n",
    "#\t(Case1)\t만약\t데이터가\t아래와\t같이\t주어진다면?\n",
    "df\t=\tpd.DataFrame({\n",
    " '아이스크림'\t:\t['딸기','초코','바닐라','딸기','초코','바닐라'],\n",
    " '연령'\t:\t['10대','10대','10대','20대','20대','20대'],\n",
    " '인원'\t:\t[200,190,250,220,250,300]\n",
    " })\n",
    "df"
   ]
  },
  {
   "cell_type": "code",
   "execution_count": 86,
   "id": "d716981f-8412-4014-8dfc-c4f6cb027155",
   "metadata": {},
   "outputs": [
    {
     "data": {
      "text/html": [
       "<div>\n",
       "<style scoped>\n",
       "    .dataframe tbody tr th:only-of-type {\n",
       "        vertical-align: middle;\n",
       "    }\n",
       "\n",
       "    .dataframe tbody tr th {\n",
       "        vertical-align: top;\n",
       "    }\n",
       "\n",
       "    .dataframe thead th {\n",
       "        text-align: right;\n",
       "    }\n",
       "</style>\n",
       "<table border=\"1\" class=\"dataframe\">\n",
       "  <thead>\n",
       "    <tr style=\"text-align: right;\">\n",
       "      <th>아이스크림</th>\n",
       "      <th>딸기</th>\n",
       "      <th>바닐라</th>\n",
       "      <th>초코</th>\n",
       "    </tr>\n",
       "    <tr>\n",
       "      <th>연령</th>\n",
       "      <th></th>\n",
       "      <th></th>\n",
       "      <th></th>\n",
       "    </tr>\n",
       "  </thead>\n",
       "  <tbody>\n",
       "    <tr>\n",
       "      <th>10대</th>\n",
       "      <td>200</td>\n",
       "      <td>250</td>\n",
       "      <td>190</td>\n",
       "    </tr>\n",
       "    <tr>\n",
       "      <th>20대</th>\n",
       "      <td>220</td>\n",
       "      <td>300</td>\n",
       "      <td>250</td>\n",
       "    </tr>\n",
       "  </tbody>\n",
       "</table>\n",
       "</div>"
      ],
      "text/plain": [
       "아이스크림   딸기  바닐라   초코\n",
       "연령                  \n",
       "10대    200  250  190\n",
       "20대    220  300  250"
      ]
     },
     "execution_count": 86,
     "metadata": {},
     "output_type": "execute_result"
    }
   ],
   "source": [
    "# pd.crosstab(index= , columns= , values= , aggfunc=sum)\n",
    "table = pd.crosstab(index=df['연령'], columns=df['아이스크림'], values=df['인원'], aggfunc='sum')\n",
    "table\n",
    "# 주의 : index, columns 순서를 꼭 확인하기"
   ]
  },
  {
   "cell_type": "code",
   "execution_count": 88,
   "id": "2b0ecef0-e72f-41bb-a723-4e4d1c073853",
   "metadata": {},
   "outputs": [
    {
     "name": "stdout",
     "output_type": "stream",
     "text": [
      "1.708360126075226 0.4256320394874311 2 [[190.63829787 249.64539007 199.71631206]\n",
      " [229.36170213 300.35460993 240.28368794]]\n"
     ]
    }
   ],
   "source": [
    "# 3. 검정실시\n",
    "from scipy.stats import chi2_contingency\n",
    "statistic, pvalue, dof, expected = chi2_contingency(table)\n",
    "print(statistic, pvalue, dof, expected)"
   ]
  },
  {
   "cell_type": "code",
   "execution_count": 89,
   "id": "10b564c0-1fd3-4519-847e-635eb02217d5",
   "metadata": {},
   "outputs": [
    {
     "data": {
      "text/html": [
       "<div>\n",
       "<style scoped>\n",
       "    .dataframe tbody tr th:only-of-type {\n",
       "        vertical-align: middle;\n",
       "    }\n",
       "\n",
       "    .dataframe tbody tr th {\n",
       "        vertical-align: top;\n",
       "    }\n",
       "\n",
       "    .dataframe thead th {\n",
       "        text-align: right;\n",
       "    }\n",
       "</style>\n",
       "<table border=\"1\" class=\"dataframe\">\n",
       "  <thead>\n",
       "    <tr style=\"text-align: right;\">\n",
       "      <th></th>\n",
       "      <th>아이스크림</th>\n",
       "      <th>연령</th>\n",
       "    </tr>\n",
       "  </thead>\n",
       "  <tbody>\n",
       "    <tr>\n",
       "      <th>0</th>\n",
       "      <td>딸기</td>\n",
       "      <td>10대</td>\n",
       "    </tr>\n",
       "    <tr>\n",
       "      <th>1</th>\n",
       "      <td>초코</td>\n",
       "      <td>10대</td>\n",
       "    </tr>\n",
       "    <tr>\n",
       "      <th>2</th>\n",
       "      <td>바닐라</td>\n",
       "      <td>10대</td>\n",
       "    </tr>\n",
       "    <tr>\n",
       "      <th>3</th>\n",
       "      <td>딸기</td>\n",
       "      <td>20대</td>\n",
       "    </tr>\n",
       "    <tr>\n",
       "      <th>4</th>\n",
       "      <td>초코</td>\n",
       "      <td>20대</td>\n",
       "    </tr>\n",
       "    <tr>\n",
       "      <th>5</th>\n",
       "      <td>바닐라</td>\n",
       "      <td>20대</td>\n",
       "    </tr>\n",
       "  </tbody>\n",
       "</table>\n",
       "</div>"
      ],
      "text/plain": [
       "  아이스크림   연령\n",
       "0    딸기  10대\n",
       "1    초코  10대\n",
       "2   바닐라  10대\n",
       "3    딸기  20대\n",
       "4    초코  20대\n",
       "5   바닐라  20대"
      ]
     },
     "execution_count": 89,
     "metadata": {},
     "output_type": "execute_result"
    }
   ],
   "source": [
    "# (Case 2) 만약 데이터가 아래와 같이 주어진다면?\n",
    "# (이해를 위한 참고용, 빈도수 카운팅)\n",
    "df\t=\tpd.DataFrame({\n",
    " '아이스크림'\t:\t['딸기','초코','바닐라','딸기','초코','바닐라'],\n",
    " '연령'\t:\t['10대','10대','10대','20대','20대','20대'],})\n",
    "df"
   ]
  },
  {
   "cell_type": "code",
   "execution_count": 90,
   "id": "50a9e76b-056c-4fa5-ba1e-f0ea376add04",
   "metadata": {},
   "outputs": [
    {
     "data": {
      "text/html": [
       "<div>\n",
       "<style scoped>\n",
       "    .dataframe tbody tr th:only-of-type {\n",
       "        vertical-align: middle;\n",
       "    }\n",
       "\n",
       "    .dataframe tbody tr th {\n",
       "        vertical-align: top;\n",
       "    }\n",
       "\n",
       "    .dataframe thead th {\n",
       "        text-align: right;\n",
       "    }\n",
       "</style>\n",
       "<table border=\"1\" class=\"dataframe\">\n",
       "  <thead>\n",
       "    <tr style=\"text-align: right;\">\n",
       "      <th>아이스크림</th>\n",
       "      <th>딸기</th>\n",
       "      <th>바닐라</th>\n",
       "      <th>초코</th>\n",
       "    </tr>\n",
       "    <tr>\n",
       "      <th>연령</th>\n",
       "      <th></th>\n",
       "      <th></th>\n",
       "      <th></th>\n",
       "    </tr>\n",
       "  </thead>\n",
       "  <tbody>\n",
       "    <tr>\n",
       "      <th>10대</th>\n",
       "      <td>1</td>\n",
       "      <td>1</td>\n",
       "      <td>1</td>\n",
       "    </tr>\n",
       "    <tr>\n",
       "      <th>20대</th>\n",
       "      <td>1</td>\n",
       "      <td>1</td>\n",
       "      <td>1</td>\n",
       "    </tr>\n",
       "  </tbody>\n",
       "</table>\n",
       "</div>"
      ],
      "text/plain": [
       "아이스크림  딸기  바닐라  초코\n",
       "연령                \n",
       "10대     1    1   1\n",
       "20대     1    1   1"
      ]
     },
     "execution_count": 90,
     "metadata": {},
     "output_type": "execute_result"
    }
   ],
   "source": [
    "pd.crosstab(index=df['연령'], columns=df['아이스크림'])"
   ]
  },
  {
   "cell_type": "code",
   "execution_count": 91,
   "id": "54e38dab-2f8a-40f5-b9e5-3b7168d932ba",
   "metadata": {},
   "outputs": [],
   "source": [
    "# 타이타닉 데이터에서 성별(sex)과 생존여부(survived) 변수간 독립성 검정을 실시하시오."
   ]
  },
  {
   "cell_type": "code",
   "execution_count": 92,
   "id": "4e62076a-90aa-472d-929a-006f8a5228f3",
   "metadata": {},
   "outputs": [
    {
     "name": "stdout",
     "output_type": "stream",
     "text": [
      "<class 'pandas.core.frame.DataFrame'>\n",
      "RangeIndex: 891 entries, 0 to 890\n",
      "Data columns (total 15 columns):\n",
      " #   Column       Non-Null Count  Dtype   \n",
      "---  ------       --------------  -----   \n",
      " 0   survived     891 non-null    int64   \n",
      " 1   pclass       891 non-null    int64   \n",
      " 2   sex          891 non-null    object  \n",
      " 3   age          714 non-null    float64 \n",
      " 4   sibsp        891 non-null    int64   \n",
      " 5   parch        891 non-null    int64   \n",
      " 6   fare         891 non-null    float64 \n",
      " 7   embarked     889 non-null    object  \n",
      " 8   class        891 non-null    category\n",
      " 9   who          891 non-null    object  \n",
      " 10  adult_male   891 non-null    bool    \n",
      " 11  deck         203 non-null    category\n",
      " 12  embark_town  889 non-null    object  \n",
      " 13  alive        891 non-null    object  \n",
      " 14  alone        891 non-null    bool    \n",
      "dtypes: bool(2), category(2), float64(2), int64(4), object(5)\n",
      "memory usage: 80.7+ KB\n"
     ]
    }
   ],
   "source": [
    "import seaborn as sns\n",
    "df = sns.load_dataset('titanic')\n",
    "df.info()"
   ]
  },
  {
   "cell_type": "code",
   "execution_count": 93,
   "id": "56f5f0dc-4fc9-451c-b990-82f6c6ef2d5c",
   "metadata": {},
   "outputs": [
    {
     "data": {
      "text/html": [
       "<div>\n",
       "<style scoped>\n",
       "    .dataframe tbody tr th:only-of-type {\n",
       "        vertical-align: middle;\n",
       "    }\n",
       "\n",
       "    .dataframe tbody tr th {\n",
       "        vertical-align: top;\n",
       "    }\n",
       "\n",
       "    .dataframe thead th {\n",
       "        text-align: right;\n",
       "    }\n",
       "</style>\n",
       "<table border=\"1\" class=\"dataframe\">\n",
       "  <thead>\n",
       "    <tr style=\"text-align: right;\">\n",
       "      <th></th>\n",
       "      <th>survived</th>\n",
       "      <th>pclass</th>\n",
       "      <th>sex</th>\n",
       "      <th>age</th>\n",
       "      <th>sibsp</th>\n",
       "      <th>parch</th>\n",
       "      <th>fare</th>\n",
       "      <th>embarked</th>\n",
       "      <th>class</th>\n",
       "      <th>who</th>\n",
       "      <th>adult_male</th>\n",
       "      <th>deck</th>\n",
       "      <th>embark_town</th>\n",
       "      <th>alive</th>\n",
       "      <th>alone</th>\n",
       "    </tr>\n",
       "  </thead>\n",
       "  <tbody>\n",
       "    <tr>\n",
       "      <th>0</th>\n",
       "      <td>0</td>\n",
       "      <td>3</td>\n",
       "      <td>male</td>\n",
       "      <td>22.0</td>\n",
       "      <td>1</td>\n",
       "      <td>0</td>\n",
       "      <td>7.2500</td>\n",
       "      <td>S</td>\n",
       "      <td>Third</td>\n",
       "      <td>man</td>\n",
       "      <td>True</td>\n",
       "      <td>NaN</td>\n",
       "      <td>Southampton</td>\n",
       "      <td>no</td>\n",
       "      <td>False</td>\n",
       "    </tr>\n",
       "    <tr>\n",
       "      <th>1</th>\n",
       "      <td>1</td>\n",
       "      <td>1</td>\n",
       "      <td>female</td>\n",
       "      <td>38.0</td>\n",
       "      <td>1</td>\n",
       "      <td>0</td>\n",
       "      <td>71.2833</td>\n",
       "      <td>C</td>\n",
       "      <td>First</td>\n",
       "      <td>woman</td>\n",
       "      <td>False</td>\n",
       "      <td>C</td>\n",
       "      <td>Cherbourg</td>\n",
       "      <td>yes</td>\n",
       "      <td>False</td>\n",
       "    </tr>\n",
       "    <tr>\n",
       "      <th>2</th>\n",
       "      <td>1</td>\n",
       "      <td>3</td>\n",
       "      <td>female</td>\n",
       "      <td>26.0</td>\n",
       "      <td>0</td>\n",
       "      <td>0</td>\n",
       "      <td>7.9250</td>\n",
       "      <td>S</td>\n",
       "      <td>Third</td>\n",
       "      <td>woman</td>\n",
       "      <td>False</td>\n",
       "      <td>NaN</td>\n",
       "      <td>Southampton</td>\n",
       "      <td>yes</td>\n",
       "      <td>True</td>\n",
       "    </tr>\n",
       "    <tr>\n",
       "      <th>3</th>\n",
       "      <td>1</td>\n",
       "      <td>1</td>\n",
       "      <td>female</td>\n",
       "      <td>35.0</td>\n",
       "      <td>1</td>\n",
       "      <td>0</td>\n",
       "      <td>53.1000</td>\n",
       "      <td>S</td>\n",
       "      <td>First</td>\n",
       "      <td>woman</td>\n",
       "      <td>False</td>\n",
       "      <td>C</td>\n",
       "      <td>Southampton</td>\n",
       "      <td>yes</td>\n",
       "      <td>False</td>\n",
       "    </tr>\n",
       "    <tr>\n",
       "      <th>4</th>\n",
       "      <td>0</td>\n",
       "      <td>3</td>\n",
       "      <td>male</td>\n",
       "      <td>35.0</td>\n",
       "      <td>0</td>\n",
       "      <td>0</td>\n",
       "      <td>8.0500</td>\n",
       "      <td>S</td>\n",
       "      <td>Third</td>\n",
       "      <td>man</td>\n",
       "      <td>True</td>\n",
       "      <td>NaN</td>\n",
       "      <td>Southampton</td>\n",
       "      <td>no</td>\n",
       "      <td>True</td>\n",
       "    </tr>\n",
       "  </tbody>\n",
       "</table>\n",
       "</div>"
      ],
      "text/plain": [
       "   survived  pclass     sex   age  sibsp  parch     fare embarked  class  \\\n",
       "0         0       3    male  22.0      1      0   7.2500        S  Third   \n",
       "1         1       1  female  38.0      1      0  71.2833        C  First   \n",
       "2         1       3  female  26.0      0      0   7.9250        S  Third   \n",
       "3         1       1  female  35.0      1      0  53.1000        S  First   \n",
       "4         0       3    male  35.0      0      0   8.0500        S  Third   \n",
       "\n",
       "     who  adult_male deck  embark_town alive  alone  \n",
       "0    man        True  NaN  Southampton    no  False  \n",
       "1  woman       False    C    Cherbourg   yes  False  \n",
       "2  woman       False  NaN  Southampton   yes   True  \n",
       "3  woman       False    C  Southampton   yes  False  \n",
       "4    man        True  NaN  Southampton    no   True  "
      ]
     },
     "execution_count": 93,
     "metadata": {},
     "output_type": "execute_result"
    }
   ],
   "source": [
    "df.head()"
   ]
  },
  {
   "cell_type": "code",
   "execution_count": 94,
   "id": "529195ef-02fb-4217-bc3b-1b9ab0d8bdd5",
   "metadata": {},
   "outputs": [
    {
     "name": "stdout",
     "output_type": "stream",
     "text": [
      "survived    0    1\n",
      "sex               \n",
      "female     81  233\n",
      "male      468  109\n"
     ]
    }
   ],
   "source": [
    "table = pd.crosstab(index=df['sex'], columns=df['survived'])\n",
    "print(table)"
   ]
  },
  {
   "cell_type": "code",
   "execution_count": 95,
   "id": "a0a7e7d1-c275-4b65-943e-68403d74822c",
   "metadata": {},
   "outputs": [
    {
     "name": "stdout",
     "output_type": "stream",
     "text": [
      "Chi2ContingencyResult(statistic=260.71702016732104, pvalue=1.1973570627755645e-58, dof=1, expected_freq=array([[193.47474747, 120.52525253],\n",
      "       [355.52525253, 221.47474747]]))\n"
     ]
    }
   ],
   "source": [
    "# 1. 가설설정\n",
    "# H0 : 성별과 생존여부는 영향을 주지 않는다. (독립이다)\n",
    "# H1 : 성별과 생존여부는 서로 영향을 준다. (독립이 아니다)\n",
    "# 2. 유의수준 확인 : 유의수준 5%로 확인\n",
    "# 3. 검정실시\n",
    "print(chi2_contingency(table))"
   ]
  },
  {
   "cell_type": "code",
   "execution_count": 96,
   "id": "f0910023-54bd-4e65-b6c9-180c84af5129",
   "metadata": {},
   "outputs": [],
   "source": [
    "# 4. 귀무가설 기각여부 결정 (채택/기각)\n",
    "# p-value 가 0.05보다 작으므로 귀무가설 기각 , 대립가설 채택\n",
    "# 즉, 성별과 생존여부는 서로 영향을 준다\n",
    "# 답 : 기각"
   ]
  },
  {
   "cell_type": "code",
   "execution_count": 97,
   "id": "fa0a8f1e-a540-466f-8a02-16643e927971",
   "metadata": {},
   "outputs": [
    {
     "name": "stdout",
     "output_type": "stream",
     "text": [
      "          0    1\n",
      "female  160  160\n",
      "male    250  220\n"
     ]
    }
   ],
   "source": [
    "# 임의 데이터 생성\n",
    "sex, survived = [160,160], [250,220]\n",
    "table = pd.DataFrame([sex,survived], columns=['0','1'], index=['female','male'])\n",
    "print(table)"
   ]
  },
  {
   "cell_type": "code",
   "execution_count": 98,
   "id": "7adcb759-b8d0-4491-b658-6b35e7461f9a",
   "metadata": {},
   "outputs": [
    {
     "name": "stdout",
     "output_type": "stream",
     "text": [
      "0.6541895872879862\n",
      "0.41861876333789727\n",
      "1\n",
      "[[166.08 153.92]\n",
      " [243.92 226.08]]\n"
     ]
    }
   ],
   "source": [
    "# 3. 검정실시\n",
    "statistic, pvalue, dof, expected = chi2_contingency(table)\n",
    "print(statistic)\n",
    "print(pvalue)\n",
    "print(dof)\n",
    "print(np.round(expected, 2))"
   ]
  },
  {
   "cell_type": "code",
   "execution_count": 99,
   "id": "e239098b-5000-4f16-a56b-2296ca8df92e",
   "metadata": {},
   "outputs": [],
   "source": [
    "# 4. 귀무가설 기각여부 결정(채택/기각)\n",
    "# p-value 값이 0.05보다 크기 때문에 귀무가설을 채택한다.\n",
    "# 즉, 성별과 생존여부는 서로 관련이 없다고 할 수 있다.\n",
    "# 답 : 채택"
   ]
  },
  {
   "cell_type": "markdown",
   "id": "0e8bbec5-39ed-4ca4-ad0e-ddc6e748590b",
   "metadata": {},
   "source": [
    "## 다중회귀분석 및 상관분석"
   ]
  },
  {
   "cell_type": "code",
   "execution_count": 100,
   "id": "f5f7209f-b0ea-48a5-a10e-4d7a4af16b0d",
   "metadata": {},
   "outputs": [],
   "source": [
    "# 다중회귀분석\n",
    "###############\t\t실기환경\t복사\t영역\t\t###############\n",
    " #\t데이터\t불러오기\n",
    "import\tpandas\tas\tpd\n",
    "import\tnumpy\tas\tnp\n",
    "#\t실기\t시험\t데이터셋으로\t셋팅하기\t(수정금지)\n",
    "from\tsklearn.datasets\timport\tload_diabetes\n",
    " #\tdiabetes\t데이터셋\t로드\n",
    "diabetes\t=\tload_diabetes()\n",
    "x\t=\tpd.DataFrame(diabetes.data,\tcolumns=diabetes.feature_names)\n",
    "y\t=\tpd.DataFrame(diabetes.target)\n",
    "y.columns\t=\t['target']\n",
    " ###############\t\t실기환경\t복사\t영역\t\t###############"
   ]
  },
  {
   "cell_type": "code",
   "execution_count": 101,
   "id": "4dc65d96-6816-4376-92a3-321c4e8fcd89",
   "metadata": {},
   "outputs": [],
   "source": [
    "# 1. sklearn 라이브러리 활용\n",
    "import pandas as pd\n",
    "import numpy as np\n",
    "from sklearn.linear_model import LinearRegression"
   ]
  },
  {
   "cell_type": "code",
   "execution_count": 102,
   "id": "b1921179-a0e0-411b-ad24-a5e04a5933db",
   "metadata": {},
   "outputs": [
    {
     "name": "stdout",
     "output_type": "stream",
     "text": [
      "        age       sex       bmi\n",
      "0  0.038076  0.050680  0.061696\n",
      "1 -0.001882 -0.044642 -0.051474\n",
      "2  0.085299  0.050680  0.044451\n",
      "3 -0.089063 -0.044642 -0.011595\n",
      "4  0.005383 -0.044642 -0.036385\n",
      "   target\n",
      "0   151.0\n",
      "1    75.0\n",
      "2   141.0\n",
      "3   206.0\n",
      "4   135.0\n"
     ]
    }
   ],
   "source": [
    "# 독립변수와 종속변수 설정\n",
    "x = x[['age','sex','bmi']]\n",
    "print(x.head())\n",
    "print(y.head())"
   ]
  },
  {
   "cell_type": "code",
   "execution_count": 103,
   "id": "c6115cbf-9279-4f87-866a-c8daa7207197",
   "metadata": {},
   "outputs": [],
   "source": [
    "# 회귀식 : y = b0 + b1x1 + b2x2 +b3x3\n",
    "# (x1 = age, x2 = sex, x3 = bmi)"
   ]
  },
  {
   "cell_type": "code",
   "execution_count": 104,
   "id": "e52e1152-ec2a-4cf1-b1fe-ebb0b23ba8dc",
   "metadata": {},
   "outputs": [
    {
     "data": {
      "text/html": [
       "<style>#sk-container-id-1 {\n",
       "  /* Definition of color scheme common for light and dark mode */\n",
       "  --sklearn-color-text: black;\n",
       "  --sklearn-color-line: gray;\n",
       "  /* Definition of color scheme for unfitted estimators */\n",
       "  --sklearn-color-unfitted-level-0: #fff5e6;\n",
       "  --sklearn-color-unfitted-level-1: #f6e4d2;\n",
       "  --sklearn-color-unfitted-level-2: #ffe0b3;\n",
       "  --sklearn-color-unfitted-level-3: chocolate;\n",
       "  /* Definition of color scheme for fitted estimators */\n",
       "  --sklearn-color-fitted-level-0: #f0f8ff;\n",
       "  --sklearn-color-fitted-level-1: #d4ebff;\n",
       "  --sklearn-color-fitted-level-2: #b3dbfd;\n",
       "  --sklearn-color-fitted-level-3: cornflowerblue;\n",
       "\n",
       "  /* Specific color for light theme */\n",
       "  --sklearn-color-text-on-default-background: var(--sg-text-color, var(--theme-code-foreground, var(--jp-content-font-color1, black)));\n",
       "  --sklearn-color-background: var(--sg-background-color, var(--theme-background, var(--jp-layout-color0, white)));\n",
       "  --sklearn-color-border-box: var(--sg-text-color, var(--theme-code-foreground, var(--jp-content-font-color1, black)));\n",
       "  --sklearn-color-icon: #696969;\n",
       "\n",
       "  @media (prefers-color-scheme: dark) {\n",
       "    /* Redefinition of color scheme for dark theme */\n",
       "    --sklearn-color-text-on-default-background: var(--sg-text-color, var(--theme-code-foreground, var(--jp-content-font-color1, white)));\n",
       "    --sklearn-color-background: var(--sg-background-color, var(--theme-background, var(--jp-layout-color0, #111)));\n",
       "    --sklearn-color-border-box: var(--sg-text-color, var(--theme-code-foreground, var(--jp-content-font-color1, white)));\n",
       "    --sklearn-color-icon: #878787;\n",
       "  }\n",
       "}\n",
       "\n",
       "#sk-container-id-1 {\n",
       "  color: var(--sklearn-color-text);\n",
       "}\n",
       "\n",
       "#sk-container-id-1 pre {\n",
       "  padding: 0;\n",
       "}\n",
       "\n",
       "#sk-container-id-1 input.sk-hidden--visually {\n",
       "  border: 0;\n",
       "  clip: rect(1px 1px 1px 1px);\n",
       "  clip: rect(1px, 1px, 1px, 1px);\n",
       "  height: 1px;\n",
       "  margin: -1px;\n",
       "  overflow: hidden;\n",
       "  padding: 0;\n",
       "  position: absolute;\n",
       "  width: 1px;\n",
       "}\n",
       "\n",
       "#sk-container-id-1 div.sk-dashed-wrapped {\n",
       "  border: 1px dashed var(--sklearn-color-line);\n",
       "  margin: 0 0.4em 0.5em 0.4em;\n",
       "  box-sizing: border-box;\n",
       "  padding-bottom: 0.4em;\n",
       "  background-color: var(--sklearn-color-background);\n",
       "}\n",
       "\n",
       "#sk-container-id-1 div.sk-container {\n",
       "  /* jupyter's `normalize.less` sets `[hidden] { display: none; }`\n",
       "     but bootstrap.min.css set `[hidden] { display: none !important; }`\n",
       "     so we also need the `!important` here to be able to override the\n",
       "     default hidden behavior on the sphinx rendered scikit-learn.org.\n",
       "     See: https://github.com/scikit-learn/scikit-learn/issues/21755 */\n",
       "  display: inline-block !important;\n",
       "  position: relative;\n",
       "}\n",
       "\n",
       "#sk-container-id-1 div.sk-text-repr-fallback {\n",
       "  display: none;\n",
       "}\n",
       "\n",
       "div.sk-parallel-item,\n",
       "div.sk-serial,\n",
       "div.sk-item {\n",
       "  /* draw centered vertical line to link estimators */\n",
       "  background-image: linear-gradient(var(--sklearn-color-text-on-default-background), var(--sklearn-color-text-on-default-background));\n",
       "  background-size: 2px 100%;\n",
       "  background-repeat: no-repeat;\n",
       "  background-position: center center;\n",
       "}\n",
       "\n",
       "/* Parallel-specific style estimator block */\n",
       "\n",
       "#sk-container-id-1 div.sk-parallel-item::after {\n",
       "  content: \"\";\n",
       "  width: 100%;\n",
       "  border-bottom: 2px solid var(--sklearn-color-text-on-default-background);\n",
       "  flex-grow: 1;\n",
       "}\n",
       "\n",
       "#sk-container-id-1 div.sk-parallel {\n",
       "  display: flex;\n",
       "  align-items: stretch;\n",
       "  justify-content: center;\n",
       "  background-color: var(--sklearn-color-background);\n",
       "  position: relative;\n",
       "}\n",
       "\n",
       "#sk-container-id-1 div.sk-parallel-item {\n",
       "  display: flex;\n",
       "  flex-direction: column;\n",
       "}\n",
       "\n",
       "#sk-container-id-1 div.sk-parallel-item:first-child::after {\n",
       "  align-self: flex-end;\n",
       "  width: 50%;\n",
       "}\n",
       "\n",
       "#sk-container-id-1 div.sk-parallel-item:last-child::after {\n",
       "  align-self: flex-start;\n",
       "  width: 50%;\n",
       "}\n",
       "\n",
       "#sk-container-id-1 div.sk-parallel-item:only-child::after {\n",
       "  width: 0;\n",
       "}\n",
       "\n",
       "/* Serial-specific style estimator block */\n",
       "\n",
       "#sk-container-id-1 div.sk-serial {\n",
       "  display: flex;\n",
       "  flex-direction: column;\n",
       "  align-items: center;\n",
       "  background-color: var(--sklearn-color-background);\n",
       "  padding-right: 1em;\n",
       "  padding-left: 1em;\n",
       "}\n",
       "\n",
       "\n",
       "/* Toggleable style: style used for estimator/Pipeline/ColumnTransformer box that is\n",
       "clickable and can be expanded/collapsed.\n",
       "- Pipeline and ColumnTransformer use this feature and define the default style\n",
       "- Estimators will overwrite some part of the style using the `sk-estimator` class\n",
       "*/\n",
       "\n",
       "/* Pipeline and ColumnTransformer style (default) */\n",
       "\n",
       "#sk-container-id-1 div.sk-toggleable {\n",
       "  /* Default theme specific background. It is overwritten whether we have a\n",
       "  specific estimator or a Pipeline/ColumnTransformer */\n",
       "  background-color: var(--sklearn-color-background);\n",
       "}\n",
       "\n",
       "/* Toggleable label */\n",
       "#sk-container-id-1 label.sk-toggleable__label {\n",
       "  cursor: pointer;\n",
       "  display: block;\n",
       "  width: 100%;\n",
       "  margin-bottom: 0;\n",
       "  padding: 0.5em;\n",
       "  box-sizing: border-box;\n",
       "  text-align: center;\n",
       "}\n",
       "\n",
       "#sk-container-id-1 label.sk-toggleable__label-arrow:before {\n",
       "  /* Arrow on the left of the label */\n",
       "  content: \"▸\";\n",
       "  float: left;\n",
       "  margin-right: 0.25em;\n",
       "  color: var(--sklearn-color-icon);\n",
       "}\n",
       "\n",
       "#sk-container-id-1 label.sk-toggleable__label-arrow:hover:before {\n",
       "  color: var(--sklearn-color-text);\n",
       "}\n",
       "\n",
       "/* Toggleable content - dropdown */\n",
       "\n",
       "#sk-container-id-1 div.sk-toggleable__content {\n",
       "  max-height: 0;\n",
       "  max-width: 0;\n",
       "  overflow: hidden;\n",
       "  text-align: left;\n",
       "  /* unfitted */\n",
       "  background-color: var(--sklearn-color-unfitted-level-0);\n",
       "}\n",
       "\n",
       "#sk-container-id-1 div.sk-toggleable__content.fitted {\n",
       "  /* fitted */\n",
       "  background-color: var(--sklearn-color-fitted-level-0);\n",
       "}\n",
       "\n",
       "#sk-container-id-1 div.sk-toggleable__content pre {\n",
       "  margin: 0.2em;\n",
       "  border-radius: 0.25em;\n",
       "  color: var(--sklearn-color-text);\n",
       "  /* unfitted */\n",
       "  background-color: var(--sklearn-color-unfitted-level-0);\n",
       "}\n",
       "\n",
       "#sk-container-id-1 div.sk-toggleable__content.fitted pre {\n",
       "  /* unfitted */\n",
       "  background-color: var(--sklearn-color-fitted-level-0);\n",
       "}\n",
       "\n",
       "#sk-container-id-1 input.sk-toggleable__control:checked~div.sk-toggleable__content {\n",
       "  /* Expand drop-down */\n",
       "  max-height: 200px;\n",
       "  max-width: 100%;\n",
       "  overflow: auto;\n",
       "}\n",
       "\n",
       "#sk-container-id-1 input.sk-toggleable__control:checked~label.sk-toggleable__label-arrow:before {\n",
       "  content: \"▾\";\n",
       "}\n",
       "\n",
       "/* Pipeline/ColumnTransformer-specific style */\n",
       "\n",
       "#sk-container-id-1 div.sk-label input.sk-toggleable__control:checked~label.sk-toggleable__label {\n",
       "  color: var(--sklearn-color-text);\n",
       "  background-color: var(--sklearn-color-unfitted-level-2);\n",
       "}\n",
       "\n",
       "#sk-container-id-1 div.sk-label.fitted input.sk-toggleable__control:checked~label.sk-toggleable__label {\n",
       "  background-color: var(--sklearn-color-fitted-level-2);\n",
       "}\n",
       "\n",
       "/* Estimator-specific style */\n",
       "\n",
       "/* Colorize estimator box */\n",
       "#sk-container-id-1 div.sk-estimator input.sk-toggleable__control:checked~label.sk-toggleable__label {\n",
       "  /* unfitted */\n",
       "  background-color: var(--sklearn-color-unfitted-level-2);\n",
       "}\n",
       "\n",
       "#sk-container-id-1 div.sk-estimator.fitted input.sk-toggleable__control:checked~label.sk-toggleable__label {\n",
       "  /* fitted */\n",
       "  background-color: var(--sklearn-color-fitted-level-2);\n",
       "}\n",
       "\n",
       "#sk-container-id-1 div.sk-label label.sk-toggleable__label,\n",
       "#sk-container-id-1 div.sk-label label {\n",
       "  /* The background is the default theme color */\n",
       "  color: var(--sklearn-color-text-on-default-background);\n",
       "}\n",
       "\n",
       "/* On hover, darken the color of the background */\n",
       "#sk-container-id-1 div.sk-label:hover label.sk-toggleable__label {\n",
       "  color: var(--sklearn-color-text);\n",
       "  background-color: var(--sklearn-color-unfitted-level-2);\n",
       "}\n",
       "\n",
       "/* Label box, darken color on hover, fitted */\n",
       "#sk-container-id-1 div.sk-label.fitted:hover label.sk-toggleable__label.fitted {\n",
       "  color: var(--sklearn-color-text);\n",
       "  background-color: var(--sklearn-color-fitted-level-2);\n",
       "}\n",
       "\n",
       "/* Estimator label */\n",
       "\n",
       "#sk-container-id-1 div.sk-label label {\n",
       "  font-family: monospace;\n",
       "  font-weight: bold;\n",
       "  display: inline-block;\n",
       "  line-height: 1.2em;\n",
       "}\n",
       "\n",
       "#sk-container-id-1 div.sk-label-container {\n",
       "  text-align: center;\n",
       "}\n",
       "\n",
       "/* Estimator-specific */\n",
       "#sk-container-id-1 div.sk-estimator {\n",
       "  font-family: monospace;\n",
       "  border: 1px dotted var(--sklearn-color-border-box);\n",
       "  border-radius: 0.25em;\n",
       "  box-sizing: border-box;\n",
       "  margin-bottom: 0.5em;\n",
       "  /* unfitted */\n",
       "  background-color: var(--sklearn-color-unfitted-level-0);\n",
       "}\n",
       "\n",
       "#sk-container-id-1 div.sk-estimator.fitted {\n",
       "  /* fitted */\n",
       "  background-color: var(--sklearn-color-fitted-level-0);\n",
       "}\n",
       "\n",
       "/* on hover */\n",
       "#sk-container-id-1 div.sk-estimator:hover {\n",
       "  /* unfitted */\n",
       "  background-color: var(--sklearn-color-unfitted-level-2);\n",
       "}\n",
       "\n",
       "#sk-container-id-1 div.sk-estimator.fitted:hover {\n",
       "  /* fitted */\n",
       "  background-color: var(--sklearn-color-fitted-level-2);\n",
       "}\n",
       "\n",
       "/* Specification for estimator info (e.g. \"i\" and \"?\") */\n",
       "\n",
       "/* Common style for \"i\" and \"?\" */\n",
       "\n",
       ".sk-estimator-doc-link,\n",
       "a:link.sk-estimator-doc-link,\n",
       "a:visited.sk-estimator-doc-link {\n",
       "  float: right;\n",
       "  font-size: smaller;\n",
       "  line-height: 1em;\n",
       "  font-family: monospace;\n",
       "  background-color: var(--sklearn-color-background);\n",
       "  border-radius: 1em;\n",
       "  height: 1em;\n",
       "  width: 1em;\n",
       "  text-decoration: none !important;\n",
       "  margin-left: 1ex;\n",
       "  /* unfitted */\n",
       "  border: var(--sklearn-color-unfitted-level-1) 1pt solid;\n",
       "  color: var(--sklearn-color-unfitted-level-1);\n",
       "}\n",
       "\n",
       ".sk-estimator-doc-link.fitted,\n",
       "a:link.sk-estimator-doc-link.fitted,\n",
       "a:visited.sk-estimator-doc-link.fitted {\n",
       "  /* fitted */\n",
       "  border: var(--sklearn-color-fitted-level-1) 1pt solid;\n",
       "  color: var(--sklearn-color-fitted-level-1);\n",
       "}\n",
       "\n",
       "/* On hover */\n",
       "div.sk-estimator:hover .sk-estimator-doc-link:hover,\n",
       ".sk-estimator-doc-link:hover,\n",
       "div.sk-label-container:hover .sk-estimator-doc-link:hover,\n",
       ".sk-estimator-doc-link:hover {\n",
       "  /* unfitted */\n",
       "  background-color: var(--sklearn-color-unfitted-level-3);\n",
       "  color: var(--sklearn-color-background);\n",
       "  text-decoration: none;\n",
       "}\n",
       "\n",
       "div.sk-estimator.fitted:hover .sk-estimator-doc-link.fitted:hover,\n",
       ".sk-estimator-doc-link.fitted:hover,\n",
       "div.sk-label-container:hover .sk-estimator-doc-link.fitted:hover,\n",
       ".sk-estimator-doc-link.fitted:hover {\n",
       "  /* fitted */\n",
       "  background-color: var(--sklearn-color-fitted-level-3);\n",
       "  color: var(--sklearn-color-background);\n",
       "  text-decoration: none;\n",
       "}\n",
       "\n",
       "/* Span, style for the box shown on hovering the info icon */\n",
       ".sk-estimator-doc-link span {\n",
       "  display: none;\n",
       "  z-index: 9999;\n",
       "  position: relative;\n",
       "  font-weight: normal;\n",
       "  right: .2ex;\n",
       "  padding: .5ex;\n",
       "  margin: .5ex;\n",
       "  width: min-content;\n",
       "  min-width: 20ex;\n",
       "  max-width: 50ex;\n",
       "  color: var(--sklearn-color-text);\n",
       "  box-shadow: 2pt 2pt 4pt #999;\n",
       "  /* unfitted */\n",
       "  background: var(--sklearn-color-unfitted-level-0);\n",
       "  border: .5pt solid var(--sklearn-color-unfitted-level-3);\n",
       "}\n",
       "\n",
       ".sk-estimator-doc-link.fitted span {\n",
       "  /* fitted */\n",
       "  background: var(--sklearn-color-fitted-level-0);\n",
       "  border: var(--sklearn-color-fitted-level-3);\n",
       "}\n",
       "\n",
       ".sk-estimator-doc-link:hover span {\n",
       "  display: block;\n",
       "}\n",
       "\n",
       "/* \"?\"-specific style due to the `<a>` HTML tag */\n",
       "\n",
       "#sk-container-id-1 a.estimator_doc_link {\n",
       "  float: right;\n",
       "  font-size: 1rem;\n",
       "  line-height: 1em;\n",
       "  font-family: monospace;\n",
       "  background-color: var(--sklearn-color-background);\n",
       "  border-radius: 1rem;\n",
       "  height: 1rem;\n",
       "  width: 1rem;\n",
       "  text-decoration: none;\n",
       "  /* unfitted */\n",
       "  color: var(--sklearn-color-unfitted-level-1);\n",
       "  border: var(--sklearn-color-unfitted-level-1) 1pt solid;\n",
       "}\n",
       "\n",
       "#sk-container-id-1 a.estimator_doc_link.fitted {\n",
       "  /* fitted */\n",
       "  border: var(--sklearn-color-fitted-level-1) 1pt solid;\n",
       "  color: var(--sklearn-color-fitted-level-1);\n",
       "}\n",
       "\n",
       "/* On hover */\n",
       "#sk-container-id-1 a.estimator_doc_link:hover {\n",
       "  /* unfitted */\n",
       "  background-color: var(--sklearn-color-unfitted-level-3);\n",
       "  color: var(--sklearn-color-background);\n",
       "  text-decoration: none;\n",
       "}\n",
       "\n",
       "#sk-container-id-1 a.estimator_doc_link.fitted:hover {\n",
       "  /* fitted */\n",
       "  background-color: var(--sklearn-color-fitted-level-3);\n",
       "}\n",
       "</style><div id=\"sk-container-id-1\" class=\"sk-top-container\"><div class=\"sk-text-repr-fallback\"><pre>LinearRegression()</pre><b>In a Jupyter environment, please rerun this cell to show the HTML representation or trust the notebook. <br />On GitHub, the HTML representation is unable to render, please try loading this page with nbviewer.org.</b></div><div class=\"sk-container\" hidden><div class=\"sk-item\"><div class=\"sk-estimator fitted sk-toggleable\"><input class=\"sk-toggleable__control sk-hidden--visually\" id=\"sk-estimator-id-1\" type=\"checkbox\" checked><label for=\"sk-estimator-id-1\" class=\"sk-toggleable__label fitted sk-toggleable__label-arrow fitted\">&nbsp;&nbsp;LinearRegression<a class=\"sk-estimator-doc-link fitted\" rel=\"noreferrer\" target=\"_blank\" href=\"https://scikit-learn.org/1.4/modules/generated/sklearn.linear_model.LinearRegression.html\">?<span>Documentation for LinearRegression</span></a><span class=\"sk-estimator-doc-link fitted\">i<span>Fitted</span></span></label><div class=\"sk-toggleable__content fitted\"><pre>LinearRegression()</pre></div> </div></div></div></div>"
      ],
      "text/plain": [
       "LinearRegression()"
      ]
     },
     "execution_count": 104,
     "metadata": {},
     "output_type": "execute_result"
    }
   ],
   "source": [
    "# 모델링\n",
    "from sklearn.linear_model import LinearRegression\n",
    "model = LinearRegression()\n",
    "model.fit(x, y)"
   ]
  },
  {
   "cell_type": "code",
   "execution_count": 106,
   "id": "23447b5f-c1ef-4da4-9a81-2860dfd26a1c",
   "metadata": {},
   "outputs": [
    {
     "name": "stdout",
     "output_type": "stream",
     "text": [
      "0.35\n"
     ]
    }
   ],
   "source": [
    "# 회귀분석 관련지표 출력\n",
    "# 1. Rsq(결정계수) : model.score(x, y)\n",
    "model.score(x, y)\n",
    "print(round(model.score(x, y), 2))"
   ]
  },
  {
   "cell_type": "code",
   "execution_count": 112,
   "id": "c89ffc33-439b-4c2b-96dd-d37ffec454c7",
   "metadata": {},
   "outputs": [
    {
     "name": "stdout",
     "output_type": "stream",
     "text": [
      "[[138.9  -36.14 926.91]]\n",
      "138.9\n",
      "-36.14\n",
      "926.91\n"
     ]
    }
   ],
   "source": [
    "# 2. 회귀계수 출력 : model.coef_\n",
    "print(np.round(model.coef_, 2)) # 전체 회귀계수\n",
    "print(np.round(model.coef_[0, 0], 2)) # x1의 회귀계수\n",
    "print(np.round(model.coef_[0, 1], 2)) # x2의 회귀계수\n",
    "print(np.round(model.coef_[0, 2], 2)) # x3의 회귀계수"
   ]
  },
  {
   "cell_type": "code",
   "execution_count": 113,
   "id": "a4122218-77f9-4e90-8cf5-07d17740b328",
   "metadata": {},
   "outputs": [
    {
     "name": "stdout",
     "output_type": "stream",
     "text": [
      "[152.13]\n"
     ]
    }
   ],
   "source": [
    "# 3. 회귀계수(절편) : model.intercept_\n",
    "print(np.round(model.intercept_, 2))"
   ]
  },
  {
   "cell_type": "code",
   "execution_count": 114,
   "id": "a8985471-1cc3-47d6-99ef-9f6fa2075fce",
   "metadata": {},
   "outputs": [],
   "source": [
    "# 회귀식 y = 152.13 + 138.9age -36.14sex + 926.91bmi"
   ]
  },
  {
   "cell_type": "code",
   "execution_count": 115,
   "id": "e2c9c92e-2ba6-4702-9a88-d02151d5315c",
   "metadata": {},
   "outputs": [],
   "source": [
    "# 2. statsmodels 라이브러리 사용\n",
    "###############\t\t실기환경\t복사\t영역\t\t###############\n",
    " #\t데이터\t불러오기\n",
    "import\tpandas\tas\tpd\n",
    "import\tnumpy\tas\tnp\n",
    "#\t실기\t시험\t데이터셋으로\t셋팅하기\t(수정금지)\n",
    "from\tsklearn.datasets\timport\tload_diabetes\n",
    " #\tdiabetes\t데이터셋\t로드\n",
    "diabetes\t=\tload_diabetes()\n",
    "x\t=\tpd.DataFrame(diabetes.data,\tcolumns=diabetes.feature_names)\n",
    "y\t=\tpd.DataFrame(diabetes.target)\n",
    "y.columns\t=\t['target']\n",
    " ###############\t\t실기환경\t복사\t영역\t\t###############"
   ]
  },
  {
   "cell_type": "code",
   "execution_count": 116,
   "id": "1daf4ef2-d8f6-43d1-a079-2a3f22bb3b77",
   "metadata": {},
   "outputs": [
    {
     "name": "stdout",
     "output_type": "stream",
     "text": [
      "        age       sex       bmi\n",
      "0  0.038076  0.050680  0.061696\n",
      "1 -0.001882 -0.044642 -0.051474\n",
      "2  0.085299  0.050680  0.044451\n",
      "3 -0.089063 -0.044642 -0.011595\n",
      "4  0.005383 -0.044642 -0.036385\n",
      "0    151.0\n",
      "1     75.0\n",
      "2    141.0\n",
      "3    206.0\n",
      "4    135.0\n",
      "Name: target, dtype: float64\n"
     ]
    }
   ],
   "source": [
    "# statsmodel.fomula 활용\n",
    "import statsmodels.api as sm\n",
    "# 독립변수와 종속변수 설정\n",
    "x = x[['age','sex','bmi']]\n",
    "y = y['target']\n",
    "print(x.head())\n",
    "print(y.head())"
   ]
  },
  {
   "cell_type": "code",
   "execution_count": 117,
   "id": "daa05e38-1797-4bf1-ab72-ad14e73b3001",
   "metadata": {},
   "outputs": [
    {
     "name": "stdout",
     "output_type": "stream",
     "text": [
      "                            OLS Regression Results                            \n",
      "==============================================================================\n",
      "Dep. Variable:                 target   R-squared:                       0.351\n",
      "Model:                            OLS   Adj. R-squared:                  0.346\n",
      "Method:                 Least Squares   F-statistic:                     78.94\n",
      "Date:                Tue, 18 Jun 2024   Prob (F-statistic):           7.77e-41\n",
      "Time:                        22:37:38   Log-Likelihood:                -2451.6\n",
      "No. Observations:                 442   AIC:                             4911.\n",
      "Df Residuals:                     438   BIC:                             4928.\n",
      "Df Model:                           3                                         \n",
      "Covariance Type:            nonrobust                                         \n",
      "==============================================================================\n",
      "                 coef    std err          t      P>|t|      [0.025      0.975]\n",
      "------------------------------------------------------------------------------\n",
      "const        152.1335      2.964     51.321      0.000     146.307     157.960\n",
      "age          138.9039     64.254      2.162      0.031      12.618     265.189\n",
      "sex          -36.1353     63.391     -0.570      0.569    -160.724      88.453\n",
      "bmi          926.9120     63.525     14.591      0.000     802.061    1051.763\n",
      "==============================================================================\n",
      "Omnibus:                       14.687   Durbin-Watson:                   1.851\n",
      "Prob(Omnibus):                  0.001   Jarque-Bera (JB):                8.290\n",
      "Skew:                           0.150   Prob(JB):                       0.0158\n",
      "Kurtosis:                       2.400   Cond. No.                         23.7\n",
      "==============================================================================\n",
      "\n",
      "Notes:\n",
      "[1] Standard Errors assume that the covariance matrix of the errors is correctly specified.\n"
     ]
    }
   ],
   "source": [
    "# 모델링\n",
    "import statsmodels.api as sm\n",
    "\n",
    "x = sm.add_constant(x) # 상수항 추가해줘야 함\n",
    "model = sm.OLS(y, x).fit() # 주의할 것 : y, x 순으로 입력해야 함\n",
    "summary = model.summary()\n",
    "print(summary)"
   ]
  },
  {
   "cell_type": "code",
   "execution_count": 118,
   "id": "78ee86da-77b5-4ee9-9567-950dbcfd8398",
   "metadata": {},
   "outputs": [],
   "source": [
    "# 1. Rsq(결정계수)\n",
    "# r2 = 0.351\n",
    "\n",
    "# 2. 회귀계수\n",
    "# age = 138.9039\n",
    "# sex = -36.1353\n",
    "# bmi = 926.9120\n",
    "\n",
    "# 3. 회귀계수(절편)\n",
    "# const = 152.1335\n",
    "\n",
    "# 4. 회귀식 p-value\n",
    "# pvalue = 7.77e-41"
   ]
  },
  {
   "cell_type": "code",
   "execution_count": 119,
   "id": "b2ebd0d7-21ed-4400-a40e-9533ed338952",
   "metadata": {},
   "outputs": [],
   "source": [
    "# 두 라이브러리 모두 같은 결과값을 출력\n",
    "# sklearn y = 152.13 + 138.9age -36.14sex + 926.91bmi\n",
    "# statsmodel y = 152.13 + 138.9age -36.14sex + 926.91bmi"
   ]
  },
  {
   "cell_type": "markdown",
   "id": "672b79d2-5b7d-4927-a7f8-741af92654e0",
   "metadata": {},
   "source": [
    "## 상관분석"
   ]
  },
  {
   "cell_type": "code",
   "execution_count": 120,
   "id": "492750c4-dac0-477f-b152-6005092d9663",
   "metadata": {},
   "outputs": [],
   "source": [
    "###############\t\t실기환경\t복사\t영역\t\t###############\n",
    " #\t데이터\t불러오기\n",
    "import\tpandas\tas\tpd\n",
    "import\tnumpy\tas\tnp\n",
    "#\t실기\t시험\t데이터셋으로\t셋팅하기\t(수정금지)\n",
    "from\tsklearn.datasets\timport\tload_diabetes\n",
    " #\tdiabetes\t데이터셋\t로드\n",
    "diabetes\t=\tload_diabetes()\n",
    "x\t=\tpd.DataFrame(diabetes.data,\tcolumns=diabetes.feature_names)\n",
    "y\t=\tpd.DataFrame(diabetes.target)\n",
    "y.columns\t=\t['target']\n",
    " ###############\t\t실기환경\t복사\t영역\t\t###############"
   ]
  },
  {
   "cell_type": "code",
   "execution_count": 121,
   "id": "59c4254b-8fe9-418f-9c2c-7f4e475f013a",
   "metadata": {},
   "outputs": [
    {
     "name": "stdout",
     "output_type": "stream",
     "text": [
      "0    0.061696\n",
      "1   -0.051474\n",
      "2    0.044451\n",
      "3   -0.011595\n",
      "4   -0.036385\n",
      "Name: bmi, dtype: float64\n",
      "0    151.0\n",
      "1     75.0\n",
      "2    141.0\n",
      "3    206.0\n",
      "4    135.0\n",
      "Name: target, dtype: float64\n"
     ]
    }
   ],
   "source": [
    "# 상관분석을 할 2가지 변수 설정\n",
    "x = x['bmi']\n",
    "y = y['target']\n",
    "print(x.head())\n",
    "print(y.head())"
   ]
  },
  {
   "cell_type": "code",
   "execution_count": 123,
   "id": "5110e2dd-79b5-474b-9960-bd4c967a9ea2",
   "metadata": {},
   "outputs": [
    {
     "name": "stdout",
     "output_type": "stream",
     "text": [
      "0.59\n",
      "0.0\n",
      "15.19\n"
     ]
    }
   ],
   "source": [
    "# 라이브러리 불러오기\n",
    "from scipy.stats import pearsonr\n",
    "\n",
    "# 상관계수에 대한 검정실시\n",
    "r, pvalue = pearsonr(x, y)\n",
    "\n",
    "# 가설설정\n",
    "# H0 : 두 변수간 선형관계가 존재하지 않는다.\n",
    "# H1 : 두 변수간 선형관계가 존재한다.\n",
    "# p = 0\n",
    "# p != 0\n",
    "\n",
    "# 1. 상관계수\n",
    "print(round(r, 2))\n",
    "\n",
    "# 2. p-value\n",
    "print(round(pvalue, 3))\n",
    "\n",
    "# 3. 검정통계량\n",
    "# 통계량은 별도로 구해야 함 (T = r*root(n-2)/root(1-r^2))\n",
    "# r = 상관계수\n",
    "# n = 데이터의 개수\n",
    "n = len(x)\n",
    "r2 = r**2\n",
    "statistic = r*np.sqrt((n-2)/(1-r2))\n",
    "\n",
    "print(round(statistic, 2))"
   ]
  },
  {
   "cell_type": "code",
   "execution_count": 124,
   "id": "58ab7945-d0f4-4ceb-bb02-dd32c83c0f55",
   "metadata": {},
   "outputs": [],
   "source": [
    "# 4. 귀무가설 기각여부 결정(채택/기각)\n",
    "# p-value 값이 0.05보다 작기 때문에 귀무가설을 기각한다. (대립가설채택)\n",
    "# 즉, 두 변수간 선형관계가 존재한다고 할 수 있다.(상관계수가 0이 아니다)\n",
    "# 답 : 기각"
   ]
  },
  {
   "cell_type": "markdown",
   "id": "1a44a508-5556-4081-bfd9-510ebb3a4732",
   "metadata": {},
   "source": [
    "## 로지스틱 회귀분석"
   ]
  },
  {
   "cell_type": "code",
   "execution_count": null,
   "id": "ad47a77a-039a-4185-97d7-2c2cfeb177eb",
   "metadata": {},
   "outputs": [],
   "source": [
    "# 타이타닉 데이터 불러오기 (생존자 예측 데이터)\n"
   ]
  },
  {
   "cell_type": "code",
   "execution_count": 125,
   "id": "5ad657ef-61e5-4244-bb85-177e5ed7fc6e",
   "metadata": {},
   "outputs": [],
   "source": [
    "###############\t\t복사\t영역\t\t###############\n",
    " #\t데이터\t불러오기\n",
    "import\tpandas\tas\tpd\n",
    "import\tnumpy\tas\tnp\n",
    " #\tSeaborn의\t내장\t타이타닉\t데이터셋을\t불러옵니다.\n",
    "import\tseaborn\tas\tsns\n",
    "df\t=\tsns.load_dataset('titanic')\n",
    " ###############\t\t복사\t영역\t\t###############"
   ]
  },
  {
   "cell_type": "code",
   "execution_count": 126,
   "id": "1324e125-4ca7-4e3c-8908-28c0eb827b88",
   "metadata": {},
   "outputs": [
    {
     "name": "stdout",
     "output_type": "stream",
     "text": [
      "   survived  pclass     sex   age  sibsp  parch     fare embarked  class  \\\n",
      "0         0       3    male  22.0      1      0   7.2500        S  Third   \n",
      "1         1       1  female  38.0      1      0  71.2833        C  First   \n",
      "2         1       3  female  26.0      0      0   7.9250        S  Third   \n",
      "3         1       1  female  35.0      1      0  53.1000        S  First   \n",
      "4         0       3    male  35.0      0      0   8.0500        S  Third   \n",
      "\n",
      "     who  adult_male deck  embark_town alive  alone  \n",
      "0    man        True  NaN  Southampton    no  False  \n",
      "1  woman       False    C    Cherbourg   yes  False  \n",
      "2  woman       False  NaN  Southampton   yes   True  \n",
      "3  woman       False    C  Southampton   yes  False  \n",
      "4    man        True  NaN  Southampton    no   True  \n"
     ]
    }
   ],
   "source": [
    "print(df.head())"
   ]
  },
  {
   "cell_type": "code",
   "execution_count": 127,
   "id": "1c842201-9470-453f-a186-46a0c7bea20e",
   "metadata": {},
   "outputs": [
    {
     "name": "stdout",
     "output_type": "stream",
     "text": [
      "   survived     sex  sibsp     fare\n",
      "0         0    male      1   7.2500\n",
      "1         1  female      1  71.2833\n",
      "2         1  female      0   7.9250\n",
      "3         1  female      1  53.1000\n",
      "4         0    male      0   8.0500\n"
     ]
    }
   ],
   "source": [
    "# 분석 데이터 설정\n",
    "df = df[['survived', 'sex', 'sibsp', 'fare']] # sex:성별, sibsp:탑승한 부모 및 자녀 수, fare:요금\n",
    "print(df.head())"
   ]
  },
  {
   "cell_type": "code",
   "execution_count": 128,
   "id": "adf3c01b-384d-4980-b926-8e87209e26b4",
   "metadata": {},
   "outputs": [],
   "source": [
    "# 회귀식 : P(1일 확률) = 1 / (1 + exp^(-f(x)))\n",
    "# f(x) = b0 + b1x1 + b2x2 + b3x3\n",
    "# ln(P/1-P) = b0 + b1x1 + b2x2 + b3x3\n",
    "# (P=생존할확률, x1=sex, x2=sibsp, x3=fare)"
   ]
  },
  {
   "cell_type": "code",
   "execution_count": 129,
   "id": "8935ebfe-494c-4aba-8845-e909d7194eb0",
   "metadata": {},
   "outputs": [
    {
     "name": "stdout",
     "output_type": "stream",
     "text": [
      "   survived  sex  sibsp     fare\n",
      "0         0    0      1   7.2500\n",
      "1         1    1      1  71.2833\n",
      "2         1    1      0   7.9250\n",
      "3         1    1      1  53.1000\n",
      "4         0    0      0   8.0500\n"
     ]
    }
   ],
   "source": [
    "# 데이터 전처리\n",
    "# 변수처리\n",
    "# 문자형 타입의 데이터의 경우 숫자로 변경해준다\n",
    "# *** 실제 시험에서 지시사항을 따를 것 ***\n",
    "\n",
    "# 성별을 map 함수를 활용해서 각각 1과 0에 할당한다. (여성을 1, 남성을 0)\n",
    "# (실제 시험의 지시 조건에 따를 것)\n",
    "df['sex'] = df['sex'].map({'female':1,\n",
    "                           'male':0})\n",
    "print(df.head())"
   ]
  },
  {
   "cell_type": "code",
   "execution_count": 130,
   "id": "b14b9316-2e4b-4f35-9471-1802a709535e",
   "metadata": {},
   "outputs": [
    {
     "name": "stdout",
     "output_type": "stream",
     "text": [
      "<class 'pandas.core.frame.DataFrame'>\n",
      "RangeIndex: 891 entries, 0 to 890\n",
      "Data columns (total 4 columns):\n",
      " #   Column    Non-Null Count  Dtype  \n",
      "---  ------    --------------  -----  \n",
      " 0   survived  891 non-null    int64  \n",
      " 1   sex       891 non-null    int64  \n",
      " 2   sibsp     891 non-null    int64  \n",
      " 3   fare      891 non-null    float64\n",
      "dtypes: float64(1), int64(3)\n",
      "memory usage: 28.0 KB\n",
      "None\n"
     ]
    }
   ],
   "source": [
    "print(df.info())"
   ]
  },
  {
   "cell_type": "code",
   "execution_count": 131,
   "id": "f092a92c-c23e-48d7-9eef-8f67fefedf03",
   "metadata": {},
   "outputs": [],
   "source": [
    "# 1. sklearn 라이브러리 활용\n",
    "# 독립변수와 종속변수 설정\n",
    "x = df.drop(['survived'], axis=1)\n",
    "y = df['survived']"
   ]
  },
  {
   "cell_type": "code",
   "execution_count": 132,
   "id": "8040bcf6-8832-4012-af80-bbd0329b2927",
   "metadata": {},
   "outputs": [],
   "source": [
    "# (주의) LogisticRegression() 객체 안에 반드시 penalty=None으로 입력해야 함"
   ]
  },
  {
   "cell_type": "code",
   "execution_count": 133,
   "id": "aac3dfbf-6935-465a-ac5f-01ddfdd86afc",
   "metadata": {},
   "outputs": [
    {
     "data": {
      "text/html": [
       "<style>#sk-container-id-2 {\n",
       "  /* Definition of color scheme common for light and dark mode */\n",
       "  --sklearn-color-text: black;\n",
       "  --sklearn-color-line: gray;\n",
       "  /* Definition of color scheme for unfitted estimators */\n",
       "  --sklearn-color-unfitted-level-0: #fff5e6;\n",
       "  --sklearn-color-unfitted-level-1: #f6e4d2;\n",
       "  --sklearn-color-unfitted-level-2: #ffe0b3;\n",
       "  --sklearn-color-unfitted-level-3: chocolate;\n",
       "  /* Definition of color scheme for fitted estimators */\n",
       "  --sklearn-color-fitted-level-0: #f0f8ff;\n",
       "  --sklearn-color-fitted-level-1: #d4ebff;\n",
       "  --sklearn-color-fitted-level-2: #b3dbfd;\n",
       "  --sklearn-color-fitted-level-3: cornflowerblue;\n",
       "\n",
       "  /* Specific color for light theme */\n",
       "  --sklearn-color-text-on-default-background: var(--sg-text-color, var(--theme-code-foreground, var(--jp-content-font-color1, black)));\n",
       "  --sklearn-color-background: var(--sg-background-color, var(--theme-background, var(--jp-layout-color0, white)));\n",
       "  --sklearn-color-border-box: var(--sg-text-color, var(--theme-code-foreground, var(--jp-content-font-color1, black)));\n",
       "  --sklearn-color-icon: #696969;\n",
       "\n",
       "  @media (prefers-color-scheme: dark) {\n",
       "    /* Redefinition of color scheme for dark theme */\n",
       "    --sklearn-color-text-on-default-background: var(--sg-text-color, var(--theme-code-foreground, var(--jp-content-font-color1, white)));\n",
       "    --sklearn-color-background: var(--sg-background-color, var(--theme-background, var(--jp-layout-color0, #111)));\n",
       "    --sklearn-color-border-box: var(--sg-text-color, var(--theme-code-foreground, var(--jp-content-font-color1, white)));\n",
       "    --sklearn-color-icon: #878787;\n",
       "  }\n",
       "}\n",
       "\n",
       "#sk-container-id-2 {\n",
       "  color: var(--sklearn-color-text);\n",
       "}\n",
       "\n",
       "#sk-container-id-2 pre {\n",
       "  padding: 0;\n",
       "}\n",
       "\n",
       "#sk-container-id-2 input.sk-hidden--visually {\n",
       "  border: 0;\n",
       "  clip: rect(1px 1px 1px 1px);\n",
       "  clip: rect(1px, 1px, 1px, 1px);\n",
       "  height: 1px;\n",
       "  margin: -1px;\n",
       "  overflow: hidden;\n",
       "  padding: 0;\n",
       "  position: absolute;\n",
       "  width: 1px;\n",
       "}\n",
       "\n",
       "#sk-container-id-2 div.sk-dashed-wrapped {\n",
       "  border: 1px dashed var(--sklearn-color-line);\n",
       "  margin: 0 0.4em 0.5em 0.4em;\n",
       "  box-sizing: border-box;\n",
       "  padding-bottom: 0.4em;\n",
       "  background-color: var(--sklearn-color-background);\n",
       "}\n",
       "\n",
       "#sk-container-id-2 div.sk-container {\n",
       "  /* jupyter's `normalize.less` sets `[hidden] { display: none; }`\n",
       "     but bootstrap.min.css set `[hidden] { display: none !important; }`\n",
       "     so we also need the `!important` here to be able to override the\n",
       "     default hidden behavior on the sphinx rendered scikit-learn.org.\n",
       "     See: https://github.com/scikit-learn/scikit-learn/issues/21755 */\n",
       "  display: inline-block !important;\n",
       "  position: relative;\n",
       "}\n",
       "\n",
       "#sk-container-id-2 div.sk-text-repr-fallback {\n",
       "  display: none;\n",
       "}\n",
       "\n",
       "div.sk-parallel-item,\n",
       "div.sk-serial,\n",
       "div.sk-item {\n",
       "  /* draw centered vertical line to link estimators */\n",
       "  background-image: linear-gradient(var(--sklearn-color-text-on-default-background), var(--sklearn-color-text-on-default-background));\n",
       "  background-size: 2px 100%;\n",
       "  background-repeat: no-repeat;\n",
       "  background-position: center center;\n",
       "}\n",
       "\n",
       "/* Parallel-specific style estimator block */\n",
       "\n",
       "#sk-container-id-2 div.sk-parallel-item::after {\n",
       "  content: \"\";\n",
       "  width: 100%;\n",
       "  border-bottom: 2px solid var(--sklearn-color-text-on-default-background);\n",
       "  flex-grow: 1;\n",
       "}\n",
       "\n",
       "#sk-container-id-2 div.sk-parallel {\n",
       "  display: flex;\n",
       "  align-items: stretch;\n",
       "  justify-content: center;\n",
       "  background-color: var(--sklearn-color-background);\n",
       "  position: relative;\n",
       "}\n",
       "\n",
       "#sk-container-id-2 div.sk-parallel-item {\n",
       "  display: flex;\n",
       "  flex-direction: column;\n",
       "}\n",
       "\n",
       "#sk-container-id-2 div.sk-parallel-item:first-child::after {\n",
       "  align-self: flex-end;\n",
       "  width: 50%;\n",
       "}\n",
       "\n",
       "#sk-container-id-2 div.sk-parallel-item:last-child::after {\n",
       "  align-self: flex-start;\n",
       "  width: 50%;\n",
       "}\n",
       "\n",
       "#sk-container-id-2 div.sk-parallel-item:only-child::after {\n",
       "  width: 0;\n",
       "}\n",
       "\n",
       "/* Serial-specific style estimator block */\n",
       "\n",
       "#sk-container-id-2 div.sk-serial {\n",
       "  display: flex;\n",
       "  flex-direction: column;\n",
       "  align-items: center;\n",
       "  background-color: var(--sklearn-color-background);\n",
       "  padding-right: 1em;\n",
       "  padding-left: 1em;\n",
       "}\n",
       "\n",
       "\n",
       "/* Toggleable style: style used for estimator/Pipeline/ColumnTransformer box that is\n",
       "clickable and can be expanded/collapsed.\n",
       "- Pipeline and ColumnTransformer use this feature and define the default style\n",
       "- Estimators will overwrite some part of the style using the `sk-estimator` class\n",
       "*/\n",
       "\n",
       "/* Pipeline and ColumnTransformer style (default) */\n",
       "\n",
       "#sk-container-id-2 div.sk-toggleable {\n",
       "  /* Default theme specific background. It is overwritten whether we have a\n",
       "  specific estimator or a Pipeline/ColumnTransformer */\n",
       "  background-color: var(--sklearn-color-background);\n",
       "}\n",
       "\n",
       "/* Toggleable label */\n",
       "#sk-container-id-2 label.sk-toggleable__label {\n",
       "  cursor: pointer;\n",
       "  display: block;\n",
       "  width: 100%;\n",
       "  margin-bottom: 0;\n",
       "  padding: 0.5em;\n",
       "  box-sizing: border-box;\n",
       "  text-align: center;\n",
       "}\n",
       "\n",
       "#sk-container-id-2 label.sk-toggleable__label-arrow:before {\n",
       "  /* Arrow on the left of the label */\n",
       "  content: \"▸\";\n",
       "  float: left;\n",
       "  margin-right: 0.25em;\n",
       "  color: var(--sklearn-color-icon);\n",
       "}\n",
       "\n",
       "#sk-container-id-2 label.sk-toggleable__label-arrow:hover:before {\n",
       "  color: var(--sklearn-color-text);\n",
       "}\n",
       "\n",
       "/* Toggleable content - dropdown */\n",
       "\n",
       "#sk-container-id-2 div.sk-toggleable__content {\n",
       "  max-height: 0;\n",
       "  max-width: 0;\n",
       "  overflow: hidden;\n",
       "  text-align: left;\n",
       "  /* unfitted */\n",
       "  background-color: var(--sklearn-color-unfitted-level-0);\n",
       "}\n",
       "\n",
       "#sk-container-id-2 div.sk-toggleable__content.fitted {\n",
       "  /* fitted */\n",
       "  background-color: var(--sklearn-color-fitted-level-0);\n",
       "}\n",
       "\n",
       "#sk-container-id-2 div.sk-toggleable__content pre {\n",
       "  margin: 0.2em;\n",
       "  border-radius: 0.25em;\n",
       "  color: var(--sklearn-color-text);\n",
       "  /* unfitted */\n",
       "  background-color: var(--sklearn-color-unfitted-level-0);\n",
       "}\n",
       "\n",
       "#sk-container-id-2 div.sk-toggleable__content.fitted pre {\n",
       "  /* unfitted */\n",
       "  background-color: var(--sklearn-color-fitted-level-0);\n",
       "}\n",
       "\n",
       "#sk-container-id-2 input.sk-toggleable__control:checked~div.sk-toggleable__content {\n",
       "  /* Expand drop-down */\n",
       "  max-height: 200px;\n",
       "  max-width: 100%;\n",
       "  overflow: auto;\n",
       "}\n",
       "\n",
       "#sk-container-id-2 input.sk-toggleable__control:checked~label.sk-toggleable__label-arrow:before {\n",
       "  content: \"▾\";\n",
       "}\n",
       "\n",
       "/* Pipeline/ColumnTransformer-specific style */\n",
       "\n",
       "#sk-container-id-2 div.sk-label input.sk-toggleable__control:checked~label.sk-toggleable__label {\n",
       "  color: var(--sklearn-color-text);\n",
       "  background-color: var(--sklearn-color-unfitted-level-2);\n",
       "}\n",
       "\n",
       "#sk-container-id-2 div.sk-label.fitted input.sk-toggleable__control:checked~label.sk-toggleable__label {\n",
       "  background-color: var(--sklearn-color-fitted-level-2);\n",
       "}\n",
       "\n",
       "/* Estimator-specific style */\n",
       "\n",
       "/* Colorize estimator box */\n",
       "#sk-container-id-2 div.sk-estimator input.sk-toggleable__control:checked~label.sk-toggleable__label {\n",
       "  /* unfitted */\n",
       "  background-color: var(--sklearn-color-unfitted-level-2);\n",
       "}\n",
       "\n",
       "#sk-container-id-2 div.sk-estimator.fitted input.sk-toggleable__control:checked~label.sk-toggleable__label {\n",
       "  /* fitted */\n",
       "  background-color: var(--sklearn-color-fitted-level-2);\n",
       "}\n",
       "\n",
       "#sk-container-id-2 div.sk-label label.sk-toggleable__label,\n",
       "#sk-container-id-2 div.sk-label label {\n",
       "  /* The background is the default theme color */\n",
       "  color: var(--sklearn-color-text-on-default-background);\n",
       "}\n",
       "\n",
       "/* On hover, darken the color of the background */\n",
       "#sk-container-id-2 div.sk-label:hover label.sk-toggleable__label {\n",
       "  color: var(--sklearn-color-text);\n",
       "  background-color: var(--sklearn-color-unfitted-level-2);\n",
       "}\n",
       "\n",
       "/* Label box, darken color on hover, fitted */\n",
       "#sk-container-id-2 div.sk-label.fitted:hover label.sk-toggleable__label.fitted {\n",
       "  color: var(--sklearn-color-text);\n",
       "  background-color: var(--sklearn-color-fitted-level-2);\n",
       "}\n",
       "\n",
       "/* Estimator label */\n",
       "\n",
       "#sk-container-id-2 div.sk-label label {\n",
       "  font-family: monospace;\n",
       "  font-weight: bold;\n",
       "  display: inline-block;\n",
       "  line-height: 1.2em;\n",
       "}\n",
       "\n",
       "#sk-container-id-2 div.sk-label-container {\n",
       "  text-align: center;\n",
       "}\n",
       "\n",
       "/* Estimator-specific */\n",
       "#sk-container-id-2 div.sk-estimator {\n",
       "  font-family: monospace;\n",
       "  border: 1px dotted var(--sklearn-color-border-box);\n",
       "  border-radius: 0.25em;\n",
       "  box-sizing: border-box;\n",
       "  margin-bottom: 0.5em;\n",
       "  /* unfitted */\n",
       "  background-color: var(--sklearn-color-unfitted-level-0);\n",
       "}\n",
       "\n",
       "#sk-container-id-2 div.sk-estimator.fitted {\n",
       "  /* fitted */\n",
       "  background-color: var(--sklearn-color-fitted-level-0);\n",
       "}\n",
       "\n",
       "/* on hover */\n",
       "#sk-container-id-2 div.sk-estimator:hover {\n",
       "  /* unfitted */\n",
       "  background-color: var(--sklearn-color-unfitted-level-2);\n",
       "}\n",
       "\n",
       "#sk-container-id-2 div.sk-estimator.fitted:hover {\n",
       "  /* fitted */\n",
       "  background-color: var(--sklearn-color-fitted-level-2);\n",
       "}\n",
       "\n",
       "/* Specification for estimator info (e.g. \"i\" and \"?\") */\n",
       "\n",
       "/* Common style for \"i\" and \"?\" */\n",
       "\n",
       ".sk-estimator-doc-link,\n",
       "a:link.sk-estimator-doc-link,\n",
       "a:visited.sk-estimator-doc-link {\n",
       "  float: right;\n",
       "  font-size: smaller;\n",
       "  line-height: 1em;\n",
       "  font-family: monospace;\n",
       "  background-color: var(--sklearn-color-background);\n",
       "  border-radius: 1em;\n",
       "  height: 1em;\n",
       "  width: 1em;\n",
       "  text-decoration: none !important;\n",
       "  margin-left: 1ex;\n",
       "  /* unfitted */\n",
       "  border: var(--sklearn-color-unfitted-level-1) 1pt solid;\n",
       "  color: var(--sklearn-color-unfitted-level-1);\n",
       "}\n",
       "\n",
       ".sk-estimator-doc-link.fitted,\n",
       "a:link.sk-estimator-doc-link.fitted,\n",
       "a:visited.sk-estimator-doc-link.fitted {\n",
       "  /* fitted */\n",
       "  border: var(--sklearn-color-fitted-level-1) 1pt solid;\n",
       "  color: var(--sklearn-color-fitted-level-1);\n",
       "}\n",
       "\n",
       "/* On hover */\n",
       "div.sk-estimator:hover .sk-estimator-doc-link:hover,\n",
       ".sk-estimator-doc-link:hover,\n",
       "div.sk-label-container:hover .sk-estimator-doc-link:hover,\n",
       ".sk-estimator-doc-link:hover {\n",
       "  /* unfitted */\n",
       "  background-color: var(--sklearn-color-unfitted-level-3);\n",
       "  color: var(--sklearn-color-background);\n",
       "  text-decoration: none;\n",
       "}\n",
       "\n",
       "div.sk-estimator.fitted:hover .sk-estimator-doc-link.fitted:hover,\n",
       ".sk-estimator-doc-link.fitted:hover,\n",
       "div.sk-label-container:hover .sk-estimator-doc-link.fitted:hover,\n",
       ".sk-estimator-doc-link.fitted:hover {\n",
       "  /* fitted */\n",
       "  background-color: var(--sklearn-color-fitted-level-3);\n",
       "  color: var(--sklearn-color-background);\n",
       "  text-decoration: none;\n",
       "}\n",
       "\n",
       "/* Span, style for the box shown on hovering the info icon */\n",
       ".sk-estimator-doc-link span {\n",
       "  display: none;\n",
       "  z-index: 9999;\n",
       "  position: relative;\n",
       "  font-weight: normal;\n",
       "  right: .2ex;\n",
       "  padding: .5ex;\n",
       "  margin: .5ex;\n",
       "  width: min-content;\n",
       "  min-width: 20ex;\n",
       "  max-width: 50ex;\n",
       "  color: var(--sklearn-color-text);\n",
       "  box-shadow: 2pt 2pt 4pt #999;\n",
       "  /* unfitted */\n",
       "  background: var(--sklearn-color-unfitted-level-0);\n",
       "  border: .5pt solid var(--sklearn-color-unfitted-level-3);\n",
       "}\n",
       "\n",
       ".sk-estimator-doc-link.fitted span {\n",
       "  /* fitted */\n",
       "  background: var(--sklearn-color-fitted-level-0);\n",
       "  border: var(--sklearn-color-fitted-level-3);\n",
       "}\n",
       "\n",
       ".sk-estimator-doc-link:hover span {\n",
       "  display: block;\n",
       "}\n",
       "\n",
       "/* \"?\"-specific style due to the `<a>` HTML tag */\n",
       "\n",
       "#sk-container-id-2 a.estimator_doc_link {\n",
       "  float: right;\n",
       "  font-size: 1rem;\n",
       "  line-height: 1em;\n",
       "  font-family: monospace;\n",
       "  background-color: var(--sklearn-color-background);\n",
       "  border-radius: 1rem;\n",
       "  height: 1rem;\n",
       "  width: 1rem;\n",
       "  text-decoration: none;\n",
       "  /* unfitted */\n",
       "  color: var(--sklearn-color-unfitted-level-1);\n",
       "  border: var(--sklearn-color-unfitted-level-1) 1pt solid;\n",
       "}\n",
       "\n",
       "#sk-container-id-2 a.estimator_doc_link.fitted {\n",
       "  /* fitted */\n",
       "  border: var(--sklearn-color-fitted-level-1) 1pt solid;\n",
       "  color: var(--sklearn-color-fitted-level-1);\n",
       "}\n",
       "\n",
       "/* On hover */\n",
       "#sk-container-id-2 a.estimator_doc_link:hover {\n",
       "  /* unfitted */\n",
       "  background-color: var(--sklearn-color-unfitted-level-3);\n",
       "  color: var(--sklearn-color-background);\n",
       "  text-decoration: none;\n",
       "}\n",
       "\n",
       "#sk-container-id-2 a.estimator_doc_link.fitted:hover {\n",
       "  /* fitted */\n",
       "  background-color: var(--sklearn-color-fitted-level-3);\n",
       "}\n",
       "</style><div id=\"sk-container-id-2\" class=\"sk-top-container\"><div class=\"sk-text-repr-fallback\"><pre>LogisticRegression(penalty=None)</pre><b>In a Jupyter environment, please rerun this cell to show the HTML representation or trust the notebook. <br />On GitHub, the HTML representation is unable to render, please try loading this page with nbviewer.org.</b></div><div class=\"sk-container\" hidden><div class=\"sk-item\"><div class=\"sk-estimator fitted sk-toggleable\"><input class=\"sk-toggleable__control sk-hidden--visually\" id=\"sk-estimator-id-2\" type=\"checkbox\" checked><label for=\"sk-estimator-id-2\" class=\"sk-toggleable__label fitted sk-toggleable__label-arrow fitted\">&nbsp;&nbsp;LogisticRegression<a class=\"sk-estimator-doc-link fitted\" rel=\"noreferrer\" target=\"_blank\" href=\"https://scikit-learn.org/1.4/modules/generated/sklearn.linear_model.LogisticRegression.html\">?<span>Documentation for LogisticRegression</span></a><span class=\"sk-estimator-doc-link fitted\">i<span>Fitted</span></span></label><div class=\"sk-toggleable__content fitted\"><pre>LogisticRegression(penalty=None)</pre></div> </div></div></div></div>"
      ],
      "text/plain": [
       "LogisticRegression(penalty=None)"
      ]
     },
     "execution_count": 133,
     "metadata": {},
     "output_type": "execute_result"
    }
   ],
   "source": [
    "# 모델링\n",
    "from sklearn.linear_model import LogisticRegression # 회귀는 LinearRegression\n",
    "\n",
    "# 반드시 penalty=None으로 입력할 것, default='l2'\n",
    "model = LogisticRegression(penalty=None)\n",
    "model.fit(x, y)"
   ]
  },
  {
   "cell_type": "code",
   "execution_count": 135,
   "id": "1bd20afa-a6cf-4393-aa41-d04af545aa71",
   "metadata": {},
   "outputs": [
    {
     "name": "stdout",
     "output_type": "stream",
     "text": [
      "[[ 2.5668 -0.4017  0.0138]]\n",
      "2.5668\n",
      "-0.4017\n",
      "0.0138\n",
      "[-1.6964]\n"
     ]
    }
   ],
   "source": [
    "# 로지스틱회귀분석 관련 지표 출력\n",
    "\n",
    "# 1. 회귀계수 출력 : model.coef_\n",
    "print(np.round(model.coef_, 4)) # 전체 회귀계수\n",
    "print(np.round(model.coef_[0, 0], 4)) # x1의 회귀계수\n",
    "print(np.round(model.coef_[0, 1], 4)) # x2의 회귀계수\n",
    "print(np.round(model.coef_[0, 2], 4)) # x3의 회귀계수\n",
    "\n",
    "# 2. 회귀계수(절편) : model.intercept_\n",
    "print(np.round(model.intercept_, 4))"
   ]
  },
  {
   "cell_type": "code",
   "execution_count": 136,
   "id": "1a998639-4cf9-4fdd-8bb7-5283547993bf",
   "metadata": {},
   "outputs": [],
   "source": [
    "# 회귀식 : P(1일 확률) = 1 / (1 + exp^(-f(x)))\n",
    "# f(x) = b0 + b1x1 + b2x2 + b3x3\n",
    "# (P=생존할확률)\n",
    "# 결과 ln(P/1-P) = -1.6964 + 2.5668sex - 0.4017sibsp + 0.0138fare"
   ]
  },
  {
   "cell_type": "code",
   "execution_count": 137,
   "id": "f78290f1-0c98-4624-a50b-7b0313dba473",
   "metadata": {},
   "outputs": [
    {
     "name": "stdout",
     "output_type": "stream",
     "text": [
      "0.669\n"
     ]
    }
   ],
   "source": [
    "# 3-1. 로지스틱 회귀모형에서 sibsp 변수가 한단위 증가할 때 생존할 오즈가 몇 배 증가하는지\n",
    "# 반올림하여 소수점 셋째 자리까지 구하시오.\n",
    "\n",
    "# exp^(b2)를 구하면 된다.\n",
    "result = np.exp(model.coef_[0, 1]) # 인덱싱 주의\n",
    "print(round(result, 3))"
   ]
  },
  {
   "cell_type": "code",
   "execution_count": 138,
   "id": "feccbda8-7946-4bd9-bc8e-0e1b8f37eccc",
   "metadata": {},
   "outputs": [],
   "source": [
    "# 해석 : sibsp 변수가 한 단위 증가할 때 생존할 오즈가 0.669배 증가한다.\n",
    "# 생존할 오즈가 33% 감소한다. (생존할 확률이 감소한다.)"
   ]
  },
  {
   "cell_type": "code",
   "execution_count": 139,
   "id": "d21121e7-0511-499d-97bf-42fedc264cf7",
   "metadata": {},
   "outputs": [
    {
     "name": "stdout",
     "output_type": "stream",
     "text": [
      "13.024\n"
     ]
    }
   ],
   "source": [
    "# 3-2. 로지스틱 회귀모형에서 여성일 경우 남성에 비해 오즈가 몇 배 증가하는지\n",
    "# 반올림하여 소수점 셋째 자리까지 구하시오.\n",
    "\n",
    "# exp^(b1)를 구하면 된다.\n",
    "result2 = np.exp(model.coef_[0, 0])\n",
    "print(round(result2, 3))"
   ]
  },
  {
   "cell_type": "code",
   "execution_count": 140,
   "id": "42d0e46d-4b20-4616-8d31-bcdb6b694c69",
   "metadata": {},
   "outputs": [],
   "source": [
    "# 해석 : 여성일 경우 남성에 비해 생존할 오즈가 13.024배 증가한다.\n",
    "# 생존할 오즈가 13배 증가한다. (생존할 확률이 증가한다.)"
   ]
  },
  {
   "cell_type": "code",
   "execution_count": 141,
   "id": "6e025a1a-d4c5-4772-8ee4-76f56447a995",
   "metadata": {},
   "outputs": [],
   "source": [
    "# 2. statsmodels 라이브러리 사용\n",
    "# (주의) 실제 오즈가 몇 배 증가했는지 계산하는 문제가 나온다면\n",
    "# sklearn 라이브러리를 사용하여 회귀계수를 '직접' 구해서 계산할 것(소수점이 결과값에 영향을 줄 수 있음!)"
   ]
  },
  {
   "cell_type": "code",
   "execution_count": 142,
   "id": "2a1ee42f-69c9-4324-89b4-443f29c59910",
   "metadata": {},
   "outputs": [
    {
     "name": "stdout",
     "output_type": "stream",
     "text": [
      "Optimization terminated successfully.\n",
      "         Current function value: 0.483846\n",
      "         Iterations 6\n",
      "                           Logit Regression Results                           \n",
      "==============================================================================\n",
      "Dep. Variable:               survived   No. Observations:                  891\n",
      "Model:                          Logit   Df Residuals:                      887\n",
      "Method:                           MLE   Df Model:                            3\n",
      "Date:                Tue, 18 Jun 2024   Pseudo R-squ.:                  0.2734\n",
      "Time:                        23:29:03   Log-Likelihood:                -431.11\n",
      "converged:                       True   LL-Null:                       -593.33\n",
      "Covariance Type:            nonrobust   LLR p-value:                 5.094e-70\n",
      "==============================================================================\n",
      "                 coef    std err          z      P>|z|      [0.025      0.975]\n",
      "------------------------------------------------------------------------------\n",
      "const         -1.6964      0.129    -13.134      0.000      -1.950      -1.443\n",
      "sex            2.5668      0.179     14.321      0.000       2.216       2.918\n",
      "sibsp         -0.4017      0.095     -4.222      0.000      -0.588      -0.215\n",
      "fare           0.0138      0.003      5.367      0.000       0.009       0.019\n",
      "==============================================================================\n"
     ]
    }
   ],
   "source": [
    "# 모델링\n",
    "import statsmodels.api as sm\n",
    "\n",
    "x = sm.add_constant(x)\n",
    "model2 = sm.Logit(y, x).fit() # 주의할 것 : y, x 순으로 입력해야 함\n",
    "summary = model2.summary()\n",
    "print(summary)"
   ]
  },
  {
   "cell_type": "code",
   "execution_count": null,
   "id": "a8db871e-ca3a-48ac-9fc8-aa7adacf58f4",
   "metadata": {},
   "outputs": [],
   "source": [
    "# 두 라이브러리 모두 같은 결과값을 출력\n",
    "# 회귀식 : P(1일 확률) = 1 / (1 + exp^(-f(x)))\n",
    "# f(x) = b0 + b1x1 + b2x2 + b3x3\n",
    "# ln(P/1-P) = b0 + b1x1 + b2x2 = b3x3\n",
    "# sklearn -1.6964 + 2.5668sex - 0.4017sibsp + 0.0138fare\n",
    "# statsmodels -1.6964 + 2.5668sex - 0.4017sibsp + 0.0138fare "
   ]
  },
  {
   "cell_type": "markdown",
   "id": "9965efc8-7ded-424a-9b76-b7f10f49d5e3",
   "metadata": {},
   "source": [
    "## 7회 실기시험 유형파악 - 3유형"
   ]
  },
  {
   "cell_type": "code",
   "execution_count": 143,
   "id": "c729fae7-cb49-4cd7-9089-affb6a546b40",
   "metadata": {},
   "outputs": [],
   "source": [
    "# 1. 로지스틱 회귀분석(15점, 각 소문제당 5점)\n",
    "# 주요키워드 : odds ratio, residual deviance, 오분류율, 모델링, 성능평가\n",
    "# 1-1 종속변수(Y)를 A변수로 분석했을 때, odds ratio는?\n",
    "# (데이터셋은 총 300개 이며, 문제에서 지정한 210개로 모델링함)\n",
    "\n",
    "# 1-2 종속변수(Y)를 n개의 변수로 분석했을 때, residual deviance를 구하시오.\n",
    "# (데이터셋은 총 300개 이며, 문제에서 지정한 210개로 모델링함)\n",
    "\n",
    "# 1-3 문제1에서 구한 모델에 나머지 90개 데이터를 적용하여 오분류율을 구하시오."
   ]
  },
  {
   "cell_type": "code",
   "execution_count": 144,
   "id": "c70ccf27-97e3-4b6b-bb23-29b289cded7b",
   "metadata": {},
   "outputs": [],
   "source": [
    "# 2. 다중선형회귀분석(15점, 각 소문제당 5점)\n",
    "# 주요키워드 : 상관계수, Rsq, p-value, 모델링, 성능평가\n",
    "# 2-1 특정변수와 가장 큰 상관관계를 갖는 변수의 상관계수를 구하시오.\n",
    "# 2-2 다중선형회귀 모델링 후 결정계수(Rsq) 구하기\n",
    "# 2-3 문제 2-2에서 구한 회귀모델에서 p-value가 가장 큰 변수의 p-value값을 구하시오."
   ]
  },
  {
   "cell_type": "code",
   "execution_count": 145,
   "id": "8aaf5e8a-5bf9-4fa5-8a30-d2652526dc12",
   "metadata": {},
   "outputs": [],
   "source": [
    "# 1. 로지스틱 회귀분석"
   ]
  },
  {
   "cell_type": "code",
   "execution_count": 146,
   "id": "fb25b7c8-87f5-48ff-ab2a-625ba69265f4",
   "metadata": {},
   "outputs": [],
   "source": [
    "# ### 예제문제 3유형-1번\n",
    "# - survived\t를\t종속변수(Y),\tsex,sibsp,fare\t변수를\t독립변수(X)로\t\n",
    "# 분석했을\t때\t아래\t질문에\t답하시오.\n",
    "# - (단,\t총\t891개의\t데이터에서\t초기\t500개\t데이터로\t학습,\t\n",
    "# 391개\t데이터로\t평가\t하시오)\t\n",
    "# - (단,\t모든\t답은\t반올림하여\t소수점\t둘째자리까지\t구하시오)\n",
    "# - 1.\t초기\t500개\t데이터로\t분석시\tsibsp\t변수의\todds\tratio는?\n",
    "# - 2.\t초기\t500개\t데이터로\t분석시\tresidual\tdeviance는?\n",
    "# - 3.\t나머지\t391개\t데이터\t적용시\t오분류율은?"
   ]
  },
  {
   "cell_type": "code",
   "execution_count": 19,
   "id": "5d33a580-6b9c-4ff8-9174-cb7206369118",
   "metadata": {},
   "outputs": [
    {
     "data": {
      "text/html": [
       "<div>\n",
       "<style scoped>\n",
       "    .dataframe tbody tr th:only-of-type {\n",
       "        vertical-align: middle;\n",
       "    }\n",
       "\n",
       "    .dataframe tbody tr th {\n",
       "        vertical-align: top;\n",
       "    }\n",
       "\n",
       "    .dataframe thead th {\n",
       "        text-align: right;\n",
       "    }\n",
       "</style>\n",
       "<table border=\"1\" class=\"dataframe\">\n",
       "  <thead>\n",
       "    <tr style=\"text-align: right;\">\n",
       "      <th></th>\n",
       "      <th>survived</th>\n",
       "      <th>sex</th>\n",
       "      <th>sibsp</th>\n",
       "      <th>fare</th>\n",
       "    </tr>\n",
       "  </thead>\n",
       "  <tbody>\n",
       "    <tr>\n",
       "      <th>0</th>\n",
       "      <td>0</td>\n",
       "      <td>0</td>\n",
       "      <td>1</td>\n",
       "      <td>7.2500</td>\n",
       "    </tr>\n",
       "    <tr>\n",
       "      <th>1</th>\n",
       "      <td>1</td>\n",
       "      <td>1</td>\n",
       "      <td>1</td>\n",
       "      <td>71.2833</td>\n",
       "    </tr>\n",
       "    <tr>\n",
       "      <th>2</th>\n",
       "      <td>1</td>\n",
       "      <td>1</td>\n",
       "      <td>0</td>\n",
       "      <td>7.9250</td>\n",
       "    </tr>\n",
       "    <tr>\n",
       "      <th>3</th>\n",
       "      <td>1</td>\n",
       "      <td>1</td>\n",
       "      <td>1</td>\n",
       "      <td>53.1000</td>\n",
       "    </tr>\n",
       "    <tr>\n",
       "      <th>4</th>\n",
       "      <td>0</td>\n",
       "      <td>0</td>\n",
       "      <td>0</td>\n",
       "      <td>8.0500</td>\n",
       "    </tr>\n",
       "    <tr>\n",
       "      <th>...</th>\n",
       "      <td>...</td>\n",
       "      <td>...</td>\n",
       "      <td>...</td>\n",
       "      <td>...</td>\n",
       "    </tr>\n",
       "    <tr>\n",
       "      <th>886</th>\n",
       "      <td>0</td>\n",
       "      <td>0</td>\n",
       "      <td>0</td>\n",
       "      <td>13.0000</td>\n",
       "    </tr>\n",
       "    <tr>\n",
       "      <th>887</th>\n",
       "      <td>1</td>\n",
       "      <td>1</td>\n",
       "      <td>0</td>\n",
       "      <td>30.0000</td>\n",
       "    </tr>\n",
       "    <tr>\n",
       "      <th>888</th>\n",
       "      <td>0</td>\n",
       "      <td>1</td>\n",
       "      <td>1</td>\n",
       "      <td>23.4500</td>\n",
       "    </tr>\n",
       "    <tr>\n",
       "      <th>889</th>\n",
       "      <td>1</td>\n",
       "      <td>0</td>\n",
       "      <td>0</td>\n",
       "      <td>30.0000</td>\n",
       "    </tr>\n",
       "    <tr>\n",
       "      <th>890</th>\n",
       "      <td>0</td>\n",
       "      <td>0</td>\n",
       "      <td>0</td>\n",
       "      <td>7.7500</td>\n",
       "    </tr>\n",
       "  </tbody>\n",
       "</table>\n",
       "<p>891 rows × 4 columns</p>\n",
       "</div>"
      ],
      "text/plain": [
       "     survived  sex  sibsp     fare\n",
       "0           0    0      1   7.2500\n",
       "1           1    1      1  71.2833\n",
       "2           1    1      0   7.9250\n",
       "3           1    1      1  53.1000\n",
       "4           0    0      0   8.0500\n",
       "..        ...  ...    ...      ...\n",
       "886         0    0      0  13.0000\n",
       "887         1    1      0  30.0000\n",
       "888         0    1      1  23.4500\n",
       "889         1    0      0  30.0000\n",
       "890         0    0      0   7.7500\n",
       "\n",
       "[891 rows x 4 columns]"
      ]
     },
     "execution_count": 19,
     "metadata": {},
     "output_type": "execute_result"
    }
   ],
   "source": [
    "# 데이터 생성\n",
    "import pandas as pd\n",
    "import numpy as np\n",
    "import seaborn as sns\n",
    "df = sns.load_dataset('titanic')\n",
    "\n",
    "df = df[['survived','sex','sibsp','fare']]\n",
    "# sex:성별, sibsp:탑승한 부모 및 자녀 수, fare:요금\n",
    "df['sex'] = df['sex'].map({'female':1, 'male':0})\n",
    "df"
   ]
  },
  {
   "cell_type": "code",
   "execution_count": 148,
   "id": "698bab52-8cc9-4513-8f82-6f150b71b189",
   "metadata": {},
   "outputs": [],
   "source": [
    "# 1. sklearn 라이브러리 활용"
   ]
  },
  {
   "cell_type": "code",
   "execution_count": 20,
   "id": "71f91ad4-ffdd-4cd4-9a7f-0df2d723cf2b",
   "metadata": {},
   "outputs": [],
   "source": [
    "# 데이터셋 구성(초기 500개 데이터로 학습, 391개로 평가)\n",
    "#print(df.shape)\n",
    "#print(df.info())\n",
    "\n",
    "# train / test 데이터셋 구성\n",
    "train = df.iloc[0:500]\n",
    "test = df.iloc[500:]\n",
    "#print(train.info())\n",
    "#print(test.info())\n",
    "\n",
    "x_train = train[['sex', 'sibsp', 'fare']]\n",
    "y_train = train['survived']\n",
    "x_test = test[['sex', 'sibsp', 'fare']]\n",
    "y_test = test['survived']"
   ]
  },
  {
   "cell_type": "code",
   "execution_count": 4,
   "id": "5ed16db9-97e1-420e-8c7e-173ca1c680ee",
   "metadata": {},
   "outputs": [
    {
     "data": {
      "text/html": [
       "<style>#sk-container-id-1 {\n",
       "  /* Definition of color scheme common for light and dark mode */\n",
       "  --sklearn-color-text: black;\n",
       "  --sklearn-color-line: gray;\n",
       "  /* Definition of color scheme for unfitted estimators */\n",
       "  --sklearn-color-unfitted-level-0: #fff5e6;\n",
       "  --sklearn-color-unfitted-level-1: #f6e4d2;\n",
       "  --sklearn-color-unfitted-level-2: #ffe0b3;\n",
       "  --sklearn-color-unfitted-level-3: chocolate;\n",
       "  /* Definition of color scheme for fitted estimators */\n",
       "  --sklearn-color-fitted-level-0: #f0f8ff;\n",
       "  --sklearn-color-fitted-level-1: #d4ebff;\n",
       "  --sklearn-color-fitted-level-2: #b3dbfd;\n",
       "  --sklearn-color-fitted-level-3: cornflowerblue;\n",
       "\n",
       "  /* Specific color for light theme */\n",
       "  --sklearn-color-text-on-default-background: var(--sg-text-color, var(--theme-code-foreground, var(--jp-content-font-color1, black)));\n",
       "  --sklearn-color-background: var(--sg-background-color, var(--theme-background, var(--jp-layout-color0, white)));\n",
       "  --sklearn-color-border-box: var(--sg-text-color, var(--theme-code-foreground, var(--jp-content-font-color1, black)));\n",
       "  --sklearn-color-icon: #696969;\n",
       "\n",
       "  @media (prefers-color-scheme: dark) {\n",
       "    /* Redefinition of color scheme for dark theme */\n",
       "    --sklearn-color-text-on-default-background: var(--sg-text-color, var(--theme-code-foreground, var(--jp-content-font-color1, white)));\n",
       "    --sklearn-color-background: var(--sg-background-color, var(--theme-background, var(--jp-layout-color0, #111)));\n",
       "    --sklearn-color-border-box: var(--sg-text-color, var(--theme-code-foreground, var(--jp-content-font-color1, white)));\n",
       "    --sklearn-color-icon: #878787;\n",
       "  }\n",
       "}\n",
       "\n",
       "#sk-container-id-1 {\n",
       "  color: var(--sklearn-color-text);\n",
       "}\n",
       "\n",
       "#sk-container-id-1 pre {\n",
       "  padding: 0;\n",
       "}\n",
       "\n",
       "#sk-container-id-1 input.sk-hidden--visually {\n",
       "  border: 0;\n",
       "  clip: rect(1px 1px 1px 1px);\n",
       "  clip: rect(1px, 1px, 1px, 1px);\n",
       "  height: 1px;\n",
       "  margin: -1px;\n",
       "  overflow: hidden;\n",
       "  padding: 0;\n",
       "  position: absolute;\n",
       "  width: 1px;\n",
       "}\n",
       "\n",
       "#sk-container-id-1 div.sk-dashed-wrapped {\n",
       "  border: 1px dashed var(--sklearn-color-line);\n",
       "  margin: 0 0.4em 0.5em 0.4em;\n",
       "  box-sizing: border-box;\n",
       "  padding-bottom: 0.4em;\n",
       "  background-color: var(--sklearn-color-background);\n",
       "}\n",
       "\n",
       "#sk-container-id-1 div.sk-container {\n",
       "  /* jupyter's `normalize.less` sets `[hidden] { display: none; }`\n",
       "     but bootstrap.min.css set `[hidden] { display: none !important; }`\n",
       "     so we also need the `!important` here to be able to override the\n",
       "     default hidden behavior on the sphinx rendered scikit-learn.org.\n",
       "     See: https://github.com/scikit-learn/scikit-learn/issues/21755 */\n",
       "  display: inline-block !important;\n",
       "  position: relative;\n",
       "}\n",
       "\n",
       "#sk-container-id-1 div.sk-text-repr-fallback {\n",
       "  display: none;\n",
       "}\n",
       "\n",
       "div.sk-parallel-item,\n",
       "div.sk-serial,\n",
       "div.sk-item {\n",
       "  /* draw centered vertical line to link estimators */\n",
       "  background-image: linear-gradient(var(--sklearn-color-text-on-default-background), var(--sklearn-color-text-on-default-background));\n",
       "  background-size: 2px 100%;\n",
       "  background-repeat: no-repeat;\n",
       "  background-position: center center;\n",
       "}\n",
       "\n",
       "/* Parallel-specific style estimator block */\n",
       "\n",
       "#sk-container-id-1 div.sk-parallel-item::after {\n",
       "  content: \"\";\n",
       "  width: 100%;\n",
       "  border-bottom: 2px solid var(--sklearn-color-text-on-default-background);\n",
       "  flex-grow: 1;\n",
       "}\n",
       "\n",
       "#sk-container-id-1 div.sk-parallel {\n",
       "  display: flex;\n",
       "  align-items: stretch;\n",
       "  justify-content: center;\n",
       "  background-color: var(--sklearn-color-background);\n",
       "  position: relative;\n",
       "}\n",
       "\n",
       "#sk-container-id-1 div.sk-parallel-item {\n",
       "  display: flex;\n",
       "  flex-direction: column;\n",
       "}\n",
       "\n",
       "#sk-container-id-1 div.sk-parallel-item:first-child::after {\n",
       "  align-self: flex-end;\n",
       "  width: 50%;\n",
       "}\n",
       "\n",
       "#sk-container-id-1 div.sk-parallel-item:last-child::after {\n",
       "  align-self: flex-start;\n",
       "  width: 50%;\n",
       "}\n",
       "\n",
       "#sk-container-id-1 div.sk-parallel-item:only-child::after {\n",
       "  width: 0;\n",
       "}\n",
       "\n",
       "/* Serial-specific style estimator block */\n",
       "\n",
       "#sk-container-id-1 div.sk-serial {\n",
       "  display: flex;\n",
       "  flex-direction: column;\n",
       "  align-items: center;\n",
       "  background-color: var(--sklearn-color-background);\n",
       "  padding-right: 1em;\n",
       "  padding-left: 1em;\n",
       "}\n",
       "\n",
       "\n",
       "/* Toggleable style: style used for estimator/Pipeline/ColumnTransformer box that is\n",
       "clickable and can be expanded/collapsed.\n",
       "- Pipeline and ColumnTransformer use this feature and define the default style\n",
       "- Estimators will overwrite some part of the style using the `sk-estimator` class\n",
       "*/\n",
       "\n",
       "/* Pipeline and ColumnTransformer style (default) */\n",
       "\n",
       "#sk-container-id-1 div.sk-toggleable {\n",
       "  /* Default theme specific background. It is overwritten whether we have a\n",
       "  specific estimator or a Pipeline/ColumnTransformer */\n",
       "  background-color: var(--sklearn-color-background);\n",
       "}\n",
       "\n",
       "/* Toggleable label */\n",
       "#sk-container-id-1 label.sk-toggleable__label {\n",
       "  cursor: pointer;\n",
       "  display: block;\n",
       "  width: 100%;\n",
       "  margin-bottom: 0;\n",
       "  padding: 0.5em;\n",
       "  box-sizing: border-box;\n",
       "  text-align: center;\n",
       "}\n",
       "\n",
       "#sk-container-id-1 label.sk-toggleable__label-arrow:before {\n",
       "  /* Arrow on the left of the label */\n",
       "  content: \"▸\";\n",
       "  float: left;\n",
       "  margin-right: 0.25em;\n",
       "  color: var(--sklearn-color-icon);\n",
       "}\n",
       "\n",
       "#sk-container-id-1 label.sk-toggleable__label-arrow:hover:before {\n",
       "  color: var(--sklearn-color-text);\n",
       "}\n",
       "\n",
       "/* Toggleable content - dropdown */\n",
       "\n",
       "#sk-container-id-1 div.sk-toggleable__content {\n",
       "  max-height: 0;\n",
       "  max-width: 0;\n",
       "  overflow: hidden;\n",
       "  text-align: left;\n",
       "  /* unfitted */\n",
       "  background-color: var(--sklearn-color-unfitted-level-0);\n",
       "}\n",
       "\n",
       "#sk-container-id-1 div.sk-toggleable__content.fitted {\n",
       "  /* fitted */\n",
       "  background-color: var(--sklearn-color-fitted-level-0);\n",
       "}\n",
       "\n",
       "#sk-container-id-1 div.sk-toggleable__content pre {\n",
       "  margin: 0.2em;\n",
       "  border-radius: 0.25em;\n",
       "  color: var(--sklearn-color-text);\n",
       "  /* unfitted */\n",
       "  background-color: var(--sklearn-color-unfitted-level-0);\n",
       "}\n",
       "\n",
       "#sk-container-id-1 div.sk-toggleable__content.fitted pre {\n",
       "  /* unfitted */\n",
       "  background-color: var(--sklearn-color-fitted-level-0);\n",
       "}\n",
       "\n",
       "#sk-container-id-1 input.sk-toggleable__control:checked~div.sk-toggleable__content {\n",
       "  /* Expand drop-down */\n",
       "  max-height: 200px;\n",
       "  max-width: 100%;\n",
       "  overflow: auto;\n",
       "}\n",
       "\n",
       "#sk-container-id-1 input.sk-toggleable__control:checked~label.sk-toggleable__label-arrow:before {\n",
       "  content: \"▾\";\n",
       "}\n",
       "\n",
       "/* Pipeline/ColumnTransformer-specific style */\n",
       "\n",
       "#sk-container-id-1 div.sk-label input.sk-toggleable__control:checked~label.sk-toggleable__label {\n",
       "  color: var(--sklearn-color-text);\n",
       "  background-color: var(--sklearn-color-unfitted-level-2);\n",
       "}\n",
       "\n",
       "#sk-container-id-1 div.sk-label.fitted input.sk-toggleable__control:checked~label.sk-toggleable__label {\n",
       "  background-color: var(--sklearn-color-fitted-level-2);\n",
       "}\n",
       "\n",
       "/* Estimator-specific style */\n",
       "\n",
       "/* Colorize estimator box */\n",
       "#sk-container-id-1 div.sk-estimator input.sk-toggleable__control:checked~label.sk-toggleable__label {\n",
       "  /* unfitted */\n",
       "  background-color: var(--sklearn-color-unfitted-level-2);\n",
       "}\n",
       "\n",
       "#sk-container-id-1 div.sk-estimator.fitted input.sk-toggleable__control:checked~label.sk-toggleable__label {\n",
       "  /* fitted */\n",
       "  background-color: var(--sklearn-color-fitted-level-2);\n",
       "}\n",
       "\n",
       "#sk-container-id-1 div.sk-label label.sk-toggleable__label,\n",
       "#sk-container-id-1 div.sk-label label {\n",
       "  /* The background is the default theme color */\n",
       "  color: var(--sklearn-color-text-on-default-background);\n",
       "}\n",
       "\n",
       "/* On hover, darken the color of the background */\n",
       "#sk-container-id-1 div.sk-label:hover label.sk-toggleable__label {\n",
       "  color: var(--sklearn-color-text);\n",
       "  background-color: var(--sklearn-color-unfitted-level-2);\n",
       "}\n",
       "\n",
       "/* Label box, darken color on hover, fitted */\n",
       "#sk-container-id-1 div.sk-label.fitted:hover label.sk-toggleable__label.fitted {\n",
       "  color: var(--sklearn-color-text);\n",
       "  background-color: var(--sklearn-color-fitted-level-2);\n",
       "}\n",
       "\n",
       "/* Estimator label */\n",
       "\n",
       "#sk-container-id-1 div.sk-label label {\n",
       "  font-family: monospace;\n",
       "  font-weight: bold;\n",
       "  display: inline-block;\n",
       "  line-height: 1.2em;\n",
       "}\n",
       "\n",
       "#sk-container-id-1 div.sk-label-container {\n",
       "  text-align: center;\n",
       "}\n",
       "\n",
       "/* Estimator-specific */\n",
       "#sk-container-id-1 div.sk-estimator {\n",
       "  font-family: monospace;\n",
       "  border: 1px dotted var(--sklearn-color-border-box);\n",
       "  border-radius: 0.25em;\n",
       "  box-sizing: border-box;\n",
       "  margin-bottom: 0.5em;\n",
       "  /* unfitted */\n",
       "  background-color: var(--sklearn-color-unfitted-level-0);\n",
       "}\n",
       "\n",
       "#sk-container-id-1 div.sk-estimator.fitted {\n",
       "  /* fitted */\n",
       "  background-color: var(--sklearn-color-fitted-level-0);\n",
       "}\n",
       "\n",
       "/* on hover */\n",
       "#sk-container-id-1 div.sk-estimator:hover {\n",
       "  /* unfitted */\n",
       "  background-color: var(--sklearn-color-unfitted-level-2);\n",
       "}\n",
       "\n",
       "#sk-container-id-1 div.sk-estimator.fitted:hover {\n",
       "  /* fitted */\n",
       "  background-color: var(--sklearn-color-fitted-level-2);\n",
       "}\n",
       "\n",
       "/* Specification for estimator info (e.g. \"i\" and \"?\") */\n",
       "\n",
       "/* Common style for \"i\" and \"?\" */\n",
       "\n",
       ".sk-estimator-doc-link,\n",
       "a:link.sk-estimator-doc-link,\n",
       "a:visited.sk-estimator-doc-link {\n",
       "  float: right;\n",
       "  font-size: smaller;\n",
       "  line-height: 1em;\n",
       "  font-family: monospace;\n",
       "  background-color: var(--sklearn-color-background);\n",
       "  border-radius: 1em;\n",
       "  height: 1em;\n",
       "  width: 1em;\n",
       "  text-decoration: none !important;\n",
       "  margin-left: 1ex;\n",
       "  /* unfitted */\n",
       "  border: var(--sklearn-color-unfitted-level-1) 1pt solid;\n",
       "  color: var(--sklearn-color-unfitted-level-1);\n",
       "}\n",
       "\n",
       ".sk-estimator-doc-link.fitted,\n",
       "a:link.sk-estimator-doc-link.fitted,\n",
       "a:visited.sk-estimator-doc-link.fitted {\n",
       "  /* fitted */\n",
       "  border: var(--sklearn-color-fitted-level-1) 1pt solid;\n",
       "  color: var(--sklearn-color-fitted-level-1);\n",
       "}\n",
       "\n",
       "/* On hover */\n",
       "div.sk-estimator:hover .sk-estimator-doc-link:hover,\n",
       ".sk-estimator-doc-link:hover,\n",
       "div.sk-label-container:hover .sk-estimator-doc-link:hover,\n",
       ".sk-estimator-doc-link:hover {\n",
       "  /* unfitted */\n",
       "  background-color: var(--sklearn-color-unfitted-level-3);\n",
       "  color: var(--sklearn-color-background);\n",
       "  text-decoration: none;\n",
       "}\n",
       "\n",
       "div.sk-estimator.fitted:hover .sk-estimator-doc-link.fitted:hover,\n",
       ".sk-estimator-doc-link.fitted:hover,\n",
       "div.sk-label-container:hover .sk-estimator-doc-link.fitted:hover,\n",
       ".sk-estimator-doc-link.fitted:hover {\n",
       "  /* fitted */\n",
       "  background-color: var(--sklearn-color-fitted-level-3);\n",
       "  color: var(--sklearn-color-background);\n",
       "  text-decoration: none;\n",
       "}\n",
       "\n",
       "/* Span, style for the box shown on hovering the info icon */\n",
       ".sk-estimator-doc-link span {\n",
       "  display: none;\n",
       "  z-index: 9999;\n",
       "  position: relative;\n",
       "  font-weight: normal;\n",
       "  right: .2ex;\n",
       "  padding: .5ex;\n",
       "  margin: .5ex;\n",
       "  width: min-content;\n",
       "  min-width: 20ex;\n",
       "  max-width: 50ex;\n",
       "  color: var(--sklearn-color-text);\n",
       "  box-shadow: 2pt 2pt 4pt #999;\n",
       "  /* unfitted */\n",
       "  background: var(--sklearn-color-unfitted-level-0);\n",
       "  border: .5pt solid var(--sklearn-color-unfitted-level-3);\n",
       "}\n",
       "\n",
       ".sk-estimator-doc-link.fitted span {\n",
       "  /* fitted */\n",
       "  background: var(--sklearn-color-fitted-level-0);\n",
       "  border: var(--sklearn-color-fitted-level-3);\n",
       "}\n",
       "\n",
       ".sk-estimator-doc-link:hover span {\n",
       "  display: block;\n",
       "}\n",
       "\n",
       "/* \"?\"-specific style due to the `<a>` HTML tag */\n",
       "\n",
       "#sk-container-id-1 a.estimator_doc_link {\n",
       "  float: right;\n",
       "  font-size: 1rem;\n",
       "  line-height: 1em;\n",
       "  font-family: monospace;\n",
       "  background-color: var(--sklearn-color-background);\n",
       "  border-radius: 1rem;\n",
       "  height: 1rem;\n",
       "  width: 1rem;\n",
       "  text-decoration: none;\n",
       "  /* unfitted */\n",
       "  color: var(--sklearn-color-unfitted-level-1);\n",
       "  border: var(--sklearn-color-unfitted-level-1) 1pt solid;\n",
       "}\n",
       "\n",
       "#sk-container-id-1 a.estimator_doc_link.fitted {\n",
       "  /* fitted */\n",
       "  border: var(--sklearn-color-fitted-level-1) 1pt solid;\n",
       "  color: var(--sklearn-color-fitted-level-1);\n",
       "}\n",
       "\n",
       "/* On hover */\n",
       "#sk-container-id-1 a.estimator_doc_link:hover {\n",
       "  /* unfitted */\n",
       "  background-color: var(--sklearn-color-unfitted-level-3);\n",
       "  color: var(--sklearn-color-background);\n",
       "  text-decoration: none;\n",
       "}\n",
       "\n",
       "#sk-container-id-1 a.estimator_doc_link.fitted:hover {\n",
       "  /* fitted */\n",
       "  background-color: var(--sklearn-color-fitted-level-3);\n",
       "}\n",
       "</style><div id=\"sk-container-id-1\" class=\"sk-top-container\"><div class=\"sk-text-repr-fallback\"><pre>LogisticRegression(penalty=None)</pre><b>In a Jupyter environment, please rerun this cell to show the HTML representation or trust the notebook. <br />On GitHub, the HTML representation is unable to render, please try loading this page with nbviewer.org.</b></div><div class=\"sk-container\" hidden><div class=\"sk-item\"><div class=\"sk-estimator fitted sk-toggleable\"><input class=\"sk-toggleable__control sk-hidden--visually\" id=\"sk-estimator-id-1\" type=\"checkbox\" checked><label for=\"sk-estimator-id-1\" class=\"sk-toggleable__label fitted sk-toggleable__label-arrow fitted\">&nbsp;&nbsp;LogisticRegression<a class=\"sk-estimator-doc-link fitted\" rel=\"noreferrer\" target=\"_blank\" href=\"https://scikit-learn.org/1.4/modules/generated/sklearn.linear_model.LogisticRegression.html\">?<span>Documentation for LogisticRegression</span></a><span class=\"sk-estimator-doc-link fitted\">i<span>Fitted</span></span></label><div class=\"sk-toggleable__content fitted\"><pre>LogisticRegression(penalty=None)</pre></div> </div></div></div></div>"
      ],
      "text/plain": [
       "LogisticRegression(penalty=None)"
      ]
     },
     "execution_count": 4,
     "metadata": {},
     "output_type": "execute_result"
    }
   ],
   "source": [
    "# 모델링\n",
    "from sklearn.linear_model import LogisticRegression\n",
    "model_sk = LogisticRegression(penalty=None)\n",
    "# 반드시 penalty=None으로 입력할 것. default='l2'\n",
    "model_sk.fit(x_train, y_train)"
   ]
  },
  {
   "cell_type": "code",
   "execution_count": 158,
   "id": "dce6b0ba-a691-4882-a711-ae131ffdd665",
   "metadata": {},
   "outputs": [],
   "source": [
    "# 실기체험환경에선 penalty = 'none'"
   ]
  },
  {
   "cell_type": "code",
   "execution_count": 5,
   "id": "5f0fad2e-bbb5-4fe1-a00a-d2f8d28cfabb",
   "metadata": {},
   "outputs": [
    {
     "name": "stdout",
     "output_type": "stream",
     "text": [
      "[[ 2.7284 -0.3799  0.0094]]\n",
      "2.7284\n",
      "-0.3799\n",
      "0.0094\n"
     ]
    }
   ],
   "source": [
    "# 로지스틱회귀분석 관련 지표 출력\n",
    "print(np.round(model_sk.coef_, 4))\n",
    "print(np.round(model_sk.coef_[0,0], 4))\n",
    "print(np.round(model_sk.coef_[0,1], 4))\n",
    "print(np.round(model_sk.coef_[0,2], 4))"
   ]
  },
  {
   "cell_type": "code",
   "execution_count": 6,
   "id": "d6db3f61-f64f-4d9d-a977-61a50ba9a014",
   "metadata": {},
   "outputs": [
    {
     "name": "stdout",
     "output_type": "stream",
     "text": [
      "[-1.6815]\n"
     ]
    }
   ],
   "source": [
    "print(np.round(model_sk.intercept_, 4))"
   ]
  },
  {
   "cell_type": "code",
   "execution_count": 7,
   "id": "ecf855a9-a3f7-439c-a8f9-219110f4a7a2",
   "metadata": {},
   "outputs": [],
   "source": [
    "# 결과 : ln(P/1-P) = -1.6815 + 2.7284sex - 0.3799sibsp + 0.0094fare"
   ]
  },
  {
   "cell_type": "code",
   "execution_count": 9,
   "id": "3ef2093d-f251-40c7-b47c-a9d67209fd8b",
   "metadata": {},
   "outputs": [
    {
     "name": "stdout",
     "output_type": "stream",
     "text": [
      "0.68\n"
     ]
    }
   ],
   "source": [
    "# 1. odds ratio 구하기\n",
    "# 로지스틱 회귀모형에서 sibsp 변수가 한단위 증가할 때 생존할 오즈가 몇 배 증가?\n",
    "\n",
    "# exp^(b2)를 구하면 된다\n",
    "result = np.exp(model_sk.coef_[0,1])\n",
    "print(round(result, 2))"
   ]
  },
  {
   "cell_type": "code",
   "execution_count": 10,
   "id": "a4982926-e836-45cd-a206-8424b2f9992e",
   "metadata": {},
   "outputs": [],
   "source": [
    "# 해석 : sibsp 변수가 한 단위 증가할 때 생존할 오즈가 0.68배 증가한다.\n",
    "# 생존할 오즈가 32% 감소한다.\n",
    "# 답 : odds ratio는 0.68"
   ]
  },
  {
   "cell_type": "code",
   "execution_count": 13,
   "id": "5d4ca185-2d93-499d-a50e-7638ecba45dd",
   "metadata": {},
   "outputs": [
    {
     "name": "stdout",
     "output_type": "stream",
     "text": [
      "238.5369401214462\n"
     ]
    }
   ],
   "source": [
    "# 2. residual deviance(잔차 이탈도) 구하기\n",
    "# residual deviance = cross entropy(log loss) * 2\n",
    "# (주의: log_loss() 옵션에 normalize=False 설정할 것!)\n",
    "from sklearn.metrics import log_loss\n",
    "# 얻게되는 모델의 이탈도 값 구하기\n",
    "y_pred_proba = model_sk.predict_proba(x_train) # 주의 : 확률값을 구해야 함\n",
    "logloss = log_loss(y_train, y_pred_proba, normalize=False)\n",
    "# normalize = true : if true, return the mean loss per sample\n",
    "# otherwise, return the sum of the per-sample losses\n",
    "print(logloss)"
   ]
  },
  {
   "cell_type": "code",
   "execution_count": 14,
   "id": "4331c2d3-d25f-42dd-90ec-8bdd96a3ad7f",
   "metadata": {},
   "outputs": [
    {
     "name": "stdout",
     "output_type": "stream",
     "text": [
      "477.07\n"
     ]
    }
   ],
   "source": [
    "print(round(logloss*2, 2))"
   ]
  },
  {
   "cell_type": "code",
   "execution_count": null,
   "id": "5a94c37a-71a2-42b6-b8e9-8e91badace2b",
   "metadata": {},
   "outputs": [],
   "source": [
    "# residual deviance : 477.07"
   ]
  },
  {
   "cell_type": "code",
   "execution_count": 15,
   "id": "5dc369ab-c503-4a74-adcf-35809cdeaff4",
   "metadata": {},
   "outputs": [
    {
     "name": "stdout",
     "output_type": "stream",
     "text": [
      "238.5369401214462\n"
     ]
    }
   ],
   "source": [
    "from sklearn.metrics import log_loss\n",
    "y_pred_proba = model_sk.predict_proba(x_train)\n",
    "logloss = log_loss(y_train, y_pred_proba, normalize=False)\n",
    "print(logloss)"
   ]
  },
  {
   "cell_type": "code",
   "execution_count": 16,
   "id": "966b8e48-e5c9-4b3d-8a39-dec43c485118",
   "metadata": {},
   "outputs": [
    {
     "name": "stdout",
     "output_type": "stream",
     "text": [
      "477.07\n"
     ]
    }
   ],
   "source": [
    "print(round(logloss*2 , 2))"
   ]
  },
  {
   "cell_type": "code",
   "execution_count": 17,
   "id": "9cf160ed-11d2-40a3-a040-6873ee2a2803",
   "metadata": {},
   "outputs": [
    {
     "name": "stdout",
     "output_type": "stream",
     "text": [
      "0.782608695652174\n",
      "0.22\n"
     ]
    }
   ],
   "source": [
    "# 3. 성능평가(정확도와 오분류율)\n",
    "y_pred = model_sk.predict(x_test)\n",
    "from sklearn.metrics import accuracy_score\n",
    "acc = accuracy_score(y_test, y_pred)\n",
    "print(acc)\n",
    "# 오분류율 = 1 - 정확도\n",
    "print(round(1-acc, 2))"
   ]
  },
  {
   "cell_type": "code",
   "execution_count": 18,
   "id": "93743d0a-e76e-41e9-8788-1271a517c81d",
   "metadata": {},
   "outputs": [],
   "source": [
    "# 2. statsmodels 라이브러리 사용"
   ]
  },
  {
   "cell_type": "code",
   "execution_count": 21,
   "id": "0c2b965b-052b-43e1-8a86-e25d8d8076dc",
   "metadata": {},
   "outputs": [
    {
     "name": "stdout",
     "output_type": "stream",
     "text": [
      "Optimization terminated successfully.\n",
      "         Current function value: 0.477074\n",
      "         Iterations 6\n",
      "                           Logit Regression Results                           \n",
      "==============================================================================\n",
      "Dep. Variable:               survived   No. Observations:                  500\n",
      "Model:                          Logit   Df Residuals:                      496\n",
      "Method:                           MLE   Df Model:                            3\n",
      "Date:                Wed, 19 Jun 2024   Pseudo R-squ.:                  0.2847\n",
      "Time:                        00:12:40   Log-Likelihood:                -238.54\n",
      "converged:                       True   LL-Null:                       -333.46\n",
      "Covariance Type:            nonrobust   LLR p-value:                 6.573e-41\n",
      "==============================================================================\n",
      "                 coef    std err          z      P>|z|      [0.025      0.975]\n",
      "------------------------------------------------------------------------------\n",
      "const         -1.6815      0.174     -9.690      0.000      -2.022      -1.341\n",
      "sex            2.7284      0.239     11.423      0.000       2.260       3.197\n",
      "sibsp         -0.3799      0.126     -3.004      0.003      -0.628      -0.132\n",
      "fare           0.0094      0.003      3.236      0.001       0.004       0.015\n",
      "==============================================================================\n"
     ]
    }
   ],
   "source": [
    "import statsmodels.api as sm\n",
    "\n",
    "x_train = sm.add_constant(x_train) # 주의 : 상수항 추가해줘야 함\n",
    "model_logit = sm.Logit(y_train, x_train).fit()\n",
    "summary = model_logit.summary()\n",
    "print(summary)"
   ]
  },
  {
   "cell_type": "code",
   "execution_count": 22,
   "id": "741241de-58d5-4e85-9125-691d9b4f9022",
   "metadata": {},
   "outputs": [],
   "source": [
    "# 결과 ln(P/1-P) = -1.6815 + 2.7284sex - 0.3799sibsp + 0.0094fare"
   ]
  },
  {
   "cell_type": "code",
   "execution_count": 23,
   "id": "59689049-134c-4ae2-9b71-5347019fd87e",
   "metadata": {},
   "outputs": [
    {
     "name": "stdout",
     "output_type": "stream",
     "text": [
      "0.68\n"
     ]
    }
   ],
   "source": [
    "result = np.exp(-0.3799)\n",
    "print(round(result, 2))"
   ]
  },
  {
   "cell_type": "code",
   "execution_count": 24,
   "id": "bb35038a-b2f8-4fe3-b411-1950c1be3e88",
   "metadata": {},
   "outputs": [],
   "source": [
    "# sibsp 변수의 odds ratio : 0.68"
   ]
  },
  {
   "cell_type": "code",
   "execution_count": 25,
   "id": "9f523a4f-5ccf-48fa-9885-6d2a8184e44c",
   "metadata": {},
   "outputs": [
    {
     "name": "stdout",
     "output_type": "stream",
     "text": [
      "                         Results: Logit\n",
      "=================================================================\n",
      "Model:              Logit            Method:           MLE       \n",
      "Dependent Variable: survived         Pseudo R-squared: 0.285     \n",
      "Date:               2024-06-19 00:15 AIC:              485.0739  \n",
      "No. Observations:   500              BIC:              501.9323  \n",
      "Df Model:           3                Log-Likelihood:   -238.54   \n",
      "Df Residuals:       496              LL-Null:          -333.46   \n",
      "Converged:          1.0000           LLR p-value:      6.5725e-41\n",
      "No. Iterations:     6.0000           Scale:            1.0000    \n",
      "-------------------------------------------------------------------\n",
      "           Coef.    Std.Err.      z      P>|z|     [0.025    0.975]\n",
      "-------------------------------------------------------------------\n",
      "const     -1.6815     0.1735   -9.6899   0.0000   -2.0216   -1.3414\n",
      "sex        2.7284     0.2389   11.4229   0.0000    2.2603    3.1966\n",
      "sibsp     -0.3799     0.1265   -3.0042   0.0027   -0.6278   -0.1321\n",
      "fare       0.0094     0.0029    3.2364   0.0012    0.0037    0.0151\n",
      "=================================================================\n",
      "\n"
     ]
    }
   ],
   "source": [
    "print(model_logit.summary2())"
   ]
  },
  {
   "cell_type": "code",
   "execution_count": 26,
   "id": "ed3726f5-f257-4102-a6db-077a31787738",
   "metadata": {},
   "outputs": [
    {
     "name": "stdout",
     "output_type": "stream",
     "text": [
      "477.08\n"
     ]
    }
   ],
   "source": [
    "ce = -1 * -238.54 # cross entropy = (-)Log likelihood\n",
    "rd = ce*2 # residual deviance = 2*cross entropy\n",
    "print(rd) # 반올림해서 소수점 둘째 자리가 다름"
   ]
  },
  {
   "cell_type": "code",
   "execution_count": 27,
   "id": "38f37b1f-b606-4197-abda-f2f657e2318c",
   "metadata": {},
   "outputs": [],
   "source": [
    "# (주의) : 소수점 둘째 자리가 다름"
   ]
  },
  {
   "cell_type": "code",
   "execution_count": 28,
   "id": "bb3bb03e-396b-4cb5-beeb-1f03fad75424",
   "metadata": {},
   "outputs": [
    {
     "name": "stdout",
     "output_type": "stream",
     "text": [
      "                 Generalized Linear Model Regression Results                  \n",
      "==============================================================================\n",
      "Dep. Variable:               survived   No. Observations:                  500\n",
      "Model:                            GLM   Df Residuals:                      496\n",
      "Model Family:                Binomial   Df Model:                            3\n",
      "Link Function:                  Logit   Scale:                          1.0000\n",
      "Method:                          IRLS   Log-Likelihood:                -238.54\n",
      "Date:                Wed, 19 Jun 2024   Deviance:                       477.07\n",
      "Time:                        00:20:56   Pearson chi2:                     498.\n",
      "No. Iterations:                     5   Pseudo R-squ. (CS):             0.3159\n",
      "Covariance Type:            nonrobust                                         \n",
      "==============================================================================\n",
      "                 coef    std err          z      P>|z|      [0.025      0.975]\n",
      "------------------------------------------------------------------------------\n",
      "const         -1.6815      0.174     -9.690      0.000      -2.022      -1.341\n",
      "sex            2.7284      0.239     11.423      0.000       2.260       3.197\n",
      "sibsp         -0.3799      0.126     -3.004      0.003      -0.628      -0.132\n",
      "fare           0.0094      0.003      3.236      0.001       0.004       0.015\n",
      "==============================================================================\n"
     ]
    }
   ],
   "source": [
    "# 모델링 (GLM 함수)\n",
    "import statsmodels.api as sm\n",
    "x_train = sm.add_constant(x_train)\n",
    "model_glm = sm.GLM(y_train, x_train, family=sm.families.Binomial()).fit()\n",
    "summary = model_glm.summary()\n",
    "print(summary)"
   ]
  },
  {
   "cell_type": "code",
   "execution_count": 29,
   "id": "09a376da-53f3-462d-8ac7-e7a08846bd4a",
   "metadata": {},
   "outputs": [],
   "source": [
    "# residual deviance : 477.07"
   ]
  },
  {
   "cell_type": "code",
   "execution_count": 30,
   "id": "3aaa1ede-57c7-4ddf-87bc-1583b31f521d",
   "metadata": {},
   "outputs": [
    {
     "name": "stdout",
     "output_type": "stream",
     "text": [
      "                 Generalized Linear Model Regression Results                  \n",
      "==============================================================================\n",
      "Dep. Variable:               survived   No. Observations:                  500\n",
      "Model:                            GLM   Df Residuals:                      496\n",
      "Model Family:                Binomial   Df Model:                            3\n",
      "Link Function:                  Logit   Scale:                          1.0000\n",
      "Method:                          IRLS   Log-Likelihood:                -238.54\n",
      "Date:                Wed, 19 Jun 2024   Deviance:                       477.07\n",
      "Time:                        00:22:22   Pearson chi2:                     498.\n",
      "No. Iterations:                     5   Pseudo R-squ. (CS):             0.3159\n",
      "Covariance Type:            nonrobust                                         \n",
      "==============================================================================\n",
      "                 coef    std err          z      P>|z|      [0.025      0.975]\n",
      "------------------------------------------------------------------------------\n",
      "const         -1.6815      0.174     -9.690      0.000      -2.022      -1.341\n",
      "sex            2.7284      0.239     11.423      0.000       2.260       3.197\n",
      "sibsp         -0.3799      0.126     -3.004      0.003      -0.628      -0.132\n",
      "fare           0.0094      0.003      3.236      0.001       0.004       0.015\n",
      "==============================================================================\n"
     ]
    }
   ],
   "source": [
    "import statsmodels.api as sm\n",
    "x_train = sm.add_constant(x_train)\n",
    "model_glm = sm.GLM(y_train, x_train, family=sm.families.Binomial()).fit()\n",
    "summary = model_glm.summary()\n",
    "print(summary)"
   ]
  },
  {
   "cell_type": "code",
   "execution_count": 31,
   "id": "e795d2fa-338a-4ac3-ae44-a9a25e769add",
   "metadata": {},
   "outputs": [
    {
     "name": "stdout",
     "output_type": "stream",
     "text": [
      "Optimization terminated successfully.\n",
      "         Current function value: 0.477074\n",
      "         Iterations 6\n",
      "500    0.168002\n",
      "501    0.753984\n",
      "502    0.753773\n",
      "503    0.757183\n",
      "504    0.865585\n",
      "         ...   \n",
      "886    0.173796\n",
      "887    0.790801\n",
      "888    0.708492\n",
      "889    0.198027\n",
      "890    0.166803\n",
      "Length: 391, dtype: float64\n"
     ]
    }
   ],
   "source": [
    "# 성능평가 (정확도와 오분류율) - Logit 함수\n",
    "import statsmodels.api as sm\n",
    "\n",
    "x_test = sm.add_constant(x_test)\n",
    "model_logit = sm.Logit(y_train, x_train).fit()\n",
    "y_pred_logit = model_logit.predict(x_test)\n",
    "print(y_pred_logit)"
   ]
  },
  {
   "cell_type": "code",
   "execution_count": 32,
   "id": "0e59d5b2-1351-444e-b74e-ae1013b2313b",
   "metadata": {},
   "outputs": [
    {
     "name": "stdout",
     "output_type": "stream",
     "text": [
      "[0 1 1 1 1 0 1 0 0 0 0 0 0 1 0 0 1 0 1 0 1 0 0 1 0 0 1 1 0 0 1 0 0 1 1 1 0\n",
      " 1 0 1 1 0 0 0 0 0 1 0 0 0 0 0 0 0 1 0 1 1 1 1 0 0 0 0 1 0 0 1 0 0 0 1 0 1\n",
      " 0 0 1 1 1 0 1 1 0 0 0 1 0 0 0 0 0 1 0 1 0 0 1 0 0 0 1 0 0 0 0 0 0 0 1 1 1\n",
      " 0 1 0 0 1 0 1 1 0 0 0 0 0 0 0 0 1 0 0 0 0 0 0 1 1 0 0 1 0 0 1 1 0 1 0 0 0\n",
      " 0 1 0 1 0 1 1 0 0 1 0 0 0 0 0 0 0 0 0 0 0 1 1 0 0 0 0 0 0 1 1 1 1 0 0 0 0\n",
      " 0 0 0 0 1 0 1 0 0 0 0 0 1 0 0 1 0 1 0 0 0 1 0 1 0 1 0 0 0 0 0 1 1 0 0 1 0\n",
      " 0 0 0 0 1 1 0 1 1 0 0 0 0 0 1 1 0 0 0 0 1 0 0 0 0 1 0 0 1 0 0 0 1 0 0 0 0\n",
      " 1 0 0 0 1 0 1 0 1 0 0 0 0 1 0 1 0 0 1 0 1 1 1 0 0 0 0 1 0 0 0 0 0 0 0 0 0\n",
      " 1 1 0 1 0 1 0 0 0 0 0 1 0 1 0 0 0 0 0 0 1 0 0 0 1 0 0 1 0 0 0 0 0 1 1 0 0\n",
      " 0 0 1 0 0 0 0 0 0 1 0 0 0 0 0 0 1 0 0 1 1 1 1 1 0 1 0 0 0 1 0 0 1 1 0 0 0\n",
      " 0 1 0 0 1 1 0 0 0 1 1 0 1 0 0 1 0 1 1 0 0]\n"
     ]
    }
   ],
   "source": [
    "y_pred_logit_class = np.where(y_pred_logit > 0.5, 1, 0)\n",
    "print(y_pred_logit_class)"
   ]
  },
  {
   "cell_type": "code",
   "execution_count": 33,
   "id": "27ba6c90-cf10-4080-af0c-a25335d3d98d",
   "metadata": {},
   "outputs": [
    {
     "name": "stdout",
     "output_type": "stream",
     "text": [
      "0.782608695652174\n",
      "0.22\n"
     ]
    }
   ],
   "source": [
    "# 모델 성능 평가\n",
    "from sklearn.metrics import accuracy_score\n",
    "acc_logit = accuracy_score(y_test, y_pred_logit_class)\n",
    "print(acc_logit)\n",
    "print(round(1-acc_logit, 2))"
   ]
  },
  {
   "cell_type": "code",
   "execution_count": 34,
   "id": "91952b38-2703-4936-8450-d1fb6b66fe3a",
   "metadata": {},
   "outputs": [
    {
     "name": "stdout",
     "output_type": "stream",
     "text": [
      "500    0.168002\n",
      "501    0.753984\n",
      "502    0.753773\n",
      "503    0.757183\n",
      "504    0.865585\n",
      "         ...   \n",
      "886    0.173796\n",
      "887    0.790801\n",
      "888    0.708492\n",
      "889    0.198027\n",
      "890    0.166803\n",
      "Length: 391, dtype: float64\n"
     ]
    }
   ],
   "source": [
    "# 성능평가 (정확도와 오분류율) - GLM 함수\n",
    "import statsmodels.api as sm\n",
    "x_test = sm.add_constant(x_test)\n",
    "model_glm = sm.GLM(y_train, x_train, family=sm.families.Binomial()).fit()\n",
    "y_pred_glm = model_glm.predict(x_test)\n",
    "print(y_pred_glm)"
   ]
  },
  {
   "cell_type": "code",
   "execution_count": 35,
   "id": "547818e8-036a-4021-a52e-6ea1e83e0f11",
   "metadata": {},
   "outputs": [
    {
     "name": "stdout",
     "output_type": "stream",
     "text": [
      "[0 1 1 1 1 0 1 0 0 0 0 0 0 1 0 0 1 0 1 0 1 0 0 1 0 0 1 1 0 0 1 0 0 1 1 1 0\n",
      " 1 0 1 1 0 0 0 0 0 1 0 0 0 0 0 0 0 1 0 1 1 1 1 0 0 0 0 1 0 0 1 0 0 0 1 0 1\n",
      " 0 0 1 1 1 0 1 1 0 0 0 1 0 0 0 0 0 1 0 1 0 0 1 0 0 0 1 0 0 0 0 0 0 0 1 1 1\n",
      " 0 1 0 0 1 0 1 1 0 0 0 0 0 0 0 0 1 0 0 0 0 0 0 1 1 0 0 1 0 0 1 1 0 1 0 0 0\n",
      " 0 1 0 1 0 1 1 0 0 1 0 0 0 0 0 0 0 0 0 0 0 1 1 0 0 0 0 0 0 1 1 1 1 0 0 0 0\n",
      " 0 0 0 0 1 0 1 0 0 0 0 0 1 0 0 1 0 1 0 0 0 1 0 1 0 1 0 0 0 0 0 1 1 0 0 1 0\n",
      " 0 0 0 0 1 1 0 1 1 0 0 0 0 0 1 1 0 0 0 0 1 0 0 0 0 1 0 0 1 0 0 0 1 0 0 0 0\n",
      " 1 0 0 0 1 0 1 0 1 0 0 0 0 1 0 1 0 0 1 0 1 1 1 0 0 0 0 1 0 0 0 0 0 0 0 0 0\n",
      " 1 1 0 1 0 1 0 0 0 0 0 1 0 1 0 0 0 0 0 0 1 0 0 0 1 0 0 1 0 0 0 0 0 1 1 0 0\n",
      " 0 0 1 0 0 0 0 0 0 1 0 0 0 0 0 0 1 0 0 1 1 1 1 1 0 1 0 0 0 1 0 0 1 1 0 0 0\n",
      " 0 1 0 0 1 1 0 0 0 1 1 0 1 0 0 1 0 1 1 0 0]\n"
     ]
    }
   ],
   "source": [
    "y_pred_glm_class = np.where(y_pred_glm>0.5, 1, 0)\n",
    "print(y_pred_glm_class)"
   ]
  },
  {
   "cell_type": "code",
   "execution_count": 36,
   "id": "7fa87ec2-a2d6-47a4-be9f-954df568a421",
   "metadata": {},
   "outputs": [
    {
     "name": "stdout",
     "output_type": "stream",
     "text": [
      "0.782608695652174\n",
      "0.22\n"
     ]
    }
   ],
   "source": [
    "from sklearn.metrics import accuracy_score\n",
    "acc_glm = accuracy_score(y_test, y_pred_glm_class)\n",
    "print(acc_glm)\n",
    "print(round(1-acc_glm, 2))"
   ]
  },
  {
   "cell_type": "code",
   "execution_count": 37,
   "id": "98cf58a7-72ea-4db5-979e-2a4b3cf55746",
   "metadata": {},
   "outputs": [],
   "source": [
    "# 2. 다중선형회귀분석(15점, 각 소문제당 5점)"
   ]
  },
  {
   "cell_type": "code",
   "execution_count": 38,
   "id": "3bc591ed-9c12-4e2e-b789-24b7d99ac644",
   "metadata": {},
   "outputs": [],
   "source": [
    "# ### 예제문제 3유형-2번\n",
    "# - 다음은 당뇨병 환자의 질병 진행정도 데이터셋이다.\n",
    "# - target을 종속변수(Y), 나머지를 독립변수(X)로 분석했을 때 아래 질문에 답하시오.\n",
    "# - (단, 모든 답은 반올림하여 소수점 둘째자리까지 구하시오)\n",
    "# - 1. target변수와 가장 큰 상관관계를 갖는 변수의 상관계수를 구하시오.\n",
    "#   2. 다중선형회귀 모델링 후 결정계수(R2 score)를 구하시오.\n",
    "#   3. 문제 2에서 구한 회귀모델에서 p-value가 가장 큰 변수의 p-value 값을 구하시오."
   ]
  },
  {
   "cell_type": "code",
   "execution_count": 39,
   "id": "470cdbc1-435d-4f30-bb93-78c0d1c1a5b4",
   "metadata": {},
   "outputs": [],
   "source": [
    "###############\t\t실기환경\t복사\t영역\t\t###############\n",
    " #\t데이터\t불러오기\n",
    "import\tpandas\tas\tpd\n",
    "import\tnumpy\tas\tnp\n",
    "#\t실기\t시험\t데이터셋으로\t셋팅하기\t(수정금지)\n",
    "from\tsklearn.datasets\timport\tload_diabetes\n",
    " #\tdiabetes\t데이터셋\t로드\n",
    "diabetes\t=\tload_diabetes()\n",
    "x\t=\tpd.DataFrame(diabetes.data,\tcolumns=diabetes.feature_names)\n",
    "y\t=\tpd.DataFrame(diabetes.target)\n",
    "y.columns\t=\t['target']\n",
    "df = pd.concat([x,y], axis=1)\n",
    " ###############\t\t실기환경\t복사\t영역\t\t###############"
   ]
  },
  {
   "cell_type": "code",
   "execution_count": 40,
   "id": "e747ba79-8a96-4486-9f0c-c99be17f18d4",
   "metadata": {},
   "outputs": [
    {
     "data": {
      "text/html": [
       "<div>\n",
       "<style scoped>\n",
       "    .dataframe tbody tr th:only-of-type {\n",
       "        vertical-align: middle;\n",
       "    }\n",
       "\n",
       "    .dataframe tbody tr th {\n",
       "        vertical-align: top;\n",
       "    }\n",
       "\n",
       "    .dataframe thead th {\n",
       "        text-align: right;\n",
       "    }\n",
       "</style>\n",
       "<table border=\"1\" class=\"dataframe\">\n",
       "  <thead>\n",
       "    <tr style=\"text-align: right;\">\n",
       "      <th></th>\n",
       "      <th>age</th>\n",
       "      <th>sex</th>\n",
       "      <th>bmi</th>\n",
       "      <th>bp</th>\n",
       "      <th>s1</th>\n",
       "      <th>s2</th>\n",
       "      <th>s3</th>\n",
       "      <th>s4</th>\n",
       "      <th>s5</th>\n",
       "      <th>s6</th>\n",
       "      <th>target</th>\n",
       "    </tr>\n",
       "  </thead>\n",
       "  <tbody>\n",
       "    <tr>\n",
       "      <th>0</th>\n",
       "      <td>0.038076</td>\n",
       "      <td>0.050680</td>\n",
       "      <td>0.061696</td>\n",
       "      <td>0.021872</td>\n",
       "      <td>-0.044223</td>\n",
       "      <td>-0.034821</td>\n",
       "      <td>-0.043401</td>\n",
       "      <td>-0.002592</td>\n",
       "      <td>0.019907</td>\n",
       "      <td>-0.017646</td>\n",
       "      <td>151.0</td>\n",
       "    </tr>\n",
       "    <tr>\n",
       "      <th>1</th>\n",
       "      <td>-0.001882</td>\n",
       "      <td>-0.044642</td>\n",
       "      <td>-0.051474</td>\n",
       "      <td>-0.026328</td>\n",
       "      <td>-0.008449</td>\n",
       "      <td>-0.019163</td>\n",
       "      <td>0.074412</td>\n",
       "      <td>-0.039493</td>\n",
       "      <td>-0.068332</td>\n",
       "      <td>-0.092204</td>\n",
       "      <td>75.0</td>\n",
       "    </tr>\n",
       "    <tr>\n",
       "      <th>2</th>\n",
       "      <td>0.085299</td>\n",
       "      <td>0.050680</td>\n",
       "      <td>0.044451</td>\n",
       "      <td>-0.005670</td>\n",
       "      <td>-0.045599</td>\n",
       "      <td>-0.034194</td>\n",
       "      <td>-0.032356</td>\n",
       "      <td>-0.002592</td>\n",
       "      <td>0.002861</td>\n",
       "      <td>-0.025930</td>\n",
       "      <td>141.0</td>\n",
       "    </tr>\n",
       "    <tr>\n",
       "      <th>3</th>\n",
       "      <td>-0.089063</td>\n",
       "      <td>-0.044642</td>\n",
       "      <td>-0.011595</td>\n",
       "      <td>-0.036656</td>\n",
       "      <td>0.012191</td>\n",
       "      <td>0.024991</td>\n",
       "      <td>-0.036038</td>\n",
       "      <td>0.034309</td>\n",
       "      <td>0.022688</td>\n",
       "      <td>-0.009362</td>\n",
       "      <td>206.0</td>\n",
       "    </tr>\n",
       "    <tr>\n",
       "      <th>4</th>\n",
       "      <td>0.005383</td>\n",
       "      <td>-0.044642</td>\n",
       "      <td>-0.036385</td>\n",
       "      <td>0.021872</td>\n",
       "      <td>0.003935</td>\n",
       "      <td>0.015596</td>\n",
       "      <td>0.008142</td>\n",
       "      <td>-0.002592</td>\n",
       "      <td>-0.031988</td>\n",
       "      <td>-0.046641</td>\n",
       "      <td>135.0</td>\n",
       "    </tr>\n",
       "  </tbody>\n",
       "</table>\n",
       "</div>"
      ],
      "text/plain": [
       "        age       sex       bmi        bp        s1        s2        s3  \\\n",
       "0  0.038076  0.050680  0.061696  0.021872 -0.044223 -0.034821 -0.043401   \n",
       "1 -0.001882 -0.044642 -0.051474 -0.026328 -0.008449 -0.019163  0.074412   \n",
       "2  0.085299  0.050680  0.044451 -0.005670 -0.045599 -0.034194 -0.032356   \n",
       "3 -0.089063 -0.044642 -0.011595 -0.036656  0.012191  0.024991 -0.036038   \n",
       "4  0.005383 -0.044642 -0.036385  0.021872  0.003935  0.015596  0.008142   \n",
       "\n",
       "         s4        s5        s6  target  \n",
       "0 -0.002592  0.019907 -0.017646   151.0  \n",
       "1 -0.039493 -0.068332 -0.092204    75.0  \n",
       "2 -0.002592  0.002861 -0.025930   141.0  \n",
       "3  0.034309  0.022688 -0.009362   206.0  \n",
       "4 -0.002592 -0.031988 -0.046641   135.0  "
      ]
     },
     "execution_count": 40,
     "metadata": {},
     "output_type": "execute_result"
    }
   ],
   "source": [
    "df.head()"
   ]
  },
  {
   "cell_type": "code",
   "execution_count": 41,
   "id": "6f7eb04d-b7b1-456c-8860-85d92d06a2a2",
   "metadata": {},
   "outputs": [
    {
     "name": "stdout",
     "output_type": "stream",
     "text": [
      "             age       sex       bmi        bp        s1        s2        s3  \\\n",
      "age     1.000000  0.173737  0.185085  0.335428  0.260061  0.219243 -0.075181   \n",
      "sex     0.173737  1.000000  0.088161  0.241010  0.035277  0.142637 -0.379090   \n",
      "bmi     0.185085  0.088161  1.000000  0.395411  0.249777  0.261170 -0.366811   \n",
      "bp      0.335428  0.241010  0.395411  1.000000  0.242464  0.185548 -0.178762   \n",
      "s1      0.260061  0.035277  0.249777  0.242464  1.000000  0.896663  0.051519   \n",
      "s2      0.219243  0.142637  0.261170  0.185548  0.896663  1.000000 -0.196455   \n",
      "s3     -0.075181 -0.379090 -0.366811 -0.178762  0.051519 -0.196455  1.000000   \n",
      "s4      0.203841  0.332115  0.413807  0.257650  0.542207  0.659817 -0.738493   \n",
      "s5      0.270774  0.149916  0.446157  0.393480  0.515503  0.318357 -0.398577   \n",
      "s6      0.301731  0.208133  0.388680  0.390430  0.325717  0.290600 -0.273697   \n",
      "target  0.187889  0.043062  0.586450  0.441482  0.212022  0.174054 -0.394789   \n",
      "\n",
      "              s4        s5        s6    target  \n",
      "age     0.203841  0.270774  0.301731  0.187889  \n",
      "sex     0.332115  0.149916  0.208133  0.043062  \n",
      "bmi     0.413807  0.446157  0.388680  0.586450  \n",
      "bp      0.257650  0.393480  0.390430  0.441482  \n",
      "s1      0.542207  0.515503  0.325717  0.212022  \n",
      "s2      0.659817  0.318357  0.290600  0.174054  \n",
      "s3     -0.738493 -0.398577 -0.273697 -0.394789  \n",
      "s4      1.000000  0.617859  0.417212  0.430453  \n",
      "s5      0.617859  1.000000  0.464669  0.565883  \n",
      "s6      0.417212  0.464669  1.000000  0.382483  \n",
      "target  0.430453  0.565883  0.382483  1.000000  \n"
     ]
    }
   ],
   "source": [
    "# 1. target 변수와 가장 큰 상관관계를 갖는 변수의 상관계수를 구하시오.\n",
    "print(df.corr())"
   ]
  },
  {
   "cell_type": "code",
   "execution_count": 42,
   "id": "b1792d16-861e-48e6-b06b-ffd3a5506490",
   "metadata": {},
   "outputs": [
    {
     "name": "stdout",
     "output_type": "stream",
     "text": [
      "             age       sex       bmi        bp        s1        s2        s3  \\\n",
      "age     1.000000  0.173737  0.185085  0.335428  0.260061  0.219243  0.075181   \n",
      "sex     0.173737  1.000000  0.088161  0.241010  0.035277  0.142637  0.379090   \n",
      "bmi     0.185085  0.088161  1.000000  0.395411  0.249777  0.261170  0.366811   \n",
      "bp      0.335428  0.241010  0.395411  1.000000  0.242464  0.185548  0.178762   \n",
      "s1      0.260061  0.035277  0.249777  0.242464  1.000000  0.896663  0.051519   \n",
      "s2      0.219243  0.142637  0.261170  0.185548  0.896663  1.000000  0.196455   \n",
      "s3      0.075181  0.379090  0.366811  0.178762  0.051519  0.196455  1.000000   \n",
      "s4      0.203841  0.332115  0.413807  0.257650  0.542207  0.659817  0.738493   \n",
      "s5      0.270774  0.149916  0.446157  0.393480  0.515503  0.318357  0.398577   \n",
      "s6      0.301731  0.208133  0.388680  0.390430  0.325717  0.290600  0.273697   \n",
      "target  0.187889  0.043062  0.586450  0.441482  0.212022  0.174054  0.394789   \n",
      "\n",
      "              s4        s5        s6    target  \n",
      "age     0.203841  0.270774  0.301731  0.187889  \n",
      "sex     0.332115  0.149916  0.208133  0.043062  \n",
      "bmi     0.413807  0.446157  0.388680  0.586450  \n",
      "bp      0.257650  0.393480  0.390430  0.441482  \n",
      "s1      0.542207  0.515503  0.325717  0.212022  \n",
      "s2      0.659817  0.318357  0.290600  0.174054  \n",
      "s3      0.738493  0.398577  0.273697  0.394789  \n",
      "s4      1.000000  0.617859  0.417212  0.430453  \n",
      "s5      0.617859  1.000000  0.464669  0.565883  \n",
      "s6      0.417212  0.464669  1.000000  0.382483  \n",
      "target  0.430453  0.565883  0.382483  1.000000  \n"
     ]
    }
   ],
   "source": [
    "# 값을 절대값으로 변환한 후 내림차순으로 정렬하고\n",
    "# target 변수와 상관계수가 가장 큰 값을 확인한다.\n",
    "df_corr = df.corr()\n",
    "df_abs = df_corr.abs()\n",
    "print(df_abs)"
   ]
  },
  {
   "cell_type": "code",
   "execution_count": 43,
   "id": "18473875-401d-4e21-9893-013618e1e90f",
   "metadata": {},
   "outputs": [
    {
     "name": "stdout",
     "output_type": "stream",
     "text": [
      "             age       sex       bmi        bp        s1        s2        s3  \\\n",
      "target  0.187889  0.043062  0.586450  0.441482  0.212022  0.174054  0.394789   \n",
      "bmi     0.185085  0.088161  1.000000  0.395411  0.249777  0.261170  0.366811   \n",
      "s5      0.270774  0.149916  0.446157  0.393480  0.515503  0.318357  0.398577   \n",
      "bp      0.335428  0.241010  0.395411  1.000000  0.242464  0.185548  0.178762   \n",
      "s4      0.203841  0.332115  0.413807  0.257650  0.542207  0.659817  0.738493   \n",
      "s3      0.075181  0.379090  0.366811  0.178762  0.051519  0.196455  1.000000   \n",
      "s6      0.301731  0.208133  0.388680  0.390430  0.325717  0.290600  0.273697   \n",
      "s1      0.260061  0.035277  0.249777  0.242464  1.000000  0.896663  0.051519   \n",
      "age     1.000000  0.173737  0.185085  0.335428  0.260061  0.219243  0.075181   \n",
      "s2      0.219243  0.142637  0.261170  0.185548  0.896663  1.000000  0.196455   \n",
      "sex     0.173737  1.000000  0.088161  0.241010  0.035277  0.142637  0.379090   \n",
      "\n",
      "              s4        s5        s6    target  \n",
      "target  0.430453  0.565883  0.382483  1.000000  \n",
      "bmi     0.413807  0.446157  0.388680  0.586450  \n",
      "s5      0.617859  1.000000  0.464669  0.565883  \n",
      "bp      0.257650  0.393480  0.390430  0.441482  \n",
      "s4      1.000000  0.617859  0.417212  0.430453  \n",
      "s3      0.738493  0.398577  0.273697  0.394789  \n",
      "s6      0.417212  0.464669  1.000000  0.382483  \n",
      "s1      0.542207  0.515503  0.325717  0.212022  \n",
      "age     0.203841  0.270774  0.301731  0.187889  \n",
      "s2      0.659817  0.318357  0.290600  0.174054  \n",
      "sex     0.332115  0.149916  0.208133  0.043062  \n"
     ]
    }
   ],
   "source": [
    "print(df_abs.sort_values('target', ascending=False))"
   ]
  },
  {
   "cell_type": "code",
   "execution_count": 44,
   "id": "3728e7f9-5bc5-43d3-bdb2-992d2ee70b0d",
   "metadata": {},
   "outputs": [
    {
     "name": "stdout",
     "output_type": "stream",
     "text": [
      "             age       sex       bmi        bp        s1        s2        s3  \\\n",
      "age     1.000000  0.173737  0.185085  0.335428  0.260061  0.219243 -0.075181   \n",
      "sex     0.173737  1.000000  0.088161  0.241010  0.035277  0.142637 -0.379090   \n",
      "bmi     0.185085  0.088161  1.000000  0.395411  0.249777  0.261170 -0.366811   \n",
      "bp      0.335428  0.241010  0.395411  1.000000  0.242464  0.185548 -0.178762   \n",
      "s1      0.260061  0.035277  0.249777  0.242464  1.000000  0.896663  0.051519   \n",
      "s2      0.219243  0.142637  0.261170  0.185548  0.896663  1.000000 -0.196455   \n",
      "s3     -0.075181 -0.379090 -0.366811 -0.178762  0.051519 -0.196455  1.000000   \n",
      "s4      0.203841  0.332115  0.413807  0.257650  0.542207  0.659817 -0.738493   \n",
      "s5      0.270774  0.149916  0.446157  0.393480  0.515503  0.318357 -0.398577   \n",
      "s6      0.301731  0.208133  0.388680  0.390430  0.325717  0.290600 -0.273697   \n",
      "target  0.187889  0.043062  0.586450  0.441482  0.212022  0.174054 -0.394789   \n",
      "\n",
      "              s4        s5        s6    target  \n",
      "age     0.203841  0.270774  0.301731  0.187889  \n",
      "sex     0.332115  0.149916  0.208133  0.043062  \n",
      "bmi     0.413807  0.446157  0.388680  0.586450  \n",
      "bp      0.257650  0.393480  0.390430  0.441482  \n",
      "s1      0.542207  0.515503  0.325717  0.212022  \n",
      "s2      0.659817  0.318357  0.290600  0.174054  \n",
      "s3     -0.738493 -0.398577 -0.273697 -0.394789  \n",
      "s4      1.000000  0.617859  0.417212  0.430453  \n",
      "s5      0.617859  1.000000  0.464669  0.565883  \n",
      "s6      0.417212  0.464669  1.000000  0.382483  \n",
      "target  0.430453  0.565883  0.382483  1.000000  \n"
     ]
    }
   ],
   "source": [
    "# 가장 상관관계가 큰 변수는 bmi 변수\n",
    "# bmi 변수와 target 변수의 상관계수를 다시 구해보면\n",
    "print(df.corr())"
   ]
  },
  {
   "cell_type": "code",
   "execution_count": 45,
   "id": "074b8cc9-5ffb-4f32-8550-9747191eb613",
   "metadata": {},
   "outputs": [],
   "source": [
    "# 정답 : target 변수와 가장 큰 상관관계를 갖는 변수의 상관계수 : 0.59"
   ]
  },
  {
   "cell_type": "code",
   "execution_count": 46,
   "id": "5fb752a6-d459-4750-90ef-3ea7740586a3",
   "metadata": {},
   "outputs": [
    {
     "name": "stdout",
     "output_type": "stream",
     "text": [
      "        age       sex       bmi        bp        s1        s2        s3  \\\n",
      "0  0.038076  0.050680  0.061696  0.021872 -0.044223 -0.034821 -0.043401   \n",
      "1 -0.001882 -0.044642 -0.051474 -0.026328 -0.008449 -0.019163  0.074412   \n",
      "2  0.085299  0.050680  0.044451 -0.005670 -0.045599 -0.034194 -0.032356   \n",
      "3 -0.089063 -0.044642 -0.011595 -0.036656  0.012191  0.024991 -0.036038   \n",
      "4  0.005383 -0.044642 -0.036385  0.021872  0.003935  0.015596  0.008142   \n",
      "\n",
      "         s4        s5        s6  \n",
      "0 -0.002592  0.019907 -0.017646  \n",
      "1 -0.039493 -0.068332 -0.092204  \n",
      "2 -0.002592  0.002861 -0.025930  \n",
      "3  0.034309  0.022688 -0.009362  \n",
      "4 -0.002592 -0.031988 -0.046641  \n",
      "0    151.0\n",
      "1     75.0\n",
      "2    141.0\n",
      "3    206.0\n",
      "4    135.0\n",
      "Name: target, dtype: float64\n"
     ]
    }
   ],
   "source": [
    "# 다중회귀분석 모델링\n",
    "# 독립변수와 종속변수 설정\n",
    "x = df.drop(['target'], axis=1)\n",
    "y = df['target']\n",
    "print(x.head())\n",
    "print(y.head())"
   ]
  },
  {
   "cell_type": "code",
   "execution_count": 47,
   "id": "3b12b45a-9419-4603-9494-d6338b5b2233",
   "metadata": {},
   "outputs": [
    {
     "name": "stdout",
     "output_type": "stream",
     "text": [
      "                            OLS Regression Results                            \n",
      "==============================================================================\n",
      "Dep. Variable:                 target   R-squared:                       0.518\n",
      "Model:                            OLS   Adj. R-squared:                  0.507\n",
      "Method:                 Least Squares   F-statistic:                     46.27\n",
      "Date:                Wed, 19 Jun 2024   Prob (F-statistic):           3.83e-62\n",
      "Time:                        00:49:24   Log-Likelihood:                -2386.0\n",
      "No. Observations:                 442   AIC:                             4794.\n",
      "Df Residuals:                     431   BIC:                             4839.\n",
      "Df Model:                          10                                         \n",
      "Covariance Type:            nonrobust                                         \n",
      "==============================================================================\n",
      "                 coef    std err          t      P>|t|      [0.025      0.975]\n",
      "------------------------------------------------------------------------------\n",
      "const        152.1335      2.576     59.061      0.000     147.071     157.196\n",
      "age          -10.0099     59.749     -0.168      0.867    -127.446     107.426\n",
      "sex         -239.8156     61.222     -3.917      0.000    -360.147    -119.484\n",
      "bmi          519.8459     66.533      7.813      0.000     389.076     650.616\n",
      "bp           324.3846     65.422      4.958      0.000     195.799     452.970\n",
      "s1          -792.1756    416.680     -1.901      0.058   -1611.153      26.802\n",
      "s2           476.7390    339.030      1.406      0.160    -189.620    1143.098\n",
      "s3           101.0433    212.531      0.475      0.635    -316.684     518.770\n",
      "s4           177.0632    161.476      1.097      0.273    -140.315     494.441\n",
      "s5           751.2737    171.900      4.370      0.000     413.407    1089.140\n",
      "s6            67.6267     65.984      1.025      0.306     -62.064     197.318\n",
      "==============================================================================\n",
      "Omnibus:                        1.506   Durbin-Watson:                   2.029\n",
      "Prob(Omnibus):                  0.471   Jarque-Bera (JB):                1.404\n",
      "Skew:                           0.017   Prob(JB):                        0.496\n",
      "Kurtosis:                       2.726   Cond. No.                         227.\n",
      "==============================================================================\n",
      "\n",
      "Notes:\n",
      "[1] Standard Errors assume that the covariance matrix of the errors is correctly specified.\n"
     ]
    }
   ],
   "source": [
    "# 모델링\n",
    "import statsmodels.api as sm\n",
    "\n",
    "x = sm.add_constant(x)\n",
    "model = sm.OLS(y,x).fit()\n",
    "summary = model.summary()\n",
    "print(summary)"
   ]
  },
  {
   "cell_type": "code",
   "execution_count": 49,
   "id": "cce898f3-5228-4573-89a8-b32050e9bd31",
   "metadata": {},
   "outputs": [],
   "source": [
    "# 정답 : 결정계수 R2 score = 0.52\n",
    "# 정답 : 회귀모델에서 p-value가 가장 큰 변수의 p-value 값은 : age 0.87"
   ]
  }
 ],
 "metadata": {
  "kernelspec": {
   "display_name": "Python 3 (ipykernel)",
   "language": "python",
   "name": "python3"
  },
  "language_info": {
   "codemirror_mode": {
    "name": "ipython",
    "version": 3
   },
   "file_extension": ".py",
   "mimetype": "text/x-python",
   "name": "python",
   "nbconvert_exporter": "python",
   "pygments_lexer": "ipython3",
   "version": "3.12.3"
  }
 },
 "nbformat": 4,
 "nbformat_minor": 5
}
