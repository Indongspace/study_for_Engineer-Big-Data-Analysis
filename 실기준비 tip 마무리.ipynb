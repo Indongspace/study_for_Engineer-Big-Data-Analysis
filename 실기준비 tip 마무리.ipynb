{
 "cells": [
  {
   "cell_type": "markdown",
   "id": "4cc2f388-3de3-4ddf-b689-5bd5c3adae8d",
   "metadata": {},
   "source": [
    "# 빅분기 실기 꿀팁 정리"
   ]
  },
  {
   "cell_type": "markdown",
   "id": "7cba9cfa-f6b3-45fe-8711-6ed2908aa7c1",
   "metadata": {},
   "source": [
    "## 기본사항"
   ]
  },
  {
   "cell_type": "markdown",
   "id": "d286a974-44d7-4688-a41a-8dacc402c424",
   "metadata": {},
   "source": [
    "## 1. 분석전에 pandas, numpy 라이브러리 불러오기"
   ]
  },
  {
   "cell_type": "code",
   "execution_count": 1,
   "id": "cd4f9e64-e07f-4cfd-b99d-7d7480343a0e",
   "metadata": {},
   "outputs": [],
   "source": [
    "import pandas as pd\n",
    "import numpy as np"
   ]
  },
  {
   "cell_type": "markdown",
   "id": "cd5f3aea-b92e-4999-8eab-0c7a5fd53478",
   "metadata": {},
   "source": [
    "## 2. 주석처리 단축키 : Ctrl + /"
   ]
  },
  {
   "cell_type": "markdown",
   "id": "5d6d1253-15f8-4e47-af72-37b41e42011b",
   "metadata": {},
   "source": [
    "### =========================================================================================="
   ]
  },
  {
   "cell_type": "markdown",
   "id": "2c9be9f1-bb0a-4385-94c4-c21f03223de7",
   "metadata": {},
   "source": [
    "# 1유형_데이터 다루기\n",
    "## 1. 문제를 꼼꼼하게 읽기\n",
    "## 2. 각 조건마다 끊어서 코딩하기\n",
    "## 3. Print 함수로 중간과정 체크하기\n",
    "## 4. 소수점 반올림인지 내림인지 확인하기\n",
    "## 5. 시간 데이터 다룰 때는 datetime으로 데이터 타입 변경"
   ]
  },
  {
   "cell_type": "markdown",
   "id": "25d50e54-6a98-4359-ac40-fdc41792853c",
   "metadata": {},
   "source": [
    "### ==========================================================================="
   ]
  },
  {
   "cell_type": "markdown",
   "id": "720e7f84-447b-4d2b-acc1-e4e376a60a7d",
   "metadata": {},
   "source": [
    "# 2유형_모델링 및 평가\n",
    "## 1. 가능하면 모든 변수는 소문자로 쓴다.\n",
    "예시) X_train -> x_train, X_test -> x_test로 변경하고 문제를 풀자"
   ]
  },
  {
   "cell_type": "markdown",
   "id": "7ef82a24-063a-4606-86e5-014bce7f0876",
   "metadata": {},
   "source": [
    "## 2. 분석을 시작하기 전에 분석 순서를 실행창에 작성해두자"
   ]
  },
  {
   "cell_type": "code",
   "execution_count": 2,
   "id": "d70dcf53-29d7-457e-9230-3a6514af393c",
   "metadata": {},
   "outputs": [],
   "source": [
    "# 1. 라이브러리 및 데이터 확인 : pandas, numpy\n",
    "# 2. 데이터 탐색(EDA) : head(), info(), describe(), value_counts()\n",
    "# 3. 데이터 전처리 및 분리 : 결측치, 이상치, 변수처리\n",
    "# 4. 모델링 및 성능평가\n",
    "# 5. 예측값 제출"
   ]
  },
  {
   "cell_type": "markdown",
   "id": "ae13acf3-e817-4786-83a0-9069573e79a6",
   "metadata": {},
   "source": [
    "## 3. 분류문제에서 검증데이터(validation) 분리할 때 stratify=y옵션을 꼭 적용하자"
   ]
  },
  {
   "cell_type": "markdown",
   "id": "bfcf8cee-5d77-416b-8066-c9ea9fdc2aca",
   "metadata": {},
   "source": [
    "## 4. help, dir 잘 활용하기\n",
    "- 1. help는 객체에 대한 설명서를 제공한다.\n",
    "  2. dir은 해당 객체의 속성 및 메서드를 나열해준다."
   ]
  },
  {
   "cell_type": "code",
   "execution_count": 7,
   "id": "569bb2ec-b143-447c-9af2-2d7de10c3992",
   "metadata": {},
   "outputs": [],
   "source": [
    "# 1. help, dir을 활용해서 랜덤포레스트 함수까지 찾아들어가기\n",
    "#import sklearn\n",
    "#print(dir(sklearn))\n",
    "#print(help(sklearn))\n",
    "# ensemble\n",
    "#import sklearn.ensemble\n",
    "#print(dir(sklearn.ensemble))\n",
    "# RandomForestClassifier\n",
    "#import sklearn.ensemble\n",
    "#print(help(sklearn.ensemble.RandomForestClassifier))"
   ]
  },
  {
   "cell_type": "code",
   "execution_count": 11,
   "id": "fad49133-06cc-407b-8ed2-40dbedfc23c2",
   "metadata": {},
   "outputs": [],
   "source": [
    "# 2. help, dir을 활용해서 train_test_split 함수까지 찾아들어가기\n",
    "#import sklearn\n",
    "#print(dir(sklearn))\n",
    "# model_selection\n",
    "#import sklearn\n",
    "#print(dir(sklearn.model_selection))\n",
    "# train_test_split\n",
    "#print(help(sklearn.model_selection.train_test_split))"
   ]
  },
  {
   "cell_type": "markdown",
   "id": "7cb6f1ad-33af-4900-95fd-7794b951092f",
   "metadata": {},
   "source": [
    "## =============================================================================="
   ]
  },
  {
   "cell_type": "markdown",
   "id": "5cff9161-e14a-4bac-81c2-261fb2f162b9",
   "metadata": {},
   "source": [
    "# 3유형_가설검정/회귀 등"
   ]
  },
  {
   "cell_type": "markdown",
   "id": "05c59dbd-00fa-4dbb-8d8c-d83aa8d9e5a0",
   "metadata": {},
   "source": [
    "## 1. 문제에서 주어진 귀무가설, 대립가설 잘 확인하기"
   ]
  },
  {
   "cell_type": "markdown",
   "id": "48265e9f-b8cb-41e8-a558-8990466dde98",
   "metadata": {},
   "source": [
    "## 2. 가설검정 Case 별 함수 확인, 데이터 Input 형태 확인\n",
    "\n",
    "- 1. 단일표본(1sample)\n",
    "     - t-test : stats.ttest_1samp(a, popmean=기준값, alternative='two-sided')\n",
    "     - 윌콕슨 부호순위 : stats.wilcoxon(a - 기준값, alternative='two-sided')\n",
    "\n",
    "- 2. 대응표본(쌍체)\n",
    "     - t-test : stats.ttest_rel(a, b, alternative='two-sided')\n",
    "     - 윌콕슨 부호순위 : stats.wilcoxon(a - b, alternative='two-sided')\n",
    "\n",
    "- 3. 독립표본(2sample)\n",
    "     - t-test : stats.ttest_ind(a, b, equal_var=True, alternative='two-sided')\n",
    "     - 윌콕슨 순위합 : stats.ranksums(a, b, alternative='two-sided')\n",
    "\n",
    "- 4. 모집단 3개 이상 평균비교\n",
    "     - ANOVA : stats.f_oneway(a,b,c)\n",
    "     - 크루스칼-왈리스 : stats.kruskal(a,b,c)"
   ]
  },
  {
   "cell_type": "markdown",
   "id": "0cc5e761-625e-438c-a88f-325407876080",
   "metadata": {},
   "source": [
    "## 3. statsmodels로 회귀분석 시에 상수항 추가하는 코드 필수!\n",
    "- import statsmodels.api as sm\n",
    "- x = sm.add_constant(x)"
   ]
  },
  {
   "cell_type": "markdown",
   "id": "6082bad3-573a-474a-a50a-254437b18d4b",
   "metadata": {},
   "source": [
    "## 4. 로지스틱 회귀분석, penalty = None 옵션 필수!"
   ]
  },
  {
   "cell_type": "code",
   "execution_count": 12,
   "id": "48880a97-7f78-4196-8d32-f8644bbbae01",
   "metadata": {},
   "outputs": [],
   "source": [
    "from sklearn.linear_model import LogisticRegression\n",
    "model = LogisticRegression(penalty=None)\n",
    "# (**주의** : 반드시 penalty=None으로 입력해야 함. default='l2') "
   ]
  },
  {
   "cell_type": "markdown",
   "id": "750807fe-756c-4ef1-97e7-a75950558954",
   "metadata": {},
   "source": [
    "## 5. help, dir 잘 활용하기"
   ]
  },
  {
   "cell_type": "code",
   "execution_count": 15,
   "id": "6638a548-2ec7-447e-967c-0f008c25de94",
   "metadata": {},
   "outputs": [],
   "source": [
    "# 1. help, dir을 활용해서 단일표본 t-test 함수까지 찾아들어가기\n",
    "#from scipy import stats\n",
    "#print(dir(stats))\n",
    "#print(help(stats.ttest_1samp))"
   ]
  },
  {
   "cell_type": "code",
   "execution_count": 20,
   "id": "471cccaa-28a8-4806-a765-378a65eec4ea",
   "metadata": {},
   "outputs": [],
   "source": [
    "# 2. help, dir을 활용해서 로지스틱회귀분석 함수까지 찾아들어가기\n",
    "#import sklearn\n",
    "#print(dir(sklearn))\n",
    "#print(dir(sklearn.linear_model))\n",
    "#print(help(sklearn.linear_model.LogisticRegression))"
   ]
  },
  {
   "cell_type": "code",
   "execution_count": null,
   "id": "be7eac6c-8a42-49e5-890a-6596aba54daf",
   "metadata": {},
   "outputs": [],
   "source": []
  }
 ],
 "metadata": {
  "kernelspec": {
   "display_name": "Python 3 (ipykernel)",
   "language": "python",
   "name": "python3"
  },
  "language_info": {
   "codemirror_mode": {
    "name": "ipython",
    "version": 3
   },
   "file_extension": ".py",
   "mimetype": "text/x-python",
   "name": "python",
   "nbconvert_exporter": "python",
   "pygments_lexer": "ipython3",
   "version": "3.11.5"
  }
 },
 "nbformat": 4,
 "nbformat_minor": 5
}
