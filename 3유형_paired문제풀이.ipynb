{
 "cells": [
  {
   "cell_type": "markdown",
   "id": "cb281119-c732-4c09-9d14-edfc905c18de",
   "metadata": {},
   "source": [
    "## 제3유형_모집단 2개"
   ]
  },
  {
   "cell_type": "markdown",
   "id": "3001c2ea-cd2c-4482-8b01-b0f4c742bea7",
   "metadata": {},
   "source": [
    "## 검정방법"
   ]
  },
  {
   "cell_type": "markdown",
   "id": "2c5d791c-d260-4c8d-b90f-84061746105c",
   "metadata": {},
   "source": [
    "### 1. 대응표본(쌍체) : 동일한 객체의 전 vs 후 평균비교\n",
    "- (정규성O) 대응표본(쌍체) t검정(paired t-test) : 동일한 객체의 전 vs 후 평균비교\n",
    "- (정규성x) 윌콕슨 부호순위 검정(wilcoxon)\n",
    "### 2. 독립표본 : A집단의 평균 vs B집단의 평균\n",
    "- (정규성O) 독립표본 t검정(2sample t-test)\n",
    "- (정규성X) 윌콕슨 순위합 검정(ranksums)"
   ]
  },
  {
   "cell_type": "markdown",
   "id": "b444b4b0-ec74-4e74-bac6-ad99efb36c36",
   "metadata": {},
   "source": [
    "## 가설검정 순서(중요!!)"
   ]
  },
  {
   "cell_type": "markdown",
   "id": "8769fe68-8cac-4431-ade6-8c667a9599a0",
   "metadata": {},
   "source": [
    "### 1. 대응표본(쌍체) t검정(paired t-test)\n",
    "- 1. 가설설정\n",
    "  2. 유의수준 확인\n",
    "  3. 정규성 검정 (주의) 차이값에 대한 정규성\n",
    "  4. 검정실시(통계량, p-value 확인)\n",
    "  5. 귀무가설 기각여부 결정(채택/기각)"
   ]
  },
  {
   "cell_type": "markdown",
   "id": "b7ac20a4-6d29-4f0b-bf68-4f06c07317bf",
   "metadata": {},
   "source": [
    "### 2. 독립표본 t검정(2sample t-test)\n",
    "- 1. 가설설정\n",
    "  2. 유의수준 확인\n",
    "  3. 정규성 검정 (주의) 두 집단 모두 정규성을 따를 경우!\n",
    "  4. 등분산 검정\n",
    "  5. 검정실시(통계량, p-value확인) (주의) 등분산여부 확인\n",
    "  6. 귀무가설 기각여부 결정(채택/기각)"
   ]
  },
  {
   "cell_type": "markdown",
   "id": "38c73b87-b992-4e6b-be66-fe555c661e25",
   "metadata": {},
   "source": [
    "## 예제문제"
   ]
  },
  {
   "cell_type": "markdown",
   "id": "d0e63fdc-8b1e-4eef-aa55-71b60cf66093",
   "metadata": {},
   "source": [
    "### Case 1) 대응표본(쌍체) t검정(paired t-test)\n",
    "문제1-1\n",
    "다음은 혈압약을 먹은 전,후의 혈압 데이터이다.\n",
    "\n",
    "혈압약을 먹기 전,후의 차이가 있는지 쌍체 t검정을 실시하시오\n",
    "\n",
    "(유의수준 5%)\n",
    "\n",
    "- before : 혈압약을 먹기 전 혈압, after : 혈압약을 먹은 후의 혈압\n",
    "- H0(귀무가설) : after - before = 0\n",
    "- H1(대립가설) : after - before != 0"
   ]
  },
  {
   "cell_type": "code",
   "execution_count": 1,
   "id": "6afa5f65-1709-471f-b691-dc03728abb84",
   "metadata": {},
   "outputs": [],
   "source": [
    "import pandas as pd\n",
    "import numpy as np\n",
    "import scipy.stats as stats\n",
    "from scipy.stats import shapiro"
   ]
  },
  {
   "cell_type": "code",
   "execution_count": 2,
   "id": "77f8f0ec-aba3-4d7f-96e0-b0b518d00886",
   "metadata": {},
   "outputs": [
    {
     "name": "stdout",
     "output_type": "stream",
     "text": [
      "   before  after\n",
      "0     120    110\n",
      "1     135    132\n",
      "2     122    123\n"
     ]
    }
   ],
   "source": [
    " #\t데이터\t만들기\n",
    "df\t=\tpd.DataFrame(\t{\n",
    "\t'before':\t[120,\t135,\t122,\t124,\t135,\t122,\t145,\t160,\t155,\t142,\t144,\t135,\t167],\n",
    "\t'after'\t:\t[110,\t132,\t123,\t119,\t123,\t115,\t140,\t162,\t142,\t138,\t135,\t142,\t160]\t})\n",
    " print(df.head(3))"
   ]
  },
  {
   "cell_type": "code",
   "execution_count": 3,
   "id": "904f35d3-2eae-4e45-8e40-c4f5ca2f5f60",
   "metadata": {},
   "outputs": [],
   "source": [
    "# 1. 가설설정\n",
    "# H0 : 약을 먹기 전과 먹은 후의 혈압 평균은 같다(효과가 없다)\n",
    "# H1 : 약을 먹기 전과 먹은 후의 혈압 평균은 같지 않다(효과가 있다)"
   ]
  },
  {
   "cell_type": "code",
   "execution_count": 4,
   "id": "f7e82531-145b-4f7a-b229-0c19cd59617b",
   "metadata": {},
   "outputs": [],
   "source": [
    "# 2. 유의수준 확인 : 유의수준 5%로 확인"
   ]
  },
  {
   "cell_type": "code",
   "execution_count": 5,
   "id": "228fefe9-3ee3-40aa-9091-cc5fcc838a81",
   "metadata": {},
   "outputs": [
    {
     "name": "stdout",
     "output_type": "stream",
     "text": [
      "0.9589 0.7363\n"
     ]
    }
   ],
   "source": [
    "# 3. 정규성 검정 (차이값에 대해 정규성 확인)\n",
    "statistic, pvalue = stats.shapiro(df['after']-df['before'])\n",
    "print(round(statistic,4), round(pvalue,4))"
   ]
  },
  {
   "cell_type": "markdown",
   "id": "9ccf96be-a477-4c04-81d7-977bedf2c94b",
   "metadata": {},
   "source": [
    "- p-value 값이 유의수준(0.05)보다 크다.\n",
    "- 귀무가설(H0) 채택(정규성검정의 H0 : 정규분포를 따른다)"
   ]
  },
  {
   "cell_type": "code",
   "execution_count": 6,
   "id": "2ab43816-cbbd-4bb9-8a08-58fac65eb201",
   "metadata": {},
   "outputs": [
    {
     "name": "stdout",
     "output_type": "stream",
     "text": [
      "-3.1382 0.0086\n"
     ]
    }
   ],
   "source": [
    "# 4.1 (정규성O) 대응표본(쌍체) t검정(paired t-test)\n",
    "statistic, pvalue = stats.ttest_rel(df['after'], df['before'], alternative='two-sided')\n",
    "print(round(statistic,4), round(pvalue,4))"
   ]
  },
  {
   "cell_type": "code",
   "execution_count": 7,
   "id": "3a539f11-e222-4aea-87bd-cfac47a4a459",
   "metadata": {},
   "outputs": [
    {
     "name": "stdout",
     "output_type": "stream",
     "text": [
      "11.0 0.0134\n"
     ]
    }
   ],
   "source": [
    "# 4.2 (정규성X) wilcoxon 부호순위 검정\n",
    "statistic, pvalue = stats.wilcoxon(df['after']-df['before'], alternative='two-sided')\n",
    "print(round(statistic,4), round(pvalue,4))"
   ]
  },
  {
   "cell_type": "code",
   "execution_count": 8,
   "id": "72fd73aa-8dc0-481d-8ecf-b54076697633",
   "metadata": {},
   "outputs": [],
   "source": [
    "# 5. 귀무가설 기각여부 결정(채택/기각)\n",
    "# p-value 값이 0.05보다 작기 때문에 귀무가설을 기각한다.\n",
    "# 즉, 약을 먹기 전과 먹은 후의 혈압 평균은 같지 않다\n",
    "\n",
    "# 답 : 기각"
   ]
  },
  {
   "cell_type": "markdown",
   "id": "67b37d4a-b7c9-4cda-9494-fde2198df683",
   "metadata": {},
   "source": [
    "문제 1-2\n",
    "다음은 혈압약을 먹은 전,후의 혈압 데이터이다.\n",
    "\n",
    "혈압약을 먹은 후 혈압이 감소했는지 확인하기 위해 쌍체 t검정을 실시하시오\n",
    "\n",
    "(유의수준 5%)\n",
    "\n",
    "- before : 혈압약을 먹기 전 혈압, after : 혈압약을 먹은 후의 혈압\n",
    "- H0(귀무가설) : after - before >= 0\n",
    "- H1(대립가설) : after - before < 0"
   ]
  },
  {
   "cell_type": "code",
   "execution_count": 9,
   "id": "0dca01c1-e900-4772-8620-6529888417a5",
   "metadata": {},
   "outputs": [
    {
     "name": "stdout",
     "output_type": "stream",
     "text": [
      "   before  after\n",
      "0     120    110\n",
      "1     135    132\n",
      "2     122    123\n"
     ]
    }
   ],
   "source": [
    " #\t데이터\t만들기\n",
    "df\t=\tpd.DataFrame(\t{\n",
    "\t'before':\t[120,\t135,\t122,\t124,\t135,\t122,\t145,\t160,\t155,\t142,\t144,\t135,\t167],\n",
    "\t'after'\t:\t[110,\t132,\t123,\t119,\t123,\t115,\t140,\t162,\t142,\t138,\t135,\t142,\t160]\t})\n",
    " print(df.head(3))"
   ]
  },
  {
   "cell_type": "code",
   "execution_count": 10,
   "id": "35602276-1c89-408d-98a3-6868bfbd7c40",
   "metadata": {},
   "outputs": [],
   "source": [
    "# 1. 가설설정\n",
    "# H0 : 약을 먹은 후 혈압이 같거나 증가했다. (after - before >= 0)\n",
    "# H1 : 약을 먹은 후 혈압이 감소했다. (after - before < 0)"
   ]
  },
  {
   "cell_type": "code",
   "execution_count": 11,
   "id": "d1726ee3-b2f7-4967-a64d-bacc9af12619",
   "metadata": {},
   "outputs": [],
   "source": [
    "# 2. 유의수준 확인 : 유의수준 5%로 확인"
   ]
  },
  {
   "cell_type": "code",
   "execution_count": 12,
   "id": "cbd4d63f-7022-4e6c-aef6-ba9a83ce0efb",
   "metadata": {},
   "outputs": [
    {
     "name": "stdout",
     "output_type": "stream",
     "text": [
      "0.9589 0.7363\n"
     ]
    }
   ],
   "source": [
    "# 3. 정규성 검정 (차이값에 대해 정규성 확인)\n",
    "statistic, pvalue = stats.shapiro(df['after']-df['before'])\n",
    "print(round(statistic,4), round(pvalue,4))"
   ]
  },
  {
   "cell_type": "code",
   "execution_count": 14,
   "id": "bfe5f765-3d89-43e0-9002-fc735a3d865e",
   "metadata": {},
   "outputs": [
    {
     "name": "stdout",
     "output_type": "stream",
     "text": [
      "-3.1382 0.0043\n"
     ]
    }
   ],
   "source": [
    "# 4.1 (정규성O) 대응표본(쌍체) t검정(paired t-test)\n",
    "statistic, pvalue = stats.ttest_rel(df['after'], df['before'], alternative='less')\n",
    "print(round(statistic,4), round(pvalue,4))"
   ]
  },
  {
   "cell_type": "code",
   "execution_count": 15,
   "id": "0c0ea10e-7e20-43a5-b581-811bcc547c60",
   "metadata": {},
   "outputs": [
    {
     "name": "stdout",
     "output_type": "stream",
     "text": [
      "11.0 0.0067\n"
     ]
    }
   ],
   "source": [
    "# 4.2 (정규성X) wilcoxon 부호순위 검정\n",
    "statistic, pvalue = stats.wilcoxon(df['after']-df['before'], alternative='less')\n",
    "print(round(statistic,4), round(pvalue,4))"
   ]
  },
  {
   "cell_type": "code",
   "execution_count": 16,
   "id": "5a498ecb-be93-4171-b74b-07ef7f391bf6",
   "metadata": {},
   "outputs": [],
   "source": [
    "# 5. 귀무가설 기각여부 결정(채택/기각)\n",
    "# p-value 값이 0.05보다 작기 때문에 귀무가설을 기각한다.\n",
    "# 즉, 약을 먹은 후 혈압이 감소했다고 할 수 있다.\n",
    "# 답 : 기각"
   ]
  }
 ],
 "metadata": {
  "kernelspec": {
   "display_name": "Python 3 (ipykernel)",
   "language": "python",
   "name": "python3"
  },
  "language_info": {
   "codemirror_mode": {
    "name": "ipython",
    "version": 3
   },
   "file_extension": ".py",
   "mimetype": "text/x-python",
   "name": "python",
   "nbconvert_exporter": "python",
   "pygments_lexer": "ipython3",
   "version": "3.12.3"
  }
 },
 "nbformat": 4,
 "nbformat_minor": 5
}
