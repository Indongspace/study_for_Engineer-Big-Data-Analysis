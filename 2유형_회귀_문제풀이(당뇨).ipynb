{
 "cells": [
  {
   "cell_type": "markdown",
   "id": "bf39c0ae-fe8c-450f-a333-7ac36b2b3ced",
   "metadata": {},
   "source": [
    "## 제2유형_연습하기_당뇨진척정도(회귀)"
   ]
  },
  {
   "cell_type": "markdown",
   "id": "f8befacf-278a-4a5b-86f5-b8f7c9c5f59f",
   "metadata": {},
   "source": [
    "### 데이터 분석 순서"
   ]
  },
  {
   "cell_type": "markdown",
   "id": "211b983b-1560-4e74-95c8-7335b45bd80a",
   "metadata": {},
   "source": [
    "- 1. 라이브러리 및 데이터 확인\n",
    "  2. 데이터 탐색(EDA)\n",
    "  3. 데이터 전처리 및 분리\n",
    "  4. 모델링 및 성능평가\n",
    "  5. 예측값 제출"
   ]
  },
  {
   "cell_type": "markdown",
   "id": "aa7aaa48-526d-49d2-af77-336a0767d7d0",
   "metadata": {},
   "source": [
    "## 1. 라이브러리 및 데이터 확인"
   ]
  },
  {
   "cell_type": "code",
   "execution_count": 1,
   "id": "edf0fc9d-ff46-4d81-96b4-b14418ab60a3",
   "metadata": {},
   "outputs": [],
   "source": [
    " ###############\t\t실기환경\t복사\t영역\t\t###############\n",
    " import\tpandas\tas\tpd\n",
    " import\tnumpy\tas\tnp\n",
    " #\t실기\t시험\t데이터셋으로\t셋팅하기\t(수정금지)\n",
    " from\tsklearn.datasets\timport\tload_diabetes\n",
    " #\tdiabetes\t데이터셋\t로드\n",
    "diabetes\t=\tload_diabetes()\n",
    " x\t=\tpd.DataFrame(diabetes.data,\tcolumns=diabetes.feature_names)\n",
    " y\t=\tpd.DataFrame(diabetes.target)\n",
    " #\t실기\t시험\t데이터셋으로\t셋팅하기\t(수정금지)\n",
    " from\tsklearn.model_selection\timport\ttrain_test_split\n",
    " x_train,\tx_test,\ty_train,\ty_test\t=\ttrain_test_split(x,\ty,\ttest_size=0.2,\t\n",
    "random_state=2023)\n",
    " x_test\t=\tpd.DataFrame(x_test.reset_index())\n",
    " x_train\t=\tpd.DataFrame(x_train.reset_index())\n",
    " y_train\t=\tpd.DataFrame(y_train.reset_index())\n",
    " x_test.rename(columns={'index':'cust_id'},\tinplace=True)\n",
    " x_train.rename(columns={'index':'cust_id'},\tinplace=True)\n",
    " y_train.columns\t=\t['cust_id',\t'target']\t\n",
    "###############\t\t실기환경\t복사\t영역\t\t###############\n",
    " ###\t참고사항\t###\t\n",
    "#\ty_test\t는\t실기\t문제상에\t주어지지\t않음\n",
    "#\t★Tip\t:\tX를\t대문자로\t쓰지말고\t소문자\tx로\t쓰세요.\t시험에서\t실수하기\t쉽습니다.(문제풀기\t전에\t소문자로\t변경!)\n",
    " #\t(참고\t:\t보통\tX는\t2차원\t배열(행렬)이기\t때문에\t대문자로\t쓰고,\ty는\t1차원\t배열(벡터)이기\t때문에\t소문자로\t씀)\n",
    " #\t(~23년\t10월말)\t실기시험\t데이터\t형식\t(실제\t시험장에서는\t다를\t수\t있으니\t반드시\t체크)\t\n",
    "#\tX_test\t=\tpd.read_csv(\"data/X_test.csv\")\n",
    " #\tX_train\t=\tpd.read_csv(\"data/X_train.csv\")\n",
    " #\ty_train\t=\tpd.read_csv(\"data/y_train.csv\")\n",
    " #\t★(23년\t10월말~)\t기준으로\t체험환경에서\t제공되는\t데이터셋이\t조금\t변경되었습니다.\t\n",
    "#\ttrain\t=\tpd.read_csv(\"data/customer_train.csv\")\n",
    " #\ttest\t=\tpd.read_csv(\"data/customer_test.csv\")\n",
    " #\tx_train과\ty_train,\tx_test를\t별도로\t할당해주셔야\t합니다.\t"
   ]
  },
  {
   "cell_type": "markdown",
   "id": "ab5570ff-654f-451c-9e9a-442b1a178c97",
   "metadata": {},
   "source": [
    "## 당뇨병 환자의 질병 진행정도를 예측해보자\n",
    "- 데이터의 결측치, 이상치, 변수들에 대해 전처리하고\n",
    "- 회귀모델을 사용하여 Rsq,MSE 값을 산출하시오.\n",
    "- 제출은 cust_id, target 변수를 가진 dataframe 형태로 제출하시오."
   ]
  },
  {
   "cell_type": "code",
   "execution_count": 2,
   "id": "2a11a30b-2a9a-48e0-a659-a5b8cbff15a2",
   "metadata": {},
   "outputs": [
    {
     "name": "stdout",
     "output_type": "stream",
     "text": [
      ".. _diabetes_dataset:\n",
      "\n",
      "Diabetes dataset\n",
      "----------------\n",
      "\n",
      "Ten baseline variables, age, sex, body mass index, average blood\n",
      "pressure, and six blood serum measurements were obtained for each of n =\n",
      "442 diabetes patients, as well as the response of interest, a\n",
      "quantitative measure of disease progression one year after baseline.\n",
      "\n",
      "**Data Set Characteristics:**\n",
      "\n",
      ":Number of Instances: 442\n",
      "\n",
      ":Number of Attributes: First 10 columns are numeric predictive values\n",
      "\n",
      ":Target: Column 11 is a quantitative measure of disease progression one year after baseline\n",
      "\n",
      ":Attribute Information:\n",
      "    - age     age in years\n",
      "    - sex\n",
      "    - bmi     body mass index\n",
      "    - bp      average blood pressure\n",
      "    - s1      tc, total serum cholesterol\n",
      "    - s2      ldl, low-density lipoproteins\n",
      "    - s3      hdl, high-density lipoproteins\n",
      "    - s4      tch, total cholesterol / HDL\n",
      "    - s5      ltg, possibly log of serum triglycerides level\n",
      "    - s6      glu, blood sugar level\n",
      "\n",
      "Note: Each of these 10 feature variables have been mean centered and scaled by the standard deviation times the square root of `n_samples` (i.e. the sum of squares of each column totals 1).\n",
      "\n",
      "Source URL:\n",
      "https://www4.stat.ncsu.edu/~boos/var.select/diabetes.html\n",
      "\n",
      "For more information see:\n",
      "Bradley Efron, Trevor Hastie, Iain Johnstone and Robert Tibshirani (2004) \"Least Angle Regression,\" Annals of Statistics (with discussion), 407-499.\n",
      "(https://web.stanford.edu/~hastie/Papers/LARS/LeastAngle_2002.pdf)\n",
      "\n"
     ]
    }
   ],
   "source": [
    "#\t데이터\t설명\n",
    "print(diabetes.DESCR)"
   ]
  },
  {
   "cell_type": "markdown",
   "id": "f6bf5d92-ebaf-4f9c-b7a7-92d78be90e5d",
   "metadata": {},
   "source": [
    "## 2. 데이터 탐색(EDA)"
   ]
  },
  {
   "cell_type": "code",
   "execution_count": 3,
   "id": "5cc930b3-bf0c-4987-a891-040f54ce42e8",
   "metadata": {},
   "outputs": [
    {
     "name": "stdout",
     "output_type": "stream",
     "text": [
      "(353, 11)\n",
      "(89, 11)\n",
      "(353, 2)\n"
     ]
    }
   ],
   "source": [
    "# 데이터의 행/열 확인\n",
    "print(x_train.shape)\n",
    "print(x_test.shape)\n",
    "print(y_train.shape)"
   ]
  },
  {
   "cell_type": "code",
   "execution_count": 4,
   "id": "f487eddb-3103-4a0f-81db-6ad52acd0991",
   "metadata": {},
   "outputs": [
    {
     "name": "stdout",
     "output_type": "stream",
     "text": [
      "   cust_id       age       sex       bmi        bp        s1        s2  \\\n",
      "0        4  0.005383 -0.044642 -0.036385  0.021872  0.003935  0.015596   \n",
      "1      318  0.088931 -0.044642  0.006728  0.025315  0.030078  0.008707   \n",
      "2      301 -0.001882  0.050680 -0.024529  0.052858  0.027326  0.030001   \n",
      "\n",
      "         s3        s4        s5        s6  \n",
      "0  0.008142 -0.002592 -0.031988 -0.046641  \n",
      "1  0.063367 -0.039493  0.009434  0.032059  \n",
      "2  0.030232 -0.002592 -0.021395  0.036201  \n",
      "   cust_id       age       sex       bmi        bp        s1        s2  \\\n",
      "0      280  0.009016  0.050680  0.018584  0.039087  0.017694  0.010586   \n",
      "1      412  0.074401 -0.044642  0.085408  0.063187  0.014942  0.013091   \n",
      "2       68  0.038076  0.050680 -0.029918 -0.040099 -0.033216 -0.024174   \n",
      "\n",
      "         s3        s4        s5        s6  \n",
      "0  0.019187 -0.002592  0.016307 -0.017646  \n",
      "1  0.015505 -0.002592  0.006207  0.085907  \n",
      "2 -0.010266 -0.002592 -0.012909  0.003064  \n",
      "   cust_id  target\n",
      "0        4   135.0\n",
      "1      318   109.0\n",
      "2      301    65.0\n"
     ]
    }
   ],
   "source": [
    "# 초기 데이터 확인\n",
    "print(x_train.head(3))\n",
    "print(x_test.head(3))\n",
    "print(y_train.head(3))"
   ]
  },
  {
   "cell_type": "code",
   "execution_count": 5,
   "id": "fc992408-c51c-470b-a4fe-3b4c9fa159df",
   "metadata": {},
   "outputs": [
    {
     "name": "stdout",
     "output_type": "stream",
     "text": [
      "<class 'pandas.core.frame.DataFrame'>\n",
      "RangeIndex: 353 entries, 0 to 352\n",
      "Data columns (total 11 columns):\n",
      " #   Column   Non-Null Count  Dtype  \n",
      "---  ------   --------------  -----  \n",
      " 0   cust_id  353 non-null    int64  \n",
      " 1   age      353 non-null    float64\n",
      " 2   sex      353 non-null    float64\n",
      " 3   bmi      353 non-null    float64\n",
      " 4   bp       353 non-null    float64\n",
      " 5   s1       353 non-null    float64\n",
      " 6   s2       353 non-null    float64\n",
      " 7   s3       353 non-null    float64\n",
      " 8   s4       353 non-null    float64\n",
      " 9   s5       353 non-null    float64\n",
      " 10  s6       353 non-null    float64\n",
      "dtypes: float64(10), int64(1)\n",
      "memory usage: 30.5 KB\n",
      "None\n",
      "<class 'pandas.core.frame.DataFrame'>\n",
      "RangeIndex: 89 entries, 0 to 88\n",
      "Data columns (total 11 columns):\n",
      " #   Column   Non-Null Count  Dtype  \n",
      "---  ------   --------------  -----  \n",
      " 0   cust_id  89 non-null     int64  \n",
      " 1   age      89 non-null     float64\n",
      " 2   sex      89 non-null     float64\n",
      " 3   bmi      89 non-null     float64\n",
      " 4   bp       89 non-null     float64\n",
      " 5   s1       89 non-null     float64\n",
      " 6   s2       89 non-null     float64\n",
      " 7   s3       89 non-null     float64\n",
      " 8   s4       89 non-null     float64\n",
      " 9   s5       89 non-null     float64\n",
      " 10  s6       89 non-null     float64\n",
      "dtypes: float64(10), int64(1)\n",
      "memory usage: 7.8 KB\n",
      "None\n",
      "<class 'pandas.core.frame.DataFrame'>\n",
      "RangeIndex: 353 entries, 0 to 352\n",
      "Data columns (total 2 columns):\n",
      " #   Column   Non-Null Count  Dtype  \n",
      "---  ------   --------------  -----  \n",
      " 0   cust_id  353 non-null    int64  \n",
      " 1   target   353 non-null    float64\n",
      "dtypes: float64(1), int64(1)\n",
      "memory usage: 5.6 KB\n",
      "None\n"
     ]
    }
   ],
   "source": [
    "# 변수명과 데이터 타입이 매칭이 되는지, 결측치가 있는지 확인\n",
    "print(x_train.info())\n",
    "print(x_test.info())\n",
    "print(y_train.info())"
   ]
  },
  {
   "cell_type": "code",
   "execution_count": 6,
   "id": "b06bd6b7-6ecc-4b93-9983-c2d5597b55cf",
   "metadata": {},
   "outputs": [
    {
     "name": "stdout",
     "output_type": "stream",
     "text": [
      "         count        mean         std       min         25%         50%  \\\n",
      "cust_id  353.0  212.634561  126.668903  0.000000  105.000000  210.000000   \n",
      "age      353.0    0.000804    0.047617 -0.107226   -0.038207    0.005383   \n",
      "sex      353.0    0.000724    0.047673 -0.044642   -0.044642   -0.044642   \n",
      "bmi      353.0    0.000640    0.048141 -0.084886   -0.035307   -0.006206   \n",
      "bp       353.0   -0.000326    0.046585 -0.112399   -0.033213   -0.005670   \n",
      "s1       353.0    0.001179    0.047891 -0.126781   -0.033216   -0.002945   \n",
      "s2       353.0    0.001110    0.048248 -0.115613   -0.029184   -0.001314   \n",
      "s3       353.0   -0.000452    0.048600 -0.102307   -0.039719   -0.006584   \n",
      "s4       353.0    0.000901    0.048045 -0.076395   -0.039493   -0.002592   \n",
      "s5       353.0    0.001446    0.047160 -0.126097   -0.033246    0.000272   \n",
      "s6       353.0    0.000589    0.048122 -0.137767   -0.034215    0.003064   \n",
      "\n",
      "                75%         max  \n",
      "cust_id  322.000000  441.000000  \n",
      "age        0.038076    0.110727  \n",
      "sex        0.050680    0.050680  \n",
      "bmi        0.030440    0.170555  \n",
      "bp         0.032201    0.125158  \n",
      "s1         0.027326    0.153914  \n",
      "s2         0.031567    0.198788  \n",
      "s3         0.030232    0.181179  \n",
      "s4         0.034309    0.185234  \n",
      "s5         0.033654    0.133597  \n",
      "s6         0.032059    0.135612  \n",
      "         count        mean         std       min         25%         50%  \\\n",
      "cust_id   89.0  251.696629  127.901365  9.000000  148.000000  280.000000   \n",
      "age       89.0   -0.003188    0.047761 -0.099961   -0.034575   -0.001882   \n",
      "sex       89.0   -0.002871    0.047563 -0.044642   -0.044642   -0.044642   \n",
      "bmi       89.0   -0.002537    0.045665 -0.090275   -0.030996   -0.009439   \n",
      "bp        89.0    0.001292    0.051777 -0.108956   -0.036656   -0.005670   \n",
      "s1        89.0   -0.004676    0.046493 -0.091006   -0.037344   -0.009825   \n",
      "s2        89.0   -0.004401    0.045030 -0.089935   -0.030437   -0.014153   \n",
      "s3        89.0    0.001792    0.043723 -0.080217   -0.028674   -0.002903   \n",
      "s4        89.0   -0.003575    0.045980 -0.076395   -0.039493   -0.002592   \n",
      "s5        89.0   -0.005737    0.049252 -0.104366   -0.038460   -0.014960   \n",
      "s6        89.0   -0.002334    0.045757 -0.129483   -0.030072   -0.005220   \n",
      "\n",
      "                75%         max  \n",
      "cust_id  366.000000  436.000000  \n",
      "age        0.030811    0.096197  \n",
      "sex        0.050680    0.050680  \n",
      "bmi        0.034751    0.137143  \n",
      "bp         0.042529    0.132044  \n",
      "s1         0.031454    0.119515  \n",
      "s2         0.020607    0.130208  \n",
      "s3         0.022869    0.122273  \n",
      "s4         0.003312    0.141322  \n",
      "s5         0.024055    0.133597  \n",
      "s6         0.019633    0.135612  \n",
      "         count        mean         std   min    25%    50%    75%    max\n",
      "cust_id  353.0  212.634561  126.668903   0.0  105.0  210.0  322.0  441.0\n",
      "target   353.0  152.943343   75.324692  37.0   90.0  141.0  208.0  346.0\n"
     ]
    }
   ],
   "source": [
    "# x_train과 x_test 데이터의 기초통계량을 잘 비교\n",
    "print(x_train.describe().T)\n",
    "print(x_test.describe().T)\n",
    "print(y_train.describe().T)"
   ]
  },
  {
   "cell_type": "code",
   "execution_count": 7,
   "id": "805828ee-6847-46b1-b81d-6cb0e3eb6c6e",
   "metadata": {},
   "outputs": [
    {
     "name": "stdout",
     "output_type": "stream",
     "text": [
      "         count        mean         std   min    25%    50%    75%    max\n",
      "cust_id  353.0  212.634561  126.668903   0.0  105.0  210.0  322.0  441.0\n",
      "target   353.0  152.943343   75.324692  37.0   90.0  141.0  208.0  346.0\n"
     ]
    }
   ],
   "source": [
    "# y데이터도 구체적으로 살펴보세요\n",
    "print(y_train.describe().T)"
   ]
  },
  {
   "cell_type": "markdown",
   "id": "50b30d8c-f0b1-436f-bd72-68a001d5c048",
   "metadata": {},
   "source": [
    "## 3. 데이터 전처리 및 분리"
   ]
  },
  {
   "cell_type": "markdown",
   "id": "23c54992-36a1-4bff-84f8-02a2b1dcdeca",
   "metadata": {},
   "source": [
    "### 1) 결측치, 2) 이상치, 3) 변수 처리하기 "
   ]
  },
  {
   "cell_type": "code",
   "execution_count": 8,
   "id": "e56e2c3a-ff55-485a-8bcb-1f969e8a8d49",
   "metadata": {},
   "outputs": [
    {
     "name": "stdout",
     "output_type": "stream",
     "text": [
      "cust_id    0\n",
      "age        0\n",
      "sex        0\n",
      "bmi        0\n",
      "bp         0\n",
      "s1         0\n",
      "s2         0\n",
      "s3         0\n",
      "s4         0\n",
      "s5         0\n",
      "s6         0\n",
      "dtype: int64\n",
      "cust_id    0\n",
      "age        0\n",
      "sex        0\n",
      "bmi        0\n",
      "bp         0\n",
      "s1         0\n",
      "s2         0\n",
      "s3         0\n",
      "s4         0\n",
      "s5         0\n",
      "s6         0\n",
      "dtype: int64\n",
      "cust_id    0\n",
      "target     0\n",
      "dtype: int64\n"
     ]
    }
   ],
   "source": [
    "# 결측치\n",
    "print(x_train.isnull().sum())\n",
    "print(x_test.isnull().sum())\n",
    "print(y_train.isnull().sum())"
   ]
  },
  {
   "cell_type": "code",
   "execution_count": 9,
   "id": "f5413070-2338-4a0f-a296-a54a0b6b48a7",
   "metadata": {},
   "outputs": [],
   "source": [
    "# 결측치 제거\n",
    "#df = df.dropna()\n",
    "#print(df.dropna().shape)"
   ]
  },
  {
   "cell_type": "code",
   "execution_count": 10,
   "id": "09c06340-0d72-4f81-a4fd-fb3575d1b561",
   "metadata": {},
   "outputs": [],
   "source": [
    "# 결측치 대체(평균값, 중앙값, 최빈값)\n",
    "# 연속형 변수 : 중앙값, 평균값\n",
    "#df['변수명'].median()\n",
    "#df['변수명'].mean()\n",
    "# 범주형 변수 : 최빈값\n",
    "#df['변수명'].mode()\n",
    "\n",
    "#df['변수명'] = df['변수명'].fillna(대체할 값)"
   ]
  },
  {
   "cell_type": "code",
   "execution_count": 11,
   "id": "20deae12-72f6-464f-9d69-4bdf50bb5b43",
   "metadata": {},
   "outputs": [],
   "source": [
    "# 이상치 대체\n",
    "#df['변수명'] = np.where(df['변수명']>=5, 대체할 값, df['변수명'])"
   ]
  },
  {
   "cell_type": "code",
   "execution_count": 12,
   "id": "1fe97b0b-bcb6-41b2-8005-fe485463f908",
   "metadata": {},
   "outputs": [],
   "source": [
    "# 변수처리\n",
    "\n",
    "# 불필요한 변수 제거\n",
    "#df = df.drop(columns=['변수1','변수2'])\n",
    "#df = df.drop(['변수1','변수2'], axis=1)\n",
    "\n",
    "# 필요시 변수 추가(파생변수 생성)\n",
    "#df['파생변수명'] = df['A'] * df['B']\n",
    "\n",
    "# 원핫인코딩(가변수 처리)\n",
    "#x_train = pd.get_dummies(x_train)\n",
    "#x_test = pd.get_dummies(x_test)"
   ]
  },
  {
   "cell_type": "code",
   "execution_count": 13,
   "id": "f7b08646-017b-45c8-8299-20a7bd6c7d77",
   "metadata": {},
   "outputs": [],
   "source": [
    " #\t변수처리\n",
    "#\t불필요한\t변수(columns)\t제거\n",
    "#\tcust_id\t는\t불필요한\t변수이므로\t제거합니다.\t\n",
    "#\t단,\ttest\t셋의\tcust_id가\t나중에\t제출이\t필요하기\t때문에\t별도로\t저장\n",
    "cust_id\t=\tx_test['cust_id'].copy()\n",
    " #\t각\t데이터에서\tcust_id\t변수\t제거\n",
    "x_train\t=\tx_train.drop(columns\t=\t['cust_id'])\t#\tdrop(columns\t=\t['변수1','변수2'])\t변수\t추가해서\t여러개\t삭제\t가능\t\n",
    "x_test\t=\tx_test.drop(columns\t=\t['cust_id'])"
   ]
  },
  {
   "cell_type": "markdown",
   "id": "dee26f32-75ed-436b-95f8-39e178f05863",
   "metadata": {},
   "source": [
    "### 데이터 분리"
   ]
  },
  {
   "cell_type": "code",
   "execution_count": 14,
   "id": "bf04317c-a980-4027-a406-5ee0686515be",
   "metadata": {},
   "outputs": [
    {
     "name": "stdout",
     "output_type": "stream",
     "text": [
      "(282, 10)\n",
      "(71, 10)\n",
      "(282,)\n",
      "(71,)\n"
     ]
    }
   ],
   "source": [
    "#\t데이터를\t훈련\t세트와\t검증용\t세트로\t분할\t(80%\t훈련,\t20%\t검증용)\n",
    "from sklearn.model_selection import\ttrain_test_split\n",
    "x_train, x_val,\ty_train, y_val = train_test_split(x_train,\t\n",
    "\t\t\t\t\t\t\t\t\t\t\t\t\t\t\t\t\t\t\t\t\t\t\t\t\t\t\t\t\t\t\t\t\t\t\t\t\t\t\t\t\t\t\t\t\t\t\t\t\ty_train['target'],\t\n",
    "\t\t\t\t\t\t\t\t\t\t\t\t\t\t\t\t\t\t\t\t\t\t\t\t\t\t\t\t\t\t\t\t\t\t\t\t\t\t\t\t\t\t\t\t\t\t\t\t\t\ttest_size=0.2,\t\n",
    "\t\t\t\t\t\t\t\t\t\t\t\t\t\t\t\t\t\t\t\t\t\t\t\t\t\t\t\t\t\t\t\t\t\t\t\t\t\t\t\t\t\t\t\t\t\t\t\t\t\trandom_state=23)\n",
    "print(x_train.shape)\n",
    "print(x_val.shape)\n",
    "print(y_train.shape)\n",
    "print(y_val.shape)"
   ]
  },
  {
   "cell_type": "markdown",
   "id": "5ad8e062-99d2-41a4-a9d2-c225a3ab4b8c",
   "metadata": {},
   "source": [
    "## 4. 모델링 및 성능평가"
   ]
  },
  {
   "cell_type": "code",
   "execution_count": 15,
   "id": "ab8d13a7-dbb8-48aa-b210-75d7d1fad97e",
   "metadata": {},
   "outputs": [
    {
     "data": {
      "text/html": [
       "<style>#sk-container-id-1 {\n",
       "  /* Definition of color scheme common for light and dark mode */\n",
       "  --sklearn-color-text: black;\n",
       "  --sklearn-color-line: gray;\n",
       "  /* Definition of color scheme for unfitted estimators */\n",
       "  --sklearn-color-unfitted-level-0: #fff5e6;\n",
       "  --sklearn-color-unfitted-level-1: #f6e4d2;\n",
       "  --sklearn-color-unfitted-level-2: #ffe0b3;\n",
       "  --sklearn-color-unfitted-level-3: chocolate;\n",
       "  /* Definition of color scheme for fitted estimators */\n",
       "  --sklearn-color-fitted-level-0: #f0f8ff;\n",
       "  --sklearn-color-fitted-level-1: #d4ebff;\n",
       "  --sklearn-color-fitted-level-2: #b3dbfd;\n",
       "  --sklearn-color-fitted-level-3: cornflowerblue;\n",
       "\n",
       "  /* Specific color for light theme */\n",
       "  --sklearn-color-text-on-default-background: var(--sg-text-color, var(--theme-code-foreground, var(--jp-content-font-color1, black)));\n",
       "  --sklearn-color-background: var(--sg-background-color, var(--theme-background, var(--jp-layout-color0, white)));\n",
       "  --sklearn-color-border-box: var(--sg-text-color, var(--theme-code-foreground, var(--jp-content-font-color1, black)));\n",
       "  --sklearn-color-icon: #696969;\n",
       "\n",
       "  @media (prefers-color-scheme: dark) {\n",
       "    /* Redefinition of color scheme for dark theme */\n",
       "    --sklearn-color-text-on-default-background: var(--sg-text-color, var(--theme-code-foreground, var(--jp-content-font-color1, white)));\n",
       "    --sklearn-color-background: var(--sg-background-color, var(--theme-background, var(--jp-layout-color0, #111)));\n",
       "    --sklearn-color-border-box: var(--sg-text-color, var(--theme-code-foreground, var(--jp-content-font-color1, white)));\n",
       "    --sklearn-color-icon: #878787;\n",
       "  }\n",
       "}\n",
       "\n",
       "#sk-container-id-1 {\n",
       "  color: var(--sklearn-color-text);\n",
       "}\n",
       "\n",
       "#sk-container-id-1 pre {\n",
       "  padding: 0;\n",
       "}\n",
       "\n",
       "#sk-container-id-1 input.sk-hidden--visually {\n",
       "  border: 0;\n",
       "  clip: rect(1px 1px 1px 1px);\n",
       "  clip: rect(1px, 1px, 1px, 1px);\n",
       "  height: 1px;\n",
       "  margin: -1px;\n",
       "  overflow: hidden;\n",
       "  padding: 0;\n",
       "  position: absolute;\n",
       "  width: 1px;\n",
       "}\n",
       "\n",
       "#sk-container-id-1 div.sk-dashed-wrapped {\n",
       "  border: 1px dashed var(--sklearn-color-line);\n",
       "  margin: 0 0.4em 0.5em 0.4em;\n",
       "  box-sizing: border-box;\n",
       "  padding-bottom: 0.4em;\n",
       "  background-color: var(--sklearn-color-background);\n",
       "}\n",
       "\n",
       "#sk-container-id-1 div.sk-container {\n",
       "  /* jupyter's `normalize.less` sets `[hidden] { display: none; }`\n",
       "     but bootstrap.min.css set `[hidden] { display: none !important; }`\n",
       "     so we also need the `!important` here to be able to override the\n",
       "     default hidden behavior on the sphinx rendered scikit-learn.org.\n",
       "     See: https://github.com/scikit-learn/scikit-learn/issues/21755 */\n",
       "  display: inline-block !important;\n",
       "  position: relative;\n",
       "}\n",
       "\n",
       "#sk-container-id-1 div.sk-text-repr-fallback {\n",
       "  display: none;\n",
       "}\n",
       "\n",
       "div.sk-parallel-item,\n",
       "div.sk-serial,\n",
       "div.sk-item {\n",
       "  /* draw centered vertical line to link estimators */\n",
       "  background-image: linear-gradient(var(--sklearn-color-text-on-default-background), var(--sklearn-color-text-on-default-background));\n",
       "  background-size: 2px 100%;\n",
       "  background-repeat: no-repeat;\n",
       "  background-position: center center;\n",
       "}\n",
       "\n",
       "/* Parallel-specific style estimator block */\n",
       "\n",
       "#sk-container-id-1 div.sk-parallel-item::after {\n",
       "  content: \"\";\n",
       "  width: 100%;\n",
       "  border-bottom: 2px solid var(--sklearn-color-text-on-default-background);\n",
       "  flex-grow: 1;\n",
       "}\n",
       "\n",
       "#sk-container-id-1 div.sk-parallel {\n",
       "  display: flex;\n",
       "  align-items: stretch;\n",
       "  justify-content: center;\n",
       "  background-color: var(--sklearn-color-background);\n",
       "  position: relative;\n",
       "}\n",
       "\n",
       "#sk-container-id-1 div.sk-parallel-item {\n",
       "  display: flex;\n",
       "  flex-direction: column;\n",
       "}\n",
       "\n",
       "#sk-container-id-1 div.sk-parallel-item:first-child::after {\n",
       "  align-self: flex-end;\n",
       "  width: 50%;\n",
       "}\n",
       "\n",
       "#sk-container-id-1 div.sk-parallel-item:last-child::after {\n",
       "  align-self: flex-start;\n",
       "  width: 50%;\n",
       "}\n",
       "\n",
       "#sk-container-id-1 div.sk-parallel-item:only-child::after {\n",
       "  width: 0;\n",
       "}\n",
       "\n",
       "/* Serial-specific style estimator block */\n",
       "\n",
       "#sk-container-id-1 div.sk-serial {\n",
       "  display: flex;\n",
       "  flex-direction: column;\n",
       "  align-items: center;\n",
       "  background-color: var(--sklearn-color-background);\n",
       "  padding-right: 1em;\n",
       "  padding-left: 1em;\n",
       "}\n",
       "\n",
       "\n",
       "/* Toggleable style: style used for estimator/Pipeline/ColumnTransformer box that is\n",
       "clickable and can be expanded/collapsed.\n",
       "- Pipeline and ColumnTransformer use this feature and define the default style\n",
       "- Estimators will overwrite some part of the style using the `sk-estimator` class\n",
       "*/\n",
       "\n",
       "/* Pipeline and ColumnTransformer style (default) */\n",
       "\n",
       "#sk-container-id-1 div.sk-toggleable {\n",
       "  /* Default theme specific background. It is overwritten whether we have a\n",
       "  specific estimator or a Pipeline/ColumnTransformer */\n",
       "  background-color: var(--sklearn-color-background);\n",
       "}\n",
       "\n",
       "/* Toggleable label */\n",
       "#sk-container-id-1 label.sk-toggleable__label {\n",
       "  cursor: pointer;\n",
       "  display: block;\n",
       "  width: 100%;\n",
       "  margin-bottom: 0;\n",
       "  padding: 0.5em;\n",
       "  box-sizing: border-box;\n",
       "  text-align: center;\n",
       "}\n",
       "\n",
       "#sk-container-id-1 label.sk-toggleable__label-arrow:before {\n",
       "  /* Arrow on the left of the label */\n",
       "  content: \"▸\";\n",
       "  float: left;\n",
       "  margin-right: 0.25em;\n",
       "  color: var(--sklearn-color-icon);\n",
       "}\n",
       "\n",
       "#sk-container-id-1 label.sk-toggleable__label-arrow:hover:before {\n",
       "  color: var(--sklearn-color-text);\n",
       "}\n",
       "\n",
       "/* Toggleable content - dropdown */\n",
       "\n",
       "#sk-container-id-1 div.sk-toggleable__content {\n",
       "  max-height: 0;\n",
       "  max-width: 0;\n",
       "  overflow: hidden;\n",
       "  text-align: left;\n",
       "  /* unfitted */\n",
       "  background-color: var(--sklearn-color-unfitted-level-0);\n",
       "}\n",
       "\n",
       "#sk-container-id-1 div.sk-toggleable__content.fitted {\n",
       "  /* fitted */\n",
       "  background-color: var(--sklearn-color-fitted-level-0);\n",
       "}\n",
       "\n",
       "#sk-container-id-1 div.sk-toggleable__content pre {\n",
       "  margin: 0.2em;\n",
       "  border-radius: 0.25em;\n",
       "  color: var(--sklearn-color-text);\n",
       "  /* unfitted */\n",
       "  background-color: var(--sklearn-color-unfitted-level-0);\n",
       "}\n",
       "\n",
       "#sk-container-id-1 div.sk-toggleable__content.fitted pre {\n",
       "  /* unfitted */\n",
       "  background-color: var(--sklearn-color-fitted-level-0);\n",
       "}\n",
       "\n",
       "#sk-container-id-1 input.sk-toggleable__control:checked~div.sk-toggleable__content {\n",
       "  /* Expand drop-down */\n",
       "  max-height: 200px;\n",
       "  max-width: 100%;\n",
       "  overflow: auto;\n",
       "}\n",
       "\n",
       "#sk-container-id-1 input.sk-toggleable__control:checked~label.sk-toggleable__label-arrow:before {\n",
       "  content: \"▾\";\n",
       "}\n",
       "\n",
       "/* Pipeline/ColumnTransformer-specific style */\n",
       "\n",
       "#sk-container-id-1 div.sk-label input.sk-toggleable__control:checked~label.sk-toggleable__label {\n",
       "  color: var(--sklearn-color-text);\n",
       "  background-color: var(--sklearn-color-unfitted-level-2);\n",
       "}\n",
       "\n",
       "#sk-container-id-1 div.sk-label.fitted input.sk-toggleable__control:checked~label.sk-toggleable__label {\n",
       "  background-color: var(--sklearn-color-fitted-level-2);\n",
       "}\n",
       "\n",
       "/* Estimator-specific style */\n",
       "\n",
       "/* Colorize estimator box */\n",
       "#sk-container-id-1 div.sk-estimator input.sk-toggleable__control:checked~label.sk-toggleable__label {\n",
       "  /* unfitted */\n",
       "  background-color: var(--sklearn-color-unfitted-level-2);\n",
       "}\n",
       "\n",
       "#sk-container-id-1 div.sk-estimator.fitted input.sk-toggleable__control:checked~label.sk-toggleable__label {\n",
       "  /* fitted */\n",
       "  background-color: var(--sklearn-color-fitted-level-2);\n",
       "}\n",
       "\n",
       "#sk-container-id-1 div.sk-label label.sk-toggleable__label,\n",
       "#sk-container-id-1 div.sk-label label {\n",
       "  /* The background is the default theme color */\n",
       "  color: var(--sklearn-color-text-on-default-background);\n",
       "}\n",
       "\n",
       "/* On hover, darken the color of the background */\n",
       "#sk-container-id-1 div.sk-label:hover label.sk-toggleable__label {\n",
       "  color: var(--sklearn-color-text);\n",
       "  background-color: var(--sklearn-color-unfitted-level-2);\n",
       "}\n",
       "\n",
       "/* Label box, darken color on hover, fitted */\n",
       "#sk-container-id-1 div.sk-label.fitted:hover label.sk-toggleable__label.fitted {\n",
       "  color: var(--sklearn-color-text);\n",
       "  background-color: var(--sklearn-color-fitted-level-2);\n",
       "}\n",
       "\n",
       "/* Estimator label */\n",
       "\n",
       "#sk-container-id-1 div.sk-label label {\n",
       "  font-family: monospace;\n",
       "  font-weight: bold;\n",
       "  display: inline-block;\n",
       "  line-height: 1.2em;\n",
       "}\n",
       "\n",
       "#sk-container-id-1 div.sk-label-container {\n",
       "  text-align: center;\n",
       "}\n",
       "\n",
       "/* Estimator-specific */\n",
       "#sk-container-id-1 div.sk-estimator {\n",
       "  font-family: monospace;\n",
       "  border: 1px dotted var(--sklearn-color-border-box);\n",
       "  border-radius: 0.25em;\n",
       "  box-sizing: border-box;\n",
       "  margin-bottom: 0.5em;\n",
       "  /* unfitted */\n",
       "  background-color: var(--sklearn-color-unfitted-level-0);\n",
       "}\n",
       "\n",
       "#sk-container-id-1 div.sk-estimator.fitted {\n",
       "  /* fitted */\n",
       "  background-color: var(--sklearn-color-fitted-level-0);\n",
       "}\n",
       "\n",
       "/* on hover */\n",
       "#sk-container-id-1 div.sk-estimator:hover {\n",
       "  /* unfitted */\n",
       "  background-color: var(--sklearn-color-unfitted-level-2);\n",
       "}\n",
       "\n",
       "#sk-container-id-1 div.sk-estimator.fitted:hover {\n",
       "  /* fitted */\n",
       "  background-color: var(--sklearn-color-fitted-level-2);\n",
       "}\n",
       "\n",
       "/* Specification for estimator info (e.g. \"i\" and \"?\") */\n",
       "\n",
       "/* Common style for \"i\" and \"?\" */\n",
       "\n",
       ".sk-estimator-doc-link,\n",
       "a:link.sk-estimator-doc-link,\n",
       "a:visited.sk-estimator-doc-link {\n",
       "  float: right;\n",
       "  font-size: smaller;\n",
       "  line-height: 1em;\n",
       "  font-family: monospace;\n",
       "  background-color: var(--sklearn-color-background);\n",
       "  border-radius: 1em;\n",
       "  height: 1em;\n",
       "  width: 1em;\n",
       "  text-decoration: none !important;\n",
       "  margin-left: 1ex;\n",
       "  /* unfitted */\n",
       "  border: var(--sklearn-color-unfitted-level-1) 1pt solid;\n",
       "  color: var(--sklearn-color-unfitted-level-1);\n",
       "}\n",
       "\n",
       ".sk-estimator-doc-link.fitted,\n",
       "a:link.sk-estimator-doc-link.fitted,\n",
       "a:visited.sk-estimator-doc-link.fitted {\n",
       "  /* fitted */\n",
       "  border: var(--sklearn-color-fitted-level-1) 1pt solid;\n",
       "  color: var(--sklearn-color-fitted-level-1);\n",
       "}\n",
       "\n",
       "/* On hover */\n",
       "div.sk-estimator:hover .sk-estimator-doc-link:hover,\n",
       ".sk-estimator-doc-link:hover,\n",
       "div.sk-label-container:hover .sk-estimator-doc-link:hover,\n",
       ".sk-estimator-doc-link:hover {\n",
       "  /* unfitted */\n",
       "  background-color: var(--sklearn-color-unfitted-level-3);\n",
       "  color: var(--sklearn-color-background);\n",
       "  text-decoration: none;\n",
       "}\n",
       "\n",
       "div.sk-estimator.fitted:hover .sk-estimator-doc-link.fitted:hover,\n",
       ".sk-estimator-doc-link.fitted:hover,\n",
       "div.sk-label-container:hover .sk-estimator-doc-link.fitted:hover,\n",
       ".sk-estimator-doc-link.fitted:hover {\n",
       "  /* fitted */\n",
       "  background-color: var(--sklearn-color-fitted-level-3);\n",
       "  color: var(--sklearn-color-background);\n",
       "  text-decoration: none;\n",
       "}\n",
       "\n",
       "/* Span, style for the box shown on hovering the info icon */\n",
       ".sk-estimator-doc-link span {\n",
       "  display: none;\n",
       "  z-index: 9999;\n",
       "  position: relative;\n",
       "  font-weight: normal;\n",
       "  right: .2ex;\n",
       "  padding: .5ex;\n",
       "  margin: .5ex;\n",
       "  width: min-content;\n",
       "  min-width: 20ex;\n",
       "  max-width: 50ex;\n",
       "  color: var(--sklearn-color-text);\n",
       "  box-shadow: 2pt 2pt 4pt #999;\n",
       "  /* unfitted */\n",
       "  background: var(--sklearn-color-unfitted-level-0);\n",
       "  border: .5pt solid var(--sklearn-color-unfitted-level-3);\n",
       "}\n",
       "\n",
       ".sk-estimator-doc-link.fitted span {\n",
       "  /* fitted */\n",
       "  background: var(--sklearn-color-fitted-level-0);\n",
       "  border: var(--sklearn-color-fitted-level-3);\n",
       "}\n",
       "\n",
       ".sk-estimator-doc-link:hover span {\n",
       "  display: block;\n",
       "}\n",
       "\n",
       "/* \"?\"-specific style due to the `<a>` HTML tag */\n",
       "\n",
       "#sk-container-id-1 a.estimator_doc_link {\n",
       "  float: right;\n",
       "  font-size: 1rem;\n",
       "  line-height: 1em;\n",
       "  font-family: monospace;\n",
       "  background-color: var(--sklearn-color-background);\n",
       "  border-radius: 1rem;\n",
       "  height: 1rem;\n",
       "  width: 1rem;\n",
       "  text-decoration: none;\n",
       "  /* unfitted */\n",
       "  color: var(--sklearn-color-unfitted-level-1);\n",
       "  border: var(--sklearn-color-unfitted-level-1) 1pt solid;\n",
       "}\n",
       "\n",
       "#sk-container-id-1 a.estimator_doc_link.fitted {\n",
       "  /* fitted */\n",
       "  border: var(--sklearn-color-fitted-level-1) 1pt solid;\n",
       "  color: var(--sklearn-color-fitted-level-1);\n",
       "}\n",
       "\n",
       "/* On hover */\n",
       "#sk-container-id-1 a.estimator_doc_link:hover {\n",
       "  /* unfitted */\n",
       "  background-color: var(--sklearn-color-unfitted-level-3);\n",
       "  color: var(--sklearn-color-background);\n",
       "  text-decoration: none;\n",
       "}\n",
       "\n",
       "#sk-container-id-1 a.estimator_doc_link.fitted:hover {\n",
       "  /* fitted */\n",
       "  background-color: var(--sklearn-color-fitted-level-3);\n",
       "}\n",
       "</style><div id=\"sk-container-id-1\" class=\"sk-top-container\"><div class=\"sk-text-repr-fallback\"><pre>RandomForestRegressor(random_state=2023)</pre><b>In a Jupyter environment, please rerun this cell to show the HTML representation or trust the notebook. <br />On GitHub, the HTML representation is unable to render, please try loading this page with nbviewer.org.</b></div><div class=\"sk-container\" hidden><div class=\"sk-item\"><div class=\"sk-estimator fitted sk-toggleable\"><input class=\"sk-toggleable__control sk-hidden--visually\" id=\"sk-estimator-id-1\" type=\"checkbox\" checked><label for=\"sk-estimator-id-1\" class=\"sk-toggleable__label fitted sk-toggleable__label-arrow fitted\">&nbsp;&nbsp;RandomForestRegressor<a class=\"sk-estimator-doc-link fitted\" rel=\"noreferrer\" target=\"_blank\" href=\"https://scikit-learn.org/1.4/modules/generated/sklearn.ensemble.RandomForestRegressor.html\">?<span>Documentation for RandomForestRegressor</span></a><span class=\"sk-estimator-doc-link fitted\">i<span>Fitted</span></span></label><div class=\"sk-toggleable__content fitted\"><pre>RandomForestRegressor(random_state=2023)</pre></div> </div></div></div></div>"
      ],
      "text/plain": [
       "RandomForestRegressor(random_state=2023)"
      ]
     },
     "execution_count": 15,
     "metadata": {},
     "output_type": "execute_result"
    }
   ],
   "source": [
    " #\t랜덤포레스트\t모델\t사용\t(참고\t:\t분류모델은\tRandomForestClassifier)\n",
    "from sklearn.ensemble import RandomForestRegressor\n",
    "model =\tRandomForestRegressor(random_state=2023)\n",
    "model.fit(x_train, y_train)"
   ]
  },
  {
   "cell_type": "code",
   "execution_count": 16,
   "id": "b606605e-9106-458e-9c73-78e884e3181a",
   "metadata": {},
   "outputs": [],
   "source": [
    " #\t모델을\t사용하여\t테스트\t데이터\t예측\n",
    "y_pred = model.predict(x_val)"
   ]
  },
  {
   "cell_type": "code",
   "execution_count": 17,
   "id": "6f67a099-aa47-48da-a8a1-9e8c0dcb2b57",
   "metadata": {},
   "outputs": [],
   "source": [
    " #\t모델\t성능\t평가\t(평균\t제곱\t오차\t및\tR-squared)\n",
    "from sklearn.metrics import\tmean_squared_error,\tr2_score\n",
    "mse\t= mean_squared_error(y_val,\ty_pred)\t\t#\t(실제값,\t예측값)\n",
    "r2\t= r2_score(y_val, y_pred)"
   ]
  },
  {
   "cell_type": "code",
   "execution_count": 18,
   "id": "ea06f5eb-8e76-4a97-9fe7-1e5dd1f2c80a",
   "metadata": {},
   "outputs": [
    {
     "name": "stdout",
     "output_type": "stream",
     "text": [
      "2563.5036816901406\n"
     ]
    }
   ],
   "source": [
    "# MSE(mean_squar)\n",
    "print(mse)"
   ]
  },
  {
   "cell_type": "code",
   "execution_count": 19,
   "id": "7eb0478a-fa21-4b04-a232-5e1a8706e6a0",
   "metadata": {},
   "outputs": [
    {
     "name": "stdout",
     "output_type": "stream",
     "text": [
      "0.5250663004710372\n"
     ]
    }
   ],
   "source": [
    "# R2 score(R-squared)\n",
    "print(r2)"
   ]
  },
  {
   "cell_type": "code",
   "execution_count": 20,
   "id": "fdd5febd-2728-4713-951c-022394eaa24b",
   "metadata": {},
   "outputs": [
    {
     "name": "stdout",
     "output_type": "stream",
     "text": [
      "50.631054518843875\n"
     ]
    }
   ],
   "source": [
    "# RMSE\n",
    "rmse = mse**0.5\n",
    "print(rmse)"
   ]
  },
  {
   "cell_type": "markdown",
   "id": "9c5963e7-e74a-4950-93c6-c822e2006140",
   "metadata": {},
   "source": [
    "## 5. 예측값 제출"
   ]
  },
  {
   "cell_type": "markdown",
   "id": "8d04dc70-3710-4ca5-a27b-4ea0c0e7ccaf",
   "metadata": {},
   "source": [
    "### (주의) x_test를 모델에 넣어 나온 예측값을 제출해야 함"
   ]
  },
  {
   "cell_type": "code",
   "execution_count": 21,
   "id": "ba071630-9f86-4562-b95e-17f52b96e4c9",
   "metadata": {},
   "outputs": [
    {
     "name": "stdout",
     "output_type": "stream",
     "text": [
      "   cust_id  target\n",
      "0      280  186.51\n",
      "1      412  255.92\n",
      "2       68   77.97\n",
      "3      324  185.64\n",
      "4      101  111.14\n"
     ]
    }
   ],
   "source": [
    "# 아래 코드 예측변수와 수험번호를 개인별로 변경하여 활용\n",
    "#pd.DataFrame({'cust_id':cust_id, 'target':y_result}).to_csv('0008.csv', index=False)\n",
    "\n",
    "# 모델을 사용하여 테스트 데이터 예측\n",
    "y_result = model.predict(x_test)\n",
    "result = pd.DataFrame({'cust_id':cust_id, 'target':y_result})\n",
    "print(result[:5])"
   ]
  },
  {
   "cell_type": "code",
   "execution_count": 22,
   "id": "edf32433-591c-4091-b20d-8ca6d2c31e20",
   "metadata": {},
   "outputs": [],
   "source": [
    "pd.DataFrame({'cust_id':cust_id, 'target':y_result}).to_csv('0009.csv',index=False)"
   ]
  },
  {
   "cell_type": "code",
   "execution_count": 23,
   "id": "de00ce5c-bb45-4408-920f-82839f2c28f0",
   "metadata": {},
   "outputs": [
    {
     "name": "stdout",
     "output_type": "stream",
     "text": [
      "   cust_id  target\n",
      "0      280  186.51\n",
      "1      412  255.92\n",
      "2       68   77.97\n",
      "3      324  185.64\n",
      "4      101  111.14\n"
     ]
    }
   ],
   "source": [
    "df2 = pd.read_csv('0009.csv')\n",
    "print(df2.head())"
   ]
  }
 ],
 "metadata": {
  "kernelspec": {
   "display_name": "Python 3 (ipykernel)",
   "language": "python",
   "name": "python3"
  },
  "language_info": {
   "codemirror_mode": {
    "name": "ipython",
    "version": 3
   },
   "file_extension": ".py",
   "mimetype": "text/x-python",
   "name": "python",
   "nbconvert_exporter": "python",
   "pygments_lexer": "ipython3",
   "version": "3.12.3"
  }
 },
 "nbformat": 4,
 "nbformat_minor": 5
}
