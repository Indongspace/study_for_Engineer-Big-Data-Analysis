{
 "cells": [
  {
   "cell_type": "markdown",
   "id": "6b190d1d-f745-45bd-b476-a267f76638d4",
   "metadata": {},
   "source": [
    "## 제3유형_모집단 3개 이상"
   ]
  },
  {
   "cell_type": "markdown",
   "id": "6fb59a44-6da4-4946-85ac-1fe19eb77032",
   "metadata": {},
   "source": [
    "## 검정방법"
   ]
  },
  {
   "cell_type": "markdown",
   "id": "5af7093a-2b65-4e6e-a541-ce164b02f190",
   "metadata": {},
   "source": [
    "### 1. 분산분석(ANOVA) : A집단 vs B집단 vs C집단 vs ...\n",
    "- (정규성O) ANOVA 분석\n",
    "- (정규성X) 크루스칼-왈리스 검정(kruskal-wallis test)"
   ]
  },
  {
   "cell_type": "markdown",
   "id": "5ea43458-252e-4809-9586-54b7cdfe9352",
   "metadata": {},
   "source": [
    "## 가설검정 순서(중요!!)\n",
    "- 1. 가설설정\n",
    "  2. 유의수준 확인\n",
    "  3. 정규성 검정 (주의) 집단 모두 정규성을 따를 경우!\n",
    "  4. 등분산 검정\n",
    "  5. 검정실시(통계량, p-value확인) (주의) 등분산 여부 확인\n",
    "  6. 귀무가설 기각여부 결정(채택/기각)"
   ]
  },
  {
   "cell_type": "markdown",
   "id": "413b6225-52af-43b1-bca7-543f08011212",
   "metadata": {},
   "source": [
    "## 예제문제\n",
    "문제 1-1\n",
    "다음은 A,B,C 그룹 인원 성적 데이터이다.\n",
    "\n",
    "세 그룹의 성적 평균이 같다고 할 수 있는지 ANOVA 분석을 실시하시오.\n",
    "\n",
    "(유의수준 5%)\n",
    "\n",
    "- A,B,C : 각 그룹 인원의 성적\n",
    "- H0(귀무가설) : A(평균) = B(평균) = C(평균)\n",
    "- H1(대립가설) : Not H0 (적어도 하나는 같지 않다)"
   ]
  },
  {
   "cell_type": "code",
   "execution_count": 1,
   "id": "58ecebf7-ffee-48fe-babe-9785d6fe9596",
   "metadata": {},
   "outputs": [],
   "source": [
    "import pandas as pd\n",
    "import numpy as np\n",
    "import scipy.stats as stats\n",
    "from scipy.stats import shapiro"
   ]
  },
  {
   "cell_type": "code",
   "execution_count": 2,
   "id": "33f85982-2e53-4afd-b70c-001635ba03b1",
   "metadata": {},
   "outputs": [
    {
     "name": "stdout",
     "output_type": "stream",
     "text": [
      "     A    B    C\n",
      "0  120  110  130\n",
      "1  135  132  120\n",
      "2  122  123  115\n"
     ]
    }
   ],
   "source": [
    " #\t데이터\t만들기\n",
    "df = pd.DataFrame(\t{\n",
    "\t'A': [120,\t135,\t122,\t124,\t135,\t122,\t145,\t160,\t155,\t142,\t144,\t135,\t167],\n",
    "\t'B'\t: [110,\t132,\t123,\t119,\t123,\t115,\t140,\t162,\t142,\t138,\t135,\t142,\t160],\n",
    "\t'C'\t: [130,\t120,\t115,\t122,\t133,\t144,\t122,\t120,\t110,\t134,\t125,\t122,\t122]})\n",
    " print(df.head(3))"
   ]
  },
  {
   "cell_type": "code",
   "execution_count": 3,
   "id": "0c592925-bb06-403b-b6e1-541e1faedd43",
   "metadata": {},
   "outputs": [],
   "source": [
    "# 1. 가설설정\n",
    "# H0 : 세 그룹 성적의 평균값이 같다. (A(평균) = B(평균) = C(평균))\n",
    "# H1 : 세 그룹의 성적 평균값이 적어도 하나는 같지 않다. (Not H0)"
   ]
  },
  {
   "cell_type": "code",
   "execution_count": 4,
   "id": "2a9295fa-eb21-4bc3-b1e2-148887330742",
   "metadata": {},
   "outputs": [],
   "source": [
    "# 2. 유의수준 확인 : 유의수준 5%로 확인"
   ]
  },
  {
   "cell_type": "code",
   "execution_count": 5,
   "id": "3e03d238-7742-43c0-9ee1-fad9b72efa59",
   "metadata": {},
   "outputs": [
    {
     "name": "stdout",
     "output_type": "stream",
     "text": [
      "ShapiroResult(statistic=0.9314373738322363, pvalue=0.35584957364120257)\n",
      "ShapiroResult(statistic=0.9498199298581277, pvalue=0.5955637454032426)\n",
      "ShapiroResult(statistic=0.9396706636806645, pvalue=0.4526517552551474)\n"
     ]
    }
   ],
   "source": [
    "# 3. 정규성 검정\n",
    "print(stats.shapiro(df['A']))\n",
    "print(stats.shapiro(df['B']))\n",
    "print(stats.shapiro(df['C']))"
   ]
  },
  {
   "cell_type": "markdown",
   "id": "a04bb3dc-a9c2-4a1c-a397-14566148170b",
   "metadata": {},
   "source": [
    "- 세 집단 모두 p-value 값이 유의수준(0.05) 보다 크다.\n",
    "- 귀무가설(H0) 채택 => 정규분포를 따른다고 할 수 있다.\n",
    "- 만약 하나라도 정규분포를 따르지 않는다면 비모수 검정방법을 써야 함 (크루스칼-왈리스 검정)"
   ]
  },
  {
   "cell_type": "code",
   "execution_count": 6,
   "id": "bb6fab23-514d-405b-8091-c73e48277a6d",
   "metadata": {},
   "outputs": [
    {
     "name": "stdout",
     "output_type": "stream",
     "text": [
      "BartlettResult(statistic=4.222248448848066, pvalue=0.12110174433684852)\n"
     ]
    }
   ],
   "source": [
    "# 4. 등분산성 검정\n",
    "# H0(귀무가설) : 등분산 한다.\n",
    "# H1(대립가설) : 등분산 하지 않는다.\n",
    "print(stats.bartlett(df['A'], df['B'], df['C']))"
   ]
  },
  {
   "cell_type": "markdown",
   "id": "c40993de-9785-49b7-8a50-4468baa6fb84",
   "metadata": {},
   "source": [
    "- p-value 값이 유의수준(0.05) 보다 크다.\n",
    "- 귀무가설(H0) 채택 => 등분산 한다고 할 수 있다."
   ]
  },
  {
   "cell_type": "code",
   "execution_count": 8,
   "id": "7df56ab0-452f-4e93-8a7c-1fd8aa0252b7",
   "metadata": {},
   "outputs": [
    {
     "name": "stdout",
     "output_type": "stream",
     "text": [
      "3.6971 0.0346\n"
     ]
    }
   ],
   "source": [
    "# 5.1 (정규성 O, 등분산성 O) 분산분석(F_oneway)\n",
    "statistic, pvalue = stats.f_oneway(df['A'], df['B'], df['C'])\n",
    "print(round(statistic, 4), round(pvalue, 4))\n",
    "# 주의 : 데이터가 각각 들어가야 함(밑에 예제와 비교해볼 것)"
   ]
  },
  {
   "cell_type": "code",
   "execution_count": 9,
   "id": "7a596f73-c24b-41ac-89e1-fa16068b10b0",
   "metadata": {},
   "outputs": [],
   "source": [
    "# 5.2 (정규성 O, 등분산성 X) Welch-ANOVA 분석\n",
    "# import pingouin as pg\n",
    "# pg.welch_anova(df = '그룹변수명', between = '성적데이터', data= 데이터)\n",
    "# pg.welch_anova(df['A'],df['B'],df['C'] 형태로는 분석 불가)"
   ]
  },
  {
   "cell_type": "code",
   "execution_count": 10,
   "id": "84a7e35a-a61b-4f13-8032-67a7f4db2f8a",
   "metadata": {},
   "outputs": [
    {
     "name": "stdout",
     "output_type": "stream",
     "text": [
      "6.897 0.0318\n"
     ]
    }
   ],
   "source": [
    "# 5.3 (정규성 X) 크루스칼 왈리스 검정\n",
    "statistic, pvalue = stats.kruskal(df['A'], df['B'], df['C'])\n",
    "print(round(statistic, 4), round(pvalue, 4))"
   ]
  },
  {
   "cell_type": "code",
   "execution_count": 11,
   "id": "7563d79f-7d69-4537-9b16-639247cb5b36",
   "metadata": {},
   "outputs": [],
   "source": [
    "# 6. 귀무가설 기각여부 결정(채택/기각)\n",
    "# p-value 값이 0.05보다 작기 때문에 귀무가설을 기각한다. (대립가설 채택)\n",
    "# 즉, A,B,C 그룹의 성적 평균이 같다고 할 수 없다.\n",
    "\n",
    "# 답 : 기각"
   ]
  },
  {
   "cell_type": "markdown",
   "id": "e65383d3-9b7f-49f9-965c-eb74d40dc021",
   "metadata": {},
   "source": [
    "문제 1-2 데이터 형태가 다를 경우"
   ]
  },
  {
   "cell_type": "code",
   "execution_count": 13,
   "id": "a373bef8-ca95-402c-b90d-0fcb6775ad9f",
   "metadata": {},
   "outputs": [
    {
     "name": "stdout",
     "output_type": "stream",
     "text": [
      "  항목  value\n",
      "0  A    120\n",
      "1  A    135\n",
      "2  A    122\n"
     ]
    }
   ],
   "source": [
    "#\t데이터\t만들기\n",
    "df2\t= pd.DataFrame(\t{\n",
    " '항목': ['A','A','A','A','A','A','A','A','A','A','A','A','A',\n",
    "         'B','B','B','B','B','B','B','B','B','B','B','B','B',\n",
    "         'C','C','C','C','C','C','C','C','C','C','C','C','C',],\n",
    " 'value': [120,\t135,\t122,\t124,\t135,\t122,\t145,\t160,\t155,\t142,\t144,\t135,\t167,\n",
    " 110,\t132,\t123,\t119,\t123,\t115,\t140,\t162,\t142,\t138,\t135,\t142,\t160,\n",
    " 130,\t120,\t115,\t122,\t133,\t144,\t122,\t120,\t110,\t134,\t125,\t122,\t122]\n",
    " })\n",
    "print(df2.head(3))"
   ]
  },
  {
   "cell_type": "code",
   "execution_count": 14,
   "id": "c6e8d1d1-b0d3-41d8-a286-283fb923fffc",
   "metadata": {},
   "outputs": [],
   "source": [
    "# 각각 필터링해서 변수명에 저장하고 분석 진행\n",
    "a = df2[df2['항목']=='A']['value']\n",
    "b = df2[df2['항목']=='B']['value']\n",
    "c = df2[df2['항목']=='C']['value']"
   ]
  },
  {
   "cell_type": "code",
   "execution_count": 15,
   "id": "5799eb05-6d2d-4204-8d21-eb3acd12fe26",
   "metadata": {},
   "outputs": [
    {
     "name": "stdout",
     "output_type": "stream",
     "text": [
      "3.6971 0.0346\n"
     ]
    }
   ],
   "source": [
    "# 분산분석(F_oneway)\n",
    "statistic, pvalue = stats.f_oneway(a,b,c)\n",
    "print(round(statistic, 4), round(pvalue, 4))"
   ]
  }
 ],
 "metadata": {
  "kernelspec": {
   "display_name": "Python 3 (ipykernel)",
   "language": "python",
   "name": "python3"
  },
  "language_info": {
   "codemirror_mode": {
    "name": "ipython",
    "version": 3
   },
   "file_extension": ".py",
   "mimetype": "text/x-python",
   "name": "python",
   "nbconvert_exporter": "python",
   "pygments_lexer": "ipython3",
   "version": "3.12.3"
  }
 },
 "nbformat": 4,
 "nbformat_minor": 5
}
