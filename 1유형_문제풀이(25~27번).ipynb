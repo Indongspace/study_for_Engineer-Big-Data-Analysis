{
 "cells": [
  {
   "cell_type": "code",
   "execution_count": 8,
   "id": "142533aa-032b-4697-973a-e4fcd0e9d554",
   "metadata": {},
   "outputs": [
    {
     "name": "stdout",
     "output_type": "stream",
     "text": [
      "25\n"
     ]
    }
   ],
   "source": [
    "# 문제 25\n",
    "# 23년 9월 24일 16:00~22:00 사이에 전체 제품의 판매수를 구하시오. \n",
    "# 시간 데이터 만들기(수정금지)\n",
    "import pandas as pd\n",
    "df = pd.DataFrame( {\n",
    "    '물품' : ['A', 'B', 'A', 'B', 'A', 'B', 'A'],\n",
    "    '판매수': [5, 10, 15, 15, 20, 25, 40], \n",
    "    '개당수익': [500, 600, 500, 600, 600, 700, 600] })\n",
    "time = pd.date_range('2023-09-24 12:25:00','2023-09-25 14:45:30', periods=7)\n",
    "df['time'] = time\n",
    "df = df[['time','물품','판매수','개당수익']]\n",
    "\n",
    "df_period = df[df['time'].between('2023-09-24 16:00:00','2023-09-24 22:00:00')]\n",
    "print(df_period['판매수'].sum())"
   ]
  },
  {
   "cell_type": "code",
   "execution_count": 36,
   "id": "53e630c1-f4c1-4f21-ada3-35f7454b5d22",
   "metadata": {},
   "outputs": [
    {
     "name": "stdout",
     "output_type": "stream",
     "text": [
      "<class 'pandas.core.frame.DataFrame'>\n",
      "RangeIndex: 7 entries, 0 to 6\n",
      "Data columns (total 4 columns):\n",
      " #   Column  Non-Null Count  Dtype         \n",
      "---  ------  --------------  -----         \n",
      " 0   time    7 non-null      datetime64[ns]\n",
      " 1   물품      7 non-null      object        \n",
      " 2   판매수     7 non-null      int64         \n",
      " 3   개당수익    7 non-null      int64         \n",
      "dtypes: datetime64[ns](1), int64(2), object(1)\n",
      "memory usage: 356.0+ bytes\n",
      "25\n"
     ]
    }
   ],
   "source": [
    "# 강의 풀이\n",
    "df = pd.DataFrame( {\n",
    "    '물품' : ['A', 'B', 'A', 'B', 'A', 'B', 'A'],\n",
    "    '판매수': [5, 10, 15, 15, 20, 25, 40], \n",
    "    '개당수익': [500, 600, 500, 600, 600, 700, 600] })\n",
    "time = pd.date_range('2023-09-24 12:25:00','2023-09-25 14:45:30', periods=7)\n",
    "df['time'] = time\n",
    "df = df[['time','물품','판매수','개당수익']]\n",
    "df.info()\n",
    "df['time'] = pd.to_datetime(df['time'])\n",
    "df = df.set_index('time', drop=False)\n",
    "df_after = df[df['time'].between('2023-09-24 00:00:00','2023-09-24 23:59:59')]\n",
    "df_after = df_after.between_time('16:00','22:00')\n",
    "print(df_after['판매수'].sum())"
   ]
  },
  {
   "cell_type": "code",
   "execution_count": 39,
   "id": "5ac7a520-e23c-4c5a-9527-dffb50e85930",
   "metadata": {},
   "outputs": [
    {
     "name": "stdout",
     "output_type": "stream",
     "text": [
      "25\n"
     ]
    }
   ],
   "source": [
    "# 강의 풀이 2\n",
    "df = pd.DataFrame( {\n",
    "    '물품' : ['A', 'B', 'A', 'B', 'A', 'B', 'A'],\n",
    "    '판매수': [5, 10, 15, 15, 20, 25, 40], \n",
    "    '개당수익': [500, 600, 500, 600, 600, 700, 600] })\n",
    "time = pd.date_range('2023-09-24 12:25:00','2023-09-25 14:45:30', periods=7)\n",
    "df['time'] = time\n",
    "df = df[['time','물품','판매수','개당수익']]\n",
    "df['time'] = pd.to_datetime(df['time'])\n",
    "df = df.set_index('time',drop=True)\n",
    "df_after = df[(df.index>='2023-09-24 16:00:00') & (df.index<='2023-09-24 22:00:00')]\n",
    "print(df_after['판매수'].sum())"
   ]
  },
  {
   "cell_type": "code",
   "execution_count": 17,
   "id": "d1f291e2-e749-42ce-a272-fda7d9eea27b",
   "metadata": {},
   "outputs": [
    {
     "name": "stdout",
     "output_type": "stream",
     "text": [
      "26500\n"
     ]
    }
   ],
   "source": [
    "# 문제 26\n",
    "# 9월 25일 00:00~12:00 까지의 B물품의 매출액 총합을 구하시오.\n",
    "# (매출액 = 판매수*개당수익)\n",
    "# 시간 데이터 만들기(수정금지)\n",
    "df = pd.DataFrame( {\n",
    "    '물품' : ['A', 'B', 'A', 'B', 'A', 'B', 'A'],\n",
    "    '판매수': [5, 10, 15, 15, 20, 25, 40], \n",
    "    '개당수익': [500, 600, 500, 600, 600, 700, 600] } )\n",
    "df['time'] = pd.date_range('2023-09-24 12:25:00','2023-09-25 14:45:30', periods=7)\n",
    "\n",
    "df['매출액'] = df['판매수']*df['개당수익']\n",
    "\n",
    "df = df[ ['time','물품','판매수','개당수익','매출액'] ]\n",
    "\n",
    "\n",
    "df = df.set_index('time',drop=True)\n",
    "\n",
    "df_period = df[(df.index>='2023-09-25 00:00:00') & (df.index<='2023-09-25 12:00:00')]\n",
    "df_period_b = df_period[df_period['물품']=='B']\n",
    "print(df_period_b['매출액'].sum())"
   ]
  },
  {
   "cell_type": "code",
   "execution_count": 44,
   "id": "a78010fc-acca-41a5-bf1c-f3c9f0cf594a",
   "metadata": {},
   "outputs": [
    {
     "name": "stdout",
     "output_type": "stream",
     "text": [
      "26500\n"
     ]
    }
   ],
   "source": [
    "# 강의 풀이\n",
    "df = pd.DataFrame( {\n",
    "    '물품' : ['A', 'B', 'A', 'B', 'A', 'B', 'A'],\n",
    "    '판매수': [5, 10, 15, 15, 20, 25, 40], \n",
    "    '개당수익': [500, 600, 500, 600, 600, 700, 600] } )\n",
    "df['time'] = pd.date_range('2023-09-24 12:25:00','2023-09-25 14:45:30', periods=7)\n",
    "\n",
    "df['매출액'] = df['판매수']*df['개당수익']\n",
    "df = df[ ['time','물품','판매수','개당수익','매출액'] ]\n",
    "df = df.set_index('time', drop=True)\n",
    "df = df.reset_index()\n",
    "df['time'] = pd.to_datetime(df['time'])\n",
    "df = df[df['time'].between('2023-09-25 00:00:00','2023-09-25 12:00:00')]\n",
    "df = df[df['물품']=='B']\n",
    "print(df['매출액'].sum())"
   ]
  },
  {
   "cell_type": "code",
   "execution_count": 45,
   "id": "b7898aff-8c99-4568-b1de-a5fd7d7f91f1",
   "metadata": {},
   "outputs": [],
   "source": [
    "# 강의 풀이 2\n",
    "#df = df.loc[(df.index>='2023-09-25 00:00:00') & (df.index<='2023-09-25 12:00:00')]\n",
    "# 만약 날짜와 상관없이 특정 시간대를 필터링 해야할 때\n",
    "# df.between_time(start_time='00:00:00', end_time='12:00:00')\n",
    "# 주의 : 시간이 index에 위치해야 함"
   ]
  },
  {
   "cell_type": "code",
   "execution_count": 29,
   "id": "573028d1-cdfe-42af-9c74-7f455f42ae5d",
   "metadata": {},
   "outputs": [
    {
     "name": "stdout",
     "output_type": "stream",
     "text": [
      "10000\n"
     ]
    }
   ],
   "source": [
    "# 문제 27\n",
    "# 9월 24일 12:00~24:00 까지의 A물품의 매출액 총합을 구하시오.\n",
    "# (매출액 = 판매수*개당수익)\n",
    "# 시간 데이터 만들기(수정금지)\n",
    "df = pd.DataFrame( {\n",
    "    '물품' : ['A', 'B', 'A', 'B', 'A', 'B', 'A'],\n",
    "    '판매수': [5, 10, 15, 15, 20, 25, 40], \n",
    "    '개당수익': [500, 600, 500, 600, 600, 700, 600] } )\n",
    "df['time'] = pd.date_range('2023-09-24 12:25:00','2023-09-25 14:45:30', periods=7)\n",
    "df['매출액'] = df['판매수']*df['개당수익']\n",
    "df = df[ ['time','물품','판매수','개당수익','매출액'] ]\n",
    "df = df.set_index('time', drop=True)\n",
    "df_period = df[(df.index>='2023-09-24 12:00:00') & (df.index<='2023-09-25 00:00:00')]\n",
    "df_period_a = df_period[df_period['물품']=='A']\n",
    "print(df_period_a['매출액'].sum())"
   ]
  }
 ],
 "metadata": {
  "kernelspec": {
   "display_name": "Python 3 (ipykernel)",
   "language": "python",
   "name": "python3"
  },
  "language_info": {
   "codemirror_mode": {
    "name": "ipython",
    "version": 3
   },
   "file_extension": ".py",
   "mimetype": "text/x-python",
   "name": "python",
   "nbconvert_exporter": "python",
   "pygments_lexer": "ipython3",
   "version": "3.12.3"
  }
 },
 "nbformat": 4,
 "nbformat_minor": 5
}
