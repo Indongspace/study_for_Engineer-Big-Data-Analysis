{
 "cells": [
  {
   "cell_type": "markdown",
   "id": "5b30dae2-f52c-434b-8c21-232a80a8842f",
   "metadata": {},
   "source": [
    "## 제2유형_연습하기_iris 종 분류"
   ]
  },
  {
   "cell_type": "markdown",
   "id": "02187b0d-a1a5-4598-b7f2-0eb50acfa101",
   "metadata": {},
   "source": [
    "## 데이터 분석 순서\n",
    "- 1. 라이브러리 및 데이터 확인\n",
    "  2. 데이터 탐색(EDA)\n",
    "  3. 데이터 전처리 및 분리\n",
    "  4. 모델링 및 성능평가\n",
    "  5. 예측값 제출"
   ]
  },
  {
   "cell_type": "markdown",
   "id": "2c4e056a-08e5-49b9-9f5d-f813eaf3e0e1",
   "metadata": {},
   "source": [
    "## 1. 라이브러리 및 데이터 확인"
   ]
  },
  {
   "cell_type": "code",
   "execution_count": 1,
   "id": "c159089e-379d-44eb-bff5-639160049f38",
   "metadata": {},
   "outputs": [],
   "source": [
    "import pandas as pd\n",
    "import numpy as np\n",
    "from sklearn.datasets import load_iris\n",
    "iris = load_iris()\n",
    "x = pd.DataFrame(iris.data, columns=['sepal_length','sepal_width','petal_length','petal_width'])\n",
    "y = iris.target # 'setosa'=0, 'versicolor'=1, 'virginica'=2\n",
    "y = np.where(y>0, 1, 0) # setosa 종은 0, 나머지 종은 1로 변경\n",
    "\n",
    "from sklearn.model_selection import train_test_split\n",
    "x_train, x_test, y_train, y_test = train_test_split(x,\n",
    "                                                    y,\n",
    "                                                    test_size=0.2,\n",
    "                                                    stratify=y,\n",
    "                                                    random_state=2023)\n",
    "x_test = pd.DataFrame(x_test)\n",
    "x_train = pd.DataFrame(x_train)\n",
    "y_train = pd.DataFrame(y_train)\n",
    "y_train.columns = ['species']\n",
    "\n",
    "# 결측치 삽입\n",
    "x_test.loc[0, 'sepal_length'] = None\n",
    "x_train.loc[0, 'sepal_length'] = None\n",
    "# 이상치 삽입\n",
    "x_train.loc[0, 'sepal_width'] = 150"
   ]
  },
  {
   "cell_type": "markdown",
   "id": "0dda2450-2a4b-46df-843b-17ef83926196",
   "metadata": {},
   "source": [
    "## 붓꽃의 종(Species)을 분류해보자\n",
    "- 데이터의 결측치, 이상치에 대해 처리하고\n",
    "- 분류모델을 사용하여 정확도, F1 score, AUC 값을 산출하시오.\n",
    "- 제출은 result 변수에 담아 양식에 맞게 제출하시오."
   ]
  },
  {
   "cell_type": "code",
   "execution_count": 11,
   "id": "0f6d9f5e-70d5-4cec-a7b8-dec930e22aa8",
   "metadata": {},
   "outputs": [
    {
     "name": "stdout",
     "output_type": "stream",
     "text": [
      ".. _iris_dataset:\n",
      "\n",
      "Iris plants dataset\n",
      "--------------------\n",
      "\n",
      "**Data Set Characteristics:**\n",
      "\n",
      ":Number of Instances: 150 (50 in each of three classes)\n",
      ":Number of Attributes: 4 numeric, predictive attributes and the class\n",
      ":Attribute Information:\n",
      "    - sepal length in cm\n",
      "    - sepal width in cm\n",
      "    - petal length in cm\n",
      "    - petal width in cm\n",
      "    - class:\n",
      "            - Iris-Setosa\n",
      "            - Iris-Versicolour\n",
      "            - Iris-Virginica\n",
      "\n",
      ":Summary Statistics:\n",
      "\n",
      "============== ==== ==== ======= ===== ====================\n",
      "                Min  Max   Mean    SD   Class Correlation\n",
      "============== ==== ==== ======= ===== ====================\n",
      "sepal length:   4.3  7.9   5.84   0.83    0.7826\n",
      "sepal width:    2.0  4.4   3.05   0.43   -0.4194\n",
      "petal length:   1.0  6.9   3.76   1.76    0.9490  (high!)\n",
      "petal width:    0.1  2.5   1.20   0.76    0.9565  (high!)\n",
      "============== ==== ==== ======= ===== ====================\n",
      "\n",
      ":Missing Attribute Values: None\n",
      ":Class Distribution: 33.3% for each of 3 classes.\n",
      ":Creator: R.A. Fisher\n",
      ":Donor: Michael Marshall (MARSHALL%PLU@io.arc.nasa.gov)\n",
      ":Date: July, 1988\n",
      "\n",
      "The famous Iris database, first used by Sir R.A. Fisher. The dataset is taken\n",
      "from Fisher's paper. Note that it's the same as in R, but not as in the UCI\n",
      "Machine Learning Repository, which has two wrong data points.\n",
      "\n",
      "This is perhaps the best known database to be found in the\n",
      "pattern recognition literature.  Fisher's paper is a classic in the field and\n",
      "is referenced frequently to this day.  (See Duda & Hart, for example.)  The\n",
      "data set contains 3 classes of 50 instances each, where each class refers to a\n",
      "type of iris plant.  One class is linearly separable from the other 2; the\n",
      "latter are NOT linearly separable from each other.\n",
      "\n",
      "|details-start|\n",
      "**References**\n",
      "|details-split|\n",
      "\n",
      "- Fisher, R.A. \"The use of multiple measurements in taxonomic problems\"\n",
      "  Annual Eugenics, 7, Part II, 179-188 (1936); also in \"Contributions to\n",
      "  Mathematical Statistics\" (John Wiley, NY, 1950).\n",
      "- Duda, R.O., & Hart, P.E. (1973) Pattern Classification and Scene Analysis.\n",
      "  (Q327.D83) John Wiley & Sons.  ISBN 0-471-22361-1.  See page 218.\n",
      "- Dasarathy, B.V. (1980) \"Nosing Around the Neighborhood: A New System\n",
      "  Structure and Classification Rule for Recognition in Partially Exposed\n",
      "  Environments\".  IEEE Transactions on Pattern Analysis and Machine\n",
      "  Intelligence, Vol. PAMI-2, No. 1, 67-71.\n",
      "- Gates, G.W. (1972) \"The Reduced Nearest Neighbor Rule\".  IEEE Transactions\n",
      "  on Information Theory, May 1972, 431-433.\n",
      "- See also: 1988 MLC Proceedings, 54-64.  Cheeseman et al\"s AUTOCLASS II\n",
      "  conceptual clustering system finds 3 classes in the data.\n",
      "- Many, many more ...\n",
      "\n",
      "|details-end|\n",
      "\n"
     ]
    }
   ],
   "source": [
    "# 데이터 설명\n",
    "print(iris.DESCR)"
   ]
  },
  {
   "cell_type": "markdown",
   "id": "fd0d013a-a85d-4e0b-8a78-aea5e83570cd",
   "metadata": {},
   "source": [
    "## 2. 데이터 탐색(EDA)"
   ]
  },
  {
   "cell_type": "code",
   "execution_count": 2,
   "id": "4b4d2c79-707c-4162-b91e-3021838d89cc",
   "metadata": {},
   "outputs": [
    {
     "name": "stdout",
     "output_type": "stream",
     "text": [
      "(120, 4)\n",
      "(31, 4)\n",
      "(120, 1)\n"
     ]
    }
   ],
   "source": [
    "# 데이터의 행/열 확인\n",
    "print(x_train.shape)\n",
    "print(x_test.shape)\n",
    "print(y_train.shape)"
   ]
  },
  {
   "cell_type": "code",
   "execution_count": 14,
   "id": "cc899a3e-2c4d-4311-bac0-0035908ee387",
   "metadata": {},
   "outputs": [
    {
     "name": "stdout",
     "output_type": "stream",
     "text": [
      "    sepal_length  sepal_width  petal_length  petal_width\n",
      "2            4.7          3.2           1.3          0.2\n",
      "49           5.0          3.3           1.4          0.2\n",
      "66           5.6          3.0           4.5          1.5\n",
      "     sepal_length  sepal_width  petal_length  petal_width\n",
      "93            5.0          2.3           3.3          1.0\n",
      "69            5.6          2.5           3.9          1.1\n",
      "137           6.4          3.1           5.5          1.8\n",
      "   species\n",
      "0        0\n",
      "1        0\n",
      "2        1\n"
     ]
    }
   ],
   "source": [
    "# 초기 데이터 확인\n",
    "print(x_train.head(3))\n",
    "print(x_test.head(3))\n",
    "print(y_train.head(3))"
   ]
  },
  {
   "cell_type": "code",
   "execution_count": 15,
   "id": "e1729cf2-3339-44c5-9f45-a462b216438b",
   "metadata": {},
   "outputs": [
    {
     "name": "stdout",
     "output_type": "stream",
     "text": [
      "<class 'pandas.core.frame.DataFrame'>\n",
      "Index: 120 entries, 2 to 44\n",
      "Data columns (total 4 columns):\n",
      " #   Column        Non-Null Count  Dtype  \n",
      "---  ------        --------------  -----  \n",
      " 0   sepal_length  119 non-null    float64\n",
      " 1   sepal_width   120 non-null    float64\n",
      " 2   petal_length  120 non-null    float64\n",
      " 3   petal_width   120 non-null    float64\n",
      "dtypes: float64(4)\n",
      "memory usage: 8.8 KB\n",
      "None\n",
      "<class 'pandas.core.frame.DataFrame'>\n",
      "Index: 31 entries, 93 to 0\n",
      "Data columns (total 4 columns):\n",
      " #   Column        Non-Null Count  Dtype  \n",
      "---  ------        --------------  -----  \n",
      " 0   sepal_length  30 non-null     float64\n",
      " 1   sepal_width   30 non-null     float64\n",
      " 2   petal_length  30 non-null     float64\n",
      " 3   petal_width   30 non-null     float64\n",
      "dtypes: float64(4)\n",
      "memory usage: 2.3 KB\n",
      "None\n",
      "<class 'pandas.core.frame.DataFrame'>\n",
      "RangeIndex: 120 entries, 0 to 119\n",
      "Data columns (total 1 columns):\n",
      " #   Column   Non-Null Count  Dtype\n",
      "---  ------   --------------  -----\n",
      " 0   species  120 non-null    int32\n",
      "dtypes: int32(1)\n",
      "memory usage: 612.0 bytes\n",
      "None\n"
     ]
    }
   ],
   "source": [
    "# 변수명과 데이터 타입이 매칭이 되는지, 결측치가 있는지 확인\n",
    "print(x_train.info())\n",
    "print(x_test.info())\n",
    "print(y_train.info())"
   ]
  },
  {
   "cell_type": "code",
   "execution_count": 16,
   "id": "265450f2-e2ca-47d3-99b3-ebf1e9df4852",
   "metadata": {},
   "outputs": [
    {
     "name": "stdout",
     "output_type": "stream",
     "text": [
      "              count      mean        std  min    25%   50%    75%    max\n",
      "sepal_length  119.0  5.916807   0.845759  4.3  5.150  6.00  6.500    7.9\n",
      "sepal_width   120.0  4.292500  13.419277  2.2  2.800  3.00  3.325  150.0\n",
      "petal_length  120.0  3.816667   1.798848  1.1  1.575  4.40  5.225    6.9\n",
      "petal_width   120.0  1.226667   0.780512  0.1  0.300  1.35  1.800    2.5\n",
      "              count      mean       std  min    25%   50%    75%  max\n",
      "sepal_length   30.0  5.576667  0.705488  4.6  5.000  5.50  5.900  7.6\n",
      "sepal_width    30.0  3.000000  0.522593  2.0  2.625  3.00  3.300  4.2\n",
      "petal_length   30.0  3.523333  1.631518  1.0  1.600  4.05  4.925  6.6\n",
      "petal_width    30.0  1.090000  0.685490  0.1  0.350  1.15  1.575  2.3\n",
      "         count      mean       std  min  25%  50%  75%  max\n",
      "species  120.0  0.666667  0.473381  0.0  0.0  1.0  1.0  1.0\n"
     ]
    }
   ],
   "source": [
    "# x_train과 x_test 데이터의 기초통계량을 잘 비교해보세요\n",
    "print(x_train.describe().T)\n",
    "print(x_test.describe().T)\n",
    "print(y_train.describe().T)"
   ]
  },
  {
   "cell_type": "code",
   "execution_count": 17,
   "id": "4c863d08-b565-4ded-962f-9f02a900e369",
   "metadata": {},
   "outputs": [
    {
     "name": "stdout",
     "output_type": "stream",
     "text": [
      "   species\n",
      "0        0\n",
      "1        0\n",
      "2        1\n"
     ]
    }
   ],
   "source": [
    "# y데이터도 구체적으로 살펴보세요\n",
    "print(y_train.head(3))"
   ]
  },
  {
   "cell_type": "code",
   "execution_count": 18,
   "id": "66034afb-4847-474e-9403-e79290133f5a",
   "metadata": {},
   "outputs": [
    {
     "name": "stdout",
     "output_type": "stream",
     "text": [
      "species\n",
      "1          80\n",
      "0          40\n",
      "Name: count, dtype: int64\n"
     ]
    }
   ],
   "source": [
    "# y데이터도 구체적으로 살펴보세요\n",
    "print(y_train.value_counts())"
   ]
  },
  {
   "cell_type": "markdown",
   "id": "4a37985d-639c-4002-8ae5-97b149be979c",
   "metadata": {},
   "source": [
    "## 3. 데이터 전처리 및 분리"
   ]
  },
  {
   "cell_type": "markdown",
   "id": "4c8e6858-6374-45e2-8f07-b6c8e8ce6ef8",
   "metadata": {},
   "source": [
    "### 1)결측치, 2)이상치, 3)변수 처리하기"
   ]
  },
  {
   "cell_type": "code",
   "execution_count": 19,
   "id": "42af7b39-a9b2-448b-a9c1-6d3e825f7c40",
   "metadata": {},
   "outputs": [
    {
     "name": "stdout",
     "output_type": "stream",
     "text": [
      "sepal_length    1\n",
      "sepal_width     0\n",
      "petal_length    0\n",
      "petal_width     0\n",
      "dtype: int64\n",
      "sepal_length    1\n",
      "sepal_width     1\n",
      "petal_length    1\n",
      "petal_width     1\n",
      "dtype: int64\n",
      "species    0\n",
      "dtype: int64\n"
     ]
    }
   ],
   "source": [
    "# 결측치 확인\n",
    "print(x_train.isnull().sum())\n",
    "print(x_test.isnull().sum())\n",
    "print(y_train.isnull().sum())"
   ]
  },
  {
   "cell_type": "code",
   "execution_count": 20,
   "id": "851eed5a-c3eb-4d17-b0ee-ff2e2edcfe06",
   "metadata": {},
   "outputs": [],
   "source": [
    "# 결측치 제거\n",
    "#df = df.dropna()\n",
    "#df.dropna().shape"
   ]
  },
  {
   "cell_type": "code",
   "execution_count": 21,
   "id": "f0cc1a97-f6da-4858-b180-4b7b80de4816",
   "metadata": {},
   "outputs": [],
   "source": [
    "# 결측치 대체(평균값, 중앙값, 최빈값)\n",
    "# 연속형 변수 : 중앙값, 평균값\n",
    "#df['변수명'].median()\n",
    "#df['변수명'].mean()\n",
    "\n",
    "# 범주형 변수 : 최빈값\n",
    "#df['변수명'].mode()\n",
    "\n",
    "#df['변수명'] = df['변수명'].fillna(대체할 값)"
   ]
  },
  {
   "cell_type": "code",
   "execution_count": 22,
   "id": "90774d08-4b90-4e34-83ae-03b33addc8e6",
   "metadata": {},
   "outputs": [],
   "source": [
    "# 결측치 대체(중앙값)\n",
    "## ** 주의사항 : train 데이터의 중앙값으로 test 데이터도 변경해줘야 함 **\n",
    "median = x_train['sepal_length'].median()\n",
    "x_train['sepal_length'] = x_train['sepal_length'].fillna(median)\n",
    "x_test['sepal_length'] = x_test['sepal_length'].fillna(median)"
   ]
  },
  {
   "cell_type": "code",
   "execution_count": 23,
   "id": "df347ed1-1f3d-467e-8f31-e2be641887b1",
   "metadata": {},
   "outputs": [
    {
     "name": "stdout",
     "output_type": "stream",
     "text": [
      "sepal_length    0\n",
      "sepal_width     1\n",
      "petal_length    1\n",
      "petal_width     1\n",
      "dtype: int64\n"
     ]
    }
   ],
   "source": [
    "print(x_test.isnull().sum())"
   ]
  },
  {
   "cell_type": "code",
   "execution_count": 25,
   "id": "c075e85c-6bee-4acc-b326-67d6ff286d6b",
   "metadata": {},
   "outputs": [],
   "source": [
    "median_sepal_width = x_train['sepal_width'].median()\n",
    "x_test['sepal_width'] = x_test['sepal_width'].fillna(median_sepal_width)\n",
    "median_petal_length = x_train['petal_length'].median()\n",
    "x_test['petal_length'] = x_test['petal_length'].fillna(median_petal_length)\n",
    "median_petal_width = x_train['petal_width'].median()\n",
    "x_test['petal_width'] = x_test['petal_width'].fillna(median_petal_width)"
   ]
  },
  {
   "cell_type": "code",
   "execution_count": 26,
   "id": "3355cb3b-d670-4ecf-88e6-54971bc6a625",
   "metadata": {},
   "outputs": [
    {
     "name": "stdout",
     "output_type": "stream",
     "text": [
      "sepal_length    0\n",
      "sepal_width     0\n",
      "petal_length    0\n",
      "petal_width     0\n",
      "dtype: int64\n"
     ]
    }
   ],
   "source": [
    "print(x_test.isnull().sum())"
   ]
  },
  {
   "cell_type": "code",
   "execution_count": 28,
   "id": "410eab3e-1f73-4fdb-b58b-07480ed0d54f",
   "metadata": {},
   "outputs": [
    {
     "name": "stdout",
     "output_type": "stream",
     "text": [
      "1\n"
     ]
    }
   ],
   "source": [
    "# 이상치 확인\n",
    "cond1 = (x_train['sepal_width']>10)\n",
    "print(len(x_train[cond1]))"
   ]
  },
  {
   "cell_type": "code",
   "execution_count": 33,
   "id": "7ea1250e-c2dc-4fda-8e3b-f69494a9d6bc",
   "metadata": {},
   "outputs": [
    {
     "name": "stdout",
     "output_type": "stream",
     "text": [
      "4.4\n",
      "       sepal_length  sepal_width  petal_length  petal_width\n",
      "count    120.000000   120.000000    120.000000   120.000000\n",
      "mean       5.917500     3.079167      3.816667     1.226667\n",
      "std        0.842232     0.428383      1.798848     0.780512\n",
      "min        4.300000     2.200000      1.100000     0.100000\n",
      "25%        5.175000     2.800000      1.575000     0.300000\n",
      "50%        6.000000     3.000000      4.400000     1.350000\n",
      "75%        6.500000     3.325000      5.225000     1.800000\n",
      "max        7.900000     4.400000      6.900000     2.500000\n"
     ]
    }
   ],
   "source": [
    "# 이상치 대체\n",
    "# 예를 들어 'sepal_width' 값이 10이 넘으면 이상치라고 가정해본다면\n",
    "# 이상치를 제외한 Max 값을 구해서 대체해보자\n",
    "cond1 = (x_train['sepal_width']<=10)\n",
    "Max = x_train['sepal_width'][cond1].max()\n",
    "print(Max)\n",
    "x_train['sepal_width'] = np.where(x_train['sepal_width']>=10, Max, x_train['sepal_width'])\n",
    "print(x_train.describe())"
   ]
  },
  {
   "cell_type": "code",
   "execution_count": 34,
   "id": "004d7326-cd87-477a-be97-ce2b09121eb0",
   "metadata": {},
   "outputs": [],
   "source": [
    "# 변수처리\n",
    "# 불필요한 변수 제거\n",
    "#df = df.drop(columns=['변수1','변수2'])\n",
    "#df = df.drop(['변수1','변수2'], axis=1)\n",
    "\n",
    "# 필요시 변수 추가(파생변수 생성)\n",
    "#df['파생변수명'] = df['A']*df['B']\n",
    "\n",
    "# 원핫인코딩(가변수 처리)\n",
    "#x_train = pd.get_dummies(x_train)\n",
    "#x_test = pd.get_dummies(x_test)"
   ]
  },
  {
   "cell_type": "markdown",
   "id": "303d6d9f-c734-4433-8961-779a94260562",
   "metadata": {},
   "source": [
    "### 데이터 분리"
   ]
  },
  {
   "cell_type": "code",
   "execution_count": 35,
   "id": "57f7886c-5979-49f9-aad7-3e10d83dcd38",
   "metadata": {},
   "outputs": [
    {
     "name": "stdout",
     "output_type": "stream",
     "text": [
      "(96, 4)\n",
      "(24, 4)\n",
      "(96,)\n",
      "(24,)\n"
     ]
    }
   ],
   "source": [
    "# 데이터를 훈련 세트와 검증용 세트로 분할 (80% 훈련, 20% 검증용)\n",
    "from sklearn.model_selection import train_test_split\n",
    "x_train, x_val, y_train, y_val = train_test_split(x_train,\n",
    "                                                  y_train['species'],\n",
    "                                                  test_size=0.2,\n",
    "                                                  stratify=y_train['species'],\n",
    "                                                  random_state=2023)\n",
    "print(x_train.shape)\n",
    "print(x_val.shape)\n",
    "print(y_train.shape)\n",
    "print(y_val.shape)"
   ]
  },
  {
   "cell_type": "markdown",
   "id": "801e5ebc-e5db-401f-b666-2c62e10e4473",
   "metadata": {},
   "source": [
    "## 4. 모델링 및 성능평가"
   ]
  },
  {
   "cell_type": "code",
   "execution_count": 36,
   "id": "0aef1af1-22e5-472b-be89-bb7af19830af",
   "metadata": {},
   "outputs": [
    {
     "data": {
      "text/html": [
       "<style>#sk-container-id-1 {\n",
       "  /* Definition of color scheme common for light and dark mode */\n",
       "  --sklearn-color-text: black;\n",
       "  --sklearn-color-line: gray;\n",
       "  /* Definition of color scheme for unfitted estimators */\n",
       "  --sklearn-color-unfitted-level-0: #fff5e6;\n",
       "  --sklearn-color-unfitted-level-1: #f6e4d2;\n",
       "  --sklearn-color-unfitted-level-2: #ffe0b3;\n",
       "  --sklearn-color-unfitted-level-3: chocolate;\n",
       "  /* Definition of color scheme for fitted estimators */\n",
       "  --sklearn-color-fitted-level-0: #f0f8ff;\n",
       "  --sklearn-color-fitted-level-1: #d4ebff;\n",
       "  --sklearn-color-fitted-level-2: #b3dbfd;\n",
       "  --sklearn-color-fitted-level-3: cornflowerblue;\n",
       "\n",
       "  /* Specific color for light theme */\n",
       "  --sklearn-color-text-on-default-background: var(--sg-text-color, var(--theme-code-foreground, var(--jp-content-font-color1, black)));\n",
       "  --sklearn-color-background: var(--sg-background-color, var(--theme-background, var(--jp-layout-color0, white)));\n",
       "  --sklearn-color-border-box: var(--sg-text-color, var(--theme-code-foreground, var(--jp-content-font-color1, black)));\n",
       "  --sklearn-color-icon: #696969;\n",
       "\n",
       "  @media (prefers-color-scheme: dark) {\n",
       "    /* Redefinition of color scheme for dark theme */\n",
       "    --sklearn-color-text-on-default-background: var(--sg-text-color, var(--theme-code-foreground, var(--jp-content-font-color1, white)));\n",
       "    --sklearn-color-background: var(--sg-background-color, var(--theme-background, var(--jp-layout-color0, #111)));\n",
       "    --sklearn-color-border-box: var(--sg-text-color, var(--theme-code-foreground, var(--jp-content-font-color1, white)));\n",
       "    --sklearn-color-icon: #878787;\n",
       "  }\n",
       "}\n",
       "\n",
       "#sk-container-id-1 {\n",
       "  color: var(--sklearn-color-text);\n",
       "}\n",
       "\n",
       "#sk-container-id-1 pre {\n",
       "  padding: 0;\n",
       "}\n",
       "\n",
       "#sk-container-id-1 input.sk-hidden--visually {\n",
       "  border: 0;\n",
       "  clip: rect(1px 1px 1px 1px);\n",
       "  clip: rect(1px, 1px, 1px, 1px);\n",
       "  height: 1px;\n",
       "  margin: -1px;\n",
       "  overflow: hidden;\n",
       "  padding: 0;\n",
       "  position: absolute;\n",
       "  width: 1px;\n",
       "}\n",
       "\n",
       "#sk-container-id-1 div.sk-dashed-wrapped {\n",
       "  border: 1px dashed var(--sklearn-color-line);\n",
       "  margin: 0 0.4em 0.5em 0.4em;\n",
       "  box-sizing: border-box;\n",
       "  padding-bottom: 0.4em;\n",
       "  background-color: var(--sklearn-color-background);\n",
       "}\n",
       "\n",
       "#sk-container-id-1 div.sk-container {\n",
       "  /* jupyter's `normalize.less` sets `[hidden] { display: none; }`\n",
       "     but bootstrap.min.css set `[hidden] { display: none !important; }`\n",
       "     so we also need the `!important` here to be able to override the\n",
       "     default hidden behavior on the sphinx rendered scikit-learn.org.\n",
       "     See: https://github.com/scikit-learn/scikit-learn/issues/21755 */\n",
       "  display: inline-block !important;\n",
       "  position: relative;\n",
       "}\n",
       "\n",
       "#sk-container-id-1 div.sk-text-repr-fallback {\n",
       "  display: none;\n",
       "}\n",
       "\n",
       "div.sk-parallel-item,\n",
       "div.sk-serial,\n",
       "div.sk-item {\n",
       "  /* draw centered vertical line to link estimators */\n",
       "  background-image: linear-gradient(var(--sklearn-color-text-on-default-background), var(--sklearn-color-text-on-default-background));\n",
       "  background-size: 2px 100%;\n",
       "  background-repeat: no-repeat;\n",
       "  background-position: center center;\n",
       "}\n",
       "\n",
       "/* Parallel-specific style estimator block */\n",
       "\n",
       "#sk-container-id-1 div.sk-parallel-item::after {\n",
       "  content: \"\";\n",
       "  width: 100%;\n",
       "  border-bottom: 2px solid var(--sklearn-color-text-on-default-background);\n",
       "  flex-grow: 1;\n",
       "}\n",
       "\n",
       "#sk-container-id-1 div.sk-parallel {\n",
       "  display: flex;\n",
       "  align-items: stretch;\n",
       "  justify-content: center;\n",
       "  background-color: var(--sklearn-color-background);\n",
       "  position: relative;\n",
       "}\n",
       "\n",
       "#sk-container-id-1 div.sk-parallel-item {\n",
       "  display: flex;\n",
       "  flex-direction: column;\n",
       "}\n",
       "\n",
       "#sk-container-id-1 div.sk-parallel-item:first-child::after {\n",
       "  align-self: flex-end;\n",
       "  width: 50%;\n",
       "}\n",
       "\n",
       "#sk-container-id-1 div.sk-parallel-item:last-child::after {\n",
       "  align-self: flex-start;\n",
       "  width: 50%;\n",
       "}\n",
       "\n",
       "#sk-container-id-1 div.sk-parallel-item:only-child::after {\n",
       "  width: 0;\n",
       "}\n",
       "\n",
       "/* Serial-specific style estimator block */\n",
       "\n",
       "#sk-container-id-1 div.sk-serial {\n",
       "  display: flex;\n",
       "  flex-direction: column;\n",
       "  align-items: center;\n",
       "  background-color: var(--sklearn-color-background);\n",
       "  padding-right: 1em;\n",
       "  padding-left: 1em;\n",
       "}\n",
       "\n",
       "\n",
       "/* Toggleable style: style used for estimator/Pipeline/ColumnTransformer box that is\n",
       "clickable and can be expanded/collapsed.\n",
       "- Pipeline and ColumnTransformer use this feature and define the default style\n",
       "- Estimators will overwrite some part of the style using the `sk-estimator` class\n",
       "*/\n",
       "\n",
       "/* Pipeline and ColumnTransformer style (default) */\n",
       "\n",
       "#sk-container-id-1 div.sk-toggleable {\n",
       "  /* Default theme specific background. It is overwritten whether we have a\n",
       "  specific estimator or a Pipeline/ColumnTransformer */\n",
       "  background-color: var(--sklearn-color-background);\n",
       "}\n",
       "\n",
       "/* Toggleable label */\n",
       "#sk-container-id-1 label.sk-toggleable__label {\n",
       "  cursor: pointer;\n",
       "  display: block;\n",
       "  width: 100%;\n",
       "  margin-bottom: 0;\n",
       "  padding: 0.5em;\n",
       "  box-sizing: border-box;\n",
       "  text-align: center;\n",
       "}\n",
       "\n",
       "#sk-container-id-1 label.sk-toggleable__label-arrow:before {\n",
       "  /* Arrow on the left of the label */\n",
       "  content: \"▸\";\n",
       "  float: left;\n",
       "  margin-right: 0.25em;\n",
       "  color: var(--sklearn-color-icon);\n",
       "}\n",
       "\n",
       "#sk-container-id-1 label.sk-toggleable__label-arrow:hover:before {\n",
       "  color: var(--sklearn-color-text);\n",
       "}\n",
       "\n",
       "/* Toggleable content - dropdown */\n",
       "\n",
       "#sk-container-id-1 div.sk-toggleable__content {\n",
       "  max-height: 0;\n",
       "  max-width: 0;\n",
       "  overflow: hidden;\n",
       "  text-align: left;\n",
       "  /* unfitted */\n",
       "  background-color: var(--sklearn-color-unfitted-level-0);\n",
       "}\n",
       "\n",
       "#sk-container-id-1 div.sk-toggleable__content.fitted {\n",
       "  /* fitted */\n",
       "  background-color: var(--sklearn-color-fitted-level-0);\n",
       "}\n",
       "\n",
       "#sk-container-id-1 div.sk-toggleable__content pre {\n",
       "  margin: 0.2em;\n",
       "  border-radius: 0.25em;\n",
       "  color: var(--sklearn-color-text);\n",
       "  /* unfitted */\n",
       "  background-color: var(--sklearn-color-unfitted-level-0);\n",
       "}\n",
       "\n",
       "#sk-container-id-1 div.sk-toggleable__content.fitted pre {\n",
       "  /* unfitted */\n",
       "  background-color: var(--sklearn-color-fitted-level-0);\n",
       "}\n",
       "\n",
       "#sk-container-id-1 input.sk-toggleable__control:checked~div.sk-toggleable__content {\n",
       "  /* Expand drop-down */\n",
       "  max-height: 200px;\n",
       "  max-width: 100%;\n",
       "  overflow: auto;\n",
       "}\n",
       "\n",
       "#sk-container-id-1 input.sk-toggleable__control:checked~label.sk-toggleable__label-arrow:before {\n",
       "  content: \"▾\";\n",
       "}\n",
       "\n",
       "/* Pipeline/ColumnTransformer-specific style */\n",
       "\n",
       "#sk-container-id-1 div.sk-label input.sk-toggleable__control:checked~label.sk-toggleable__label {\n",
       "  color: var(--sklearn-color-text);\n",
       "  background-color: var(--sklearn-color-unfitted-level-2);\n",
       "}\n",
       "\n",
       "#sk-container-id-1 div.sk-label.fitted input.sk-toggleable__control:checked~label.sk-toggleable__label {\n",
       "  background-color: var(--sklearn-color-fitted-level-2);\n",
       "}\n",
       "\n",
       "/* Estimator-specific style */\n",
       "\n",
       "/* Colorize estimator box */\n",
       "#sk-container-id-1 div.sk-estimator input.sk-toggleable__control:checked~label.sk-toggleable__label {\n",
       "  /* unfitted */\n",
       "  background-color: var(--sklearn-color-unfitted-level-2);\n",
       "}\n",
       "\n",
       "#sk-container-id-1 div.sk-estimator.fitted input.sk-toggleable__control:checked~label.sk-toggleable__label {\n",
       "  /* fitted */\n",
       "  background-color: var(--sklearn-color-fitted-level-2);\n",
       "}\n",
       "\n",
       "#sk-container-id-1 div.sk-label label.sk-toggleable__label,\n",
       "#sk-container-id-1 div.sk-label label {\n",
       "  /* The background is the default theme color */\n",
       "  color: var(--sklearn-color-text-on-default-background);\n",
       "}\n",
       "\n",
       "/* On hover, darken the color of the background */\n",
       "#sk-container-id-1 div.sk-label:hover label.sk-toggleable__label {\n",
       "  color: var(--sklearn-color-text);\n",
       "  background-color: var(--sklearn-color-unfitted-level-2);\n",
       "}\n",
       "\n",
       "/* Label box, darken color on hover, fitted */\n",
       "#sk-container-id-1 div.sk-label.fitted:hover label.sk-toggleable__label.fitted {\n",
       "  color: var(--sklearn-color-text);\n",
       "  background-color: var(--sklearn-color-fitted-level-2);\n",
       "}\n",
       "\n",
       "/* Estimator label */\n",
       "\n",
       "#sk-container-id-1 div.sk-label label {\n",
       "  font-family: monospace;\n",
       "  font-weight: bold;\n",
       "  display: inline-block;\n",
       "  line-height: 1.2em;\n",
       "}\n",
       "\n",
       "#sk-container-id-1 div.sk-label-container {\n",
       "  text-align: center;\n",
       "}\n",
       "\n",
       "/* Estimator-specific */\n",
       "#sk-container-id-1 div.sk-estimator {\n",
       "  font-family: monospace;\n",
       "  border: 1px dotted var(--sklearn-color-border-box);\n",
       "  border-radius: 0.25em;\n",
       "  box-sizing: border-box;\n",
       "  margin-bottom: 0.5em;\n",
       "  /* unfitted */\n",
       "  background-color: var(--sklearn-color-unfitted-level-0);\n",
       "}\n",
       "\n",
       "#sk-container-id-1 div.sk-estimator.fitted {\n",
       "  /* fitted */\n",
       "  background-color: var(--sklearn-color-fitted-level-0);\n",
       "}\n",
       "\n",
       "/* on hover */\n",
       "#sk-container-id-1 div.sk-estimator:hover {\n",
       "  /* unfitted */\n",
       "  background-color: var(--sklearn-color-unfitted-level-2);\n",
       "}\n",
       "\n",
       "#sk-container-id-1 div.sk-estimator.fitted:hover {\n",
       "  /* fitted */\n",
       "  background-color: var(--sklearn-color-fitted-level-2);\n",
       "}\n",
       "\n",
       "/* Specification for estimator info (e.g. \"i\" and \"?\") */\n",
       "\n",
       "/* Common style for \"i\" and \"?\" */\n",
       "\n",
       ".sk-estimator-doc-link,\n",
       "a:link.sk-estimator-doc-link,\n",
       "a:visited.sk-estimator-doc-link {\n",
       "  float: right;\n",
       "  font-size: smaller;\n",
       "  line-height: 1em;\n",
       "  font-family: monospace;\n",
       "  background-color: var(--sklearn-color-background);\n",
       "  border-radius: 1em;\n",
       "  height: 1em;\n",
       "  width: 1em;\n",
       "  text-decoration: none !important;\n",
       "  margin-left: 1ex;\n",
       "  /* unfitted */\n",
       "  border: var(--sklearn-color-unfitted-level-1) 1pt solid;\n",
       "  color: var(--sklearn-color-unfitted-level-1);\n",
       "}\n",
       "\n",
       ".sk-estimator-doc-link.fitted,\n",
       "a:link.sk-estimator-doc-link.fitted,\n",
       "a:visited.sk-estimator-doc-link.fitted {\n",
       "  /* fitted */\n",
       "  border: var(--sklearn-color-fitted-level-1) 1pt solid;\n",
       "  color: var(--sklearn-color-fitted-level-1);\n",
       "}\n",
       "\n",
       "/* On hover */\n",
       "div.sk-estimator:hover .sk-estimator-doc-link:hover,\n",
       ".sk-estimator-doc-link:hover,\n",
       "div.sk-label-container:hover .sk-estimator-doc-link:hover,\n",
       ".sk-estimator-doc-link:hover {\n",
       "  /* unfitted */\n",
       "  background-color: var(--sklearn-color-unfitted-level-3);\n",
       "  color: var(--sklearn-color-background);\n",
       "  text-decoration: none;\n",
       "}\n",
       "\n",
       "div.sk-estimator.fitted:hover .sk-estimator-doc-link.fitted:hover,\n",
       ".sk-estimator-doc-link.fitted:hover,\n",
       "div.sk-label-container:hover .sk-estimator-doc-link.fitted:hover,\n",
       ".sk-estimator-doc-link.fitted:hover {\n",
       "  /* fitted */\n",
       "  background-color: var(--sklearn-color-fitted-level-3);\n",
       "  color: var(--sklearn-color-background);\n",
       "  text-decoration: none;\n",
       "}\n",
       "\n",
       "/* Span, style for the box shown on hovering the info icon */\n",
       ".sk-estimator-doc-link span {\n",
       "  display: none;\n",
       "  z-index: 9999;\n",
       "  position: relative;\n",
       "  font-weight: normal;\n",
       "  right: .2ex;\n",
       "  padding: .5ex;\n",
       "  margin: .5ex;\n",
       "  width: min-content;\n",
       "  min-width: 20ex;\n",
       "  max-width: 50ex;\n",
       "  color: var(--sklearn-color-text);\n",
       "  box-shadow: 2pt 2pt 4pt #999;\n",
       "  /* unfitted */\n",
       "  background: var(--sklearn-color-unfitted-level-0);\n",
       "  border: .5pt solid var(--sklearn-color-unfitted-level-3);\n",
       "}\n",
       "\n",
       ".sk-estimator-doc-link.fitted span {\n",
       "  /* fitted */\n",
       "  background: var(--sklearn-color-fitted-level-0);\n",
       "  border: var(--sklearn-color-fitted-level-3);\n",
       "}\n",
       "\n",
       ".sk-estimator-doc-link:hover span {\n",
       "  display: block;\n",
       "}\n",
       "\n",
       "/* \"?\"-specific style due to the `<a>` HTML tag */\n",
       "\n",
       "#sk-container-id-1 a.estimator_doc_link {\n",
       "  float: right;\n",
       "  font-size: 1rem;\n",
       "  line-height: 1em;\n",
       "  font-family: monospace;\n",
       "  background-color: var(--sklearn-color-background);\n",
       "  border-radius: 1rem;\n",
       "  height: 1rem;\n",
       "  width: 1rem;\n",
       "  text-decoration: none;\n",
       "  /* unfitted */\n",
       "  color: var(--sklearn-color-unfitted-level-1);\n",
       "  border: var(--sklearn-color-unfitted-level-1) 1pt solid;\n",
       "}\n",
       "\n",
       "#sk-container-id-1 a.estimator_doc_link.fitted {\n",
       "  /* fitted */\n",
       "  border: var(--sklearn-color-fitted-level-1) 1pt solid;\n",
       "  color: var(--sklearn-color-fitted-level-1);\n",
       "}\n",
       "\n",
       "/* On hover */\n",
       "#sk-container-id-1 a.estimator_doc_link:hover {\n",
       "  /* unfitted */\n",
       "  background-color: var(--sklearn-color-unfitted-level-3);\n",
       "  color: var(--sklearn-color-background);\n",
       "  text-decoration: none;\n",
       "}\n",
       "\n",
       "#sk-container-id-1 a.estimator_doc_link.fitted:hover {\n",
       "  /* fitted */\n",
       "  background-color: var(--sklearn-color-fitted-level-3);\n",
       "}\n",
       "</style><div id=\"sk-container-id-1\" class=\"sk-top-container\"><div class=\"sk-text-repr-fallback\"><pre>RandomForestClassifier()</pre><b>In a Jupyter environment, please rerun this cell to show the HTML representation or trust the notebook. <br />On GitHub, the HTML representation is unable to render, please try loading this page with nbviewer.org.</b></div><div class=\"sk-container\" hidden><div class=\"sk-item\"><div class=\"sk-estimator fitted sk-toggleable\"><input class=\"sk-toggleable__control sk-hidden--visually\" id=\"sk-estimator-id-1\" type=\"checkbox\" checked><label for=\"sk-estimator-id-1\" class=\"sk-toggleable__label fitted sk-toggleable__label-arrow fitted\">&nbsp;&nbsp;RandomForestClassifier<a class=\"sk-estimator-doc-link fitted\" rel=\"noreferrer\" target=\"_blank\" href=\"https://scikit-learn.org/1.4/modules/generated/sklearn.ensemble.RandomForestClassifier.html\">?<span>Documentation for RandomForestClassifier</span></a><span class=\"sk-estimator-doc-link fitted\">i<span>Fitted</span></span></label><div class=\"sk-toggleable__content fitted\"><pre>RandomForestClassifier()</pre></div> </div></div></div></div>"
      ],
      "text/plain": [
       "RandomForestClassifier()"
      ]
     },
     "execution_count": 36,
     "metadata": {},
     "output_type": "execute_result"
    }
   ],
   "source": [
    "# 랜덤포레스트 모델 사용 (참고 : 회귀모델은 RandomForestRegressor)\n",
    "from sklearn.ensemble import RandomForestClassifier\n",
    "model = RandomForestClassifier()\n",
    "model.fit(x_train, y_train)"
   ]
  },
  {
   "cell_type": "code",
   "execution_count": 37,
   "id": "5e0e254f-8cde-4df2-932a-e4b59ff25f22",
   "metadata": {},
   "outputs": [],
   "source": [
    "# 모델을 사용하여 테스트 데이터 예측\n",
    "y_pred = model.predict(x_val)"
   ]
  },
  {
   "cell_type": "code",
   "execution_count": 38,
   "id": "3051c019-45b2-410a-9620-58b965bb0b8e",
   "metadata": {},
   "outputs": [],
   "source": [
    "# 모델 성능 평가 (accuracy, f1 score, AUC 등)\n",
    "from sklearn.metrics import accuracy_score, f1_score, roc_auc_score, recall_score, precision_score\n",
    "acc = accuracy_score(y_val, y_pred) # (실제값, 예측값)\n",
    "f1 = f1_score(y_val, y_pred) # (실제값, 예측값)\n",
    "# 다중분류일 경우 f1 = f1_score(y_val, y_pred, average='macro')\n",
    "auc = roc_auc_score(y_val, y_pred)"
   ]
  },
  {
   "cell_type": "code",
   "execution_count": 39,
   "id": "9a97dfa8-f17f-4f8b-84b5-4fca1a1471a2",
   "metadata": {},
   "outputs": [
    {
     "name": "stdout",
     "output_type": "stream",
     "text": [
      "1.0\n"
     ]
    }
   ],
   "source": [
    "# 정확도 (Accuracy)\n",
    "print(acc)"
   ]
  },
  {
   "cell_type": "code",
   "execution_count": 40,
   "id": "b5647eff-1b08-49df-a619-d605536be9cf",
   "metadata": {},
   "outputs": [
    {
     "name": "stdout",
     "output_type": "stream",
     "text": [
      "1.0\n"
     ]
    }
   ],
   "source": [
    "# F1 score\n",
    "print(f1)"
   ]
  },
  {
   "cell_type": "code",
   "execution_count": 41,
   "id": "d5b63ce6-b5d6-4bc8-a3a4-d3ff77e7deb4",
   "metadata": {},
   "outputs": [
    {
     "name": "stdout",
     "output_type": "stream",
     "text": [
      "1.0\n"
     ]
    }
   ],
   "source": [
    "# AUC\n",
    "print(auc)"
   ]
  },
  {
   "cell_type": "code",
   "execution_count": 42,
   "id": "b9a26e11-7450-40f5-a11e-3c476d28aaa1",
   "metadata": {},
   "outputs": [
    {
     "name": "stdout",
     "output_type": "stream",
     "text": [
      "[[ 8  0]\n",
      " [ 0 16]]\n"
     ]
    }
   ],
   "source": [
    "# 참고사항\n",
    "from sklearn.metrics import confusion_matrix\n",
    "cm = confusion_matrix(y_val, y_pred) # (실제값, 예측값)\n",
    "print(cm)"
   ]
  },
  {
   "cell_type": "code",
   "execution_count": 43,
   "id": "ac827824-f458-46b9-9b95-e01f43e9f1dc",
   "metadata": {},
   "outputs": [],
   "source": [
    "#       예측\n",
    "#       0  1\n",
    "#실제 0 TN FP\n",
    "#실제 1 FN TP"
   ]
  },
  {
   "cell_type": "markdown",
   "id": "74b3c4b5-94ab-472b-8c82-ad2b7244ada3",
   "metadata": {},
   "source": [
    "## 5. 예측값 제출"
   ]
  },
  {
   "cell_type": "markdown",
   "id": "48b1c1ee-1503-4628-8ec3-16519c655607",
   "metadata": {},
   "source": [
    "### (주의) x_test를 모델에 넣어 나온 예측값을 제출해야 함"
   ]
  },
  {
   "cell_type": "code",
   "execution_count": 44,
   "id": "6697914d-c56e-4ce5-8517-393996aa7d03",
   "metadata": {},
   "outputs": [
    {
     "name": "stdout",
     "output_type": "stream",
     "text": [
      "[1 1 1 0 1]\n",
      "[[0.01 0.99]\n",
      " [0.   1.  ]\n",
      " [0.   1.  ]\n",
      " [1.   0.  ]\n",
      " [0.01 0.99]]\n",
      "   result  prob_0\n",
      "0       1    0.01\n",
      "1       1    0.00\n",
      "2       1    0.00\n",
      "3       0    1.00\n",
      "4       1    0.01\n"
     ]
    }
   ],
   "source": [
    "# 모델을 사용하여 테스트 데이터 예측\n",
    "# 1. 특정 클래스로 분류할 경우 (predict)\n",
    "y_result = model.predict(x_test)\n",
    "print(y_result[:5])\n",
    "# 2. 특정 클래스로 분류될 확률을 구할 경우 (predict_proba)\n",
    "y_result_prob = model.predict_proba(x_test)\n",
    "print(y_result_prob[:5])\n",
    "\n",
    "# 이해해보기\n",
    "result_prob = pd.DataFrame({\n",
    "    'result':y_result,\n",
    "    'prob_0':y_result_prob[:,0]\n",
    "})\n",
    "# setosa 일 확률 : y_result_prob[:,0]\n",
    "# 그 외 종일 확률 : y_result_prob[:,1]\n",
    "print(result_prob[:5])"
   ]
  },
  {
   "cell_type": "code",
   "execution_count": 45,
   "id": "025abc5f-9a32-4e5f-906f-c18737c9d7c7",
   "metadata": {},
   "outputs": [],
   "source": [
    "# 데이터를 저장한 다음 불러와서 제대로 제출했는지 확인\n",
    "pd.DataFrame({'result':y_result}).to_csv('0011.csv', index=False)"
   ]
  },
  {
   "cell_type": "code",
   "execution_count": 46,
   "id": "0d83fc1d-b645-4a6f-adeb-d2b10972db15",
   "metadata": {},
   "outputs": [
    {
     "name": "stdout",
     "output_type": "stream",
     "text": [
      "   result\n",
      "0       1\n",
      "1       1\n",
      "2       1\n",
      "3       0\n",
      "4       1\n"
     ]
    }
   ],
   "source": [
    "df2 = pd.read_csv('0011.csv')\n",
    "print(df2.head())"
   ]
  }
 ],
 "metadata": {
  "kernelspec": {
   "display_name": "Python 3 (ipykernel)",
   "language": "python",
   "name": "python3"
  },
  "language_info": {
   "codemirror_mode": {
    "name": "ipython",
    "version": 3
   },
   "file_extension": ".py",
   "mimetype": "text/x-python",
   "name": "python",
   "nbconvert_exporter": "python",
   "pygments_lexer": "ipython3",
   "version": "3.12.3"
  }
 },
 "nbformat": 4,
 "nbformat_minor": 5
}
