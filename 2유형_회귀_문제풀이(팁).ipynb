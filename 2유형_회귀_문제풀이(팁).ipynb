{
 "cells": [
  {
   "cell_type": "markdown",
   "id": "716e40eb-0d34-4621-817f-7c9ee75353e7",
   "metadata": {},
   "source": [
    "## 제2유형_연습하기_팁 예측하기(회귀)"
   ]
  },
  {
   "cell_type": "markdown",
   "id": "93b8e241-5498-4968-945a-4eb4b0121412",
   "metadata": {},
   "source": [
    "## 데이터 분석 순서"
   ]
  },
  {
   "cell_type": "markdown",
   "id": "f2800464-cbd7-478a-80b0-4d1306841037",
   "metadata": {},
   "source": [
    "- 1. 라이브러리 및 데이터 확인\n",
    "  2. 데이터 탐색(EDA)\n",
    "  3. 데이터 전처리 및 분리\n",
    "  4. 모델링 및 성능평가\n",
    "  5. 예측값 제출"
   ]
  },
  {
   "cell_type": "markdown",
   "id": "7066b758-d700-4597-a33a-c3c4f14c840c",
   "metadata": {},
   "source": [
    "## 1. 라이브러리 및 데이터 확인"
   ]
  },
  {
   "cell_type": "code",
   "execution_count": 1,
   "id": "d9e99b11-6d3b-4126-8cd9-a5d8739cc262",
   "metadata": {},
   "outputs": [],
   "source": [
    "import pandas as pd\n",
    "import numpy as np\n",
    "import seaborn as sns\n",
    "\n",
    "df = sns.load_dataset('tips')\n",
    "x = df.drop(['tip'], axis=1)\n",
    "y = df['tip']\n",
    "\n",
    "from sklearn.model_selection import train_test_split\n",
    "x_train, x_test, y_train, y_test = train_test_split(x,\n",
    "                                                    y,\n",
    "                                                    test_size=0.2,\n",
    "                                                    random_state=2023)\n",
    "x_test = pd.DataFrame(x_test.reset_index())\n",
    "x_train = pd.DataFrame(x_train.reset_index())\n",
    "y_train = pd.DataFrame(y_train.reset_index())\n",
    "\n",
    "x_test.rename(columns={'index':'cust_id'}, inplace=True)\n",
    "x_train.rename(columns={'index':'cust_id'}, inplace=True)\n",
    "y_train.columns = ['cust_id','target']"
   ]
  },
  {
   "cell_type": "markdown",
   "id": "ef1d3fb3-8b4e-4547-a60c-65d2667fc893",
   "metadata": {},
   "source": [
    "## 레스토랑의 tip 예측 문제\n",
    "- 데이터의 결측치, 이상치, 변수에 대해 처리하고\n",
    "- 회귀모델을 사용하여 Rsq, MSE 값을 산출하시오."
   ]
  },
  {
   "cell_type": "markdown",
   "id": "e6f9e87d-7a59-4107-bdd8-fd7c766af177",
   "metadata": {},
   "source": [
    "## 데이터셋 설명"
   ]
  },
  {
   "cell_type": "markdown",
   "id": "ae056839-82cd-4eb4-bd9e-e97047538ac4",
   "metadata": {},
   "source": [
    "- total_bill(총\t청구액):\t손님의\t식사\t총\t청구액\n",
    "- tip(팁):\t팁의\t양\n",
    "- sex(성별):\t손님의\t성별\n",
    "- smoker(흡연자):\t손님의\t흡연\t여부(\"Yes\"\t또는\t\"No\")\n",
    "- day(요일):\t식사가\t이루어진\t요일\n",
    "- time(시간):\t점심\t또는\t저녁\t중\t언제\t식사가\t이루어졌는지\n",
    "- size(인원\t수):\t식사에\t참석한\t인원\t수"
   ]
  },
  {
   "cell_type": "markdown",
   "id": "7f4531f5-95d7-44b1-b5e1-a31a3fd37239",
   "metadata": {},
   "source": [
    "## 2. 데이터 탐색(EDA)"
   ]
  },
  {
   "cell_type": "code",
   "execution_count": 2,
   "id": "2da01f64-7f69-49dd-8d02-3d85e4c78972",
   "metadata": {},
   "outputs": [
    {
     "name": "stdout",
     "output_type": "stream",
     "text": [
      "(195, 7)\n",
      "(49, 7)\n",
      "(195, 2)\n"
     ]
    }
   ],
   "source": [
    "# 데이터의 행/열 확인\n",
    "print(x_train.shape)\n",
    "print(x_test.shape)\n",
    "print(y_train.shape)"
   ]
  },
  {
   "cell_type": "code",
   "execution_count": 3,
   "id": "09c32df7-700b-43a4-bc39-60f1d4f565fe",
   "metadata": {},
   "outputs": [
    {
     "name": "stdout",
     "output_type": "stream",
     "text": [
      "   cust_id  total_bill     sex smoker  day    time  size\n",
      "0      158       13.39  Female     No  Sun  Dinner     2\n",
      "1      186       20.90  Female    Yes  Sun  Dinner     3\n",
      "2       21       20.29  Female     No  Sat  Dinner     2\n",
      "   cust_id  total_bill     sex smoker  day    time  size\n",
      "0      154       19.77    Male     No  Sun  Dinner     4\n",
      "1        4       24.59  Female     No  Sun  Dinner     4\n",
      "2       30        9.55    Male     No  Sat  Dinner     2\n",
      "   cust_id  target\n",
      "0      158    2.61\n",
      "1      186    3.50\n",
      "2       21    2.75\n"
     ]
    }
   ],
   "source": [
    "# 초기 데이터 확인\n",
    "print(x_train.head(3))\n",
    "print(x_test.head(3))\n",
    "print(y_train.head(3))"
   ]
  },
  {
   "cell_type": "code",
   "execution_count": 4,
   "id": "bb2f8cf9-af8c-4ed3-83ef-446996dfd287",
   "metadata": {},
   "outputs": [
    {
     "name": "stdout",
     "output_type": "stream",
     "text": [
      "<class 'pandas.core.frame.DataFrame'>\n",
      "RangeIndex: 195 entries, 0 to 194\n",
      "Data columns (total 7 columns):\n",
      " #   Column      Non-Null Count  Dtype   \n",
      "---  ------      --------------  -----   \n",
      " 0   cust_id     195 non-null    int64   \n",
      " 1   total_bill  195 non-null    float64 \n",
      " 2   sex         195 non-null    category\n",
      " 3   smoker      195 non-null    category\n",
      " 4   day         195 non-null    category\n",
      " 5   time        195 non-null    category\n",
      " 6   size        195 non-null    int64   \n",
      "dtypes: category(4), float64(1), int64(2)\n",
      "memory usage: 6.0 KB\n",
      "None\n",
      "<class 'pandas.core.frame.DataFrame'>\n",
      "RangeIndex: 49 entries, 0 to 48\n",
      "Data columns (total 7 columns):\n",
      " #   Column      Non-Null Count  Dtype   \n",
      "---  ------      --------------  -----   \n",
      " 0   cust_id     49 non-null     int64   \n",
      " 1   total_bill  49 non-null     float64 \n",
      " 2   sex         49 non-null     category\n",
      " 3   smoker      49 non-null     category\n",
      " 4   day         49 non-null     category\n",
      " 5   time        49 non-null     category\n",
      " 6   size        49 non-null     int64   \n",
      "dtypes: category(4), float64(1), int64(2)\n",
      "memory usage: 2.0 KB\n",
      "None\n",
      "<class 'pandas.core.frame.DataFrame'>\n",
      "RangeIndex: 195 entries, 0 to 194\n",
      "Data columns (total 2 columns):\n",
      " #   Column   Non-Null Count  Dtype  \n",
      "---  ------   --------------  -----  \n",
      " 0   cust_id  195 non-null    int64  \n",
      " 1   target   195 non-null    float64\n",
      "dtypes: float64(1), int64(1)\n",
      "memory usage: 3.2 KB\n",
      "None\n"
     ]
    }
   ],
   "source": [
    "# 변수명과 데이터 타입이 매칭이 되는지, 결측치가 있는지 확인\n",
    "print(x_train.info())\n",
    "print(x_test.info())\n",
    "print(y_train.info())"
   ]
  },
  {
   "cell_type": "code",
   "execution_count": 5,
   "id": "e9cd795e-6225-43f8-86d7-62b9a309f28d",
   "metadata": {},
   "outputs": [
    {
     "name": "stdout",
     "output_type": "stream",
     "text": [
      "            count        mean        std   min    25%     50%      75%     max\n",
      "cust_id     195.0  122.056410  70.668034  0.00  59.50  121.00  182.500  243.00\n",
      "total_bill  195.0   20.054667   8.961645  3.07  13.42   17.92   24.395   50.81\n",
      "size        195.0    2.543590   0.942631  1.00   2.00    2.00    3.000    6.00\n",
      "            count        mean        std   min    25%     50%     75%    max\n",
      "cust_id      49.0  119.285714  70.918674  2.00  62.00  123.00  180.00  239.0\n",
      "total_bill   49.0   18.716531   8.669864  5.75  12.74   16.66   21.01   44.3\n",
      "size         49.0    2.673469   0.987162  2.00   2.00    2.00    3.00    6.0\n"
     ]
    }
   ],
   "source": [
    "# x_train과 x_test 데이터의 기초통계량을 잘 비교\n",
    "print(x_train.describe().T)\n",
    "print(x_test.describe().T)"
   ]
  },
  {
   "cell_type": "code",
   "execution_count": 6,
   "id": "5821cfac-1aad-4be8-946a-0135778baa94",
   "metadata": {},
   "outputs": [
    {
     "name": "stdout",
     "output_type": "stream",
     "text": [
      "       count unique     top freq\n",
      "sex      195      2    Male  125\n",
      "smoker   195      2      No  120\n",
      "day      195      4     Sat   71\n",
      "time     195      2  Dinner  142\n",
      "       count unique     top freq\n",
      "sex       49      2    Male   32\n",
      "smoker    49      2      No   31\n",
      "day       49      4     Sat   16\n",
      "time      49      2  Dinner   34\n"
     ]
    }
   ],
   "source": [
    "# object, category 데이터도 추가 확인\n",
    "# print(x_train.describe(include='object'))\n",
    "# print(x_test.describe(include='object'))\n",
    "\n",
    "print(x_train.describe(include='category').T)\n",
    "print(x_test.describe(include='category').T)"
   ]
  },
  {
   "cell_type": "code",
   "execution_count": 7,
   "id": "0215ca93-d71c-4ccc-b11a-4b9101b71e94",
   "metadata": {},
   "outputs": [
    {
     "name": "stdout",
     "output_type": "stream",
     "text": [
      "   cust_id  target\n",
      "0      158    2.61\n",
      "1      186    3.50\n",
      "2       21    2.75\n"
     ]
    }
   ],
   "source": [
    "# y데이터도 구체적으로 살펴보세요\n",
    "print(y_train.head(3))"
   ]
  },
  {
   "cell_type": "code",
   "execution_count": 8,
   "id": "275194da-9355-4e6b-b6d2-6463606e0d10",
   "metadata": {},
   "outputs": [
    {
     "name": "stdout",
     "output_type": "stream",
     "text": [
      "         count        mean        std  min   25%     50%     75%    max\n",
      "cust_id  195.0  122.056410  70.668034  0.0  59.5  121.00  182.50  243.0\n",
      "target   195.0    3.021692   1.402690  1.0   2.0    2.92    3.53   10.0\n"
     ]
    }
   ],
   "source": [
    "print(y_train.describe().T)"
   ]
  },
  {
   "cell_type": "markdown",
   "id": "064ff31c-7c40-41ed-9592-92ada71031e8",
   "metadata": {},
   "source": [
    "## 3. 데이터 전처리 및 분리"
   ]
  },
  {
   "cell_type": "markdown",
   "id": "c0a7d03c-2a92-49f9-931e-8fc164d10c45",
   "metadata": {},
   "source": [
    "### 1)결측치, 2)이상치, 3)변수 처리하기"
   ]
  },
  {
   "cell_type": "code",
   "execution_count": 9,
   "id": "eafe5032-3314-4e31-9dd3-68a00386365a",
   "metadata": {},
   "outputs": [
    {
     "name": "stdout",
     "output_type": "stream",
     "text": [
      "cust_id       0\n",
      "total_bill    0\n",
      "sex           0\n",
      "smoker        0\n",
      "day           0\n",
      "time          0\n",
      "size          0\n",
      "dtype: int64\n",
      "cust_id       0\n",
      "total_bill    0\n",
      "sex           0\n",
      "smoker        0\n",
      "day           0\n",
      "time          0\n",
      "size          0\n",
      "dtype: int64\n",
      "cust_id    0\n",
      "target     0\n",
      "dtype: int64\n"
     ]
    }
   ],
   "source": [
    "# 결측치 확인\n",
    "print(x_train.isnull().sum())\n",
    "print(x_test.isnull().sum())\n",
    "print(y_train.isnull().sum())"
   ]
  },
  {
   "cell_type": "code",
   "execution_count": 10,
   "id": "dddbf6cc-6f08-4888-aeaf-a0a7d0c5d342",
   "metadata": {},
   "outputs": [],
   "source": [
    "# 결측치 제거\n",
    "# df.dropna()\n",
    "# df.dropna().shape"
   ]
  },
  {
   "cell_type": "code",
   "execution_count": 11,
   "id": "9fa8b6a6-3b09-45cb-8bdd-d031ab394582",
   "metadata": {},
   "outputs": [],
   "source": [
    "# 결측치 대체(평균값, 중앙값, 최빈값)\n",
    "# ** 주의사항 : train 데이터의 중앙값으로 test데이터도 변경해줘야 함 **\n",
    "# 연속형 변수 : 중앙값, 평균값\n",
    "# df['변수명'].median()\n",
    "# df['변수명'].mean()\n",
    "\n",
    "# 범주형 변수 : 최빈값\n",
    "# df['변수명'].mode()\n",
    "\n",
    "# df['변수명'] = df['변수명'].fillna(대체할 값)"
   ]
  },
  {
   "cell_type": "code",
   "execution_count": 12,
   "id": "63de60ef-a427-4673-b1bb-f65f88f12270",
   "metadata": {},
   "outputs": [],
   "source": [
    "# 이상치 대체\n",
    "# df['변수명'] = np.where(df['변수명']>5, 대체할 값, df['변수명'])"
   ]
  },
  {
   "cell_type": "code",
   "execution_count": 13,
   "id": "406bb5c7-6a5b-4a99-bc3c-c64bf5a0ad79",
   "metadata": {},
   "outputs": [],
   "source": [
    "# 변수처리\n",
    "# 불필요한 변수 제거\n",
    "# df = df.drop(columns=['변수1','변수2'])\n",
    "# df = df.drop(['변수1','변수2'], axis=1)\n",
    "\n",
    "# 필요시 변수 추가(파생변수 생성)\n",
    "# df['파생변수명'] = df['A']*df['B']\n",
    "\n",
    "# 원핫인코딩(가변수 처리)\n",
    "#x_train = pd.get_dummies(x_train)\n",
    "#x_test = pd.get_dummies(x_test)"
   ]
  },
  {
   "cell_type": "code",
   "execution_count": 14,
   "id": "93820eca-4f99-4114-ae0a-b277f47bf66d",
   "metadata": {},
   "outputs": [],
   "source": [
    "# 변수처리\n",
    "cust_id = x_test['cust_id'].copy()\n",
    "\n",
    "# 각 데이터에서 cust_id 변수 제거\n",
    "x_train = x_train.drop(['cust_id'], axis=1)\n",
    "x_test = x_test.drop(columns=['cust_id'])"
   ]
  },
  {
   "cell_type": "code",
   "execution_count": 15,
   "id": "dce943e4-e04f-49d0-be5f-e88e4ac573d4",
   "metadata": {},
   "outputs": [
    {
     "name": "stdout",
     "output_type": "stream",
     "text": [
      "<class 'pandas.core.frame.DataFrame'>\n",
      "RangeIndex: 195 entries, 0 to 194\n",
      "Data columns (total 6 columns):\n",
      " #   Column      Non-Null Count  Dtype   \n",
      "---  ------      --------------  -----   \n",
      " 0   total_bill  195 non-null    float64 \n",
      " 1   sex         195 non-null    category\n",
      " 2   smoker      195 non-null    category\n",
      " 3   day         195 non-null    category\n",
      " 4   time        195 non-null    category\n",
      " 5   size        195 non-null    int64   \n",
      "dtypes: category(4), float64(1), int64(1)\n",
      "memory usage: 4.5 KB\n",
      "None\n"
     ]
    }
   ],
   "source": [
    "# 변수처리(원핫인코딩)\n",
    "print(x_train.info())"
   ]
  },
  {
   "cell_type": "code",
   "execution_count": 16,
   "id": "ca3aae8a-a4a0-408b-a167-6e5e989d9aad",
   "metadata": {},
   "outputs": [
    {
     "name": "stdout",
     "output_type": "stream",
     "text": [
      "<class 'pandas.core.frame.DataFrame'>\n",
      "RangeIndex: 195 entries, 0 to 194\n",
      "Data columns (total 12 columns):\n",
      " #   Column       Non-Null Count  Dtype  \n",
      "---  ------       --------------  -----  \n",
      " 0   total_bill   195 non-null    float64\n",
      " 1   size         195 non-null    int64  \n",
      " 2   sex_Male     195 non-null    bool   \n",
      " 3   sex_Female   195 non-null    bool   \n",
      " 4   smoker_Yes   195 non-null    bool   \n",
      " 5   smoker_No    195 non-null    bool   \n",
      " 6   day_Thur     195 non-null    bool   \n",
      " 7   day_Fri      195 non-null    bool   \n",
      " 8   day_Sat      195 non-null    bool   \n",
      " 9   day_Sun      195 non-null    bool   \n",
      " 10  time_Lunch   195 non-null    bool   \n",
      " 11  time_Dinner  195 non-null    bool   \n",
      "dtypes: bool(10), float64(1), int64(1)\n",
      "memory usage: 5.1 KB\n",
      "None\n",
      "<class 'pandas.core.frame.DataFrame'>\n",
      "RangeIndex: 49 entries, 0 to 48\n",
      "Data columns (total 12 columns):\n",
      " #   Column       Non-Null Count  Dtype  \n",
      "---  ------       --------------  -----  \n",
      " 0   total_bill   49 non-null     float64\n",
      " 1   size         49 non-null     int64  \n",
      " 2   sex_Male     49 non-null     bool   \n",
      " 3   sex_Female   49 non-null     bool   \n",
      " 4   smoker_Yes   49 non-null     bool   \n",
      " 5   smoker_No    49 non-null     bool   \n",
      " 6   day_Thur     49 non-null     bool   \n",
      " 7   day_Fri      49 non-null     bool   \n",
      " 8   day_Sat      49 non-null     bool   \n",
      " 9   day_Sun      49 non-null     bool   \n",
      " 10  time_Lunch   49 non-null     bool   \n",
      " 11  time_Dinner  49 non-null     bool   \n",
      "dtypes: bool(10), float64(1), int64(1)\n",
      "memory usage: 1.4 KB\n",
      "None\n"
     ]
    }
   ],
   "source": [
    "# 변수처리(원핫인코딩)\n",
    "x_train = pd.get_dummies(x_train)\n",
    "x_test = pd.get_dummies(x_test)\n",
    "print(x_train.info())\n",
    "print(x_test.info())"
   ]
  },
  {
   "cell_type": "markdown",
   "id": "d5a20c76-64c3-4232-a1a5-ae4b02a2216d",
   "metadata": {},
   "source": [
    "### 데이터 분리"
   ]
  },
  {
   "cell_type": "code",
   "execution_count": 17,
   "id": "ea15fe41-76b2-4a85-8b93-bf2be0b03dc2",
   "metadata": {},
   "outputs": [
    {
     "name": "stdout",
     "output_type": "stream",
     "text": [
      "(156, 12)\n",
      "(39, 12)\n",
      "(156,)\n",
      "(39,)\n"
     ]
    }
   ],
   "source": [
    "# 데이터를 훈련 세트와 검증용 세트로 분할 (80% 훈련, 20% 검증용)\n",
    "from sklearn.model_selection import train_test_split\n",
    "x_train, x_val, y_train, y_val = train_test_split(x_train,\n",
    "                                                  y_train['target'],\n",
    "                                                  test_size=0.2,\n",
    "                                                  random_state=2023)\n",
    "print(x_train.shape)\n",
    "print(x_val.shape)\n",
    "print(y_train.shape)\n",
    "print(y_val.shape)"
   ]
  },
  {
   "cell_type": "markdown",
   "id": "52b903fb-e1d1-4d99-a67c-ca70bfb93044",
   "metadata": {},
   "source": [
    "## 4. 모델링 및 성능평가"
   ]
  },
  {
   "cell_type": "code",
   "execution_count": 18,
   "id": "1160f828-e17d-4d9f-b7d4-04b0df31f3a3",
   "metadata": {},
   "outputs": [
    {
     "data": {
      "text/html": [
       "<style>#sk-container-id-1 {\n",
       "  /* Definition of color scheme common for light and dark mode */\n",
       "  --sklearn-color-text: black;\n",
       "  --sklearn-color-line: gray;\n",
       "  /* Definition of color scheme for unfitted estimators */\n",
       "  --sklearn-color-unfitted-level-0: #fff5e6;\n",
       "  --sklearn-color-unfitted-level-1: #f6e4d2;\n",
       "  --sklearn-color-unfitted-level-2: #ffe0b3;\n",
       "  --sklearn-color-unfitted-level-3: chocolate;\n",
       "  /* Definition of color scheme for fitted estimators */\n",
       "  --sklearn-color-fitted-level-0: #f0f8ff;\n",
       "  --sklearn-color-fitted-level-1: #d4ebff;\n",
       "  --sklearn-color-fitted-level-2: #b3dbfd;\n",
       "  --sklearn-color-fitted-level-3: cornflowerblue;\n",
       "\n",
       "  /* Specific color for light theme */\n",
       "  --sklearn-color-text-on-default-background: var(--sg-text-color, var(--theme-code-foreground, var(--jp-content-font-color1, black)));\n",
       "  --sklearn-color-background: var(--sg-background-color, var(--theme-background, var(--jp-layout-color0, white)));\n",
       "  --sklearn-color-border-box: var(--sg-text-color, var(--theme-code-foreground, var(--jp-content-font-color1, black)));\n",
       "  --sklearn-color-icon: #696969;\n",
       "\n",
       "  @media (prefers-color-scheme: dark) {\n",
       "    /* Redefinition of color scheme for dark theme */\n",
       "    --sklearn-color-text-on-default-background: var(--sg-text-color, var(--theme-code-foreground, var(--jp-content-font-color1, white)));\n",
       "    --sklearn-color-background: var(--sg-background-color, var(--theme-background, var(--jp-layout-color0, #111)));\n",
       "    --sklearn-color-border-box: var(--sg-text-color, var(--theme-code-foreground, var(--jp-content-font-color1, white)));\n",
       "    --sklearn-color-icon: #878787;\n",
       "  }\n",
       "}\n",
       "\n",
       "#sk-container-id-1 {\n",
       "  color: var(--sklearn-color-text);\n",
       "}\n",
       "\n",
       "#sk-container-id-1 pre {\n",
       "  padding: 0;\n",
       "}\n",
       "\n",
       "#sk-container-id-1 input.sk-hidden--visually {\n",
       "  border: 0;\n",
       "  clip: rect(1px 1px 1px 1px);\n",
       "  clip: rect(1px, 1px, 1px, 1px);\n",
       "  height: 1px;\n",
       "  margin: -1px;\n",
       "  overflow: hidden;\n",
       "  padding: 0;\n",
       "  position: absolute;\n",
       "  width: 1px;\n",
       "}\n",
       "\n",
       "#sk-container-id-1 div.sk-dashed-wrapped {\n",
       "  border: 1px dashed var(--sklearn-color-line);\n",
       "  margin: 0 0.4em 0.5em 0.4em;\n",
       "  box-sizing: border-box;\n",
       "  padding-bottom: 0.4em;\n",
       "  background-color: var(--sklearn-color-background);\n",
       "}\n",
       "\n",
       "#sk-container-id-1 div.sk-container {\n",
       "  /* jupyter's `normalize.less` sets `[hidden] { display: none; }`\n",
       "     but bootstrap.min.css set `[hidden] { display: none !important; }`\n",
       "     so we also need the `!important` here to be able to override the\n",
       "     default hidden behavior on the sphinx rendered scikit-learn.org.\n",
       "     See: https://github.com/scikit-learn/scikit-learn/issues/21755 */\n",
       "  display: inline-block !important;\n",
       "  position: relative;\n",
       "}\n",
       "\n",
       "#sk-container-id-1 div.sk-text-repr-fallback {\n",
       "  display: none;\n",
       "}\n",
       "\n",
       "div.sk-parallel-item,\n",
       "div.sk-serial,\n",
       "div.sk-item {\n",
       "  /* draw centered vertical line to link estimators */\n",
       "  background-image: linear-gradient(var(--sklearn-color-text-on-default-background), var(--sklearn-color-text-on-default-background));\n",
       "  background-size: 2px 100%;\n",
       "  background-repeat: no-repeat;\n",
       "  background-position: center center;\n",
       "}\n",
       "\n",
       "/* Parallel-specific style estimator block */\n",
       "\n",
       "#sk-container-id-1 div.sk-parallel-item::after {\n",
       "  content: \"\";\n",
       "  width: 100%;\n",
       "  border-bottom: 2px solid var(--sklearn-color-text-on-default-background);\n",
       "  flex-grow: 1;\n",
       "}\n",
       "\n",
       "#sk-container-id-1 div.sk-parallel {\n",
       "  display: flex;\n",
       "  align-items: stretch;\n",
       "  justify-content: center;\n",
       "  background-color: var(--sklearn-color-background);\n",
       "  position: relative;\n",
       "}\n",
       "\n",
       "#sk-container-id-1 div.sk-parallel-item {\n",
       "  display: flex;\n",
       "  flex-direction: column;\n",
       "}\n",
       "\n",
       "#sk-container-id-1 div.sk-parallel-item:first-child::after {\n",
       "  align-self: flex-end;\n",
       "  width: 50%;\n",
       "}\n",
       "\n",
       "#sk-container-id-1 div.sk-parallel-item:last-child::after {\n",
       "  align-self: flex-start;\n",
       "  width: 50%;\n",
       "}\n",
       "\n",
       "#sk-container-id-1 div.sk-parallel-item:only-child::after {\n",
       "  width: 0;\n",
       "}\n",
       "\n",
       "/* Serial-specific style estimator block */\n",
       "\n",
       "#sk-container-id-1 div.sk-serial {\n",
       "  display: flex;\n",
       "  flex-direction: column;\n",
       "  align-items: center;\n",
       "  background-color: var(--sklearn-color-background);\n",
       "  padding-right: 1em;\n",
       "  padding-left: 1em;\n",
       "}\n",
       "\n",
       "\n",
       "/* Toggleable style: style used for estimator/Pipeline/ColumnTransformer box that is\n",
       "clickable and can be expanded/collapsed.\n",
       "- Pipeline and ColumnTransformer use this feature and define the default style\n",
       "- Estimators will overwrite some part of the style using the `sk-estimator` class\n",
       "*/\n",
       "\n",
       "/* Pipeline and ColumnTransformer style (default) */\n",
       "\n",
       "#sk-container-id-1 div.sk-toggleable {\n",
       "  /* Default theme specific background. It is overwritten whether we have a\n",
       "  specific estimator or a Pipeline/ColumnTransformer */\n",
       "  background-color: var(--sklearn-color-background);\n",
       "}\n",
       "\n",
       "/* Toggleable label */\n",
       "#sk-container-id-1 label.sk-toggleable__label {\n",
       "  cursor: pointer;\n",
       "  display: block;\n",
       "  width: 100%;\n",
       "  margin-bottom: 0;\n",
       "  padding: 0.5em;\n",
       "  box-sizing: border-box;\n",
       "  text-align: center;\n",
       "}\n",
       "\n",
       "#sk-container-id-1 label.sk-toggleable__label-arrow:before {\n",
       "  /* Arrow on the left of the label */\n",
       "  content: \"▸\";\n",
       "  float: left;\n",
       "  margin-right: 0.25em;\n",
       "  color: var(--sklearn-color-icon);\n",
       "}\n",
       "\n",
       "#sk-container-id-1 label.sk-toggleable__label-arrow:hover:before {\n",
       "  color: var(--sklearn-color-text);\n",
       "}\n",
       "\n",
       "/* Toggleable content - dropdown */\n",
       "\n",
       "#sk-container-id-1 div.sk-toggleable__content {\n",
       "  max-height: 0;\n",
       "  max-width: 0;\n",
       "  overflow: hidden;\n",
       "  text-align: left;\n",
       "  /* unfitted */\n",
       "  background-color: var(--sklearn-color-unfitted-level-0);\n",
       "}\n",
       "\n",
       "#sk-container-id-1 div.sk-toggleable__content.fitted {\n",
       "  /* fitted */\n",
       "  background-color: var(--sklearn-color-fitted-level-0);\n",
       "}\n",
       "\n",
       "#sk-container-id-1 div.sk-toggleable__content pre {\n",
       "  margin: 0.2em;\n",
       "  border-radius: 0.25em;\n",
       "  color: var(--sklearn-color-text);\n",
       "  /* unfitted */\n",
       "  background-color: var(--sklearn-color-unfitted-level-0);\n",
       "}\n",
       "\n",
       "#sk-container-id-1 div.sk-toggleable__content.fitted pre {\n",
       "  /* unfitted */\n",
       "  background-color: var(--sklearn-color-fitted-level-0);\n",
       "}\n",
       "\n",
       "#sk-container-id-1 input.sk-toggleable__control:checked~div.sk-toggleable__content {\n",
       "  /* Expand drop-down */\n",
       "  max-height: 200px;\n",
       "  max-width: 100%;\n",
       "  overflow: auto;\n",
       "}\n",
       "\n",
       "#sk-container-id-1 input.sk-toggleable__control:checked~label.sk-toggleable__label-arrow:before {\n",
       "  content: \"▾\";\n",
       "}\n",
       "\n",
       "/* Pipeline/ColumnTransformer-specific style */\n",
       "\n",
       "#sk-container-id-1 div.sk-label input.sk-toggleable__control:checked~label.sk-toggleable__label {\n",
       "  color: var(--sklearn-color-text);\n",
       "  background-color: var(--sklearn-color-unfitted-level-2);\n",
       "}\n",
       "\n",
       "#sk-container-id-1 div.sk-label.fitted input.sk-toggleable__control:checked~label.sk-toggleable__label {\n",
       "  background-color: var(--sklearn-color-fitted-level-2);\n",
       "}\n",
       "\n",
       "/* Estimator-specific style */\n",
       "\n",
       "/* Colorize estimator box */\n",
       "#sk-container-id-1 div.sk-estimator input.sk-toggleable__control:checked~label.sk-toggleable__label {\n",
       "  /* unfitted */\n",
       "  background-color: var(--sklearn-color-unfitted-level-2);\n",
       "}\n",
       "\n",
       "#sk-container-id-1 div.sk-estimator.fitted input.sk-toggleable__control:checked~label.sk-toggleable__label {\n",
       "  /* fitted */\n",
       "  background-color: var(--sklearn-color-fitted-level-2);\n",
       "}\n",
       "\n",
       "#sk-container-id-1 div.sk-label label.sk-toggleable__label,\n",
       "#sk-container-id-1 div.sk-label label {\n",
       "  /* The background is the default theme color */\n",
       "  color: var(--sklearn-color-text-on-default-background);\n",
       "}\n",
       "\n",
       "/* On hover, darken the color of the background */\n",
       "#sk-container-id-1 div.sk-label:hover label.sk-toggleable__label {\n",
       "  color: var(--sklearn-color-text);\n",
       "  background-color: var(--sklearn-color-unfitted-level-2);\n",
       "}\n",
       "\n",
       "/* Label box, darken color on hover, fitted */\n",
       "#sk-container-id-1 div.sk-label.fitted:hover label.sk-toggleable__label.fitted {\n",
       "  color: var(--sklearn-color-text);\n",
       "  background-color: var(--sklearn-color-fitted-level-2);\n",
       "}\n",
       "\n",
       "/* Estimator label */\n",
       "\n",
       "#sk-container-id-1 div.sk-label label {\n",
       "  font-family: monospace;\n",
       "  font-weight: bold;\n",
       "  display: inline-block;\n",
       "  line-height: 1.2em;\n",
       "}\n",
       "\n",
       "#sk-container-id-1 div.sk-label-container {\n",
       "  text-align: center;\n",
       "}\n",
       "\n",
       "/* Estimator-specific */\n",
       "#sk-container-id-1 div.sk-estimator {\n",
       "  font-family: monospace;\n",
       "  border: 1px dotted var(--sklearn-color-border-box);\n",
       "  border-radius: 0.25em;\n",
       "  box-sizing: border-box;\n",
       "  margin-bottom: 0.5em;\n",
       "  /* unfitted */\n",
       "  background-color: var(--sklearn-color-unfitted-level-0);\n",
       "}\n",
       "\n",
       "#sk-container-id-1 div.sk-estimator.fitted {\n",
       "  /* fitted */\n",
       "  background-color: var(--sklearn-color-fitted-level-0);\n",
       "}\n",
       "\n",
       "/* on hover */\n",
       "#sk-container-id-1 div.sk-estimator:hover {\n",
       "  /* unfitted */\n",
       "  background-color: var(--sklearn-color-unfitted-level-2);\n",
       "}\n",
       "\n",
       "#sk-container-id-1 div.sk-estimator.fitted:hover {\n",
       "  /* fitted */\n",
       "  background-color: var(--sklearn-color-fitted-level-2);\n",
       "}\n",
       "\n",
       "/* Specification for estimator info (e.g. \"i\" and \"?\") */\n",
       "\n",
       "/* Common style for \"i\" and \"?\" */\n",
       "\n",
       ".sk-estimator-doc-link,\n",
       "a:link.sk-estimator-doc-link,\n",
       "a:visited.sk-estimator-doc-link {\n",
       "  float: right;\n",
       "  font-size: smaller;\n",
       "  line-height: 1em;\n",
       "  font-family: monospace;\n",
       "  background-color: var(--sklearn-color-background);\n",
       "  border-radius: 1em;\n",
       "  height: 1em;\n",
       "  width: 1em;\n",
       "  text-decoration: none !important;\n",
       "  margin-left: 1ex;\n",
       "  /* unfitted */\n",
       "  border: var(--sklearn-color-unfitted-level-1) 1pt solid;\n",
       "  color: var(--sklearn-color-unfitted-level-1);\n",
       "}\n",
       "\n",
       ".sk-estimator-doc-link.fitted,\n",
       "a:link.sk-estimator-doc-link.fitted,\n",
       "a:visited.sk-estimator-doc-link.fitted {\n",
       "  /* fitted */\n",
       "  border: var(--sklearn-color-fitted-level-1) 1pt solid;\n",
       "  color: var(--sklearn-color-fitted-level-1);\n",
       "}\n",
       "\n",
       "/* On hover */\n",
       "div.sk-estimator:hover .sk-estimator-doc-link:hover,\n",
       ".sk-estimator-doc-link:hover,\n",
       "div.sk-label-container:hover .sk-estimator-doc-link:hover,\n",
       ".sk-estimator-doc-link:hover {\n",
       "  /* unfitted */\n",
       "  background-color: var(--sklearn-color-unfitted-level-3);\n",
       "  color: var(--sklearn-color-background);\n",
       "  text-decoration: none;\n",
       "}\n",
       "\n",
       "div.sk-estimator.fitted:hover .sk-estimator-doc-link.fitted:hover,\n",
       ".sk-estimator-doc-link.fitted:hover,\n",
       "div.sk-label-container:hover .sk-estimator-doc-link.fitted:hover,\n",
       ".sk-estimator-doc-link.fitted:hover {\n",
       "  /* fitted */\n",
       "  background-color: var(--sklearn-color-fitted-level-3);\n",
       "  color: var(--sklearn-color-background);\n",
       "  text-decoration: none;\n",
       "}\n",
       "\n",
       "/* Span, style for the box shown on hovering the info icon */\n",
       ".sk-estimator-doc-link span {\n",
       "  display: none;\n",
       "  z-index: 9999;\n",
       "  position: relative;\n",
       "  font-weight: normal;\n",
       "  right: .2ex;\n",
       "  padding: .5ex;\n",
       "  margin: .5ex;\n",
       "  width: min-content;\n",
       "  min-width: 20ex;\n",
       "  max-width: 50ex;\n",
       "  color: var(--sklearn-color-text);\n",
       "  box-shadow: 2pt 2pt 4pt #999;\n",
       "  /* unfitted */\n",
       "  background: var(--sklearn-color-unfitted-level-0);\n",
       "  border: .5pt solid var(--sklearn-color-unfitted-level-3);\n",
       "}\n",
       "\n",
       ".sk-estimator-doc-link.fitted span {\n",
       "  /* fitted */\n",
       "  background: var(--sklearn-color-fitted-level-0);\n",
       "  border: var(--sklearn-color-fitted-level-3);\n",
       "}\n",
       "\n",
       ".sk-estimator-doc-link:hover span {\n",
       "  display: block;\n",
       "}\n",
       "\n",
       "/* \"?\"-specific style due to the `<a>` HTML tag */\n",
       "\n",
       "#sk-container-id-1 a.estimator_doc_link {\n",
       "  float: right;\n",
       "  font-size: 1rem;\n",
       "  line-height: 1em;\n",
       "  font-family: monospace;\n",
       "  background-color: var(--sklearn-color-background);\n",
       "  border-radius: 1rem;\n",
       "  height: 1rem;\n",
       "  width: 1rem;\n",
       "  text-decoration: none;\n",
       "  /* unfitted */\n",
       "  color: var(--sklearn-color-unfitted-level-1);\n",
       "  border: var(--sklearn-color-unfitted-level-1) 1pt solid;\n",
       "}\n",
       "\n",
       "#sk-container-id-1 a.estimator_doc_link.fitted {\n",
       "  /* fitted */\n",
       "  border: var(--sklearn-color-fitted-level-1) 1pt solid;\n",
       "  color: var(--sklearn-color-fitted-level-1);\n",
       "}\n",
       "\n",
       "/* On hover */\n",
       "#sk-container-id-1 a.estimator_doc_link:hover {\n",
       "  /* unfitted */\n",
       "  background-color: var(--sklearn-color-unfitted-level-3);\n",
       "  color: var(--sklearn-color-background);\n",
       "  text-decoration: none;\n",
       "}\n",
       "\n",
       "#sk-container-id-1 a.estimator_doc_link.fitted:hover {\n",
       "  /* fitted */\n",
       "  background-color: var(--sklearn-color-fitted-level-3);\n",
       "}\n",
       "</style><div id=\"sk-container-id-1\" class=\"sk-top-container\"><div class=\"sk-text-repr-fallback\"><pre>RandomForestRegressor(random_state=2023)</pre><b>In a Jupyter environment, please rerun this cell to show the HTML representation or trust the notebook. <br />On GitHub, the HTML representation is unable to render, please try loading this page with nbviewer.org.</b></div><div class=\"sk-container\" hidden><div class=\"sk-item\"><div class=\"sk-estimator fitted sk-toggleable\"><input class=\"sk-toggleable__control sk-hidden--visually\" id=\"sk-estimator-id-1\" type=\"checkbox\" checked><label for=\"sk-estimator-id-1\" class=\"sk-toggleable__label fitted sk-toggleable__label-arrow fitted\">&nbsp;&nbsp;RandomForestRegressor<a class=\"sk-estimator-doc-link fitted\" rel=\"noreferrer\" target=\"_blank\" href=\"https://scikit-learn.org/1.4/modules/generated/sklearn.ensemble.RandomForestRegressor.html\">?<span>Documentation for RandomForestRegressor</span></a><span class=\"sk-estimator-doc-link fitted\">i<span>Fitted</span></span></label><div class=\"sk-toggleable__content fitted\"><pre>RandomForestRegressor(random_state=2023)</pre></div> </div></div></div></div>"
      ],
      "text/plain": [
       "RandomForestRegressor(random_state=2023)"
      ]
     },
     "execution_count": 18,
     "metadata": {},
     "output_type": "execute_result"
    }
   ],
   "source": [
    "# 랜덤포레스트 모델 사용 (참고 : 분류모델은 RandomForestClassifier)\n",
    "from sklearn.ensemble import RandomForestRegressor\n",
    "model = RandomForestRegressor(random_state=2023)\n",
    "model.fit(x_train, y_train)"
   ]
  },
  {
   "cell_type": "code",
   "execution_count": 19,
   "id": "602bff6f-7a4c-4e9e-b671-d73461d34758",
   "metadata": {},
   "outputs": [],
   "source": [
    "# 모델을 사용하여 테스트 데이터 예측\n",
    "y_pred = model.predict(x_val)"
   ]
  },
  {
   "cell_type": "code",
   "execution_count": 20,
   "id": "41bb176e-f715-4531-a6ea-1ed8d53e45a4",
   "metadata": {},
   "outputs": [],
   "source": [
    "# 모델 성능 평가 (R-squared, MSE 등)\n",
    "from sklearn.metrics import r2_score, mean_squared_error\n",
    "r2 = r2_score(y_val, y_pred) # (실제값, 예측값)\n",
    "mse = mean_squared_error(y_val, y_pred) # (실제값, 예측값)"
   ]
  },
  {
   "cell_type": "code",
   "execution_count": 21,
   "id": "2b335c64-f9e9-4c1b-b61c-9360150c56fe",
   "metadata": {},
   "outputs": [
    {
     "name": "stdout",
     "output_type": "stream",
     "text": [
      "1.0860209841025643\n"
     ]
    }
   ],
   "source": [
    "# MSE\n",
    "print(mse)"
   ]
  },
  {
   "cell_type": "code",
   "execution_count": 22,
   "id": "d7f701cb-16e8-4631-9b60-9696d805036f",
   "metadata": {},
   "outputs": [
    {
     "name": "stdout",
     "output_type": "stream",
     "text": [
      "1.042123305613383\n"
     ]
    }
   ],
   "source": [
    "# RMSE\n",
    "rmse = mse**0.5\n",
    "print(rmse)"
   ]
  },
  {
   "cell_type": "code",
   "execution_count": 23,
   "id": "8024852c-4d1d-4e9c-9ad5-082c8a7e3dbc",
   "metadata": {},
   "outputs": [
    {
     "name": "stdout",
     "output_type": "stream",
     "text": [
      "0.6214234662421672\n"
     ]
    }
   ],
   "source": [
    "# Rsq\n",
    "print(r2)"
   ]
  },
  {
   "cell_type": "markdown",
   "id": "dd7bd3e8-0c8c-4097-a690-ad74ebbeab9c",
   "metadata": {},
   "source": [
    "## 5. 예측값 제출"
   ]
  },
  {
   "cell_type": "code",
   "execution_count": 24,
   "id": "e1514a35-ab4e-4bec-a075-6197fc57eb5c",
   "metadata": {},
   "outputs": [
    {
     "name": "stdout",
     "output_type": "stream",
     "text": [
      "   cust_id  target\n",
      "0      154  3.1114\n",
      "1        4  2.8938\n",
      "2       30  1.7715\n",
      "3       75  1.6389\n",
      "4       33  3.1873\n"
     ]
    }
   ],
   "source": [
    "# pd.DataFrame({'cust_id':cust_id, 'target':y_result}).to_csv('수험번호.csv', index=False)\n",
    "\n",
    "y_result = model.predict(x_test)\n",
    "result = pd.DataFrame({'cust_id':cust_id, 'target':y_result})\n",
    "print(result[:5])"
   ]
  },
  {
   "cell_type": "code",
   "execution_count": 26,
   "id": "40db3524-04e2-48f8-849f-cb2a1cda54af",
   "metadata": {},
   "outputs": [],
   "source": [
    "# 데이터를 저장한다음 불러와서 제대로 제출했는지 확인해보자\n",
    "pd.DataFrame({'result':y_result}).to_csv('0010.csv', index=False)\n"
   ]
  },
  {
   "cell_type": "code",
   "execution_count": 27,
   "id": "dcfff5e7-69ac-45b5-b260-81e99c702286",
   "metadata": {},
   "outputs": [
    {
     "name": "stdout",
     "output_type": "stream",
     "text": [
      "   result\n",
      "0  3.1114\n",
      "1  2.8938\n",
      "2  1.7715\n",
      "3  1.6389\n",
      "4  3.1873\n"
     ]
    }
   ],
   "source": [
    "df2 = pd.read_csv('0010.csv')\n",
    "print(df2.head())"
   ]
  }
 ],
 "metadata": {
  "kernelspec": {
   "display_name": "Python 3 (ipykernel)",
   "language": "python",
   "name": "python3"
  },
  "language_info": {
   "codemirror_mode": {
    "name": "ipython",
    "version": 3
   },
   "file_extension": ".py",
   "mimetype": "text/x-python",
   "name": "python",
   "nbconvert_exporter": "python",
   "pygments_lexer": "ipython3",
   "version": "3.12.3"
  }
 },
 "nbformat": 4,
 "nbformat_minor": 5
}
