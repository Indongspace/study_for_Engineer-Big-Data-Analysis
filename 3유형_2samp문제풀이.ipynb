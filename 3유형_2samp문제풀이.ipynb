{
 "cells": [
  {
   "cell_type": "markdown",
   "id": "cea3271a-3687-408a-a071-b85a43d7728f",
   "metadata": {},
   "source": [
    "## Case 2) 독립표본 t검정(2sample t-test)"
   ]
  },
  {
   "cell_type": "markdown",
   "id": "774d9200-8d49-4eb2-94f9-910e81bfd152",
   "metadata": {},
   "source": [
    "문제 2-1\n",
    "다음은 A그룹과 B그룹 인원의 혈압 데이터이다.\n",
    "\n",
    "두 그룹의 혈압평균이 다르다고 할 수 있는지 독립표본 t검정을 실시하시오.\n",
    "\n",
    "(유의수준 5%)\n",
    "\n",
    "- A: A그룹 인원의 혈압, B: B그룹 인원의 혈압\n",
    "- H0(귀무가설) : A = B\n",
    "- H1(대립가설) : A != B"
   ]
  },
  {
   "cell_type": "code",
   "execution_count": 4,
   "id": "49494533-7852-412f-86b5-e840d7f8e421",
   "metadata": {},
   "outputs": [],
   "source": [
    "import pandas as pd\n",
    "import numpy as np"
   ]
  },
  {
   "cell_type": "code",
   "execution_count": 5,
   "id": "0c74b96a-90aa-40c1-bda2-04bc652ee74c",
   "metadata": {},
   "outputs": [
    {
     "name": "stdout",
     "output_type": "stream",
     "text": [
      "     A    B\n",
      "0  120  110\n",
      "1  135  132\n",
      "2  122  123\n"
     ]
    }
   ],
   "source": [
    "#\t데이터\t만들기\n",
    "df = pd.DataFrame({\n",
    "\t\t\t\t'A': [120,\t135,\t122,\t124,\t135,\t122,\t145,\t160,\t155,\t142,\t144,\t135,\t167],\n",
    "\t\t\t\t'B'\t: [110,\t132,\t123,\t119,\t123,\t115,\t140,\t162,\t142,\t138,\t135,\t142,\t160]})\n",
    "print(df.head(3))"
   ]
  },
  {
   "cell_type": "code",
   "execution_count": 6,
   "id": "b9b80ef1-5b84-4b40-a14e-7770b08783a4",
   "metadata": {},
   "outputs": [],
   "source": [
    "# 1. 가설설정\n",
    "# H0 : A그룹과 B그룹의 혈압 평균은 같다. (A = B)\n",
    "# H1 : A그룹과 B그룹의 혈압 평균은 같지 않다. (A != B)"
   ]
  },
  {
   "cell_type": "code",
   "execution_count": 7,
   "id": "7cd96aba-4cd1-4090-95e6-463d6c4f4b1f",
   "metadata": {},
   "outputs": [],
   "source": [
    "# 2. 유의수준 확인 : 유의수준 5%로 확인"
   ]
  },
  {
   "cell_type": "code",
   "execution_count": 8,
   "id": "4a4a3cfb-d723-4aed-a49f-c95e1abc6063",
   "metadata": {},
   "outputs": [],
   "source": [
    "import scipy.stats as stats\n",
    "from scipy.stats import shapiro"
   ]
  },
  {
   "cell_type": "code",
   "execution_count": 9,
   "id": "4b8c1674-3712-43c6-8e6d-01fb2a204583",
   "metadata": {},
   "outputs": [
    {
     "name": "stdout",
     "output_type": "stream",
     "text": [
      "0.9314 0.3558\n",
      "0.9498 0.5956\n"
     ]
    }
   ],
   "source": [
    "# 3. 정규성 검정\n",
    "# H0(귀무가설) : 정규분포를 따른다.\n",
    "# H1(대립가설) : 정규분포를 따르지 않는다.\n",
    "\n",
    "statisticA, pvalueA = stats.shapiro(df['A'])\n",
    "statisticB, pvalueB = stats.shapiro(df['B'])\n",
    "print(round(statisticA,4), round(pvalueA,4))\n",
    "print(round(statisticB,4), round(pvalueB,4))"
   ]
  },
  {
   "cell_type": "markdown",
   "id": "77b8eff5-01cc-4873-a835-ed91fbd0b303",
   "metadata": {},
   "source": [
    "- p-value값이 유의수준(0.05)보다 크다. 귀무가설(H0) 채택\n",
    "- 만약 하나라도 정규분포를 따르지 않는다면 비모수 검정방법을 써야 함 (윌콕슨의 순위합 검정 ranksums)"
   ]
  },
  {
   "cell_type": "code",
   "execution_count": 10,
   "id": "cf7ae2cd-1703-49dc-adfc-b8e16d3e5a8e",
   "metadata": {},
   "outputs": [
    {
     "name": "stdout",
     "output_type": "stream",
     "text": [
      "0.0279 0.8673\n"
     ]
    }
   ],
   "source": [
    "# 4. 등분산성 검정\n",
    "# H0(귀무가설) : 등분산 한다.\n",
    "# H1(대립가설) : 등분산 하지 않는다.\n",
    "statistic, pvalue = stats.bartlett(df['A'], df['B'])\n",
    "print(round(statistic,4), round(pvalue,4))"
   ]
  },
  {
   "cell_type": "markdown",
   "id": "b2798f05-da89-4bc1-a183-576190498c3c",
   "metadata": {},
   "source": [
    "- p-value 값이 유의수준(0.05) 보다 크다.\n",
    "- 귀무가설(H0) 채택 => 등분산성을 따른다고 할 수 있다."
   ]
  },
  {
   "cell_type": "code",
   "execution_count": 11,
   "id": "7c903961-0ec3-47ef-b46e-e9a7c7f8123b",
   "metadata": {},
   "outputs": [
    {
     "name": "stdout",
     "output_type": "stream",
     "text": [
      "0.8192 0.4207\n"
     ]
    }
   ],
   "source": [
    "# 5.1 (정규성 O, 등분산성 O/X) t검정\n",
    "statistic, pvalue = stats.ttest_ind(df['A'], df['B'],\n",
    "                                    equal_var = True,\n",
    "                                    alternative = 'two-sided')\n",
    "# 만약 등분산 하지 않으면 False로 설정\n",
    "print(round(statistic,4), round(pvalue,4))"
   ]
  },
  {
   "cell_type": "code",
   "execution_count": 12,
   "id": "1b3e42d3-4f5c-4500-97bf-bade072d1f3f",
   "metadata": {},
   "outputs": [
    {
     "name": "stdout",
     "output_type": "stream",
     "text": [
      "0.8462 0.3975\n"
     ]
    }
   ],
   "source": [
    "# 5.2 (정규성 X) 윌콕슨의 순위합 검정\n",
    "statistic, pvalue = stats.ranksums(df['A'], df['B'], alternative='two-sided')\n",
    "print(round(statistic,4), round(pvalue,4))"
   ]
  },
  {
   "cell_type": "code",
   "execution_count": 13,
   "id": "0d2a8506-7f03-4210-a089-92dfc571aac0",
   "metadata": {},
   "outputs": [],
   "source": [
    "# 6. 귀무가설 기각여부 결정(채택/기각)\n",
    "# p-value 값이 0.05보다 크기 때문에 귀무가설을 채택한다.\n",
    "# 즉, A그룹과 B그룹의 혈압 평균은 같다고 할 수 있다.\n",
    "\n",
    "# 답 : 채택"
   ]
  },
  {
   "cell_type": "code",
   "execution_count": 14,
   "id": "fa1f7bce-091d-4db1-a5e8-23c356e2b483",
   "metadata": {},
   "outputs": [
    {
     "name": "stdout",
     "output_type": "stream",
     "text": [
      "138.9231\n",
      "133.9231\n"
     ]
    }
   ],
   "source": [
    "# (참고) 평균데이터 확인\n",
    "print(round(df['A'].mean(), 4))\n",
    "print(round(df['B'].mean(), 4))"
   ]
  },
  {
   "cell_type": "markdown",
   "id": "45c535e1-c988-46bd-93a5-bf55ce3b9865",
   "metadata": {},
   "source": [
    "문제 2-2\n",
    "다음은 A그룹과 B그룹 인원의 혈압 데이터이다.\n",
    "\n",
    "A그룹의 혈압 평균이 B그룹보다 크다고 할 수 있는지 독립표본 t검정을 실시하시오.\n",
    "\n",
    "(유의수준 5%)\n",
    "\n",
    "- A : A그룹 인원의 혈압, B : B그룹 인원의 혈압\n",
    "- H0(귀무가설) : A - B <= 0 (or A<=B)\n",
    "- H1(대립가설) : A - B > 0 (or A>B)"
   ]
  },
  {
   "cell_type": "code",
   "execution_count": 15,
   "id": "5ac80459-7618-43c1-9e3a-8b64cfcb46a4",
   "metadata": {},
   "outputs": [],
   "source": [
    "# 1. 가설설정\n",
    "# H0 : A그룹의 혈압 평균이 B그룹보다 작거나 같다. (A <= B)\n",
    "# H1 : A그룹의 혈압 평균이 B그룹보다 크다. (A > B)"
   ]
  },
  {
   "cell_type": "code",
   "execution_count": 16,
   "id": "a5312de9-7601-4a27-871e-fd9913255d7f",
   "metadata": {},
   "outputs": [],
   "source": [
    "# 2. 유의수준 확인 : 유의수준 5%로 확인"
   ]
  },
  {
   "cell_type": "code",
   "execution_count": 17,
   "id": "71954cca-1a83-4fea-9bde-0aa71d068c93",
   "metadata": {},
   "outputs": [
    {
     "name": "stdout",
     "output_type": "stream",
     "text": [
      "0.9314 0.3558\n",
      "0.9498 0.5956\n"
     ]
    }
   ],
   "source": [
    "# 3. 정규성 검정\n",
    "# H0(귀무가설) : 정규분포를 따른다.\n",
    "# H1(대립가설) : 정규분포를 따르지 않는다.\n",
    "\n",
    "statisticA, pvalueA = stats.shapiro(df['A'])\n",
    "statisticB, pvalueB = stats.shapiro(df['B'])\n",
    "print(round(statisticA,4), round(pvalueA,4))\n",
    "print(round(statisticB,4), round(pvalueB,4))"
   ]
  },
  {
   "cell_type": "code",
   "execution_count": 18,
   "id": "736e398b-9763-46fa-80cc-e5dd0a2c5bdd",
   "metadata": {},
   "outputs": [
    {
     "name": "stdout",
     "output_type": "stream",
     "text": [
      "0.0279 0.8673\n"
     ]
    }
   ],
   "source": [
    "# 4. 등분산성 검정\n",
    "# H0(귀무가설) : 등분산 한다.\n",
    "# H1(대립가설) : 등분산 하지 않는다.\n",
    "statistic, pvalue = stats.bartlett(df['A'], df['B'])\n",
    "print(round(statistic,4), round(pvalue,4))"
   ]
  },
  {
   "cell_type": "code",
   "execution_count": 19,
   "id": "d22b6ed2-27d3-4245-8aed-87d8cec56e56",
   "metadata": {},
   "outputs": [
    {
     "name": "stdout",
     "output_type": "stream",
     "text": [
      "0.8192 0.2104\n"
     ]
    }
   ],
   "source": [
    "# 5.1 (정규성 O, 등분산성 O/X) t검정\n",
    "statistic, pvalue = stats.ttest_ind(df['A'], df['B'], equal_var = True, alternative='greater')\n",
    "# 만약 등분산 하지 않으면 False로 설정\n",
    "print(round(statistic,4), round(pvalue,4))"
   ]
  },
  {
   "cell_type": "code",
   "execution_count": 20,
   "id": "8686b9e0-e489-420e-a6e5-28b54f2a1cce",
   "metadata": {},
   "outputs": [
    {
     "name": "stdout",
     "output_type": "stream",
     "text": [
      "0.8462 0.1987\n"
     ]
    }
   ],
   "source": [
    "# 5.2 (정규성 X) 윌콕슨의 순위합 검정\n",
    "statistic, pvalue = stats.ranksums(df['A'], df['B'], alternative='greater')\n",
    "print(round(statistic,4), round(pvalue,4))"
   ]
  },
  {
   "cell_type": "code",
   "execution_count": 21,
   "id": "48b379ff-de42-4eb5-a16d-11f80a3a3334",
   "metadata": {},
   "outputs": [],
   "source": [
    "# 6. 귀무가설 기각여부 결정(채택/기각)\n",
    "# p-value 값이 0.05보다 크기 때문에 귀무가설을 채택한다.\n",
    "# 즉, A그룹의 혈압 평균이 B그룹보다 작거나 같다고 할 수 있다.\n",
    "# (A그룹의 혈압 평균이 B그룹보다 크다고 할 수 없다)\n",
    "\n",
    "# 답 : 채택"
   ]
  },
  {
   "cell_type": "code",
   "execution_count": 22,
   "id": "df52b839-8133-4a1c-ba8e-f23139faeea9",
   "metadata": {},
   "outputs": [
    {
     "name": "stdout",
     "output_type": "stream",
     "text": [
      "138.9231\n",
      "133.9231\n"
     ]
    }
   ],
   "source": [
    "# (참고) 평균데이터 확인\n",
    "print(round(df['A'].mean(), 4))\n",
    "print(round(df['B'].mean(), 4))"
   ]
  }
 ],
 "metadata": {
  "kernelspec": {
   "display_name": "Python 3 (ipykernel)",
   "language": "python",
   "name": "python3"
  },
  "language_info": {
   "codemirror_mode": {
    "name": "ipython",
    "version": 3
   },
   "file_extension": ".py",
   "mimetype": "text/x-python",
   "name": "python",
   "nbconvert_exporter": "python",
   "pygments_lexer": "ipython3",
   "version": "3.12.3"
  }
 },
 "nbformat": 4,
 "nbformat_minor": 5
}
