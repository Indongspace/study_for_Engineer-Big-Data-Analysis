{
 "cells": [
  {
   "cell_type": "markdown",
   "id": "b15f50bd-f0e6-4e20-a001-2cc356fef74e",
   "metadata": {},
   "source": [
    "## 7회 실기시험 유형파악 제1,2유형"
   ]
  },
  {
   "cell_type": "markdown",
   "id": "e68cb1e3-42d7-415d-8865-0b3b19fbfbcd",
   "metadata": {},
   "source": [
    "## 제1유형\n",
    "- 1-1. 학생들 시험점수에서 결측치를 제거하고 학생들이 가장 많이 듣는 과목을 선정하여 표준화(Z-score)한 후 가장 큰 표준화 점수(Z-score)값을 구하시오.\n",
    "- (핵심문제 10번+12번)"
   ]
  },
  {
   "cell_type": "code",
   "execution_count": 1,
   "id": "112c62fc-e448-4ad3-909e-1b61cfc19043",
   "metadata": {},
   "outputs": [
    {
     "name": "stdout",
     "output_type": "stream",
     "text": [
      "   과목    점수\n",
      "0  국어  72.0\n",
      "1  국어  75.0\n",
      "2  수학  80.0\n",
      "3  수학  72.0\n",
      "4  영어  65.0\n",
      "5  영어  72.0\n",
      "6  영어  80.0\n",
      "7  영어  75.0\n",
      "8  영어  92.0\n",
      "9  영어   NaN\n"
     ]
    }
   ],
   "source": [
    " #\t예제문제\t풀이\n",
    "#\t다음은\t학생\t10명의\t과목별\t점수\t데이터이다.\t\n",
    "#\t점수\t데이터의\t결측치를\t제거한\t후,\t학생들이\t가장\t많이\t듣는\t과목의\t점수를\n",
    "#\t표준화\t한\t후\tZ-score의\t최대값을\t반올림하여\t소수점\t둘째\t자리까지\t구하시오.\n",
    " #\t데이터\t생성\t(수정금지)\n",
    "import\tpandas\tas\tpd\n",
    "import\tnumpy\tas\tnp\n",
    "df\t=\tpd.DataFrame(\t{\n",
    "\t\t\t\t'과목':\t['국어','국어',\t'수학','수학','영어',\t'영어','영어','영어','영어','영어'],\n",
    "\t\t\t\t'점수'\t:\t[72,\t75,\t80,\t72,\t65,\t72,\t80,\t75,\t92,\tNone]})\n",
    "print(df)"
   ]
  },
  {
   "cell_type": "code",
   "execution_count": 5,
   "id": "542fdf68-e0d7-48a1-85ed-99d9e31a05f9",
   "metadata": {},
   "outputs": [
    {
     "name": "stdout",
     "output_type": "stream",
     "text": [
      "1.51\n"
     ]
    }
   ],
   "source": [
    "# (풀이)\n",
    "# 결측치 삭제(행기준)\n",
    "df = df.dropna()\n",
    "#print(df)\n",
    "\n",
    "# 가장 많이 듣는 과목 선정\n",
    "#print(df['과목'].value_counts())\n",
    "# 영어로 확인\n",
    "\n",
    "# 영어 과목으로 필터링\n",
    "df2 = df[df['과목']=='영어'].copy()\n",
    "#print(df2)\n",
    "\n",
    "# 영어 점수 Z-score로 표준화 후 최대값 출력\n",
    "# Z = (X-평균)/표준편차\n",
    "std = df2['점수'].std()\n",
    "mean_score = df2['점수'].mean()\n",
    "df2['zscore'] = (df2['점수']-mean_score)/std\n",
    "print(round(df2['zscore'].max(), 2))"
   ]
  },
  {
   "cell_type": "markdown",
   "id": "4ea75647-89f6-47ec-983f-89aa16f455f1",
   "metadata": {},
   "source": [
    "- 1-2. A컬럼과 가장 상관관계가 큰 변수를 선정하고, 그 변수의 평균값을 구하시오.\n",
    "  * 신규유형 : 상관관계가 가장 큰 변수 구하기\n",
    "  * 중요포인트 : 상관계수의 절대값이 가장 큰 변수를 선정해야 함"
   ]
  },
  {
   "cell_type": "code",
   "execution_count": 8,
   "id": "9bbfd478-70fc-43a8-9fd0-7dd92c1ce171",
   "metadata": {},
   "outputs": [
    {
     "name": "stdout",
     "output_type": "stream",
     "text": [
      "    mpg   disp   hp     wt   qsec\n",
      "0  21.0  160.0  110  2.620  16.46\n",
      "1  21.0  160.0  110  2.875  17.02\n",
      "2  22.8  108.0   93  2.320  18.61\n",
      "3  21.4  258.0  110  3.215  19.44\n",
      "4  18.7  360.0  175  3.440  17.02\n"
     ]
    }
   ],
   "source": [
    "# 예제문제 풀이\n",
    "# mtcars 데이터셋에서 mpg와 상관관계가 가장 큰 변수를 선정하고\n",
    "# 그 변수의 평균값을 반올림하여 정수로 출력하시오.\n",
    " #\t데이터\t생성\t(수정금지)\n",
    "import\tpandas\tas\tpd\n",
    "import\tnumpy\tas\tnp\n",
    "df\t=\tpd.read_csv(\"mtcars.csv\")\n",
    "df\t=\tdf[\t['mpg','disp','hp',\t'wt',\t'qsec'\t\t]\t\t]\n",
    "print(df.head())"
   ]
  },
  {
   "cell_type": "code",
   "execution_count": 9,
   "id": "7a1125dd-f22b-4426-b646-1dac1324c6ff",
   "metadata": {},
   "outputs": [
    {
     "name": "stdout",
     "output_type": "stream",
     "text": [
      "           mpg      disp        hp        wt      qsec\n",
      "mpg   1.000000 -0.847551 -0.776168 -0.867659  0.418684\n",
      "disp -0.847551  1.000000  0.790949  0.887980 -0.433698\n",
      "hp   -0.776168  0.790949  1.000000  0.658748 -0.708223\n",
      "wt   -0.867659  0.887980  0.658748  1.000000 -0.174716\n",
      "qsec  0.418684 -0.433698 -0.708223 -0.174716  1.000000\n"
     ]
    }
   ],
   "source": [
    "# (풀이)\n",
    "# 상관계수 구하기\n",
    "print(df.corr())"
   ]
  },
  {
   "cell_type": "code",
   "execution_count": 10,
   "id": "c3d3651f-e08d-48b9-9657-79c743ef0751",
   "metadata": {},
   "outputs": [
    {
     "name": "stdout",
     "output_type": "stream",
     "text": [
      "           mpg      disp        hp        wt      qsec\n",
      "mpg   1.000000 -0.847551 -0.776168 -0.867659  0.418684\n",
      "qsec  0.418684 -0.433698 -0.708223 -0.174716  1.000000\n",
      "hp   -0.776168  0.790949  1.000000  0.658748 -0.708223\n",
      "disp -0.847551  1.000000  0.790949  0.887980 -0.433698\n",
      "wt   -0.867659  0.887980  0.658748  1.000000 -0.174716\n"
     ]
    }
   ],
   "source": [
    "cor = df.corr()\n",
    "print(cor.sort_values('mpg', ascending=False))"
   ]
  },
  {
   "cell_type": "code",
   "execution_count": 11,
   "id": "52410682-1950-4002-a5da-703b0cb545d3",
   "metadata": {},
   "outputs": [
    {
     "name": "stdout",
     "output_type": "stream",
     "text": [
      "           mpg      disp        hp        wt      qsec\n",
      "mpg   1.000000  0.847551  0.776168  0.867659  0.418684\n",
      "wt    0.867659  0.887980  0.658748  1.000000  0.174716\n",
      "disp  0.847551  1.000000  0.790949  0.887980  0.433698\n",
      "hp    0.776168  0.790949  1.000000  0.658748  0.708223\n",
      "qsec  0.418684  0.433698  0.708223  0.174716  1.000000\n"
     ]
    }
   ],
   "source": [
    "# 값을 절대값으로 변환한 후 내림차순으로 정렬하고\n",
    "# 상관계수가 가장 큰 값을 확인한다. (wt변수)\n",
    "cor_abs = cor.abs()\n",
    "print(cor_abs.sort_values('mpg', ascending=False))"
   ]
  },
  {
   "cell_type": "code",
   "execution_count": 12,
   "id": "ba673462-5e06-429a-9d52-77cfc455da2c",
   "metadata": {},
   "outputs": [
    {
     "name": "stdout",
     "output_type": "stream",
     "text": [
      "3\n"
     ]
    }
   ],
   "source": [
    "# wt변수의 평균값을 반올림하여 정수로 구한다.\n",
    "print(round(df['wt'].mean()))"
   ]
  },
  {
   "cell_type": "markdown",
   "id": "0fde76e0-fc72-474d-b061-3870ead6d2df",
   "metadata": {},
   "source": [
    "- 참고 : stats 라이브러리를 활용한 상관계수 계산"
   ]
  },
  {
   "cell_type": "code",
   "execution_count": 13,
   "id": "a449473a-5b6b-4d5d-92e4-3b2a8070b4a8",
   "metadata": {},
   "outputs": [
    {
     "name": "stdout",
     "output_type": "stream",
     "text": [
      "0.41868403392177833 0.017081988496519568\n"
     ]
    }
   ],
   "source": [
    "# 라이브러리 불러오기\n",
    "from scipy.stats import pearsonr\n",
    "\n",
    "# 상관계수에 대한 검정 실시\n",
    "r, pvalue = pearsonr(df['mpg'], df['qsec'])\n",
    "print(r, pvalue)"
   ]
  },
  {
   "cell_type": "markdown",
   "id": "5dc0cfbe-4f57-4a22-a945-0d7c61680e71",
   "metadata": {},
   "source": [
    "- 1-3. A컬럼의 상자그림 기준으로 이상치 구하기 (핵심문제 14번 문제와 동일유형)"
   ]
  },
  {
   "cell_type": "code",
   "execution_count": 14,
   "id": "55c28120-f5d4-4455-a037-50c867472a44",
   "metadata": {},
   "outputs": [],
   "source": [
    "# 핵심문제 14번\n",
    "# wt 컬럼에 대해 상자그림 기준으로 이상치의 개수를 구하시오.\n",
    "df = pd.read_csv('mtcars.csv')"
   ]
  },
  {
   "cell_type": "code",
   "execution_count": 16,
   "id": "8f496b16-8207-4f69-95d4-f93f6d4bedcc",
   "metadata": {},
   "outputs": [
    {
     "name": "stdout",
     "output_type": "stream",
     "text": [
      "3\n",
      "3\n"
     ]
    }
   ],
   "source": [
    "# (풀이)\n",
    "# 이상치 : Q1, Q3 로부터 1.5*IQR을 넘어가는 값\n",
    "Q1 = df['wt'].quantile(0.25)\n",
    "Q3 = df['wt'].quantile(0.75)\n",
    "IQR = Q3 - Q1\n",
    "\n",
    "upper = Q3+1.5*IQR\n",
    "lower = Q1-1.5*IQR\n",
    "\n",
    "cond1 = (df['wt']>upper)\n",
    "cond2 = (df['wt']<lower)\n",
    "\n",
    "print(len(df[cond1|cond2]))\n",
    "print(len(df[cond1])+len(df[cond2]))"
   ]
  },
  {
   "cell_type": "markdown",
   "id": "7632229f-43a4-4b81-96bb-615dafb5ef16",
   "metadata": {},
   "source": [
    "## 제2유형"
   ]
  },
  {
   "cell_type": "code",
   "execution_count": 17,
   "id": "2f3c8d9a-700a-4ad9-b4e1-1fd87ff2b405",
   "metadata": {},
   "outputs": [],
   "source": [
    "# 유형 : 회귀분석\n",
    "# 성능지표 : RMSE\n",
    "# 종속변수(Y) : 여행 매출액\n",
    "# 기존 출제유형과 유사(난이도 : 쉬움)"
   ]
  }
 ],
 "metadata": {
  "kernelspec": {
   "display_name": "Python 3 (ipykernel)",
   "language": "python",
   "name": "python3"
  },
  "language_info": {
   "codemirror_mode": {
    "name": "ipython",
    "version": 3
   },
   "file_extension": ".py",
   "mimetype": "text/x-python",
   "name": "python",
   "nbconvert_exporter": "python",
   "pygments_lexer": "ipython3",
   "version": "3.12.3"
  }
 },
 "nbformat": 4,
 "nbformat_minor": 5
}
