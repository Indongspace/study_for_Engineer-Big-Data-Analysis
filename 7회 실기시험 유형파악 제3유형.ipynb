{
 "cells": [
  {
   "cell_type": "markdown",
   "id": "b10a70aa-c3c4-4035-aa71-7ee4d98203a9",
   "metadata": {},
   "source": [
    "## 7회 실기시험 유형파악 - 3유형"
   ]
  },
  {
   "cell_type": "markdown",
   "id": "04569163-85ea-4a8d-9680-1fabca809d5a",
   "metadata": {},
   "source": [
    "## 제3유형 문제파악"
   ]
  },
  {
   "cell_type": "markdown",
   "id": "07236437-4b2a-4ca9-bc76-2f3b7f2c6bf0",
   "metadata": {},
   "source": [
    "### 1. 로지스틱 회귀분석(15점, 각 소문제당 5점)"
   ]
  },
  {
   "cell_type": "markdown",
   "id": "c192e292-954e-4d7a-b6a7-eac6d0629a67",
   "metadata": {},
   "source": [
    "- 주요키워드 : odds ratio, residual deviance, 오분류율, 모델링, 성능평가"
   ]
  },
  {
   "cell_type": "markdown",
   "id": "fa85801b-1619-468e-b3b3-bf1d6604325d",
   "metadata": {},
   "source": [
    "- 1-1) 종속변수(Y)를 A변수로 분석했을 때, odds ratio는? (데이터셋은 총 300개이며, 문제에서 지정한 210개로 모델링함)\n",
    "- 1-2) 종속변수(Y)를 n개의 변수로 분석했을 때, residual deviance를 구하시오. (데이터셋은 총 300개이며, 문제에서 지정한 210개로 모델링함)\n",
    "- 1-3) 문제1)에서 구한 모델에 나머지 90개 데이터를 적용하여 오분류율을 구하시오."
   ]
  },
  {
   "cell_type": "markdown",
   "id": "ddea09cd-daf9-4118-80db-e780ad5cf4da",
   "metadata": {},
   "source": [
    "### 2. 다중선형회귀분석(15점, 각 소문제당 5점)"
   ]
  },
  {
   "cell_type": "markdown",
   "id": "ffab2de9-b761-45d4-977a-d3c7daf53275",
   "metadata": {},
   "source": [
    "- 주요키워드 : 상관계수, Rsq, p-value, 모델링, 성능평가"
   ]
  },
  {
   "cell_type": "markdown",
   "id": "db06209d-241f-4936-ae88-0c7bdc47ed75",
   "metadata": {},
   "source": [
    "- 2-1) 특정 변수와 가장 큰 상관관계를 갖는 변수의 상관계수를 구하시오.\n",
    "- 2-2) 다중선형회귀 모델링 후 결정계수(Rsq) 구하기\n",
    "- 2-3) 문제 2-2에서 구한 회귀모델에서 p-value가 가장 큰 변수의 p-value값을 구하시오."
   ]
  },
  {
   "cell_type": "markdown",
   "id": "f92b458e-e721-4fc1-8038-6f7311292306",
   "metadata": {},
   "source": [
    "## 제 3유형 실전 예제풀이"
   ]
  },
  {
   "cell_type": "markdown",
   "id": "a14f44d2-c67a-4cfd-8be5-57fd572f70b7",
   "metadata": {},
   "source": [
    "### 1. 로지스틱 회귀분석(15점, 각 소문제당 5점)\n",
    "- 1-1) 종속변수(Y)를 A변수로 분석했을 때, odds ratio는? (데이터셋은 총 300개이며, 문제에서 지정한 210개로 모델링함)\n",
    "- 1-2) 종속변수(Y)를 n개의 변수로 분석했을 때, residual deviance를 구하시오. (데이터셋은 총 300개이며, 문제에서 지정한 210개로 모델링함)\n",
    "- 1-3) 문제1)에서 구한 모델에 나머지 90개 데이터를 적용하여 오분류율을 구하시오."
   ]
  },
  {
   "cell_type": "markdown",
   "id": "7b06540c-24f4-4459-bb27-dad81bf6fdef",
   "metadata": {},
   "source": [
    "### 예제문제 3유형-1번\n",
    "- survived\t를\t종속변수(Y),\tsex,sibsp,fare\t변수를\t독립변수(X)로\t분석했을\t때\t아래\t질문에\t답하시오.\n",
    "- (단,\t총\t891개의\t데이터에서\t초기\t500개\t데이터로\t학습,\t391개\t데이터로\t평가\t하시오)\t\n",
    "- (단,\t모든\t답은\t반올림하여\t소수점\t둘째자리까지\t구하시오)\n",
    "- 1.\t초기\t500개\t데이터로\t분석시\tsibsp\t변수의\todds\tratio는?\n",
    "- 2.\t초기\t500개\t데이터로\t분석시\tresidual\tdeviance는?\n",
    "- 3.\t나머지\t391개\t데이터\t적용시\t오분류율은?"
   ]
  },
  {
   "cell_type": "code",
   "execution_count": 1,
   "id": "05a2d754-01e8-42b9-b11c-67c196657935",
   "metadata": {},
   "outputs": [
    {
     "data": {
      "text/html": [
       "<div>\n",
       "<style scoped>\n",
       "    .dataframe tbody tr th:only-of-type {\n",
       "        vertical-align: middle;\n",
       "    }\n",
       "\n",
       "    .dataframe tbody tr th {\n",
       "        vertical-align: top;\n",
       "    }\n",
       "\n",
       "    .dataframe thead th {\n",
       "        text-align: right;\n",
       "    }\n",
       "</style>\n",
       "<table border=\"1\" class=\"dataframe\">\n",
       "  <thead>\n",
       "    <tr style=\"text-align: right;\">\n",
       "      <th></th>\n",
       "      <th>survived</th>\n",
       "      <th>sex</th>\n",
       "      <th>sibsp</th>\n",
       "      <th>fare</th>\n",
       "    </tr>\n",
       "  </thead>\n",
       "  <tbody>\n",
       "    <tr>\n",
       "      <th>0</th>\n",
       "      <td>0</td>\n",
       "      <td>0</td>\n",
       "      <td>1</td>\n",
       "      <td>7.2500</td>\n",
       "    </tr>\n",
       "    <tr>\n",
       "      <th>1</th>\n",
       "      <td>1</td>\n",
       "      <td>1</td>\n",
       "      <td>1</td>\n",
       "      <td>71.2833</td>\n",
       "    </tr>\n",
       "    <tr>\n",
       "      <th>2</th>\n",
       "      <td>1</td>\n",
       "      <td>1</td>\n",
       "      <td>0</td>\n",
       "      <td>7.9250</td>\n",
       "    </tr>\n",
       "    <tr>\n",
       "      <th>3</th>\n",
       "      <td>1</td>\n",
       "      <td>1</td>\n",
       "      <td>1</td>\n",
       "      <td>53.1000</td>\n",
       "    </tr>\n",
       "    <tr>\n",
       "      <th>4</th>\n",
       "      <td>0</td>\n",
       "      <td>0</td>\n",
       "      <td>0</td>\n",
       "      <td>8.0500</td>\n",
       "    </tr>\n",
       "    <tr>\n",
       "      <th>...</th>\n",
       "      <td>...</td>\n",
       "      <td>...</td>\n",
       "      <td>...</td>\n",
       "      <td>...</td>\n",
       "    </tr>\n",
       "    <tr>\n",
       "      <th>886</th>\n",
       "      <td>0</td>\n",
       "      <td>0</td>\n",
       "      <td>0</td>\n",
       "      <td>13.0000</td>\n",
       "    </tr>\n",
       "    <tr>\n",
       "      <th>887</th>\n",
       "      <td>1</td>\n",
       "      <td>1</td>\n",
       "      <td>0</td>\n",
       "      <td>30.0000</td>\n",
       "    </tr>\n",
       "    <tr>\n",
       "      <th>888</th>\n",
       "      <td>0</td>\n",
       "      <td>1</td>\n",
       "      <td>1</td>\n",
       "      <td>23.4500</td>\n",
       "    </tr>\n",
       "    <tr>\n",
       "      <th>889</th>\n",
       "      <td>1</td>\n",
       "      <td>0</td>\n",
       "      <td>0</td>\n",
       "      <td>30.0000</td>\n",
       "    </tr>\n",
       "    <tr>\n",
       "      <th>890</th>\n",
       "      <td>0</td>\n",
       "      <td>0</td>\n",
       "      <td>0</td>\n",
       "      <td>7.7500</td>\n",
       "    </tr>\n",
       "  </tbody>\n",
       "</table>\n",
       "<p>891 rows × 4 columns</p>\n",
       "</div>"
      ],
      "text/plain": [
       "     survived  sex  sibsp     fare\n",
       "0           0    0      1   7.2500\n",
       "1           1    1      1  71.2833\n",
       "2           1    1      0   7.9250\n",
       "3           1    1      1  53.1000\n",
       "4           0    0      0   8.0500\n",
       "..        ...  ...    ...      ...\n",
       "886         0    0      0  13.0000\n",
       "887         1    1      0  30.0000\n",
       "888         0    1      1  23.4500\n",
       "889         1    0      0  30.0000\n",
       "890         0    0      0   7.7500\n",
       "\n",
       "[891 rows x 4 columns]"
      ]
     },
     "execution_count": 1,
     "metadata": {},
     "output_type": "execute_result"
    }
   ],
   "source": [
    "# 데이터 생성\n",
    "import pandas as pd\n",
    "import numpy as np\n",
    "import seaborn as sns\n",
    "df = sns.load_dataset('titanic')\n",
    "\n",
    "df = df[['survived','sex','sibsp','fare']]\n",
    "# sex:성별, sibsp:탑승한 부모 및 자녀 수, fare:요금\n",
    "df['sex'] = df['sex'].map({'female':1, 'male':0})\n",
    "df"
   ]
  },
  {
   "cell_type": "code",
   "execution_count": 2,
   "id": "1ceede91-abb9-4479-9a0c-19cc83d8f8fa",
   "metadata": {},
   "outputs": [],
   "source": [
    "# 데이터셋 구성(초기 500개 데이터로 학습, 391개로 평가)\n",
    "#print(df.shape)\n",
    "\n",
    "# train/test 데이터셋 구성\n",
    "train = df.loc[0:499]\n",
    "test = df.loc[500:]\n",
    "\n",
    "x_train = train[['sex','sibsp','fare']]\n",
    "y_train = train['survived']\n",
    "x_test = test[['sex','sibsp','fare']]\n",
    "y_test = test['survived']"
   ]
  },
  {
   "cell_type": "code",
   "execution_count": 3,
   "id": "65513a80-f37e-45ca-8f80-cd7ab1791196",
   "metadata": {},
   "outputs": [
    {
     "data": {
      "text/html": [
       "<style>#sk-container-id-1 {\n",
       "  /* Definition of color scheme common for light and dark mode */\n",
       "  --sklearn-color-text: black;\n",
       "  --sklearn-color-line: gray;\n",
       "  /* Definition of color scheme for unfitted estimators */\n",
       "  --sklearn-color-unfitted-level-0: #fff5e6;\n",
       "  --sklearn-color-unfitted-level-1: #f6e4d2;\n",
       "  --sklearn-color-unfitted-level-2: #ffe0b3;\n",
       "  --sklearn-color-unfitted-level-3: chocolate;\n",
       "  /* Definition of color scheme for fitted estimators */\n",
       "  --sklearn-color-fitted-level-0: #f0f8ff;\n",
       "  --sklearn-color-fitted-level-1: #d4ebff;\n",
       "  --sklearn-color-fitted-level-2: #b3dbfd;\n",
       "  --sklearn-color-fitted-level-3: cornflowerblue;\n",
       "\n",
       "  /* Specific color for light theme */\n",
       "  --sklearn-color-text-on-default-background: var(--sg-text-color, var(--theme-code-foreground, var(--jp-content-font-color1, black)));\n",
       "  --sklearn-color-background: var(--sg-background-color, var(--theme-background, var(--jp-layout-color0, white)));\n",
       "  --sklearn-color-border-box: var(--sg-text-color, var(--theme-code-foreground, var(--jp-content-font-color1, black)));\n",
       "  --sklearn-color-icon: #696969;\n",
       "\n",
       "  @media (prefers-color-scheme: dark) {\n",
       "    /* Redefinition of color scheme for dark theme */\n",
       "    --sklearn-color-text-on-default-background: var(--sg-text-color, var(--theme-code-foreground, var(--jp-content-font-color1, white)));\n",
       "    --sklearn-color-background: var(--sg-background-color, var(--theme-background, var(--jp-layout-color0, #111)));\n",
       "    --sklearn-color-border-box: var(--sg-text-color, var(--theme-code-foreground, var(--jp-content-font-color1, white)));\n",
       "    --sklearn-color-icon: #878787;\n",
       "  }\n",
       "}\n",
       "\n",
       "#sk-container-id-1 {\n",
       "  color: var(--sklearn-color-text);\n",
       "}\n",
       "\n",
       "#sk-container-id-1 pre {\n",
       "  padding: 0;\n",
       "}\n",
       "\n",
       "#sk-container-id-1 input.sk-hidden--visually {\n",
       "  border: 0;\n",
       "  clip: rect(1px 1px 1px 1px);\n",
       "  clip: rect(1px, 1px, 1px, 1px);\n",
       "  height: 1px;\n",
       "  margin: -1px;\n",
       "  overflow: hidden;\n",
       "  padding: 0;\n",
       "  position: absolute;\n",
       "  width: 1px;\n",
       "}\n",
       "\n",
       "#sk-container-id-1 div.sk-dashed-wrapped {\n",
       "  border: 1px dashed var(--sklearn-color-line);\n",
       "  margin: 0 0.4em 0.5em 0.4em;\n",
       "  box-sizing: border-box;\n",
       "  padding-bottom: 0.4em;\n",
       "  background-color: var(--sklearn-color-background);\n",
       "}\n",
       "\n",
       "#sk-container-id-1 div.sk-container {\n",
       "  /* jupyter's `normalize.less` sets `[hidden] { display: none; }`\n",
       "     but bootstrap.min.css set `[hidden] { display: none !important; }`\n",
       "     so we also need the `!important` here to be able to override the\n",
       "     default hidden behavior on the sphinx rendered scikit-learn.org.\n",
       "     See: https://github.com/scikit-learn/scikit-learn/issues/21755 */\n",
       "  display: inline-block !important;\n",
       "  position: relative;\n",
       "}\n",
       "\n",
       "#sk-container-id-1 div.sk-text-repr-fallback {\n",
       "  display: none;\n",
       "}\n",
       "\n",
       "div.sk-parallel-item,\n",
       "div.sk-serial,\n",
       "div.sk-item {\n",
       "  /* draw centered vertical line to link estimators */\n",
       "  background-image: linear-gradient(var(--sklearn-color-text-on-default-background), var(--sklearn-color-text-on-default-background));\n",
       "  background-size: 2px 100%;\n",
       "  background-repeat: no-repeat;\n",
       "  background-position: center center;\n",
       "}\n",
       "\n",
       "/* Parallel-specific style estimator block */\n",
       "\n",
       "#sk-container-id-1 div.sk-parallel-item::after {\n",
       "  content: \"\";\n",
       "  width: 100%;\n",
       "  border-bottom: 2px solid var(--sklearn-color-text-on-default-background);\n",
       "  flex-grow: 1;\n",
       "}\n",
       "\n",
       "#sk-container-id-1 div.sk-parallel {\n",
       "  display: flex;\n",
       "  align-items: stretch;\n",
       "  justify-content: center;\n",
       "  background-color: var(--sklearn-color-background);\n",
       "  position: relative;\n",
       "}\n",
       "\n",
       "#sk-container-id-1 div.sk-parallel-item {\n",
       "  display: flex;\n",
       "  flex-direction: column;\n",
       "}\n",
       "\n",
       "#sk-container-id-1 div.sk-parallel-item:first-child::after {\n",
       "  align-self: flex-end;\n",
       "  width: 50%;\n",
       "}\n",
       "\n",
       "#sk-container-id-1 div.sk-parallel-item:last-child::after {\n",
       "  align-self: flex-start;\n",
       "  width: 50%;\n",
       "}\n",
       "\n",
       "#sk-container-id-1 div.sk-parallel-item:only-child::after {\n",
       "  width: 0;\n",
       "}\n",
       "\n",
       "/* Serial-specific style estimator block */\n",
       "\n",
       "#sk-container-id-1 div.sk-serial {\n",
       "  display: flex;\n",
       "  flex-direction: column;\n",
       "  align-items: center;\n",
       "  background-color: var(--sklearn-color-background);\n",
       "  padding-right: 1em;\n",
       "  padding-left: 1em;\n",
       "}\n",
       "\n",
       "\n",
       "/* Toggleable style: style used for estimator/Pipeline/ColumnTransformer box that is\n",
       "clickable and can be expanded/collapsed.\n",
       "- Pipeline and ColumnTransformer use this feature and define the default style\n",
       "- Estimators will overwrite some part of the style using the `sk-estimator` class\n",
       "*/\n",
       "\n",
       "/* Pipeline and ColumnTransformer style (default) */\n",
       "\n",
       "#sk-container-id-1 div.sk-toggleable {\n",
       "  /* Default theme specific background. It is overwritten whether we have a\n",
       "  specific estimator or a Pipeline/ColumnTransformer */\n",
       "  background-color: var(--sklearn-color-background);\n",
       "}\n",
       "\n",
       "/* Toggleable label */\n",
       "#sk-container-id-1 label.sk-toggleable__label {\n",
       "  cursor: pointer;\n",
       "  display: block;\n",
       "  width: 100%;\n",
       "  margin-bottom: 0;\n",
       "  padding: 0.5em;\n",
       "  box-sizing: border-box;\n",
       "  text-align: center;\n",
       "}\n",
       "\n",
       "#sk-container-id-1 label.sk-toggleable__label-arrow:before {\n",
       "  /* Arrow on the left of the label */\n",
       "  content: \"▸\";\n",
       "  float: left;\n",
       "  margin-right: 0.25em;\n",
       "  color: var(--sklearn-color-icon);\n",
       "}\n",
       "\n",
       "#sk-container-id-1 label.sk-toggleable__label-arrow:hover:before {\n",
       "  color: var(--sklearn-color-text);\n",
       "}\n",
       "\n",
       "/* Toggleable content - dropdown */\n",
       "\n",
       "#sk-container-id-1 div.sk-toggleable__content {\n",
       "  max-height: 0;\n",
       "  max-width: 0;\n",
       "  overflow: hidden;\n",
       "  text-align: left;\n",
       "  /* unfitted */\n",
       "  background-color: var(--sklearn-color-unfitted-level-0);\n",
       "}\n",
       "\n",
       "#sk-container-id-1 div.sk-toggleable__content.fitted {\n",
       "  /* fitted */\n",
       "  background-color: var(--sklearn-color-fitted-level-0);\n",
       "}\n",
       "\n",
       "#sk-container-id-1 div.sk-toggleable__content pre {\n",
       "  margin: 0.2em;\n",
       "  border-radius: 0.25em;\n",
       "  color: var(--sklearn-color-text);\n",
       "  /* unfitted */\n",
       "  background-color: var(--sklearn-color-unfitted-level-0);\n",
       "}\n",
       "\n",
       "#sk-container-id-1 div.sk-toggleable__content.fitted pre {\n",
       "  /* unfitted */\n",
       "  background-color: var(--sklearn-color-fitted-level-0);\n",
       "}\n",
       "\n",
       "#sk-container-id-1 input.sk-toggleable__control:checked~div.sk-toggleable__content {\n",
       "  /* Expand drop-down */\n",
       "  max-height: 200px;\n",
       "  max-width: 100%;\n",
       "  overflow: auto;\n",
       "}\n",
       "\n",
       "#sk-container-id-1 input.sk-toggleable__control:checked~label.sk-toggleable__label-arrow:before {\n",
       "  content: \"▾\";\n",
       "}\n",
       "\n",
       "/* Pipeline/ColumnTransformer-specific style */\n",
       "\n",
       "#sk-container-id-1 div.sk-label input.sk-toggleable__control:checked~label.sk-toggleable__label {\n",
       "  color: var(--sklearn-color-text);\n",
       "  background-color: var(--sklearn-color-unfitted-level-2);\n",
       "}\n",
       "\n",
       "#sk-container-id-1 div.sk-label.fitted input.sk-toggleable__control:checked~label.sk-toggleable__label {\n",
       "  background-color: var(--sklearn-color-fitted-level-2);\n",
       "}\n",
       "\n",
       "/* Estimator-specific style */\n",
       "\n",
       "/* Colorize estimator box */\n",
       "#sk-container-id-1 div.sk-estimator input.sk-toggleable__control:checked~label.sk-toggleable__label {\n",
       "  /* unfitted */\n",
       "  background-color: var(--sklearn-color-unfitted-level-2);\n",
       "}\n",
       "\n",
       "#sk-container-id-1 div.sk-estimator.fitted input.sk-toggleable__control:checked~label.sk-toggleable__label {\n",
       "  /* fitted */\n",
       "  background-color: var(--sklearn-color-fitted-level-2);\n",
       "}\n",
       "\n",
       "#sk-container-id-1 div.sk-label label.sk-toggleable__label,\n",
       "#sk-container-id-1 div.sk-label label {\n",
       "  /* The background is the default theme color */\n",
       "  color: var(--sklearn-color-text-on-default-background);\n",
       "}\n",
       "\n",
       "/* On hover, darken the color of the background */\n",
       "#sk-container-id-1 div.sk-label:hover label.sk-toggleable__label {\n",
       "  color: var(--sklearn-color-text);\n",
       "  background-color: var(--sklearn-color-unfitted-level-2);\n",
       "}\n",
       "\n",
       "/* Label box, darken color on hover, fitted */\n",
       "#sk-container-id-1 div.sk-label.fitted:hover label.sk-toggleable__label.fitted {\n",
       "  color: var(--sklearn-color-text);\n",
       "  background-color: var(--sklearn-color-fitted-level-2);\n",
       "}\n",
       "\n",
       "/* Estimator label */\n",
       "\n",
       "#sk-container-id-1 div.sk-label label {\n",
       "  font-family: monospace;\n",
       "  font-weight: bold;\n",
       "  display: inline-block;\n",
       "  line-height: 1.2em;\n",
       "}\n",
       "\n",
       "#sk-container-id-1 div.sk-label-container {\n",
       "  text-align: center;\n",
       "}\n",
       "\n",
       "/* Estimator-specific */\n",
       "#sk-container-id-1 div.sk-estimator {\n",
       "  font-family: monospace;\n",
       "  border: 1px dotted var(--sklearn-color-border-box);\n",
       "  border-radius: 0.25em;\n",
       "  box-sizing: border-box;\n",
       "  margin-bottom: 0.5em;\n",
       "  /* unfitted */\n",
       "  background-color: var(--sklearn-color-unfitted-level-0);\n",
       "}\n",
       "\n",
       "#sk-container-id-1 div.sk-estimator.fitted {\n",
       "  /* fitted */\n",
       "  background-color: var(--sklearn-color-fitted-level-0);\n",
       "}\n",
       "\n",
       "/* on hover */\n",
       "#sk-container-id-1 div.sk-estimator:hover {\n",
       "  /* unfitted */\n",
       "  background-color: var(--sklearn-color-unfitted-level-2);\n",
       "}\n",
       "\n",
       "#sk-container-id-1 div.sk-estimator.fitted:hover {\n",
       "  /* fitted */\n",
       "  background-color: var(--sklearn-color-fitted-level-2);\n",
       "}\n",
       "\n",
       "/* Specification for estimator info (e.g. \"i\" and \"?\") */\n",
       "\n",
       "/* Common style for \"i\" and \"?\" */\n",
       "\n",
       ".sk-estimator-doc-link,\n",
       "a:link.sk-estimator-doc-link,\n",
       "a:visited.sk-estimator-doc-link {\n",
       "  float: right;\n",
       "  font-size: smaller;\n",
       "  line-height: 1em;\n",
       "  font-family: monospace;\n",
       "  background-color: var(--sklearn-color-background);\n",
       "  border-radius: 1em;\n",
       "  height: 1em;\n",
       "  width: 1em;\n",
       "  text-decoration: none !important;\n",
       "  margin-left: 1ex;\n",
       "  /* unfitted */\n",
       "  border: var(--sklearn-color-unfitted-level-1) 1pt solid;\n",
       "  color: var(--sklearn-color-unfitted-level-1);\n",
       "}\n",
       "\n",
       ".sk-estimator-doc-link.fitted,\n",
       "a:link.sk-estimator-doc-link.fitted,\n",
       "a:visited.sk-estimator-doc-link.fitted {\n",
       "  /* fitted */\n",
       "  border: var(--sklearn-color-fitted-level-1) 1pt solid;\n",
       "  color: var(--sklearn-color-fitted-level-1);\n",
       "}\n",
       "\n",
       "/* On hover */\n",
       "div.sk-estimator:hover .sk-estimator-doc-link:hover,\n",
       ".sk-estimator-doc-link:hover,\n",
       "div.sk-label-container:hover .sk-estimator-doc-link:hover,\n",
       ".sk-estimator-doc-link:hover {\n",
       "  /* unfitted */\n",
       "  background-color: var(--sklearn-color-unfitted-level-3);\n",
       "  color: var(--sklearn-color-background);\n",
       "  text-decoration: none;\n",
       "}\n",
       "\n",
       "div.sk-estimator.fitted:hover .sk-estimator-doc-link.fitted:hover,\n",
       ".sk-estimator-doc-link.fitted:hover,\n",
       "div.sk-label-container:hover .sk-estimator-doc-link.fitted:hover,\n",
       ".sk-estimator-doc-link.fitted:hover {\n",
       "  /* fitted */\n",
       "  background-color: var(--sklearn-color-fitted-level-3);\n",
       "  color: var(--sklearn-color-background);\n",
       "  text-decoration: none;\n",
       "}\n",
       "\n",
       "/* Span, style for the box shown on hovering the info icon */\n",
       ".sk-estimator-doc-link span {\n",
       "  display: none;\n",
       "  z-index: 9999;\n",
       "  position: relative;\n",
       "  font-weight: normal;\n",
       "  right: .2ex;\n",
       "  padding: .5ex;\n",
       "  margin: .5ex;\n",
       "  width: min-content;\n",
       "  min-width: 20ex;\n",
       "  max-width: 50ex;\n",
       "  color: var(--sklearn-color-text);\n",
       "  box-shadow: 2pt 2pt 4pt #999;\n",
       "  /* unfitted */\n",
       "  background: var(--sklearn-color-unfitted-level-0);\n",
       "  border: .5pt solid var(--sklearn-color-unfitted-level-3);\n",
       "}\n",
       "\n",
       ".sk-estimator-doc-link.fitted span {\n",
       "  /* fitted */\n",
       "  background: var(--sklearn-color-fitted-level-0);\n",
       "  border: var(--sklearn-color-fitted-level-3);\n",
       "}\n",
       "\n",
       ".sk-estimator-doc-link:hover span {\n",
       "  display: block;\n",
       "}\n",
       "\n",
       "/* \"?\"-specific style due to the `<a>` HTML tag */\n",
       "\n",
       "#sk-container-id-1 a.estimator_doc_link {\n",
       "  float: right;\n",
       "  font-size: 1rem;\n",
       "  line-height: 1em;\n",
       "  font-family: monospace;\n",
       "  background-color: var(--sklearn-color-background);\n",
       "  border-radius: 1rem;\n",
       "  height: 1rem;\n",
       "  width: 1rem;\n",
       "  text-decoration: none;\n",
       "  /* unfitted */\n",
       "  color: var(--sklearn-color-unfitted-level-1);\n",
       "  border: var(--sklearn-color-unfitted-level-1) 1pt solid;\n",
       "}\n",
       "\n",
       "#sk-container-id-1 a.estimator_doc_link.fitted {\n",
       "  /* fitted */\n",
       "  border: var(--sklearn-color-fitted-level-1) 1pt solid;\n",
       "  color: var(--sklearn-color-fitted-level-1);\n",
       "}\n",
       "\n",
       "/* On hover */\n",
       "#sk-container-id-1 a.estimator_doc_link:hover {\n",
       "  /* unfitted */\n",
       "  background-color: var(--sklearn-color-unfitted-level-3);\n",
       "  color: var(--sklearn-color-background);\n",
       "  text-decoration: none;\n",
       "}\n",
       "\n",
       "#sk-container-id-1 a.estimator_doc_link.fitted:hover {\n",
       "  /* fitted */\n",
       "  background-color: var(--sklearn-color-fitted-level-3);\n",
       "}\n",
       "</style><div id=\"sk-container-id-1\" class=\"sk-top-container\"><div class=\"sk-text-repr-fallback\"><pre>LogisticRegression(penalty=None)</pre><b>In a Jupyter environment, please rerun this cell to show the HTML representation or trust the notebook. <br />On GitHub, the HTML representation is unable to render, please try loading this page with nbviewer.org.</b></div><div class=\"sk-container\" hidden><div class=\"sk-item\"><div class=\"sk-estimator fitted sk-toggleable\"><input class=\"sk-toggleable__control sk-hidden--visually\" id=\"sk-estimator-id-1\" type=\"checkbox\" checked><label for=\"sk-estimator-id-1\" class=\"sk-toggleable__label fitted sk-toggleable__label-arrow fitted\">&nbsp;&nbsp;LogisticRegression<a class=\"sk-estimator-doc-link fitted\" rel=\"noreferrer\" target=\"_blank\" href=\"https://scikit-learn.org/1.4/modules/generated/sklearn.linear_model.LogisticRegression.html\">?<span>Documentation for LogisticRegression</span></a><span class=\"sk-estimator-doc-link fitted\">i<span>Fitted</span></span></label><div class=\"sk-toggleable__content fitted\"><pre>LogisticRegression(penalty=None)</pre></div> </div></div></div></div>"
      ],
      "text/plain": [
       "LogisticRegression(penalty=None)"
      ]
     },
     "execution_count": 3,
     "metadata": {},
     "output_type": "execute_result"
    }
   ],
   "source": [
    "# 모델링\n",
    "from sklearn.linear_model import LogisticRegression\n",
    "# 반드시 penalty=None으로 입력할 것, default='l2'\n",
    "model_sk = LogisticRegression(penalty=None)\n",
    "# 실기체험환경 사이킷런 0.24.2버전 : (penalty='none')\n",
    "model_sk.fit(x_train, y_train)"
   ]
  },
  {
   "cell_type": "code",
   "execution_count": 4,
   "id": "cff43170-5b30-4124-9695-42a0615b7adb",
   "metadata": {},
   "outputs": [
    {
     "name": "stdout",
     "output_type": "stream",
     "text": [
      "[[ 2.7284 -0.3799  0.0094]]\n",
      "2.7284\n",
      "-0.3799\n",
      "0.0094\n"
     ]
    }
   ],
   "source": [
    "# 로지스틱회귀분석 관련 지표 출력\n",
    "# 회귀계수 출력 : model.coef_\n",
    "print(np.round(model_sk.coef_, 4))\n",
    "print(np.round(model_sk.coef_[0,0], 4))\n",
    "print(np.round(model_sk.coef_[0,1], 4))\n",
    "print(np.round(model_sk.coef_[0,2], 4))"
   ]
  },
  {
   "cell_type": "code",
   "execution_count": 5,
   "id": "16808974-5593-425f-a63d-600a2ac9a8e6",
   "metadata": {},
   "outputs": [
    {
     "name": "stdout",
     "output_type": "stream",
     "text": [
      "[-1.6815]\n"
     ]
    }
   ],
   "source": [
    "# 회귀계수(절편) : model.intercept_\n",
    "print(np.round(model_sk.intercept_, 4))"
   ]
  },
  {
   "cell_type": "markdown",
   "id": "7fe0912a-6b1f-4e26-8e26-6b30f031cc5b",
   "metadata": {},
   "source": [
    "결과 : ln(P/1-P) = -1.6815 + 2.7284sex - 0.3799sibsp + 0.0094fare"
   ]
  },
  {
   "cell_type": "code",
   "execution_count": 7,
   "id": "59b95dfa-9733-49b2-ad5f-6686f731dcfa",
   "metadata": {},
   "outputs": [
    {
     "name": "stdout",
     "output_type": "stream",
     "text": [
      "0.68\n"
     ]
    }
   ],
   "source": [
    "# 1. odds ratio 구하기\n",
    "#\t로지스틱\t회귀모형에서\tsibsp\t변수가\t한단위\t증가할\t때\t생존할\t오즈가\t몇\t배\t증가?\n",
    "# exp(b2)\n",
    "result = np.exp(model_sk.coef_[0,1])\n",
    "print(round(result, 2))\n",
    "\n",
    "# 해석 : sibsp 변수가 한 단위 증가할 때 생존할 오즈가 0.68배 증가한다.\n",
    "# 생존할 오즈가 32% 감소한다. (생존할 확률이 감소한다)\n",
    "# 답 : odds ratio 는 0.68"
   ]
  },
  {
   "cell_type": "markdown",
   "id": "e562a6c1-e05f-4dea-b412-fc69e83e7d65",
   "metadata": {},
   "source": [
    "(정답) 1. sibsp 변수 odds ratio : 0.68"
   ]
  },
  {
   "cell_type": "code",
   "execution_count": 8,
   "id": "76970e25-9986-48e0-bf51-32bd17f5b289",
   "metadata": {},
   "outputs": [
    {
     "name": "stdout",
     "output_type": "stream",
     "text": [
      "238.5369401214462\n",
      "477.07\n"
     ]
    }
   ],
   "source": [
    "# 2. residual deviance(잔차 이탈도) 구하기\n",
    "# residual deviance = cross entropy(log loss) * 2\n",
    "# (주의 : log_loss() 옵션에 normalize = False 설정할 것!)\n",
    "from sklearn.metrics import log_loss\n",
    "# 얻게 되는 모델의 이탈도 값 구하기\n",
    "y_pred_proba = model_sk.predict_proba(x_train) # 주의 : 확률값을 구해야 함\n",
    "logloss = log_loss(y_train, y_pred_proba, normalize=False)\n",
    "# 'normalize = true' : if true, return the mean loss per sample.\n",
    "# Otherwise, return the sum of the per-sample losses.\n",
    "\n",
    "print(logloss)\n",
    "print(round(logloss*2, 2))"
   ]
  },
  {
   "cell_type": "markdown",
   "id": "5895ff5d-0b7f-4050-a1fd-67ae7d8b704b",
   "metadata": {},
   "source": [
    "(정답) 2. residual deviance : 477.07"
   ]
  },
  {
   "cell_type": "code",
   "execution_count": 9,
   "id": "d58645b4-5bd2-4302-9317-b488095a4a20",
   "metadata": {},
   "outputs": [],
   "source": [
    "# 3. 성능평가(정확도와 오분류율)\n",
    "# 모델을 사용하여 테스트 데이터 예측\n",
    "y_pred = model_sk.predict(x_test)\n",
    "\n",
    "# 모델 성능 평가(accuracy)\n",
    "from sklearn.metrics import accuracy_score\n",
    "acc = accuracy_score(y_test, y_pred)"
   ]
  },
  {
   "cell_type": "code",
   "execution_count": 10,
   "id": "41cac1e1-2379-4e3c-8c0a-cdede496139c",
   "metadata": {},
   "outputs": [
    {
     "name": "stdout",
     "output_type": "stream",
     "text": [
      "0.782608695652174\n",
      "0.22\n"
     ]
    }
   ],
   "source": [
    "# 정확도(Accuracy)\n",
    "print(acc)\n",
    "# 오분류율(1-정확도)\n",
    "print(round(1-acc, 2))"
   ]
  },
  {
   "cell_type": "markdown",
   "id": "ba6fc1ac-cfb9-49b2-9e37-6eb874f63824",
   "metadata": {},
   "source": [
    "(정답) 3. 오분류율 : 0.22"
   ]
  },
  {
   "cell_type": "markdown",
   "id": "3d34005b-2a34-446f-bd62-231aeaf04a28",
   "metadata": {},
   "source": [
    "### 2. statsmodels 라이브러리 사용"
   ]
  },
  {
   "cell_type": "code",
   "execution_count": 11,
   "id": "798813d0-32b8-4b09-bb99-af1e44f942a3",
   "metadata": {},
   "outputs": [
    {
     "name": "stdout",
     "output_type": "stream",
     "text": [
      "Optimization terminated successfully.\n",
      "         Current function value: 0.477074\n",
      "         Iterations 6\n",
      "                           Logit Regression Results                           \n",
      "==============================================================================\n",
      "Dep. Variable:               survived   No. Observations:                  500\n",
      "Model:                          Logit   Df Residuals:                      496\n",
      "Method:                           MLE   Df Model:                            3\n",
      "Date:                Tue, 04 Jun 2024   Pseudo R-squ.:                  0.2847\n",
      "Time:                        13:11:12   Log-Likelihood:                -238.54\n",
      "converged:                       True   LL-Null:                       -333.46\n",
      "Covariance Type:            nonrobust   LLR p-value:                 6.573e-41\n",
      "==============================================================================\n",
      "                 coef    std err          z      P>|z|      [0.025      0.975]\n",
      "------------------------------------------------------------------------------\n",
      "const         -1.6815      0.174     -9.690      0.000      -2.022      -1.341\n",
      "sex            2.7284      0.239     11.423      0.000       2.260       3.197\n",
      "sibsp         -0.3799      0.126     -3.004      0.003      -0.628      -0.132\n",
      "fare           0.0094      0.003      3.236      0.001       0.004       0.015\n",
      "==============================================================================\n"
     ]
    }
   ],
   "source": [
    "# 모델링 (Logit 함수)\n",
    "import statsmodels.api as sm\n",
    "\n",
    "x_train = sm.add_constant(x_train) # 주의 : 상수항 추가해줘야 함\n",
    "model_logit = sm.Logit(y_train, x_train).fit() # 주의할 것 : y,x순으로 입력\n",
    "summary = model_logit.summary()\n",
    "print(summary)"
   ]
  },
  {
   "cell_type": "markdown",
   "id": "3e1dc6cf-f371-416e-ad7a-fd3c57c93046",
   "metadata": {},
   "source": [
    "결과 : ln(P/1-P) = -1.6815 + 2.7284sex - 0.3799sibsp + 0.0094fare (sklearn 결과와 동일)"
   ]
  },
  {
   "cell_type": "code",
   "execution_count": 12,
   "id": "004cd72b-8d51-4f05-bad9-3171e5376f73",
   "metadata": {},
   "outputs": [
    {
     "name": "stdout",
     "output_type": "stream",
     "text": [
      "0.68\n"
     ]
    }
   ],
   "source": [
    "# exp(b2)를 구하면 된다.\n",
    "result = np.exp(-0.3799)\n",
    "print(round(result, 2))"
   ]
  },
  {
   "cell_type": "markdown",
   "id": "abc5f841-fde2-45e5-b66f-71d3a1f050ab",
   "metadata": {},
   "source": [
    "(정답) 1. sibsp변수의 odds ratio : 0.68"
   ]
  },
  {
   "cell_type": "code",
   "execution_count": 13,
   "id": "e16d7fb2-91f4-42f6-946c-e88b8958408b",
   "metadata": {},
   "outputs": [
    {
     "name": "stdout",
     "output_type": "stream",
     "text": [
      "                         Results: Logit\n",
      "=================================================================\n",
      "Model:              Logit            Method:           MLE       \n",
      "Dependent Variable: survived         Pseudo R-squared: 0.285     \n",
      "Date:               2024-06-04 13:21 AIC:              485.0739  \n",
      "No. Observations:   500              BIC:              501.9323  \n",
      "Df Model:           3                Log-Likelihood:   -238.54   \n",
      "Df Residuals:       496              LL-Null:          -333.46   \n",
      "Converged:          1.0000           LLR p-value:      6.5725e-41\n",
      "No. Iterations:     6.0000           Scale:            1.0000    \n",
      "-------------------------------------------------------------------\n",
      "           Coef.    Std.Err.      z      P>|z|     [0.025    0.975]\n",
      "-------------------------------------------------------------------\n",
      "const     -1.6815     0.1735   -9.6899   0.0000   -2.0216   -1.3414\n",
      "sex        2.7284     0.2389   11.4229   0.0000    2.2603    3.1966\n",
      "sibsp     -0.3799     0.1265   -3.0042   0.0027   -0.6278   -0.1321\n",
      "fare       0.0094     0.0029    3.2364   0.0012    0.0037    0.0151\n",
      "=================================================================\n",
      "\n"
     ]
    }
   ],
   "source": [
    "print(model_logit.summary2())"
   ]
  },
  {
   "cell_type": "code",
   "execution_count": 14,
   "id": "2497781c-0741-43c9-8691-6d2693ec68ed",
   "metadata": {},
   "outputs": [
    {
     "name": "stdout",
     "output_type": "stream",
     "text": [
      "477.08\n"
     ]
    }
   ],
   "source": [
    "ce = -238.54*-1 # cross entropy = (-)Log-Likelihood\n",
    "rd = ce*2 # residual deviance = 2 * cross entropy\n",
    "print(rd) # 반올림해서 소수점 둘째 자리가 다름"
   ]
  },
  {
   "cell_type": "markdown",
   "id": "195f0b47-a93b-4d7f-b9ab-d4a294832d87",
   "metadata": {},
   "source": [
    "(정답) 2. residual deviance : 477.08 (주의 : 소수점 둘째 자리가 다름)"
   ]
  },
  {
   "cell_type": "code",
   "execution_count": 15,
   "id": "4afb4c41-21c4-4404-9ca9-936784c6c53b",
   "metadata": {},
   "outputs": [
    {
     "name": "stdout",
     "output_type": "stream",
     "text": [
      "                 Generalized Linear Model Regression Results                  \n",
      "==============================================================================\n",
      "Dep. Variable:               survived   No. Observations:                  500\n",
      "Model:                            GLM   Df Residuals:                      496\n",
      "Model Family:                Binomial   Df Model:                            3\n",
      "Link Function:                  Logit   Scale:                          1.0000\n",
      "Method:                          IRLS   Log-Likelihood:                -238.54\n",
      "Date:                Tue, 04 Jun 2024   Deviance:                       477.07\n",
      "Time:                        14:02:05   Pearson chi2:                     498.\n",
      "No. Iterations:                     5   Pseudo R-squ. (CS):             0.3159\n",
      "Covariance Type:            nonrobust                                         \n",
      "==============================================================================\n",
      "                 coef    std err          z      P>|z|      [0.025      0.975]\n",
      "------------------------------------------------------------------------------\n",
      "const         -1.6815      0.174     -9.690      0.000      -2.022      -1.341\n",
      "sex            2.7284      0.239     11.423      0.000       2.260       3.197\n",
      "sibsp         -0.3799      0.126     -3.004      0.003      -0.628      -0.132\n",
      "fare           0.0094      0.003      3.236      0.001       0.004       0.015\n",
      "==============================================================================\n"
     ]
    }
   ],
   "source": [
    "# 모델링 (GLM 함수)\n",
    "import statsmodels.api as sm\n",
    "\n",
    "x_train = sm.add_constant(x_train)\n",
    "model_glm = sm.GLM(y_train, x_train, family=sm.families.Binomial()).fit()\n",
    "\n",
    "summary = model_glm.summary()\n",
    "print(summary)"
   ]
  },
  {
   "cell_type": "markdown",
   "id": "db1b6eba-5fd2-40bb-b9d4-493db8d7d149",
   "metadata": {},
   "source": [
    "(정답) 2. residual deviance : 477.07"
   ]
  },
  {
   "cell_type": "code",
   "execution_count": 16,
   "id": "67a86701-24ab-4d18-906a-1a69d0c0a17b",
   "metadata": {},
   "outputs": [
    {
     "name": "stdout",
     "output_type": "stream",
     "text": [
      "Optimization terminated successfully.\n",
      "         Current function value: 0.477074\n",
      "         Iterations 6\n",
      "500    0.168002\n",
      "501    0.753984\n",
      "502    0.753773\n",
      "503    0.757183\n",
      "504    0.865585\n",
      "         ...   \n",
      "886    0.173796\n",
      "887    0.790801\n",
      "888    0.708492\n",
      "889    0.198027\n",
      "890    0.166803\n",
      "Length: 391, dtype: float64\n"
     ]
    }
   ],
   "source": [
    "# 성능평가(정확도와 오분류율) - Logit 함수\n",
    "import statsmodels.api as sm\n",
    "\n",
    "x_test = sm.add_constant(x_test) # 주의 : 상수항 추가해줘야 함\n",
    "model_logit = sm.Logit(y_train, x_train).fit()\n",
    "# 모델을 사용하여 테스트 데이터 예측(statsmodels 라이브러리)\n",
    "y_pred_logit = model_logit.predict(x_test)\n",
    "print(y_pred_logit)"
   ]
  },
  {
   "cell_type": "code",
   "execution_count": 17,
   "id": "d8baecca-d403-400f-8286-0fc7d5094b5f",
   "metadata": {},
   "outputs": [
    {
     "name": "stdout",
     "output_type": "stream",
     "text": [
      "[0 1 1 1 1 0 1 0 0 0 0 0 0 1 0 0 1 0 1 0 1 0 0 1 0 0 1 1 0 0 1 0 0 1 1 1 0\n",
      " 1 0 1 1 0 0 0 0 0 1 0 0 0 0 0 0 0 1 0 1 1 1 1 0 0 0 0 1 0 0 1 0 0 0 1 0 1\n",
      " 0 0 1 1 1 0 1 1 0 0 0 1 0 0 0 0 0 1 0 1 0 0 1 0 0 0 1 0 0 0 0 0 0 0 1 1 1\n",
      " 0 1 0 0 1 0 1 1 0 0 0 0 0 0 0 0 1 0 0 0 0 0 0 1 1 0 0 1 0 0 1 1 0 1 0 0 0\n",
      " 0 1 0 1 0 1 1 0 0 1 0 0 0 0 0 0 0 0 0 0 0 1 1 0 0 0 0 0 0 1 1 1 1 0 0 0 0\n",
      " 0 0 0 0 1 0 1 0 0 0 0 0 1 0 0 1 0 1 0 0 0 1 0 1 0 1 0 0 0 0 0 1 1 0 0 1 0\n",
      " 0 0 0 0 1 1 0 1 1 0 0 0 0 0 1 1 0 0 0 0 1 0 0 0 0 1 0 0 1 0 0 0 1 0 0 0 0\n",
      " 1 0 0 0 1 0 1 0 1 0 0 0 0 1 0 1 0 0 1 0 1 1 1 0 0 0 0 1 0 0 0 0 0 0 0 0 0\n",
      " 1 1 0 1 0 1 0 0 0 0 0 1 0 1 0 0 0 0 0 0 1 0 0 0 1 0 0 1 0 0 0 0 0 1 1 0 0\n",
      " 0 0 1 0 0 0 0 0 0 1 0 0 0 0 0 0 1 0 0 1 1 1 1 1 0 1 0 0 0 1 0 0 1 1 0 0 0\n",
      " 0 1 0 0 1 1 0 0 0 1 1 0 1 0 0 1 0 1 1 0 0]\n"
     ]
    }
   ],
   "source": [
    "y_pred_logit_class = np.where(y_pred_logit > 0.5, 1, 0)\n",
    "print(y_pred_logit_class)"
   ]
  },
  {
   "cell_type": "code",
   "execution_count": 18,
   "id": "eab96df1-a986-47a2-9766-a9e23f606fb0",
   "metadata": {},
   "outputs": [],
   "source": [
    "# 모델 성능 평가 (accuracy)\n",
    "from sklearn.metrics import accuracy_score\n",
    "acc_logit = accuracy_score(y_test, y_pred_logit_class)"
   ]
  },
  {
   "cell_type": "code",
   "execution_count": 19,
   "id": "4548667a-6c37-4d12-86d5-df9f5f67b00d",
   "metadata": {},
   "outputs": [
    {
     "name": "stdout",
     "output_type": "stream",
     "text": [
      "0.782608695652174\n",
      "0.22\n"
     ]
    }
   ],
   "source": [
    "# 정확도(Accuracy)\n",
    "print(acc_logit)\n",
    "# 오분류율(1-정확도)\n",
    "print(round(1-acc_logit, 2))"
   ]
  },
  {
   "cell_type": "markdown",
   "id": "5dfd6c73-a500-4f63-9535-8c618456bac3",
   "metadata": {},
   "source": [
    "(정답) 3. 오분류율 : 0.22"
   ]
  },
  {
   "cell_type": "code",
   "execution_count": 20,
   "id": "3f60f938-c56b-47c6-a835-7a38fba5c857",
   "metadata": {},
   "outputs": [
    {
     "name": "stdout",
     "output_type": "stream",
     "text": [
      "500    0.168002\n",
      "501    0.753984\n",
      "502    0.753773\n",
      "503    0.757183\n",
      "504    0.865585\n",
      "         ...   \n",
      "886    0.173796\n",
      "887    0.790801\n",
      "888    0.708492\n",
      "889    0.198027\n",
      "890    0.166803\n",
      "Length: 391, dtype: float64\n"
     ]
    }
   ],
   "source": [
    "# 성능평가(정확도와 오분류율) - GLM 함수\n",
    "import statsmodels.api as sm\n",
    "\n",
    "x_test = sm.add_constant(x_test)\n",
    "model_glm = sm.GLM(y_train, x_train, family=sm.families.Binomial()).fit()\n",
    "y_pred_glm = model_glm.predict(x_test)\n",
    "print(y_pred_glm)"
   ]
  },
  {
   "cell_type": "code",
   "execution_count": 21,
   "id": "91bbc676-5bd9-4286-8205-78c82f84f402",
   "metadata": {},
   "outputs": [
    {
     "name": "stdout",
     "output_type": "stream",
     "text": [
      "[0 1 1 1 1 0 1 0 0 0 0 0 0 1 0 0 1 0 1 0 1 0 0 1 0 0 1 1 0 0 1 0 0 1 1 1 0\n",
      " 1 0 1 1 0 0 0 0 0 1 0 0 0 0 0 0 0 1 0 1 1 1 1 0 0 0 0 1 0 0 1 0 0 0 1 0 1\n",
      " 0 0 1 1 1 0 1 1 0 0 0 1 0 0 0 0 0 1 0 1 0 0 1 0 0 0 1 0 0 0 0 0 0 0 1 1 1\n",
      " 0 1 0 0 1 0 1 1 0 0 0 0 0 0 0 0 1 0 0 0 0 0 0 1 1 0 0 1 0 0 1 1 0 1 0 0 0\n",
      " 0 1 0 1 0 1 1 0 0 1 0 0 0 0 0 0 0 0 0 0 0 1 1 0 0 0 0 0 0 1 1 1 1 0 0 0 0\n",
      " 0 0 0 0 1 0 1 0 0 0 0 0 1 0 0 1 0 1 0 0 0 1 0 1 0 1 0 0 0 0 0 1 1 0 0 1 0\n",
      " 0 0 0 0 1 1 0 1 1 0 0 0 0 0 1 1 0 0 0 0 1 0 0 0 0 1 0 0 1 0 0 0 1 0 0 0 0\n",
      " 1 0 0 0 1 0 1 0 1 0 0 0 0 1 0 1 0 0 1 0 1 1 1 0 0 0 0 1 0 0 0 0 0 0 0 0 0\n",
      " 1 1 0 1 0 1 0 0 0 0 0 1 0 1 0 0 0 0 0 0 1 0 0 0 1 0 0 1 0 0 0 0 0 1 1 0 0\n",
      " 0 0 1 0 0 0 0 0 0 1 0 0 0 0 0 0 1 0 0 1 1 1 1 1 0 1 0 0 0 1 0 0 1 1 0 0 0\n",
      " 0 1 0 0 1 1 0 0 0 1 1 0 1 0 0 1 0 1 1 0 0]\n"
     ]
    }
   ],
   "source": [
    "y_pred_glm_class = np.where(y_pred_glm > 0.5, 1, 0)\n",
    "print(y_pred_glm_class)"
   ]
  },
  {
   "cell_type": "code",
   "execution_count": 22,
   "id": "756c6daf-3593-43ae-9895-0ce20a2046f8",
   "metadata": {},
   "outputs": [],
   "source": [
    "# 모델 성능 평가 (accuracy)\n",
    "from sklearn.metrics import accuracy_score\n",
    "acc_glm = accuracy_score(y_test, y_pred_glm_class)"
   ]
  },
  {
   "cell_type": "code",
   "execution_count": 23,
   "id": "4619931f-1463-46b6-af88-9e7267d9f27e",
   "metadata": {},
   "outputs": [
    {
     "name": "stdout",
     "output_type": "stream",
     "text": [
      "0.782608695652174\n",
      "0.22\n"
     ]
    }
   ],
   "source": [
    "# 정확도(Accuracy)\n",
    "print(acc_glm)\n",
    "# 오분류율(1-정확도)\n",
    "print(round(1-acc_glm, 2))"
   ]
  },
  {
   "cell_type": "markdown",
   "id": "c91291bc-4193-48ad-ac2c-7f9bd07273b0",
   "metadata": {},
   "source": [
    "(정답) 3. 오분류율 : 0.22"
   ]
  },
  {
   "cell_type": "markdown",
   "id": "f167ca95-bc2b-464c-b575-8bec7e2b4a18",
   "metadata": {},
   "source": [
    "### 2. 다중선형회귀분석(15점, 각 소문제당 5점)\n",
    "- 2-1) 특정 변수와 가장 큰 상관관계를 갖는 변수의 상관계수를 구하시오.\n",
    "- 2-2) 다중선형회귀 모델링 후 결정계수(Rsq) 구하기\n",
    "- 2-3) 문제 2-2에서 구한 회귀모델에서 p-value가 가장 큰 변수의 p-value값을 구하시오."
   ]
  },
  {
   "cell_type": "markdown",
   "id": "2db9197f-29b9-4211-a77b-5ce0dc18bc4d",
   "metadata": {},
   "source": [
    "### 예제문제 3유형-2번\n",
    "- 다음은 당뇨병 환자의 질병 진행정도 데이터셋이다.\n",
    "- target을 종속변수(Y), 나머지를 독립변수(X)로 분석했을 때 아래 질문에 답하시오.\n",
    "- (단, 모든 답은 반올림하여 소수점 둘째자리까지 구하시오)\n",
    "- 1. target변수와 가장 큰 상관관계를 갖는 변수의 상관계수를 구하시오.\n",
    "  2. 다중선형회귀 모델링 후 결정계수(R2 score)를 구하시오.\n",
    "  3. 문제 2에서 구한 회귀모델에서 p-value가 가장 큰 변수의 p-value 값을 구하시오."
   ]
  },
  {
   "cell_type": "code",
   "execution_count": 24,
   "id": "1cf8c8ce-18e4-412e-bfc1-a4cda0004d39",
   "metadata": {},
   "outputs": [],
   "source": [
    "###############\t\t실기환경\t복사\t영역\t\t###############\n",
    " #\t데이터\t불러오기\n",
    "import\tpandas\tas\tpd\n",
    "import\tnumpy\tas\tnp\n",
    "#\t실기\t시험\t데이터셋으로\t셋팅하기\t(수정금지)\n",
    "from\tsklearn.datasets\timport\tload_diabetes\n",
    " #\tdiabetes\t데이터셋\t로드\n",
    "diabetes\t=\tload_diabetes()\n",
    "x\t=\tpd.DataFrame(diabetes.data,\tcolumns=diabetes.feature_names)\n",
    "y\t=\tpd.DataFrame(diabetes.target)\n",
    "y.columns\t=\t['target']\n",
    "df = pd.concat([x,y], axis=1)\n",
    " ###############\t\t실기환경\t복사\t영역\t\t###############"
   ]
  },
  {
   "cell_type": "markdown",
   "id": "845223b9-46bf-4935-875c-9984b78cb3b5",
   "metadata": {},
   "source": [
    "- 데이터 정보 :\n",
    "-\tage\t:\tage\tin\tyears\t<br>\n",
    "-\tsex\t\t<br>\n",
    "-\tbmi\t:\tbody\tmass\tindex\t<br>\t\n",
    "-\tbp\t\t:\taverage\tblood\tpressure\t<br>\t\n",
    "-\ts1\t\t:\ttc,\ttotal\tserum\tcholesterol\t<br>\t\n",
    "-\ts2\t\t:\tldl,\tlow-density\tlipoproteins\t<br>\t\n",
    "-\ts3\t\t:\thdl,\thigh-density\tlipoproteins\t<br>\t\n",
    "-\ts4\t\t:\ttch,\ttotal\tcholesterol\t/\tHDL\t\t\t<br>\n",
    "-\ts5\t\t:\tltg,\tpossibly\tlog\tof\tserum\ttriglycerides\tlevel\t<br>\t\n",
    "-\ts6\t\t:\tglu,\tblood\tsugar\tlevel\t<br>"
   ]
  },
  {
   "cell_type": "code",
   "execution_count": 25,
   "id": "fb10d0b2-e353-4c37-ba6a-f22a6f3ad645",
   "metadata": {},
   "outputs": [
    {
     "data": {
      "text/html": [
       "<div>\n",
       "<style scoped>\n",
       "    .dataframe tbody tr th:only-of-type {\n",
       "        vertical-align: middle;\n",
       "    }\n",
       "\n",
       "    .dataframe tbody tr th {\n",
       "        vertical-align: top;\n",
       "    }\n",
       "\n",
       "    .dataframe thead th {\n",
       "        text-align: right;\n",
       "    }\n",
       "</style>\n",
       "<table border=\"1\" class=\"dataframe\">\n",
       "  <thead>\n",
       "    <tr style=\"text-align: right;\">\n",
       "      <th></th>\n",
       "      <th>age</th>\n",
       "      <th>sex</th>\n",
       "      <th>bmi</th>\n",
       "      <th>bp</th>\n",
       "      <th>s1</th>\n",
       "      <th>s2</th>\n",
       "      <th>s3</th>\n",
       "      <th>s4</th>\n",
       "      <th>s5</th>\n",
       "      <th>s6</th>\n",
       "      <th>target</th>\n",
       "    </tr>\n",
       "  </thead>\n",
       "  <tbody>\n",
       "    <tr>\n",
       "      <th>0</th>\n",
       "      <td>0.038076</td>\n",
       "      <td>0.050680</td>\n",
       "      <td>0.061696</td>\n",
       "      <td>0.021872</td>\n",
       "      <td>-0.044223</td>\n",
       "      <td>-0.034821</td>\n",
       "      <td>-0.043401</td>\n",
       "      <td>-0.002592</td>\n",
       "      <td>0.019907</td>\n",
       "      <td>-0.017646</td>\n",
       "      <td>151.0</td>\n",
       "    </tr>\n",
       "    <tr>\n",
       "      <th>1</th>\n",
       "      <td>-0.001882</td>\n",
       "      <td>-0.044642</td>\n",
       "      <td>-0.051474</td>\n",
       "      <td>-0.026328</td>\n",
       "      <td>-0.008449</td>\n",
       "      <td>-0.019163</td>\n",
       "      <td>0.074412</td>\n",
       "      <td>-0.039493</td>\n",
       "      <td>-0.068332</td>\n",
       "      <td>-0.092204</td>\n",
       "      <td>75.0</td>\n",
       "    </tr>\n",
       "    <tr>\n",
       "      <th>2</th>\n",
       "      <td>0.085299</td>\n",
       "      <td>0.050680</td>\n",
       "      <td>0.044451</td>\n",
       "      <td>-0.005670</td>\n",
       "      <td>-0.045599</td>\n",
       "      <td>-0.034194</td>\n",
       "      <td>-0.032356</td>\n",
       "      <td>-0.002592</td>\n",
       "      <td>0.002861</td>\n",
       "      <td>-0.025930</td>\n",
       "      <td>141.0</td>\n",
       "    </tr>\n",
       "    <tr>\n",
       "      <th>3</th>\n",
       "      <td>-0.089063</td>\n",
       "      <td>-0.044642</td>\n",
       "      <td>-0.011595</td>\n",
       "      <td>-0.036656</td>\n",
       "      <td>0.012191</td>\n",
       "      <td>0.024991</td>\n",
       "      <td>-0.036038</td>\n",
       "      <td>0.034309</td>\n",
       "      <td>0.022688</td>\n",
       "      <td>-0.009362</td>\n",
       "      <td>206.0</td>\n",
       "    </tr>\n",
       "    <tr>\n",
       "      <th>4</th>\n",
       "      <td>0.005383</td>\n",
       "      <td>-0.044642</td>\n",
       "      <td>-0.036385</td>\n",
       "      <td>0.021872</td>\n",
       "      <td>0.003935</td>\n",
       "      <td>0.015596</td>\n",
       "      <td>0.008142</td>\n",
       "      <td>-0.002592</td>\n",
       "      <td>-0.031988</td>\n",
       "      <td>-0.046641</td>\n",
       "      <td>135.0</td>\n",
       "    </tr>\n",
       "  </tbody>\n",
       "</table>\n",
       "</div>"
      ],
      "text/plain": [
       "        age       sex       bmi        bp        s1        s2        s3  \\\n",
       "0  0.038076  0.050680  0.061696  0.021872 -0.044223 -0.034821 -0.043401   \n",
       "1 -0.001882 -0.044642 -0.051474 -0.026328 -0.008449 -0.019163  0.074412   \n",
       "2  0.085299  0.050680  0.044451 -0.005670 -0.045599 -0.034194 -0.032356   \n",
       "3 -0.089063 -0.044642 -0.011595 -0.036656  0.012191  0.024991 -0.036038   \n",
       "4  0.005383 -0.044642 -0.036385  0.021872  0.003935  0.015596  0.008142   \n",
       "\n",
       "         s4        s5        s6  target  \n",
       "0 -0.002592  0.019907 -0.017646   151.0  \n",
       "1 -0.039493 -0.068332 -0.092204    75.0  \n",
       "2 -0.002592  0.002861 -0.025930   141.0  \n",
       "3  0.034309  0.022688 -0.009362   206.0  \n",
       "4 -0.002592 -0.031988 -0.046641   135.0  "
      ]
     },
     "execution_count": 25,
     "metadata": {},
     "output_type": "execute_result"
    }
   ],
   "source": [
    "df.head()"
   ]
  },
  {
   "cell_type": "code",
   "execution_count": 26,
   "id": "f9165994-bf1a-4e8b-9e28-ecebd69b455f",
   "metadata": {},
   "outputs": [
    {
     "name": "stdout",
     "output_type": "stream",
     "text": [
      "             age       sex       bmi        bp        s1        s2        s3  \\\n",
      "age     1.000000  0.173737  0.185085  0.335428  0.260061  0.219243 -0.075181   \n",
      "sex     0.173737  1.000000  0.088161  0.241010  0.035277  0.142637 -0.379090   \n",
      "bmi     0.185085  0.088161  1.000000  0.395411  0.249777  0.261170 -0.366811   \n",
      "bp      0.335428  0.241010  0.395411  1.000000  0.242464  0.185548 -0.178762   \n",
      "s1      0.260061  0.035277  0.249777  0.242464  1.000000  0.896663  0.051519   \n",
      "s2      0.219243  0.142637  0.261170  0.185548  0.896663  1.000000 -0.196455   \n",
      "s3     -0.075181 -0.379090 -0.366811 -0.178762  0.051519 -0.196455  1.000000   \n",
      "s4      0.203841  0.332115  0.413807  0.257650  0.542207  0.659817 -0.738493   \n",
      "s5      0.270774  0.149916  0.446157  0.393480  0.515503  0.318357 -0.398577   \n",
      "s6      0.301731  0.208133  0.388680  0.390430  0.325717  0.290600 -0.273697   \n",
      "target  0.187889  0.043062  0.586450  0.441482  0.212022  0.174054 -0.394789   \n",
      "\n",
      "              s4        s5        s6    target  \n",
      "age     0.203841  0.270774  0.301731  0.187889  \n",
      "sex     0.332115  0.149916  0.208133  0.043062  \n",
      "bmi     0.413807  0.446157  0.388680  0.586450  \n",
      "bp      0.257650  0.393480  0.390430  0.441482  \n",
      "s1      0.542207  0.515503  0.325717  0.212022  \n",
      "s2      0.659817  0.318357  0.290600  0.174054  \n",
      "s3     -0.738493 -0.398577 -0.273697 -0.394789  \n",
      "s4      1.000000  0.617859  0.417212  0.430453  \n",
      "s5      0.617859  1.000000  0.464669  0.565883  \n",
      "s6      0.417212  0.464669  1.000000  0.382483  \n",
      "target  0.430453  0.565883  0.382483  1.000000  \n"
     ]
    }
   ],
   "source": [
    "# 1. target 변수와 가장 큰 상관관계를 갖는 변수의 상관계수를 구하시오.\n",
    "print(df.corr())"
   ]
  },
  {
   "cell_type": "code",
   "execution_count": 28,
   "id": "4b91ef3e-3183-4c0f-8566-db612101deaa",
   "metadata": {},
   "outputs": [
    {
     "name": "stdout",
     "output_type": "stream",
     "text": [
      "             age       sex       bmi        bp        s1        s2        s3  \\\n",
      "target  0.187889  0.043062  0.586450  0.441482  0.212022  0.174054  0.394789   \n",
      "bmi     0.185085  0.088161  1.000000  0.395411  0.249777  0.261170  0.366811   \n",
      "s5      0.270774  0.149916  0.446157  0.393480  0.515503  0.318357  0.398577   \n",
      "bp      0.335428  0.241010  0.395411  1.000000  0.242464  0.185548  0.178762   \n",
      "s4      0.203841  0.332115  0.413807  0.257650  0.542207  0.659817  0.738493   \n",
      "s3      0.075181  0.379090  0.366811  0.178762  0.051519  0.196455  1.000000   \n",
      "s6      0.301731  0.208133  0.388680  0.390430  0.325717  0.290600  0.273697   \n",
      "s1      0.260061  0.035277  0.249777  0.242464  1.000000  0.896663  0.051519   \n",
      "age     1.000000  0.173737  0.185085  0.335428  0.260061  0.219243  0.075181   \n",
      "s2      0.219243  0.142637  0.261170  0.185548  0.896663  1.000000  0.196455   \n",
      "sex     0.173737  1.000000  0.088161  0.241010  0.035277  0.142637  0.379090   \n",
      "\n",
      "              s4        s5        s6    target  \n",
      "target  0.430453  0.565883  0.382483  1.000000  \n",
      "bmi     0.413807  0.446157  0.388680  0.586450  \n",
      "s5      0.617859  1.000000  0.464669  0.565883  \n",
      "bp      0.257650  0.393480  0.390430  0.441482  \n",
      "s4      1.000000  0.617859  0.417212  0.430453  \n",
      "s3      0.738493  0.398577  0.273697  0.394789  \n",
      "s6      0.417212  0.464669  1.000000  0.382483  \n",
      "s1      0.542207  0.515503  0.325717  0.212022  \n",
      "age     0.203841  0.270774  0.301731  0.187889  \n",
      "s2      0.659817  0.318357  0.290600  0.174054  \n",
      "sex     0.332115  0.149916  0.208133  0.043062  \n"
     ]
    }
   ],
   "source": [
    "# 값을 절대값으로 변환한 후 내림차순으로 정렬하고\n",
    "# target 변수와 상관계수가 가장 큰 값을 확인한다.\n",
    "df_corr = df.corr()\n",
    "df_abs = df_corr.abs()\n",
    "#print(df_abs)\n",
    "print(df_abs.sort_values('target', ascending=False))"
   ]
  },
  {
   "cell_type": "code",
   "execution_count": 29,
   "id": "246c1039-6252-45c0-a736-9d06072c6a74",
   "metadata": {},
   "outputs": [
    {
     "name": "stdout",
     "output_type": "stream",
     "text": [
      "             age       sex       bmi        bp        s1        s2        s3  \\\n",
      "age     1.000000  0.173737  0.185085  0.335428  0.260061  0.219243 -0.075181   \n",
      "sex     0.173737  1.000000  0.088161  0.241010  0.035277  0.142637 -0.379090   \n",
      "bmi     0.185085  0.088161  1.000000  0.395411  0.249777  0.261170 -0.366811   \n",
      "bp      0.335428  0.241010  0.395411  1.000000  0.242464  0.185548 -0.178762   \n",
      "s1      0.260061  0.035277  0.249777  0.242464  1.000000  0.896663  0.051519   \n",
      "s2      0.219243  0.142637  0.261170  0.185548  0.896663  1.000000 -0.196455   \n",
      "s3     -0.075181 -0.379090 -0.366811 -0.178762  0.051519 -0.196455  1.000000   \n",
      "s4      0.203841  0.332115  0.413807  0.257650  0.542207  0.659817 -0.738493   \n",
      "s5      0.270774  0.149916  0.446157  0.393480  0.515503  0.318357 -0.398577   \n",
      "s6      0.301731  0.208133  0.388680  0.390430  0.325717  0.290600 -0.273697   \n",
      "target  0.187889  0.043062  0.586450  0.441482  0.212022  0.174054 -0.394789   \n",
      "\n",
      "              s4        s5        s6    target  \n",
      "age     0.203841  0.270774  0.301731  0.187889  \n",
      "sex     0.332115  0.149916  0.208133  0.043062  \n",
      "bmi     0.413807  0.446157  0.388680  0.586450  \n",
      "bp      0.257650  0.393480  0.390430  0.441482  \n",
      "s1      0.542207  0.515503  0.325717  0.212022  \n",
      "s2      0.659817  0.318357  0.290600  0.174054  \n",
      "s3     -0.738493 -0.398577 -0.273697 -0.394789  \n",
      "s4      1.000000  0.617859  0.417212  0.430453  \n",
      "s5      0.617859  1.000000  0.464669  0.565883  \n",
      "s6      0.417212  0.464669  1.000000  0.382483  \n",
      "target  0.430453  0.565883  0.382483  1.000000  \n"
     ]
    }
   ],
   "source": [
    "# 가장 상관관계가 큰 변수는 bmi 변수\n",
    "# bmi 변수와 target 변수의 상관계수를 다시 구해보면\n",
    "print(df.corr())"
   ]
  },
  {
   "cell_type": "markdown",
   "id": "fc58c4d6-6618-4d28-8c96-aeb65bac40e3",
   "metadata": {},
   "source": [
    "(정답) 1. target 변수와 가장 큰 상관관계를 갖는 변수의 상관계수 : 0.59"
   ]
  },
  {
   "cell_type": "code",
   "execution_count": 30,
   "id": "6e75532d-49f7-4d06-934e-32c06eb0dd72",
   "metadata": {},
   "outputs": [
    {
     "name": "stdout",
     "output_type": "stream",
     "text": [
      "        age       sex       bmi        bp        s1        s2        s3  \\\n",
      "0  0.038076  0.050680  0.061696  0.021872 -0.044223 -0.034821 -0.043401   \n",
      "1 -0.001882 -0.044642 -0.051474 -0.026328 -0.008449 -0.019163  0.074412   \n",
      "2  0.085299  0.050680  0.044451 -0.005670 -0.045599 -0.034194 -0.032356   \n",
      "3 -0.089063 -0.044642 -0.011595 -0.036656  0.012191  0.024991 -0.036038   \n",
      "4  0.005383 -0.044642 -0.036385  0.021872  0.003935  0.015596  0.008142   \n",
      "\n",
      "         s4        s5        s6  \n",
      "0 -0.002592  0.019907 -0.017646  \n",
      "1 -0.039493 -0.068332 -0.092204  \n",
      "2 -0.002592  0.002861 -0.025930  \n",
      "3  0.034309  0.022688 -0.009362  \n",
      "4 -0.002592 -0.031988 -0.046641  \n",
      "0    151.0\n",
      "1     75.0\n",
      "2    141.0\n",
      "3    206.0\n",
      "4    135.0\n",
      "Name: target, dtype: float64\n"
     ]
    }
   ],
   "source": [
    "# 다중회귀분석 모델링\n",
    "# 독립변수와 종속변수 설정\n",
    "x = df.drop('target', axis=1)\n",
    "y = df['target']\n",
    "print(x.head())\n",
    "print(y.head())"
   ]
  },
  {
   "cell_type": "code",
   "execution_count": 31,
   "id": "45720570-75f7-43b5-8753-2d013c22723a",
   "metadata": {},
   "outputs": [
    {
     "name": "stdout",
     "output_type": "stream",
     "text": [
      "                            OLS Regression Results                            \n",
      "==============================================================================\n",
      "Dep. Variable:                 target   R-squared:                       0.518\n",
      "Model:                            OLS   Adj. R-squared:                  0.507\n",
      "Method:                 Least Squares   F-statistic:                     46.27\n",
      "Date:                Tue, 04 Jun 2024   Prob (F-statistic):           3.83e-62\n",
      "Time:                        14:28:37   Log-Likelihood:                -2386.0\n",
      "No. Observations:                 442   AIC:                             4794.\n",
      "Df Residuals:                     431   BIC:                             4839.\n",
      "Df Model:                          10                                         \n",
      "Covariance Type:            nonrobust                                         \n",
      "==============================================================================\n",
      "                 coef    std err          t      P>|t|      [0.025      0.975]\n",
      "------------------------------------------------------------------------------\n",
      "const        152.1335      2.576     59.061      0.000     147.071     157.196\n",
      "age          -10.0099     59.749     -0.168      0.867    -127.446     107.426\n",
      "sex         -239.8156     61.222     -3.917      0.000    -360.147    -119.484\n",
      "bmi          519.8459     66.533      7.813      0.000     389.076     650.616\n",
      "bp           324.3846     65.422      4.958      0.000     195.799     452.970\n",
      "s1          -792.1756    416.680     -1.901      0.058   -1611.153      26.802\n",
      "s2           476.7390    339.030      1.406      0.160    -189.620    1143.098\n",
      "s3           101.0433    212.531      0.475      0.635    -316.684     518.770\n",
      "s4           177.0632    161.476      1.097      0.273    -140.315     494.441\n",
      "s5           751.2737    171.900      4.370      0.000     413.407    1089.140\n",
      "s6            67.6267     65.984      1.025      0.306     -62.064     197.318\n",
      "==============================================================================\n",
      "Omnibus:                        1.506   Durbin-Watson:                   2.029\n",
      "Prob(Omnibus):                  0.471   Jarque-Bera (JB):                1.404\n",
      "Skew:                           0.017   Prob(JB):                        0.496\n",
      "Kurtosis:                       2.726   Cond. No.                         227.\n",
      "==============================================================================\n",
      "\n",
      "Notes:\n",
      "[1] Standard Errors assume that the covariance matrix of the errors is correctly specified.\n"
     ]
    }
   ],
   "source": [
    "# 모델링\n",
    "import statsmodels.api as sm\n",
    "\n",
    "x = sm.add_constant(x)\n",
    "model = sm.OLS(y,x).fit()\n",
    "summary = model.summary()\n",
    "print(summary)"
   ]
  },
  {
   "cell_type": "markdown",
   "id": "12c62cfa-f03b-4223-bcd6-0ce834558776",
   "metadata": {},
   "source": [
    "(정답) 2. 결정계수(R2 score) : 0.52"
   ]
  },
  {
   "cell_type": "markdown",
   "id": "dba350c5-25af-49ca-9a1d-4911e066242a",
   "metadata": {},
   "source": [
    "(정답) 3. 회귀모델에서 p-value가 가장 큰 변수의 p-value값 : 0.87(age 변수)"
   ]
  }
 ],
 "metadata": {
  "kernelspec": {
   "display_name": "Python 3 (ipykernel)",
   "language": "python",
   "name": "python3"
  },
  "language_info": {
   "codemirror_mode": {
    "name": "ipython",
    "version": 3
   },
   "file_extension": ".py",
   "mimetype": "text/x-python",
   "name": "python",
   "nbconvert_exporter": "python",
   "pygments_lexer": "ipython3",
   "version": "3.12.3"
  }
 },
 "nbformat": 4,
 "nbformat_minor": 5
}
