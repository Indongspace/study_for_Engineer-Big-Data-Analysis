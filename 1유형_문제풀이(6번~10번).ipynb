{
 "cells": [
  {
   "cell_type": "code",
   "execution_count": 5,
   "id": "67134e28-4177-4f04-8e4b-b0c83b87e525",
   "metadata": {},
   "outputs": [
    {
     "name": "stdout",
     "output_type": "stream",
     "text": [
      "20\n"
     ]
    }
   ],
   "source": [
    " #\t문제\t6\n",
    " #\t첫번째\t행부터\t순서대로\t10개\t뽑은\t후\tmpg\t열의\t평균값을\t반올림하여\t정수로\t출력하시오.\t\n",
    "import pandas as pd\n",
    "import numpy as np\n",
    "df = pd.read_csv('mtcars.csv')\n",
    "df_10 = df.head(10)\n",
    "print(int(round(df_10['mpg'].mean())))"
   ]
  },
  {
   "cell_type": "code",
   "execution_count": 7,
   "id": "ccab0443-3c7e-4132-be68-fa8df5b1d4ab",
   "metadata": {},
   "outputs": [
    {
     "name": "stdout",
     "output_type": "stream",
     "text": [
      "20\n"
     ]
    }
   ],
   "source": [
    "# 강의 풀이\n",
    "df10 = df[:10]\n",
    "mean10 = df10['mpg'].mean()\n",
    "print(round(mean10))"
   ]
  },
  {
   "cell_type": "code",
   "execution_count": 10,
   "id": "65a2509d-a866-4dc3-8e30-e4bbe2c3cda0",
   "metadata": {},
   "outputs": [
    {
     "name": "stdout",
     "output_type": "stream",
     "text": [
      "3.44\n"
     ]
    }
   ],
   "source": [
    " #\t문제\t7\n",
    " #\t첫번째\t행부터\t순서대로\t50%까지\t데이터를\t뽑아\twt\t변수의\t중앙값을\t구하시오.\n",
    "len_total = len(df)\n",
    "len_50 = round(len(df)/2)\n",
    "df_50 = df.head(len_50)\n",
    "result = df_50['wt'].median()\n",
    "print(result)"
   ]
  },
  {
   "cell_type": "code",
   "execution_count": 12,
   "id": "8390c630-417c-4881-8e9b-d8227a2aabc7",
   "metadata": {},
   "outputs": [
    {
     "name": "stdout",
     "output_type": "stream",
     "text": [
      "3.44\n"
     ]
    }
   ],
   "source": [
    "# 강의 풀이\n",
    "p50 = int(len(df)*0.5)\n",
    "df50 = df[:p50]\n",
    "print(df50['wt'].median()) # => .quantile(0.50)"
   ]
  },
  {
   "cell_type": "code",
   "execution_count": 20,
   "id": "e5726bbc-c2e9-4c55-ba12-f5eaa95acc88",
   "metadata": {},
   "outputs": [
    {
     "name": "stdout",
     "output_type": "stream",
     "text": [
      "5\n"
     ]
    }
   ],
   "source": [
    " #\t문제\t8\t\n",
    "#\t결측값이\t있는\t데이터의\t수를\t출력하시오.\t\n",
    "#\t데이터\t생성(수정금지)\n",
    " df = pd.DataFrame( {\n",
    "    '날짜': ['20220103','20220105', None,'20230127','20220203', '20220205','20230210','20230223','20230312','20230422','20220505','20230511'],\n",
    "    '제품' : ['A','B', None, 'B', 'A', None,'A', 'B', 'A', 'B', 'A', 'A'],\n",
    "    '판매수': [3, None, 5, 10, 10, 10, 15, 15, 20, None, 30, 40], \n",
    "    '개당수익': [300, 400, 500, 600, 400, 500, 500, 600, 600, 700, 600, 600] })\n",
    "print(sum(df.isnull().sum()))"
   ]
  },
  {
   "cell_type": "code",
   "execution_count": 21,
   "id": "24459099-ffa2-416e-bdc6-fd60d71611ac",
   "metadata": {},
   "outputs": [
    {
     "name": "stdout",
     "output_type": "stream",
     "text": [
      "5\n"
     ]
    }
   ],
   "source": [
    "# 강의 풀이\n",
    "missing = df.isnull().sum()\n",
    "print(missing.sum())"
   ]
  },
  {
   "cell_type": "code",
   "execution_count": 22,
   "id": "63c3307e-05de-46ad-867b-275d6725ba69",
   "metadata": {},
   "outputs": [
    {
     "name": "stdout",
     "output_type": "stream",
     "text": [
      "15\n"
     ]
    }
   ],
   "source": [
    " #\t문제\t9\n",
    " #\t'판매수'\t컬럼의\t결측값을\t판매수의\t중앙값으로\t대체하고\t\n",
    "#\t\t판매수의\t평균값을\t반올림하여\t정수로\t출력하시오.\t\n",
    "#\t데이터\t생성(수정금지)\n",
    " df = pd.DataFrame( {\n",
    "    '날짜': ['20220103','20220105', None,'20230127','20220203', '20220205','20230210','20230223','20230312','20230422','20220505','20230511'],\n",
    "    '제품' : ['A','B', None, 'B', 'A', None,'A', 'B', 'A', 'B', 'A', 'A'],\n",
    "    '판매수': [3, None, 5, 10, 10, 10, 15, 15, 20, None, 30, 40], \n",
    "    '개당수익': [300, 400, 500, 600, 400, 500, 500, 600, 600, 700, 600, 600] })\n",
    "df['판매수'] = df['판매수'].fillna(df['판매수'].median())\n",
    "print(round(df['판매수'].mean()))"
   ]
  },
  {
   "cell_type": "code",
   "execution_count": 23,
   "id": "5e1893d8-b0f4-48df-9aad-347ed25bc624",
   "metadata": {},
   "outputs": [
    {
     "name": "stdout",
     "output_type": "stream",
     "text": [
      "15\n"
     ]
    }
   ],
   "source": [
    "# 강의 풀이\n",
    "Q2 = df['판매수'].median()\n",
    "df['판매수'] = df['판매수'].fillna(Q2)\n",
    "mean = df['판매수'].mean()\n",
    "print(round(mean))"
   ]
  },
  {
   "cell_type": "code",
   "execution_count": 37,
   "id": "2212af09-6b3f-40fe-a533-bc7ed6762e37",
   "metadata": {},
   "outputs": [
    {
     "name": "stdout",
     "output_type": "stream",
     "text": [
      "5\n"
     ]
    }
   ],
   "source": [
    " #\t문제\t10\n",
    " #\t판매수\t컬럼에\t결측치가\t있는\t행을\t제거하고,\n",
    " #\t첫번째\t행부터\t순서대로\t50%까지의\t데이터를\t추출하여\n",
    "#\t판매수\t변수의\tQ1(제1사분위수)값을\t반올림하여\t정수로\t출력하시오.\t\n",
    "#\t데이터\t(수정금지)\n",
    " df = pd.DataFrame( {\n",
    "    '날짜': ['20220103','20220105', None,'20230127','20220203', '20220205','20230210','20230223','20230312','20230422','20220505','20230511'],\n",
    "    '제품' : ['A','B', None, 'B', 'A', None,'A', 'B', 'A', 'B', 'A', 'A'],\n",
    "    '판매수': [3, None, 5, 10, 10, 10, 15, 15, 20, None, 30, 40], \n",
    "    '개당수익': [300, 400, 500, 600, 400, 500, 500, 600, 600, 700, 600, 600] })\n",
    "df = df['판매수'].dropna()\n",
    "len_50 = round(len(df)*0.5)\n",
    "df_50 = df.head(len_50)\n",
    "Q1 = df_50.quantile(0.25)\n",
    "print(round(Q1))"
   ]
  },
  {
   "cell_type": "code",
   "execution_count": 38,
   "id": "eadc4847-259f-40c3-a646-f24ca20f684e",
   "metadata": {},
   "outputs": [
    {
     "name": "stdout",
     "output_type": "stream",
     "text": [
      "5\n"
     ]
    }
   ],
   "source": [
    "# 강의 풀이\n",
    "df = pd.DataFrame( {\n",
    "    '날짜': ['20220103','20220105', None,'20230127','20220203', '20220205','20230210','20230223','20230312','20230422','20220505','20230511'],\n",
    "    '제품' : ['A','B', None, 'B', 'A', None,'A', 'B', 'A', 'B', 'A', 'A'],\n",
    "    '판매수': [3, None, 5, 10, 10, 10, 15, 15, 20, None, 30, 40], \n",
    "    '개당수익': [300, 400, 500, 600, 400, 500, 500, 600, 600, 700, 600, 600] })\n",
    "df = df['판매수'].dropna()\n",
    "per50 = int(len(df)*0.5)\n",
    "df = df[:per50]\n",
    "print(round(df.quantile(0.25)))"
   ]
  }
 ],
 "metadata": {
  "kernelspec": {
   "display_name": "Python 3 (ipykernel)",
   "language": "python",
   "name": "python3"
  },
  "language_info": {
   "codemirror_mode": {
    "name": "ipython",
    "version": 3
   },
   "file_extension": ".py",
   "mimetype": "text/x-python",
   "name": "python",
   "nbconvert_exporter": "python",
   "pygments_lexer": "ipython3",
   "version": "3.12.3"
  }
 },
 "nbformat": 4,
 "nbformat_minor": 5
}
