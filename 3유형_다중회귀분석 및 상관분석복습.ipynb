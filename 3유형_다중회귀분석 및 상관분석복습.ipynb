{
 "cells": [
  {
   "cell_type": "markdown",
   "id": "a006f16d-6f37-4851-865d-70bf8a37e944",
   "metadata": {},
   "source": [
    "### 당뇨병 환자의 질병 진행정도 데이터셋"
   ]
  },
  {
   "cell_type": "code",
   "execution_count": 1,
   "id": "4abec9f2-7090-4d72-98ef-8fa413365f6e",
   "metadata": {},
   "outputs": [],
   "source": [
    "###############\t\t실기환경\t복사\t영역\t\t###############\n",
    " #\t데이터\t불러오기\n",
    "import\tpandas\tas\tpd\n",
    "import\tnumpy\tas\tnp\n",
    "#\t실기\t시험\t데이터셋으로\t셋팅하기\t(수정금지)\n",
    "from\tsklearn.datasets\timport\tload_diabetes\n",
    " #\tdiabetes\t데이터셋\t로드\n",
    "diabetes\t=\tload_diabetes()\n",
    "x\t=\tpd.DataFrame(diabetes.data,\tcolumns=diabetes.feature_names)\n",
    "y\t=\tpd.DataFrame(diabetes.target)\n",
    "y.columns\t=\t['target']\n",
    " ###############\t\t실기환경\t복사\t영역\t\t###############"
   ]
  },
  {
   "cell_type": "code",
   "execution_count": 2,
   "id": "7fc4c051-b99f-4cdd-b28c-c3ade0063f07",
   "metadata": {},
   "outputs": [
    {
     "name": "stdout",
     "output_type": "stream",
     "text": [
      "0.35\n",
      "[[138.9  -36.14 926.91]]\n",
      "138.9\n",
      "-36.14\n",
      "926.91\n",
      "[152.13]\n"
     ]
    }
   ],
   "source": [
    "from sklearn.linear_model import LinearRegression\n",
    "\n",
    "x = x[['age','sex','bmi']]\n",
    "\n",
    "model = LinearRegression()\n",
    "model.fit(x,y)\n",
    "\n",
    "print(round(model.score(x,y), 2))\n",
    "print(np.round(model.coef_, 2))\n",
    "print(np.round(model.coef_[0,0], 2))\n",
    "print(np.round(model.coef_[0,1], 2))\n",
    "print(np.round(model.coef_[0,2], 2))\n",
    "print(np.round(model.intercept_, 2))"
   ]
  },
  {
   "cell_type": "code",
   "execution_count": 3,
   "id": "e7e763cd-b812-47bc-88b0-a580e865a839",
   "metadata": {},
   "outputs": [],
   "source": [
    "# y = 152.13 + 138.9age - 36.14sex + 926.91bmi"
   ]
  },
  {
   "cell_type": "code",
   "execution_count": 4,
   "id": "a0636336-d2f8-451a-9d53-c5574700c16d",
   "metadata": {},
   "outputs": [],
   "source": [
    "###############\t\t실기환경\t복사\t영역\t\t###############\n",
    " #\t데이터\t불러오기\n",
    "import\tpandas\tas\tpd\n",
    "import\tnumpy\tas\tnp\n",
    "#\t실기\t시험\t데이터셋으로\t셋팅하기\t(수정금지)\n",
    "from\tsklearn.datasets\timport\tload_diabetes\n",
    " #\tdiabetes\t데이터셋\t로드\n",
    "diabetes\t=\tload_diabetes()\n",
    "x\t=\tpd.DataFrame(diabetes.data,\tcolumns=diabetes.feature_names)\n",
    "y\t=\tpd.DataFrame(diabetes.target)\n",
    "y.columns\t=\t['target']\n",
    " ###############\t\t실기환경\t복사\t영역\t\t###############"
   ]
  },
  {
   "cell_type": "code",
   "execution_count": 5,
   "id": "feb84a8a-cc89-4e24-9c41-42d2874c2a8e",
   "metadata": {},
   "outputs": [
    {
     "name": "stdout",
     "output_type": "stream",
     "text": [
      "                            OLS Regression Results                            \n",
      "==============================================================================\n",
      "Dep. Variable:                 target   R-squared:                       0.351\n",
      "Model:                            OLS   Adj. R-squared:                  0.346\n",
      "Method:                 Least Squares   F-statistic:                     78.94\n",
      "Date:                Mon, 27 May 2024   Prob (F-statistic):           7.77e-41\n",
      "Time:                        13:31:25   Log-Likelihood:                -2451.6\n",
      "No. Observations:                 442   AIC:                             4911.\n",
      "Df Residuals:                     438   BIC:                             4928.\n",
      "Df Model:                           3                                         \n",
      "Covariance Type:            nonrobust                                         \n",
      "==============================================================================\n",
      "                 coef    std err          t      P>|t|      [0.025      0.975]\n",
      "------------------------------------------------------------------------------\n",
      "const        152.1335      2.964     51.321      0.000     146.307     157.960\n",
      "age          138.9039     64.254      2.162      0.031      12.618     265.189\n",
      "sex          -36.1353     63.391     -0.570      0.569    -160.724      88.453\n",
      "bmi          926.9120     63.525     14.591      0.000     802.061    1051.763\n",
      "==============================================================================\n",
      "Omnibus:                       14.687   Durbin-Watson:                   1.851\n",
      "Prob(Omnibus):                  0.001   Jarque-Bera (JB):                8.290\n",
      "Skew:                           0.150   Prob(JB):                       0.0158\n",
      "Kurtosis:                       2.400   Cond. No.                         23.7\n",
      "==============================================================================\n",
      "\n",
      "Notes:\n",
      "[1] Standard Errors assume that the covariance matrix of the errors is correctly specified.\n"
     ]
    }
   ],
   "source": [
    "import statsmodels.api as sm\n",
    "\n",
    "x = x[['age','sex','bmi']]\n",
    "\n",
    "x = sm.add_constant(x)\n",
    "\n",
    "model = sm.OLS(y,x).fit()\n",
    "\n",
    "summary = model.summary()\n",
    "\n",
    "print(summary)"
   ]
  },
  {
   "cell_type": "code",
   "execution_count": 6,
   "id": "0442e331-a15d-4c80-8992-ec4ddc452b1f",
   "metadata": {},
   "outputs": [],
   "source": [
    "# 결정계수 0.351\n",
    "# 절편 152.1335\n",
    "# age계수 138.9039\n",
    "# sex계수 -36.1353\n",
    "# bmi계수 926.9120 "
   ]
  },
  {
   "cell_type": "code",
   "execution_count": 7,
   "id": "7826c7d1-cb6b-415b-9d10-f7eaa87a6168",
   "metadata": {},
   "outputs": [
    {
     "name": "stdout",
     "output_type": "stream",
     "text": [
      "0.59\n",
      "0.0\n",
      "15.19\n"
     ]
    }
   ],
   "source": [
    "x = x['bmi']\n",
    "y = y['target']\n",
    "\n",
    "from scipy.stats import pearsonr\n",
    "# 1. 가설설정\n",
    "# H0 : p=0 상관계수가 0이다. 두 변수의 선형관계는 없다.\n",
    "# H1 : p!=0 상관계수가 0이 아니다. 두 변수의 선형관계가 있다.\n",
    "\n",
    "# 2. 유의수준 확인\n",
    "# 유의수준 5%\n",
    "\n",
    "# 3. 검정 실시\n",
    "r, pvalue = pearsonr(x,y)\n",
    "print(round(r, 2))\n",
    "print(round(pvalue, 2))\n",
    "n = len(x)\n",
    "statistic = r*((n-2)**0.5) / ((1-r**2)**0.5)\n",
    "\n",
    "print(round(statistic, 2))\n",
    "\n",
    "# 4. 귀무가설 기각여부 결정(채택/기각)"
   ]
  },
  {
   "cell_type": "code",
   "execution_count": 8,
   "id": "c58fe1ef-d40c-4ffc-b51c-65658a20e6c0",
   "metadata": {},
   "outputs": [],
   "source": [
    "# 유의수준 0.05보다 pvalue 가 작으므로 귀무가설 기각. 대립가설 채택. 두 변수의 선형관계가 있다. "
   ]
  }
 ],
 "metadata": {
  "kernelspec": {
   "display_name": "Python 3 (ipykernel)",
   "language": "python",
   "name": "python3"
  },
  "language_info": {
   "codemirror_mode": {
    "name": "ipython",
    "version": 3
   },
   "file_extension": ".py",
   "mimetype": "text/x-python",
   "name": "python",
   "nbconvert_exporter": "python",
   "pygments_lexer": "ipython3",
   "version": "3.12.3"
  }
 },
 "nbformat": 4,
 "nbformat_minor": 5
}
