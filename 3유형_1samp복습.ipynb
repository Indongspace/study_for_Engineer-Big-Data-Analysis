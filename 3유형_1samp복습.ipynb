{
 "cells": [
  {
   "cell_type": "code",
   "execution_count": 1,
   "id": "c2a08343-2021-4787-9cec-862e07d48c7d",
   "metadata": {},
   "outputs": [
    {
     "data": {
      "text/html": [
       "<div>\n",
       "<style scoped>\n",
       "    .dataframe tbody tr th:only-of-type {\n",
       "        vertical-align: middle;\n",
       "    }\n",
       "\n",
       "    .dataframe tbody tr th {\n",
       "        vertical-align: top;\n",
       "    }\n",
       "\n",
       "    .dataframe thead th {\n",
       "        text-align: right;\n",
       "    }\n",
       "</style>\n",
       "<table border=\"1\" class=\"dataframe\">\n",
       "  <thead>\n",
       "    <tr style=\"text-align: right;\">\n",
       "      <th></th>\n",
       "      <th>car</th>\n",
       "      <th>mpg</th>\n",
       "      <th>cyl</th>\n",
       "      <th>disp</th>\n",
       "      <th>hp</th>\n",
       "      <th>drat</th>\n",
       "      <th>wt</th>\n",
       "      <th>qsec</th>\n",
       "      <th>vs</th>\n",
       "      <th>am</th>\n",
       "      <th>gear</th>\n",
       "      <th>carb</th>\n",
       "    </tr>\n",
       "  </thead>\n",
       "  <tbody>\n",
       "    <tr>\n",
       "      <th>0</th>\n",
       "      <td>Mazda RX4</td>\n",
       "      <td>21.0</td>\n",
       "      <td>6</td>\n",
       "      <td>160.0</td>\n",
       "      <td>110</td>\n",
       "      <td>3.90</td>\n",
       "      <td>2.620</td>\n",
       "      <td>16.46</td>\n",
       "      <td>0</td>\n",
       "      <td>1</td>\n",
       "      <td>4</td>\n",
       "      <td>4</td>\n",
       "    </tr>\n",
       "    <tr>\n",
       "      <th>1</th>\n",
       "      <td>Mazda RX4 Wag</td>\n",
       "      <td>21.0</td>\n",
       "      <td>6</td>\n",
       "      <td>160.0</td>\n",
       "      <td>110</td>\n",
       "      <td>3.90</td>\n",
       "      <td>2.875</td>\n",
       "      <td>17.02</td>\n",
       "      <td>0</td>\n",
       "      <td>1</td>\n",
       "      <td>4</td>\n",
       "      <td>4</td>\n",
       "    </tr>\n",
       "    <tr>\n",
       "      <th>2</th>\n",
       "      <td>Datsun 710</td>\n",
       "      <td>22.8</td>\n",
       "      <td>4</td>\n",
       "      <td>108.0</td>\n",
       "      <td>93</td>\n",
       "      <td>3.85</td>\n",
       "      <td>2.320</td>\n",
       "      <td>18.61</td>\n",
       "      <td>1</td>\n",
       "      <td>1</td>\n",
       "      <td>4</td>\n",
       "      <td>1</td>\n",
       "    </tr>\n",
       "  </tbody>\n",
       "</table>\n",
       "</div>"
      ],
      "text/plain": [
       "             car   mpg  cyl   disp   hp  drat     wt   qsec  vs  am  gear  \\\n",
       "0      Mazda RX4  21.0    6  160.0  110  3.90  2.620  16.46   0   1     4   \n",
       "1  Mazda RX4 Wag  21.0    6  160.0  110  3.90  2.875  17.02   0   1     4   \n",
       "2     Datsun 710  22.8    4  108.0   93  3.85  2.320  18.61   1   1     4   \n",
       "\n",
       "   carb  \n",
       "0     4  \n",
       "1     4  \n",
       "2     1  "
      ]
     },
     "execution_count": 1,
     "metadata": {},
     "output_type": "execute_result"
    }
   ],
   "source": [
    "import pandas as pd\n",
    "import numpy as np\n",
    "df = pd.read_csv('mtcars.csv')\n",
    "df.head(3)"
   ]
  },
  {
   "cell_type": "markdown",
   "id": "677d8c78-601c-4db5-9a60-620d25c3aec2",
   "metadata": {},
   "source": [
    "## 1.mtcars\t데이터셋의\tmpg열\t데이터의\t평균이\t20과\t같다고\t할\t수\t있는지\t검정하시오.\n",
    "## (유의수준 \n",
    "5%)"
   ]
  },
  {
   "cell_type": "code",
   "execution_count": 7,
   "id": "55f58a55-5ef7-4cca-a787-154556963034",
   "metadata": {},
   "outputs": [
    {
     "name": "stdout",
     "output_type": "stream",
     "text": [
      "0.0851 0.9328\n"
     ]
    }
   ],
   "source": [
    "import scipy.stats as stats\n",
    "from scipy.stats import shapiro\n",
    "\n",
    "# 1. 가설설정\n",
    "# H0 : mpg열 데이터의 평균 = 20\n",
    "# H1 : mpg열 데이터의 평균 != 20\n",
    "\n",
    "# 2. 유의수준 확인\n",
    "# 유의수준 5%\n",
    "\n",
    "# 3. 정규성 검정\n",
    "# H0 : 정규분포를 따른다.\n",
    "# H1 : 정규분포를 따르지 않는다.\n",
    "# statistic, pvalue = stats.shapiro(df['mpg'])\n",
    "# print(round(statistic, 4), round(pvalue, 4))\n",
    "# pvalue가 유의수준보다 크므로 정규성을 따른다.\n",
    "\n",
    "# 4. 검정 실시\n",
    "statistic, pvalue = stats.ttest_1samp(df['mpg'], popmean=20, alternative='two-sided')\n",
    "print(round(statistic, 4), round(pvalue, 4))\n",
    "# statistic, pvalue = stats.wilcoxon(df['mpg']-20, alternative='two-sided')\n",
    "# print(round(statistic, 4), round(pvalue, 4))\n",
    "\n",
    "# 5. 귀무가설 기각여부 결정(채택/기각)\n",
    "# 유의수준 0.05보다 pvalue 가 크므로 귀무가설 채택. mpg열 데이터의 평균은 20이라고 할 수 있다."
   ]
  },
  {
   "cell_type": "markdown",
   "id": "a0e9792a-411e-4860-b42c-a3a499695a99",
   "metadata": {},
   "source": [
    "## 2.\tmtcars\t데이터셋의\tmpg열\t데이터의\t평균이\t17보다\t크다고\t할\t수\t있는지\t검정하시오.\n",
    "## (유의수\n",
    "\t5%)"
   ]
  },
  {
   "cell_type": "code",
   "execution_count": 13,
   "id": "f8ab550b-d3ce-478d-bad8-560b70f616c1",
   "metadata": {},
   "outputs": [
    {
     "name": "stdout",
     "output_type": "stream",
     "text": [
      "2.9008 0.0034\n"
     ]
    }
   ],
   "source": [
    "import scipy.stats as stats\n",
    "from scipy.stats import shapiro\n",
    "# 1. 가설설정\n",
    "# H0 : mpg열 데이터의 평균 <= 17\n",
    "# H1 : mpg열 데이터의 평균 > 17\n",
    "\n",
    "# 2. 유의수준 확인\n",
    "# 유의수준 5%\n",
    "\n",
    "# 3. 정규성 검정\n",
    "# H0 : 정규분포를 따른다.\n",
    "# H1 : 정규분포를 따르지 않는다.\n",
    "# statistic, pvalue = stats.shapiro(df['mpg'])\n",
    "# print(round(statistic, 4), round(pvalue, 4))\n",
    "# 귀무가설 채택. 정규분포를 따른다.\n",
    "\n",
    "# 4. 검정 실시\n",
    "statistic, pvalue = stats.ttest_1samp(df['mpg'], popmean=17, alternative='greater')\n",
    "print(round(statistic, 4), round(pvalue, 4))\n",
    "# statistic, pvalue = stats.wilcoxon(df['mpg']-17, alternative='greater')\n",
    "# print(round(statistic, 4), round(pvalue, 4))\n",
    "\n",
    "# 5. 귀무가설 기각여부 결정(채택/기각)\n",
    "# 유의수준 0.05보다 pvalue 가 작으므로 귀무가설 기각. 대립가설 채택. mpg열 데이터의 평균은 17보다 크다고 할 수 있다."
   ]
  },
  {
   "cell_type": "markdown",
   "id": "9a971ddb-2890-45ea-8f08-3808a49bf448",
   "metadata": {},
   "source": [
    "## 3.\tmtcars\t데이터셋의\tmpg열\t데이터의\t평균이\t17보다\t작다고\t할\t수\t있는지\t검정하시오.(유의수\r\n",
    "준\t5%)"
   ]
  },
  {
   "cell_type": "code",
   "execution_count": 18,
   "id": "4f5d35f7-62d9-4f4f-a145-d33c159cf9c7",
   "metadata": {},
   "outputs": [
    {
     "name": "stdout",
     "output_type": "stream",
     "text": [
      "2.9008 0.9966\n"
     ]
    }
   ],
   "source": [
    "import scipy.stats as stats\n",
    "from scipy.stats import shapiro\n",
    "\n",
    "# 1. 가설설정\n",
    "# H0 : mpg열 데이터의 평균 >= 17\n",
    "# H1 : mpg열 데이터의 평균 < 17\n",
    "\n",
    "# 2. 유의수준 확인\n",
    "# 유의수준 5%\n",
    "\n",
    "# 3. 정규성 검정\n",
    "# statistic, pvalue = stats.shapiro(df['mpg'])\n",
    "# print(round(statistic, 4), round(pvalue, 4))\n",
    "# 귀무가설 채택. 정규분포를 따른다.\n",
    "\n",
    "# 4. 검정 실시\n",
    "statistic, pvalue = stats.ttest_1samp(df['mpg'], popmean=17, alternative='less')\n",
    "print(round(statistic, 4), round(pvalue, 4))\n",
    "# statistic, pvalue = stats.wilcoxon(df['mpg']-17, alternative='less')\n",
    "# print(round(statistic, 4), round(pvalue, 4))\n",
    "\n",
    "# 5. 귀무가설 기각여부 결정(채택/기각)\n",
    "# 유의수준 0.05보다 pvalue가 크므로 귀무가설 채택. mpg열 데이터의 평균은 17보다 크거나 같다."
   ]
  }
 ],
 "metadata": {
  "kernelspec": {
   "display_name": "Python 3 (ipykernel)",
   "language": "python",
   "name": "python3"
  },
  "language_info": {
   "codemirror_mode": {
    "name": "ipython",
    "version": 3
   },
   "file_extension": ".py",
   "mimetype": "text/x-python",
   "name": "python",
   "nbconvert_exporter": "python",
   "pygments_lexer": "ipython3",
   "version": "3.12.3"
  }
 },
 "nbformat": 4,
 "nbformat_minor": 5
}
