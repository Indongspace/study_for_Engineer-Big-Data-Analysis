{
 "cells": [
  {
   "cell_type": "markdown",
   "id": "1d7a7756-3f1e-47eb-b15a-19bcdc3482b8",
   "metadata": {},
   "source": [
    "- 문제 1-1.\n",
    "- 다음은 mtcars 데이터셋이다.\n",
    "- am, gear 컬럼 값 조합에 따라 아래와 같이 3개의 그룹으로 나뉜다고 할 때\n",
    "- 3개 그룹의 mpg 표준편차를 구해 max값, min값을 확인하여\n",
    "- 표준편차의 범위(range)값을 구하시오.\n",
    "- (단, 정답은 반올림하여 소수점 첫째자리까지 구하시오.)\n",
    "- \n",
    "- 3개 그룹 : A그룹(am:1, gear:4), B그룹(am:0, gear:3), C그룹(am:0, gear:4)"
   ]
  },
  {
   "cell_type": "code",
   "execution_count": 76,
   "id": "9cb589bb-4922-4482-a9bb-419fba24e119",
   "metadata": {},
   "outputs": [
    {
     "name": "stdout",
     "output_type": "stream",
     "text": [
      "2.3\n"
     ]
    }
   ],
   "source": [
    "import pandas as pd\n",
    "import numpy as np\n",
    "df = pd.read_csv('mtcars.csv')\n",
    "#print(df.head(3))\n",
    "A = df[(df['am']==1)&(df['gear']==4)]\n",
    "B = df[(df['am']==0)&(df['gear']==3)]\n",
    "C = df[(df['am']==0)&(df['gear']==4)]\n",
    "# print(A)\n",
    "# print(B)\n",
    "# print(C)\n",
    "A_std = A['mpg'].std()\n",
    "B_std = B['mpg'].std()\n",
    "C_std = C['mpg'].std()\n",
    "# print(A_std)\n",
    "# print(B_std)\n",
    "# print(C_std)\n",
    "print(round(A_std - C_std, 1))"
   ]
  },
  {
   "cell_type": "markdown",
   "id": "ac8e03ed-85fa-4eb8-b947-eca72d0bc97b",
   "metadata": {},
   "source": [
    "- 문제 1-2.\n",
    "- 다음은 mtcars 데이터셋이다.\n",
    "- 5개 변수(disp, hp, drat, wt, qsec)들 중에 mpg변수와 상관관계가 가장 큰 변수를 선정하고\n",
    "- 선정한 변수를 최대-최소 정규화 진행 후 값이 0.5를 초과하는 데이터의 수와\n",
    "- 선정한 변수를 z-score 표준화 진행하여 Z값이 1을 초과하는 데이터 수를 더하면 얼마가 되는지 구하시오."
   ]
  },
  {
   "cell_type": "code",
   "execution_count": 38,
   "id": "4c30b0ee-e1e3-46df-98ac-cf1221f63744",
   "metadata": {},
   "outputs": [
    {
     "name": "stdout",
     "output_type": "stream",
     "text": [
      "14\n"
     ]
    }
   ],
   "source": [
    "import pandas as pd\n",
    "import numpy as np\n",
    "df = pd.read_csv('mtcars.csv')\n",
    "#print(df.head(3))\n",
    "df = df[['disp','hp','drat','wt','qsec','mpg']]\n",
    "#print(df.head())\n",
    "df_corr = df.corr()\n",
    "#print(df_corr)\n",
    "df_abs = df_corr.abs()\n",
    "#print(df_abs.sort_values('mpg', ascending=False)) # wt변수\n",
    "minmax = pd.DataFrame((df['wt'] - df['wt'].min()) / (df['wt'].max() - df['wt'].min()))\n",
    "result1 = len(minmax[minmax['wt']>0.5])\n",
    "zscore = pd.DataFrame((df['wt'] - df['wt'].mean()) / df['wt'].std())\n",
    "result2 = len(zscore[zscore['wt']>1])\n",
    "print(result1 + result2)"
   ]
  },
  {
   "cell_type": "markdown",
   "id": "26794a82-a7bf-48ee-af9e-fd7e81823ebb",
   "metadata": {},
   "source": [
    "- 문제 1-3.\n",
    "- 다음은 시간대별로 생산된 wine의 화학조성 데이터이다.\n",
    "- 24년 1월에 생산된 wine과 24년 2월에 생산된 wine의\n",
    "- alcohol 변수 평균값 차이를 절대값으로 구하시오.\n",
    "- (단, 정답은 반올림하여 소수점 첫째자리까지 구하시오.)"
   ]
  },
  {
   "cell_type": "code",
   "execution_count": 48,
   "id": "f3dc6099-6700-473d-8dfe-fccaa16a43a4",
   "metadata": {},
   "outputs": [
    {
     "name": "stdout",
     "output_type": "stream",
     "text": [
      "1.4\n"
     ]
    }
   ],
   "source": [
    " ############### 복사 영역 ###################\n",
    "from sklearn.datasets import load_wine\n",
    " # 와인 데이터셋을 로드합니다.\n",
    "wine = load_wine()\n",
    "X, y = load_wine(return_X_y= True, as_frame=True)\n",
    "df = X.copy() \n",
    "df['time'] = pd.date_range('2024-01-01 00:00:00', '2024-03-29 12:00:00', periods=178)\n",
    "df = df[ ['time','alcohol','malic_acid','ash','magnesium'] ]\n",
    "df = df.set_index('time', drop=True)\n",
    " ############### 복사 영역 ###################\n",
    "#print(df.head(3))\n",
    "jan1 = df[(df.index>='2024-01-01 00:00:00')&(df.index<='2024-01-31 23:59:59')]\n",
    "#print(jan1.tail())\n",
    "feb2 = df[(df.index>='2024-02-01 00:00:00')&(df.index<'2024-03-01 00:00:00')]\n",
    "#print(feb2)\n",
    "alcohol1 = jan1['alcohol'].mean()\n",
    "alcohol2 = feb2['alcohol'].mean()\n",
    "#print(alcohol1)\n",
    "#print(alcohol2)\n",
    "print(round(abs(alcohol1 - alcohol2), 1))"
   ]
  },
  {
   "cell_type": "markdown",
   "id": "5d9902c4-8f7f-4f71-a965-35b144298003",
   "metadata": {},
   "source": [
    "- 문제 1-4.\n",
    "- 다음은 사람의 키(cm)와 몸무게(kg) 데이터이다.\n",
    "- BMI를 아래와 같은 공식으로 구할 수 있다고 할 때\n",
    "- 정상에 속하는 사람과 비만에 속하는 사람의 인원 수 차이를 절대값으로 구하시오.\n",
    "- \n",
    "- BMI 공식 = 몸무게(kg) / (키(m)의 제곱)\n",
    "- \n",
    "- BMI 지수별 비만도\n",
    "- 18.5미만 : 저체중\n",
    "- 18.5이상~23미만 : 정상\n",
    "- 23이상 ~ 25미만 : 과체중\n",
    "- 25이상 ~ 30미만 : 비만\n",
    "- 30이상 : 고도비만"
   ]
  },
  {
   "cell_type": "code",
   "execution_count": 55,
   "id": "c80c43c5-1a9e-4e60-b27f-ea742cbe594d",
   "metadata": {},
   "outputs": [
    {
     "name": "stdout",
     "output_type": "stream",
     "text": [
      "3\n"
     ]
    }
   ],
   "source": [
    "############### 복사 영역 ###################\n",
    "# 데이터 생성\n",
    "data = {\n",
    "    'height': [172, 173, 161, 168, 176, 175, 172, 169, 175, 171, 178, 166, 176, 164, 169, 164, 163, 179, 168, 177, 179, 164, 169, 163, 162, 170, 175, 177, 163, 171],\n",
    "    'weight': [77, 70, 89, 90, 63, 85, 80, 78, 83, 66, 53, 85, 50, 55, 96, 75, 95, 100, 92, 90, 50, 89, 81, 71, 65, 96, 70, 95, 54, 62]\n",
    "}\n",
    "df = pd.DataFrame(data)\n",
    "############### 복사 영역 ###################\n",
    "#df.head(3)\n",
    "df['bmi'] = df['weight']/((df['height']/100)**2)\n",
    "#print(df)\n",
    "normal = df[(df['bmi']>=18.5)&(df['bmi']<23)]\n",
    "#print(normal)\n",
    "fat = df[(df['bmi']>=25)&(df['bmi']<30)]\n",
    "#print(fat)\n",
    "print(abs(len(normal) - len(fat)))"
   ]
  },
  {
   "cell_type": "markdown",
   "id": "fd992bda-ba1e-4eab-a4a5-dc04dada38cc",
   "metadata": {},
   "source": [
    "- 문제 1-5.\n",
    "- 다음은 당뇨 진척정도 데이터셋이다.\n",
    "- 주어진 변수들 중에 s3 변수와 음의 상관관계가 가장 큰 변수 2개의\n",
    "- 상관계수 값을 구하고, 두 상관계수의 차이값을 절대값으로 구하시오.\n",
    "- (단, 반올림하여 소수점 첫째자리까지 구하시오.)"
   ]
  },
  {
   "cell_type": "code",
   "execution_count": 61,
   "id": "b3d87b14-6622-49c1-b018-3819ceb32405",
   "metadata": {},
   "outputs": [
    {
     "name": "stdout",
     "output_type": "stream",
     "text": [
      "0.3\n"
     ]
    }
   ],
   "source": [
    "############### 복사 영역 ################### \n",
    "from sklearn.datasets import load_diabetes \n",
    "# 당뇨진척정도 데이터셋을 로드합니다.\n",
    "X, y = load_diabetes(return_X_y= True, as_frame=True)\n",
    "df = X\n",
    " ############### 복사 영역 ###################\n",
    "#df.head(3)\n",
    "df_corr = df.corr()\n",
    "#print(df_corr.sort_values('s3', ascending=True))\n",
    "# s4 -0.738493 / s5 -0.398577\n",
    "print(round(abs(-0.738493 - -0.398577), 1))"
   ]
  },
  {
   "cell_type": "markdown",
   "id": "66198c59-fa15-491e-a005-7a29db66bc6c",
   "metadata": {},
   "source": [
    "- 문제 1-6.\n",
    "- 다음은 wine의 화학조성 데이터셋이다.\n",
    "- magnesium 칼럼 값이 이상치를 나타내는 와인들을 선정하고\n",
    "- 그 와인들 중에 class가 0인 와인의 비율을 구하시오.\n",
    "- (단, 이상치는 Z-score 표준화 후 값이 1.5를 초과하거나 1.5미만인 값이다)\n",
    "- (단, 이상치 비율은 반올림하여 소수점 둘째자리까지 구하시오.)"
   ]
  },
  {
   "cell_type": "code",
   "execution_count": 75,
   "id": "216d7ce3-f6a8-4539-b4d9-5236a1695fcf",
   "metadata": {},
   "outputs": [
    {
     "name": "stdout",
     "output_type": "stream",
     "text": [
      "0.31\n"
     ]
    }
   ],
   "source": [
    "############### 복사 영역 ###################\n",
    "import pandas as pd\n",
    "from sklearn.datasets import load_wine\n",
    " # 와인 데이터셋을 로드합니다.\n",
    "X, y = load_wine(return_X_y= True, as_frame=True)\n",
    "df = pd.concat([y,X],axis=1)\n",
    "df.rename(columns={'target':'class'}, inplace=True)\n",
    "############### 복사 영역 ###################\n",
    "#df.head(3)\n",
    "df['magnesium'] = (df['magnesium'] - df['magnesium'].mean()) / df['magnesium'].std()\n",
    "cond1 = (df['magnesium']>1.5)\n",
    "cond2 = (df['magnesium']<-1.5)\n",
    "df = df[cond1|cond2]\n",
    "#print(df)\n",
    "class0 = df[df['class']==0]\n",
    "#print(class0)\n",
    "#print(len(df))\n",
    "#print(len(class0))\n",
    "print(round(len(class0)/len(df), 2))"
   ]
  },
  {
   "cell_type": "markdown",
   "id": "a7f2b4a3-47fc-4767-9a21-a625f731ca93",
   "metadata": {},
   "source": [
    "- 문제 1-7.\n",
    "- 다음은 와인의 화학 조성 데이터셋이다.\n",
    "- ash칼럼 값이 상자그림 기준으로 이상치를 나타내는 와인들을 선정하고\n",
    "- 그 와인들 중에 class가 1인 와인의 비율을 구하시오.\n",
    "- (class 컬럼은 0,1,2의 값을 가지며 와인의 종류를 나타냄)\n",
    "- (단, 이상치 비율은 반올림하여 소수점 둘째자리까지 구하시오.)"
   ]
  },
  {
   "cell_type": "code",
   "execution_count": 80,
   "id": "62392a2d-c501-41f3-b604-b1ac6bd35f81",
   "metadata": {},
   "outputs": [
    {
     "name": "stdout",
     "output_type": "stream",
     "text": [
      "0.67\n"
     ]
    }
   ],
   "source": [
    "############### 복사 영역 ###################\n",
    "import pandas as pd\n",
    "from sklearn.datasets import load_wine\n",
    " # 와인 데이터셋을 로드합니다.\n",
    "X, y = load_wine(return_X_y= True, as_frame=True)\n",
    "df = pd.concat([y,X],axis=1)\n",
    "df.rename(columns={'target':'class'}, inplace=True)\n",
    " ############### 복사 영역 ###################\n",
    "#df.head(3)\n",
    "Q1 = df['ash'].quantile(0.25)\n",
    "Q3 = df['ash'].quantile(0.75)\n",
    "IQR = Q3 - Q1\n",
    "cond1 = (df['ash']>Q3+1.5*IQR)\n",
    "cond2 = (df['ash']<Q1-1.5*IQR)\n",
    "df = df[cond1|cond2]\n",
    "#print(df)\n",
    "class1 = df[df['class']==1]\n",
    "#print(class1)\n",
    "print(round(len(class1)/len(df), 2))"
   ]
  },
  {
   "cell_type": "markdown",
   "id": "d8e24e25-9808-4f18-912b-9186cd3c96fe",
   "metadata": {},
   "source": [
    "- 문제 1-8.\n",
    "- 다음은 시간대별로 생산된 wine의 화학조성 데이터이다.\n",
    "- alcohol 칼럼의 결측치를 모두 제거하고\n",
    "- 첫번째 행부터 순서대로 50%까지의 데이터를 추출하여\n",
    "- 24년 1월에 생산한 wine의 alcohol 최소값과\n",
    "- 24년 2월에 생산한 wine의 alcohol 최소값의 차이를 절대값으로 구하시오.\n",
    "- (단, 정답은 반올림하여 소수점 첫째자리까지 구하시오.)"
   ]
  },
  {
   "cell_type": "code",
   "execution_count": 146,
   "id": "d8f7e0e6-b724-43cc-981f-a2871bb642fd",
   "metadata": {},
   "outputs": [
    {
     "name": "stdout",
     "output_type": "stream",
     "text": [
      "nan\n"
     ]
    }
   ],
   "source": [
    "############### 복사 영역 ###################\n",
    "from sklearn.datasets import load_wine\n",
    "# 와인 데이터셋을 로드합니다.\n",
    "wine = load_wine()\n",
    "X, y = load_wine(return_X_y= True, as_frame=True)\n",
    "data = X.copy() \n",
    "data['time'] = pd.date_range('2024-01-01 00:00:00', '2024-03-29 12:00:00', periods= 178)\n",
    "# 열순서 변경(time 변수를 맨 앞으로)\n",
    "data = data[ ['time'] + [col for col in data if col != 'time'] ]\n",
    "# 결측치 생성\n",
    "data.loc[50:91, 'alcohol'] = np.nan\n",
    "df = data.copy() \n",
    "df = df.astype({'time':'object'})\n",
    "############### 복사 영역 ###################\n",
    "#df.head(5)\n",
    "#print(df['alcohol'].isnull().sum())\n",
    "df = df.dropna()\n",
    "#print(df)\n",
    "#print(df.isnull().sum())\n",
    "df = df.loc[0:(len(df)*0.5)-1] # per50 = int(len(df)*0.5)\n",
    "#print(df)\n",
    "df['time'] = pd.to_datetime(df['time'])\n",
    "#print(df)\n",
    "jan1 = df[df['time'].between('2024-01-01 00:00:00', '2024-01-31 23:59:59')]\n",
    "#print(jan1)\n",
    "feb2 = df[df['time'].between('2024-02-01 00:00:00', '2024-02-29 23:59:59')]\n",
    "#print(feb2)\n",
    "min1 = jan1['alcohol'].min()\n",
    "min2 = feb2['alcohol'].min()\n",
    "# print(min1)\n",
    "# print(min2)\n",
    "print(round(abs(min1 - min2), 1))"
   ]
  },
  {
   "cell_type": "code",
   "execution_count": 156,
   "id": "21d7cc45-ac62-4c14-a975-fccfb31b7693",
   "metadata": {},
   "outputs": [
    {
     "name": "stdout",
     "output_type": "stream",
     "text": [
      "1.2\n"
     ]
    }
   ],
   "source": [
    "############### 복사 영역 ###################\n",
    "from sklearn.datasets import load_wine\n",
    "# 와인 데이터셋을 로드합니다.\n",
    "wine = load_wine()\n",
    "X, y = load_wine(return_X_y= True, as_frame=True)\n",
    "data = X.copy() \n",
    "data['time'] = pd.date_range('2024-01-01 00:00:00', '2024-03-29 12:00:00', periods= 178)\n",
    "# 열순서 변경(time 변수를 맨 앞으로)\n",
    "data = data[ ['time'] + [col for col in data if col != 'time'] ]\n",
    "# 결측치 생성\n",
    "data.loc[50:91, 'alcohol'] = np.nan\n",
    "df = data.copy() \n",
    "df = df.astype({'time':'object'})\n",
    "############### 복사 영역 ###################\n",
    "#print(df.isnull().sum())\n",
    "df = df.dropna()\n",
    "# 첫번째 행부터 순서대로 50%까지의 데이터를 추출\n",
    "per50 = int(len(df)*0.5)\n",
    "df = df[:per50]\n",
    "#print(df.shape)\n",
    "df['time'] = pd.to_datetime(df['time'])\n",
    "#print(df)\n",
    "df1 = df[df['time'].between('2024-01-01 00:00:00','2024-01-31 23:59:59')]\n",
    "df2 = df[df['time'].between('2024-02-01 00:00:00', '2024-02-29 23:59:59')]\n",
    "min1 = df1['alcohol'].min()\n",
    "min2 = df2['alcohol'].min()\n",
    "print(round(abs(min1 - min2), 1))"
   ]
  },
  {
   "cell_type": "markdown",
   "id": "e78c3544-7d56-4671-b021-3445f82f99e7",
   "metadata": {},
   "source": [
    "- 문제 1-9.\n",
    "- 다음은 시간대별로 생산된 wine의 화학조성 데이터이다.\n",
    "- 24년 3월에 생산된 wine의 alcohol칼럼의 결측치를\n",
    "- 24년 1~2월에 생산한 wine의 alcohol 최소값으로 대체한 후\n",
    "- 24년 3월 wine의 alcohol 이상치의 개수를 상자그림 기준으로 구하시오."
   ]
  },
  {
   "cell_type": "code",
   "execution_count": 144,
   "id": "8ab0c807-68e9-4dbc-99c3-eb3bc310d390",
   "metadata": {},
   "outputs": [
    {
     "name": "stdout",
     "output_type": "stream",
     "text": [
      "1\n"
     ]
    },
    {
     "name": "stderr",
     "output_type": "stream",
     "text": [
      "C:\\Users\\SongInseung\\AppData\\Local\\Temp\\ipykernel_28272\\4121008000.py:26: SettingWithCopyWarning: \n",
      "A value is trying to be set on a copy of a slice from a DataFrame.\n",
      "Try using .loc[row_indexer,col_indexer] = value instead\n",
      "\n",
      "See the caveats in the documentation: https://pandas.pydata.org/pandas-docs/stable/user_guide/indexing.html#returning-a-view-versus-a-copy\n",
      "  df3['alcohol'] = df3['alcohol'].fillna(min12)\n"
     ]
    }
   ],
   "source": [
    "############### 복사 영역 ###################\n",
    "from sklearn.datasets import load_wine\n",
    "# 와인 데이터셋을 로드합니다.\n",
    "wine = load_wine()\n",
    "X, y = load_wine(return_X_y= True, as_frame=True)\n",
    "data = X.copy() \n",
    "data['time'] = pd.date_range('2024-01-01 00:00:00', '2024-03-29 12:00:00', periods= 178)\n",
    "# 열순서 변경(time 변수를 맨 앞으로)\n",
    "data = data[ ['time'] + [col for col in data if col != 'time'] ]\n",
    "# 결측치 생성\n",
    "data.loc[140:176, 'alcohol'] = np.nan\n",
    "df = data.copy() \n",
    "df = df.astype({'time':'object'})\n",
    "############### 복사 영역 ###################\n",
    "#df.head(5)\n",
    "df['time'] = pd.to_datetime(df['time'])\n",
    "#print(df)\n",
    "df12 = df[df['time'].between('2024-01-01 00:00:00', '2024-02-29 23:59:59')]\n",
    "#print(df12)\n",
    "df3 = df[df['time'].between('2024-03-01 00:00:00', '2024-03-31 23:59:59')]\n",
    "#print(df3)\n",
    "#print(df3.isnull().sum())\n",
    "#print(df12.isnull().sum())\n",
    "min12 = df12['alcohol'].min()\n",
    "#print(min12)\n",
    "df3['alcohol'] = df3['alcohol'].fillna(min12)\n",
    "#print(df3.isnull().sum())\n",
    "Q3 = df3['alcohol'].quantile(0.75)\n",
    "Q1 = df3['alcohol'].quantile(0.25)\n",
    "IQR = Q3 - Q1\n",
    "cond1 = (df3['alcohol']>Q3+1.5*IQR)\n",
    "cond2 = (df3['alcohol']<Q1-1.5*IQR)\n",
    "print(len(df3[cond1|cond2]))"
   ]
  }
 ],
 "metadata": {
  "kernelspec": {
   "display_name": "Python 3 (ipykernel)",
   "language": "python",
   "name": "python3"
  },
  "language_info": {
   "codemirror_mode": {
    "name": "ipython",
    "version": 3
   },
   "file_extension": ".py",
   "mimetype": "text/x-python",
   "name": "python",
   "nbconvert_exporter": "python",
   "pygments_lexer": "ipython3",
   "version": "3.12.3"
  }
 },
 "nbformat": 4,
 "nbformat_minor": 5
}
