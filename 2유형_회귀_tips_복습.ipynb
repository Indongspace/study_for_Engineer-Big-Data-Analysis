{
 "cells": [
  {
   "cell_type": "code",
   "execution_count": 1,
   "id": "9b87d611-f199-4c45-a2d5-e08594646811",
   "metadata": {},
   "outputs": [],
   "source": [
    "import pandas as pd\n",
    "import numpy as np\n",
    "import seaborn as sns\n",
    "\n",
    "df = sns.load_dataset('tips')\n",
    "x = df.drop(['tip'], axis=1)\n",
    "y = df['tip']\n",
    "\n",
    "from sklearn.model_selection import train_test_split\n",
    "x_train, x_test, y_train, y_test = train_test_split(x,\n",
    "                                                    y,\n",
    "                                                    test_size=0.2,\n",
    "                                                    random_state=2023)\n",
    "x_test = pd.DataFrame(x_test.reset_index())\n",
    "x_train = pd.DataFrame(x_train.reset_index())\n",
    "y_train = pd.DataFrame(y_train.reset_index())\n",
    "\n",
    "x_test.rename(columns={'index':'cust_id'}, inplace=True)\n",
    "x_train.rename(columns={'index':'cust_id'}, inplace=True)\n",
    "y_train.columns = ['cust_id','target']"
   ]
  },
  {
   "cell_type": "markdown",
   "id": "65397a3a-35e7-4b4c-868b-d6b9fcb4d3c9",
   "metadata": {},
   "source": [
    "## 레스토랑의 tip 예측 문제\n",
    "- 데이터의 결측치, 이상치, 변수에 대해 처리하고\n",
    "- 회귀모델을 사용하여 Rsq, MSE 값을 산출하시오."
   ]
  },
  {
   "cell_type": "code",
   "execution_count": 3,
   "id": "43b1a067-a6f4-4148-a81c-39845d5850ba",
   "metadata": {},
   "outputs": [
    {
     "name": "stdout",
     "output_type": "stream",
     "text": [
      "   cust_id  total_bill     sex smoker  day    time  size\n",
      "0      158       13.39  Female     No  Sun  Dinner     2\n",
      "1      186       20.90  Female    Yes  Sun  Dinner     3\n",
      "2       21       20.29  Female     No  Sat  Dinner     2\n",
      "   cust_id  total_bill     sex smoker  day    time  size\n",
      "0      154       19.77    Male     No  Sun  Dinner     4\n",
      "1        4       24.59  Female     No  Sun  Dinner     4\n",
      "2       30        9.55    Male     No  Sat  Dinner     2\n",
      "   cust_id  target\n",
      "0      158    2.61\n",
      "1      186    3.50\n",
      "2       21    2.75\n"
     ]
    }
   ],
   "source": [
    "#1. 라이브러리 및 데이터 확인\n",
    "print(x_train.head(3))\n",
    "print(x_test.head(3))\n",
    "print(y_train.head(3))"
   ]
  },
  {
   "cell_type": "code",
   "execution_count": 4,
   "id": "3cbac9d2-a3dc-4cf7-bc7f-af45c75fdcc0",
   "metadata": {},
   "outputs": [
    {
     "name": "stdout",
     "output_type": "stream",
     "text": [
      "<class 'pandas.core.frame.DataFrame'>\n",
      "RangeIndex: 195 entries, 0 to 194\n",
      "Data columns (total 7 columns):\n",
      " #   Column      Non-Null Count  Dtype   \n",
      "---  ------      --------------  -----   \n",
      " 0   cust_id     195 non-null    int64   \n",
      " 1   total_bill  195 non-null    float64 \n",
      " 2   sex         195 non-null    category\n",
      " 3   smoker      195 non-null    category\n",
      " 4   day         195 non-null    category\n",
      " 5   time        195 non-null    category\n",
      " 6   size        195 non-null    int64   \n",
      "dtypes: category(4), float64(1), int64(2)\n",
      "memory usage: 6.0 KB\n",
      "None\n",
      "<class 'pandas.core.frame.DataFrame'>\n",
      "RangeIndex: 49 entries, 0 to 48\n",
      "Data columns (total 7 columns):\n",
      " #   Column      Non-Null Count  Dtype   \n",
      "---  ------      --------------  -----   \n",
      " 0   cust_id     49 non-null     int64   \n",
      " 1   total_bill  49 non-null     float64 \n",
      " 2   sex         49 non-null     category\n",
      " 3   smoker      49 non-null     category\n",
      " 4   day         49 non-null     category\n",
      " 5   time        49 non-null     category\n",
      " 6   size        49 non-null     int64   \n",
      "dtypes: category(4), float64(1), int64(2)\n",
      "memory usage: 2.0 KB\n",
      "None\n",
      "<class 'pandas.core.frame.DataFrame'>\n",
      "RangeIndex: 195 entries, 0 to 194\n",
      "Data columns (total 2 columns):\n",
      " #   Column   Non-Null Count  Dtype  \n",
      "---  ------   --------------  -----  \n",
      " 0   cust_id  195 non-null    int64  \n",
      " 1   target   195 non-null    float64\n",
      "dtypes: float64(1), int64(1)\n",
      "memory usage: 3.2 KB\n",
      "None\n"
     ]
    }
   ],
   "source": [
    "print(x_train.info())\n",
    "print(x_test.info())\n",
    "print(y_train.info())"
   ]
  },
  {
   "cell_type": "code",
   "execution_count": 6,
   "id": "97d813ea-c566-4abe-ae8c-1e3f6b0c446f",
   "metadata": {},
   "outputs": [],
   "source": [
    "# EDA"
   ]
  },
  {
   "cell_type": "code",
   "execution_count": 5,
   "id": "b6a7ea73-6737-4e49-86b6-0e4a8322539c",
   "metadata": {},
   "outputs": [],
   "source": [
    "#sex smoker  day    time "
   ]
  },
  {
   "cell_type": "code",
   "execution_count": 7,
   "id": "37c11d01-5b37-4729-a7aa-3645f35c5354",
   "metadata": {},
   "outputs": [
    {
     "name": "stdout",
     "output_type": "stream",
     "text": [
      "            count        mean        std   min    25%     50%      75%     max\n",
      "cust_id     195.0  122.056410  70.668034  0.00  59.50  121.00  182.500  243.00\n",
      "total_bill  195.0   20.054667   8.961645  3.07  13.42   17.92   24.395   50.81\n",
      "size        195.0    2.543590   0.942631  1.00   2.00    2.00    3.000    6.00\n",
      "            count        mean        std   min    25%     50%     75%    max\n",
      "cust_id      49.0  119.285714  70.918674  2.00  62.00  123.00  180.00  239.0\n",
      "total_bill   49.0   18.716531   8.669864  5.75  12.74   16.66   21.01   44.3\n",
      "size         49.0    2.673469   0.987162  2.00   2.00    2.00    3.00    6.0\n",
      "         count        mean        std  min   25%     50%     75%    max\n",
      "cust_id  195.0  122.056410  70.668034  0.0  59.5  121.00  182.50  243.0\n",
      "target   195.0    3.021692   1.402690  1.0   2.0    2.92    3.53   10.0\n"
     ]
    }
   ],
   "source": [
    "print(x_train.describe().T)\n",
    "print(x_test.describe().T)\n",
    "print(y_train.describe().T)"
   ]
  },
  {
   "cell_type": "code",
   "execution_count": 8,
   "id": "4e300233-9f65-4dbe-b8bf-bc56178b21cb",
   "metadata": {},
   "outputs": [
    {
     "name": "stdout",
     "output_type": "stream",
     "text": [
      "       count unique     top freq\n",
      "sex      195      2    Male  125\n",
      "smoker   195      2      No  120\n",
      "day      195      4     Sat   71\n",
      "time     195      2  Dinner  142\n",
      "       count unique     top freq\n",
      "sex       49      2    Male   32\n",
      "smoker    49      2      No   31\n",
      "day       49      4     Sat   16\n",
      "time      49      2  Dinner   34\n"
     ]
    }
   ],
   "source": [
    "print(x_train.describe(include='category').T)\n",
    "print(x_test.describe(include='category').T)"
   ]
  },
  {
   "cell_type": "code",
   "execution_count": 9,
   "id": "226bdc31-d01d-426a-90b5-1f746c620aff",
   "metadata": {},
   "outputs": [
    {
     "name": "stdout",
     "output_type": "stream",
     "text": [
      "cust_id       0\n",
      "total_bill    0\n",
      "sex           0\n",
      "smoker        0\n",
      "day           0\n",
      "time          0\n",
      "size          0\n",
      "dtype: int64\n",
      "cust_id       0\n",
      "total_bill    0\n",
      "sex           0\n",
      "smoker        0\n",
      "day           0\n",
      "time          0\n",
      "size          0\n",
      "dtype: int64\n",
      "cust_id    0\n",
      "target     0\n",
      "dtype: int64\n"
     ]
    }
   ],
   "source": [
    "print(x_train.isnull().sum())\n",
    "print(x_test.isnull().sum())\n",
    "print(y_train.isnull().sum())"
   ]
  },
  {
   "cell_type": "code",
   "execution_count": 10,
   "id": "780b5e0f-f304-473d-a46d-b7b8f793d2f8",
   "metadata": {},
   "outputs": [],
   "source": [
    "# 데이터 전처리 및 분리"
   ]
  },
  {
   "cell_type": "code",
   "execution_count": 11,
   "id": "3f279c4a-a968-4703-971e-99f815720c21",
   "metadata": {},
   "outputs": [
    {
     "name": "stdout",
     "output_type": "stream",
     "text": [
      "   total_bill     sex smoker  day    time  size\n",
      "0       13.39  Female     No  Sun  Dinner     2\n",
      "1       20.90  Female    Yes  Sun  Dinner     3\n",
      "2       20.29  Female     No  Sat  Dinner     2\n",
      "   total_bill     sex smoker  day    time  size\n",
      "0       19.77    Male     No  Sun  Dinner     4\n",
      "1       24.59  Female     No  Sun  Dinner     4\n",
      "2        9.55    Male     No  Sat  Dinner     2\n"
     ]
    }
   ],
   "source": [
    "cust_id = x_test['cust_id'].copy()\n",
    "x_train = x_train.drop(columns=['cust_id'])\n",
    "x_test = x_test.drop(columns=['cust_id'])\n",
    "print(x_train.head(3))\n",
    "print(x_test.head(3))"
   ]
  },
  {
   "cell_type": "code",
   "execution_count": 16,
   "id": "02766ec2-d9b3-4fe4-a06e-ba0d9450ffb1",
   "metadata": {},
   "outputs": [
    {
     "name": "stdout",
     "output_type": "stream",
     "text": [
      "<class 'pandas.core.frame.DataFrame'>\n",
      "RangeIndex: 195 entries, 0 to 194\n",
      "Data columns (total 12 columns):\n",
      " #   Column       Non-Null Count  Dtype  \n",
      "---  ------       --------------  -----  \n",
      " 0   total_bill   195 non-null    float64\n",
      " 1   size         195 non-null    int64  \n",
      " 2   sex_Male     195 non-null    bool   \n",
      " 3   sex_Female   195 non-null    bool   \n",
      " 4   smoker_Yes   195 non-null    bool   \n",
      " 5   smoker_No    195 non-null    bool   \n",
      " 6   day_Thur     195 non-null    bool   \n",
      " 7   day_Fri      195 non-null    bool   \n",
      " 8   day_Sat      195 non-null    bool   \n",
      " 9   day_Sun      195 non-null    bool   \n",
      " 10  time_Lunch   195 non-null    bool   \n",
      " 11  time_Dinner  195 non-null    bool   \n",
      "dtypes: bool(10), float64(1), int64(1)\n",
      "memory usage: 5.1 KB\n",
      "None\n",
      "<class 'pandas.core.frame.DataFrame'>\n",
      "RangeIndex: 49 entries, 0 to 48\n",
      "Data columns (total 12 columns):\n",
      " #   Column       Non-Null Count  Dtype  \n",
      "---  ------       --------------  -----  \n",
      " 0   total_bill   49 non-null     float64\n",
      " 1   size         49 non-null     int64  \n",
      " 2   sex_Male     49 non-null     bool   \n",
      " 3   sex_Female   49 non-null     bool   \n",
      " 4   smoker_Yes   49 non-null     bool   \n",
      " 5   smoker_No    49 non-null     bool   \n",
      " 6   day_Thur     49 non-null     bool   \n",
      " 7   day_Fri      49 non-null     bool   \n",
      " 8   day_Sat      49 non-null     bool   \n",
      " 9   day_Sun      49 non-null     bool   \n",
      " 10  time_Lunch   49 non-null     bool   \n",
      " 11  time_Dinner  49 non-null     bool   \n",
      "dtypes: bool(10), float64(1), int64(1)\n",
      "memory usage: 1.4 KB\n",
      "None\n"
     ]
    }
   ],
   "source": [
    "# 변수처리\n",
    "x_train = pd.get_dummies(x_train)\n",
    "x_test = pd.get_dummies(x_test)\n",
    "print(x_train.info())\n",
    "print(x_test.info())"
   ]
  },
  {
   "cell_type": "code",
   "execution_count": 17,
   "id": "11b67869-5699-45eb-9ef4-930bc0b7c56a",
   "metadata": {},
   "outputs": [
    {
     "name": "stdout",
     "output_type": "stream",
     "text": [
      "(156, 12)\n",
      "(39, 12)\n",
      "(156,)\n",
      "(39,)\n"
     ]
    }
   ],
   "source": [
    "from sklearn.model_selection import train_test_split\n",
    "x_train, x_val, y_train, y_val = train_test_split(x_train,\n",
    "                                                  y_train['target'],\n",
    "                                                  test_size=0.2,\n",
    "                                                  random_state=2023)\n",
    "print(x_train.shape)\n",
    "print(x_val.shape)\n",
    "print(y_train.shape)\n",
    "print(y_val.shape)"
   ]
  },
  {
   "cell_type": "code",
   "execution_count": 19,
   "id": "e154354a-b10e-468f-8bec-4095ea1991eb",
   "metadata": {},
   "outputs": [],
   "source": [
    "from sklearn.ensemble import RandomForestRegressor\n",
    "model = RandomForestRegressor(random_state=2023)\n",
    "\n",
    "model.fit(x_train, y_train)\n",
    "y_pred = model.predict(x_val)"
   ]
  },
  {
   "cell_type": "code",
   "execution_count": 20,
   "id": "948401be-b081-4972-8cf4-15bb9022139d",
   "metadata": {},
   "outputs": [
    {
     "name": "stdout",
     "output_type": "stream",
     "text": [
      "1.0860209841025643\n",
      "0.6214234662421672\n"
     ]
    }
   ],
   "source": [
    "from sklearn.metrics import mean_squared_error, r2_score\n",
    "\n",
    "mse = mean_squared_error(y_val, y_pred)\n",
    "r2 = r2_score(y_val, y_pred)\n",
    "\n",
    "print(mse)\n",
    "print(r2)"
   ]
  },
  {
   "cell_type": "code",
   "execution_count": 21,
   "id": "c71e93e6-fc0f-4e17-951e-a704ab84a70e",
   "metadata": {},
   "outputs": [
    {
     "name": "stdout",
     "output_type": "stream",
     "text": [
      "[3.1114 2.8938 1.7715 1.6389 3.1873]\n"
     ]
    }
   ],
   "source": [
    "y_result = model.predict(x_test)\n",
    "print(y_result[:5])"
   ]
  },
  {
   "cell_type": "code",
   "execution_count": 22,
   "id": "58b235a5-1f49-4e80-8473-f19b39fc840e",
   "metadata": {},
   "outputs": [],
   "source": [
    "pd.DataFrame({'cust_id':cust_id, 'result':y_result}).to_csv('tips_practive.csv',index=False)"
   ]
  }
 ],
 "metadata": {
  "kernelspec": {
   "display_name": "Python 3 (ipykernel)",
   "language": "python",
   "name": "python3"
  },
  "language_info": {
   "codemirror_mode": {
    "name": "ipython",
    "version": 3
   },
   "file_extension": ".py",
   "mimetype": "text/x-python",
   "name": "python",
   "nbconvert_exporter": "python",
   "pygments_lexer": "ipython3",
   "version": "3.12.3"
  }
 },
 "nbformat": 4,
 "nbformat_minor": 5
}
