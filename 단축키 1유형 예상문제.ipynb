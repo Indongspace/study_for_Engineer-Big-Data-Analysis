{
 "cells": [
  {
   "cell_type": "markdown",
   "id": "696b7cf4-b220-453e-8239-f86951df9524",
   "metadata": {},
   "source": [
    "- 01 주어진 캘리포니아 주택 데이터에서 결측치가 있는 경우 해당 데이터 행을 제외하고\n",
    "- 첫번째 행부터 순서대로 70% 데이터를 추출하여 'housing_median_age'변수의 Q1(1사분위) 값을 정수로 출력하시오."
   ]
  },
  {
   "cell_type": "code",
   "execution_count": 12,
   "id": "8842428d-fcd1-452f-b958-10fd55ea3cc8",
   "metadata": {},
   "outputs": [
    {
     "name": "stdout",
     "output_type": "stream",
     "text": [
      "19\n",
      "19\n"
     ]
    }
   ],
   "source": [
    "import pandas as pd\n",
    "house = pd.read_csv('data/housing.csv')\n",
    "#print(house.isnull().sum()) # total_bedrooms\n",
    "house = house.dropna(subset=['total_bedrooms'])\n",
    "#print(house.isnull().sum())\n",
    "per70 = int(len(house)*0.7) # 곱하기\n",
    "house2 = house[:per70]\n",
    "#print(house2)\n",
    "Q1 = house2['housing_median_age'].quantile(0.25)\n",
    "print(int(Q1))\n",
    "print(round(Q1))"
   ]
  },
  {
   "cell_type": "markdown",
   "id": "0381709f-45d8-4de6-80a9-638fb8949f1c",
   "metadata": {},
   "source": [
    "- 02 주어진 캘리포니아 주택 데이터에서 첫번째 행부터 순서대로 80%까지의 데이터를 추출한 후\n",
    "- 'total_bedrooms' 변수의 결측값(NA)을 'total_bedrooms' 변수의 중앙값으로 대체하고\n",
    "- 대체 전의 'total_bedrooms'변수의 표준편차와 대체 후의 표준편차의 차이의 절대값을 구하시오.\n",
    "- (답안은 소수점 3째 자리에서 반올림해서 소수점 2째 자리까지 출력하시오.)"
   ]
  },
  {
   "cell_type": "code",
   "execution_count": 16,
   "id": "b3ca20b8-dc28-455f-a23a-b3052e75f1d0",
   "metadata": {},
   "outputs": [
    {
     "name": "stdout",
     "output_type": "stream",
     "text": [
      "1.98\n"
     ]
    },
    {
     "name": "stderr",
     "output_type": "stream",
     "text": [
      "C:\\Users\\SongInseung\\AppData\\Local\\Temp\\ipykernel_5936\\436936498.py:8: SettingWithCopyWarning: \n",
      "A value is trying to be set on a copy of a slice from a DataFrame.\n",
      "Try using .loc[row_indexer,col_indexer] = value instead\n",
      "\n",
      "See the caveats in the documentation: https://pandas.pydata.org/pandas-docs/stable/user_guide/indexing.html#returning-a-view-versus-a-copy\n",
      "  house80['total_bedrooms'] = house80['total_bedrooms'].fillna(house80['total_bedrooms'].median())\n"
     ]
    }
   ],
   "source": [
    "import pandas as pd\n",
    "house = pd.read_csv('data/housing.csv')\n",
    "#print(house.head(3))\n",
    "house80 = house[:int(len(house)*0.8)]\n",
    "#print(house80)\n",
    "before_std = house80['total_bedrooms'].std()\n",
    "\n",
    "house80['total_bedrooms'] = house80['total_bedrooms'].fillna(house80['total_bedrooms'].median())\n",
    "\n",
    "after_std = house80['total_bedrooms'].std()\n",
    "\n",
    "print(round(abs(before_std - after_std), 2))"
   ]
  },
  {
   "cell_type": "markdown",
   "id": "f8d3cba7-4062-442e-abf6-797d1e572495",
   "metadata": {},
   "source": [
    "- 03 타이타닉 데이터의 컬럼 중 빈값 또는 결측치를 구하고 결측값 비율이 가장 높은 컬럼명을 출력하시오."
   ]
  },
  {
   "cell_type": "code",
   "execution_count": 21,
   "id": "c71651ae-5db7-4328-aa17-59aeb49be4be",
   "metadata": {},
   "outputs": [
    {
     "name": "stdout",
     "output_type": "stream",
     "text": [
      "PassengerId      0\n",
      "Survived         0\n",
      "Pclass           0\n",
      "Name             0\n",
      "Sex              0\n",
      "Age            177\n",
      "SibSp            0\n",
      "Parch            0\n",
      "Ticket           0\n",
      "Fare             0\n",
      "Cabin          687\n",
      "Embarked         2\n",
      "dtype: int64\n"
     ]
    }
   ],
   "source": [
    "import pandas as pd\n",
    "titanic = pd.read_csv('data/train_df1.csv')\n",
    "#print(titanic.head(3))\n",
    "#print(titanic.info())\n",
    "print(titanic.isnull().sum())\n",
    "# Cabin"
   ]
  },
  {
   "cell_type": "markdown",
   "id": "c88844da-a312-487f-824a-acc0abbce35b",
   "metadata": {},
   "source": [
    "- 04 Boston Housing 데이터이다. 범죄율 컬럼인 'CRIM' 변수의 상위에서 10번째 값\n",
    "- (즉, 범죄율을 큰 순서로 정렬했을 때 10번째에 위치한 값)으로 상위 10개의 값을 변환한 후\n",
    "- 'AGE' 변수가 80이상인 데이터를 추출하여 'CRIM' 변수의 평균을 출력하시오."
   ]
  },
  {
   "cell_type": "code",
   "execution_count": 33,
   "id": "44b892ab-bf4d-4567-9779-9dabdedbc35d",
   "metadata": {},
   "outputs": [
    {
     "name": "stdout",
     "output_type": "stream",
     "text": [
      "5.759386625\n"
     ]
    }
   ],
   "source": [
    "import pandas as pd\n",
    "import numpy as np\n",
    "df = pd.read_csv('data/boston.csv')\n",
    "#print(df.head(3))\n",
    "df = df.sort_values('CRIM', ascending=False)\n",
    "top10 = df.iloc[9]['CRIM']\n",
    "#print(top10)\n",
    "df['CRIM'] = np.where(df['CRIM']>=top10, top10, df['CRIM'])\n",
    "#print(df)\n",
    "df_80 = df[df['AGE']>=80]\n",
    "#print(df_80)\n",
    "print(df_80['CRIM'].mean())"
   ]
  },
  {
   "cell_type": "markdown",
   "id": "386be905-d981-499d-8369-7c829a08e0ea",
   "metadata": {},
   "source": [
    "- 05 insurance 데이터 셋이다. charges 변수의 이상치 합을 구하시오.\n",
    "- (이상치는 평균에서 +-1.5*표준편차 벗어나는 이상 및 이하 값이고 답안은 정수로 출력하시오.)"
   ]
  },
  {
   "cell_type": "code",
   "execution_count": 41,
   "id": "6ae6ac7a-7cea-4e4d-9fc2-fc2ba000e24f",
   "metadata": {},
   "outputs": [
    {
     "name": "stdout",
     "output_type": "stream",
     "text": [
      "6421430\n"
     ]
    }
   ],
   "source": [
    "import pandas as pd\n",
    "df = pd.read_csv('data/insurance.csv')\n",
    "#print(df.head(3))\n",
    "mean = df['charges'].mean()\n",
    "std = df['charges'].std()\n",
    "\n",
    "cond1 = (df['charges'] >= mean+1.5*std)\n",
    "cond2 = (df['charges'] <= mean-1.5*std)\n",
    "\n",
    "df2 = df[cond1|cond2]\n",
    "#print(df2)\n",
    "print(int(df2['charges'].sum()))"
   ]
  },
  {
   "cell_type": "markdown",
   "id": "b861a912-1651-4e28-99de-61f5e2701b23",
   "metadata": {},
   "source": [
    "- 06 mtcars 데이터이다. wt컬럼을 최소-최대 척도(min-max scale)변환한 후 0.5보다 큰 레코드 수를 출력하시오."
   ]
  },
  {
   "cell_type": "code",
   "execution_count": 44,
   "id": "cece963f-7c88-4b21-ad0e-297ececc6573",
   "metadata": {},
   "outputs": [
    {
     "name": "stdout",
     "output_type": "stream",
     "text": [
      "11\n"
     ]
    }
   ],
   "source": [
    "import pandas as pd\n",
    "df = pd.read_csv('data/mtcars.csv')\n",
    "#print(df.head(3))\n",
    "df['wt'] = (df['wt'] - df['wt'].min()) / (df['wt'].max() - df['wt'].min())\n",
    "#print(df)\n",
    "cond1 = (df['wt']>0.5)\n",
    "print(len(df[cond1]))"
   ]
  },
  {
   "cell_type": "markdown",
   "id": "07ed7cbb-31ee-4b7a-bc5a-5759e0bf2356",
   "metadata": {},
   "source": [
    "- 07 다음은 국가별 연도별 인구 10만명 당 유병률 데이터이다.\n",
    "- 2000년도의 국가별 결핵 유병률 데이터에서 2000년도의 평균값보다 큰 유병률 값을 가진 국가수를 출력하시오."
   ]
  },
  {
   "cell_type": "code",
   "execution_count": 66,
   "id": "4ae5b7f8-f03d-4ad2-b252-cce455c05b9e",
   "metadata": {},
   "outputs": [
    {
     "name": "stdout",
     "output_type": "stream",
     "text": [
      "76\n"
     ]
    }
   ],
   "source": [
    "import pandas as pd\n",
    "df = pd.read_csv('data/disease.csv')\n",
    "#print(df.head())\n",
    "df = pd.melt(df, id_vars=['year'])\n",
    "#print(df)\n",
    "df_2000 = df[df['year']==2000]\n",
    "#print(df_2000)\n",
    "mean = df_2000['value'].mean()\n",
    "#print(mean)\n",
    "cond1 = (df_2000['value']>mean)\n",
    "df_2000 = df_2000[cond1]\n",
    "#print(df_2000)\n",
    "print(df_2000['variable'].value_counts().sum())"
   ]
  },
  {
   "cell_type": "markdown",
   "id": "5ffcce38-6941-4773-92b8-9d6721c0f245",
   "metadata": {},
   "source": [
    "- 08 데이터는 페이스북의 라이브에 대한 사용자 반응을 집계한 것이다.\n",
    "- 여러 반응 중 love 반응(num_loves)과 wow 반응(num_wows)을 매우 긍정적인 반응이라고 정의할 때\n",
    "- 전체 반응의 수(num_reaction)에서 매우 긍정적인 반응의 수가 차지하는 비율을 계산한 후\n",
    "- 그 비율이 0.5보다 작고, 0.4보다 크며 유형이 비디오(video)인 건수를 정수로 출력하시오."
   ]
  },
  {
   "cell_type": "code",
   "execution_count": 71,
   "id": "73eb91b8-f278-464c-9f03-720e191f32e9",
   "metadata": {},
   "outputs": [
    {
     "name": "stdout",
     "output_type": "stream",
     "text": [
      "90\n"
     ]
    }
   ],
   "source": [
    "import pandas as pd\n",
    "df = pd.read_csv('data/facebook.csv')\n",
    "#print(df.head(3))\n",
    "df['high'] = df['num_loves']+df['num_wows']\n",
    "#print(df)\n",
    "df['ratio'] = df['high'] / df['num_reactions']\n",
    "#print(df)\n",
    "cond1 = (df['ratio']<0.5)\n",
    "cond2 = (df['ratio']>0.4)\n",
    "cond3 = (df['status_type']=='video')\n",
    "df_result = df[cond1&cond2&cond3]\n",
    "print(len(df_result))"
   ]
  },
  {
   "cell_type": "markdown",
   "id": "f6ba88be-57e9-4d91-900e-0aa7063d4625",
   "metadata": {},
   "source": [
    "- 09 데이터는 넷플릭스 등록 콘텐츠의 메타데이터이다. 2018년 1월 중 넷플릭스에 등록된 콘텐츠 중에서\n",
    "- \"United Kingdom\"이 단독 제작한 콘텐츠의 수를 정수로 출력하시오."
   ]
  },
  {
   "cell_type": "code",
   "execution_count": 82,
   "id": "b2a076b3-09e7-4d99-acb9-deeb5f89e5d1",
   "metadata": {},
   "outputs": [
    {
     "name": "stdout",
     "output_type": "stream",
     "text": [
      "6\n"
     ]
    },
    {
     "name": "stderr",
     "output_type": "stream",
     "text": [
      "C:\\Users\\SongInseung\\AppData\\Local\\Temp\\ipykernel_5936\\4125918556.py:4: UserWarning: Could not infer format, so each element will be parsed individually, falling back to `dateutil`. To ensure parsing is consistent and as-expected, please specify a format.\n",
      "  df['date_added'] = pd.to_datetime(df['date_added'])\n"
     ]
    }
   ],
   "source": [
    "import pandas as pd\n",
    "df = pd.read_csv('data/netflix.csv', encoding_errors='ignore')\n",
    "#print(df.head(3))\n",
    "df['date_added'] = pd.to_datetime(df['date_added'])\n",
    "#print(df)\n",
    "df2 = df[df['date_added'].between('2018-01-01','2018-01-31')]\n",
    "#print(df2)\n",
    "df2 = df2[df2['country']=='United Kingdom']\n",
    "print(len(df2))"
   ]
  },
  {
   "cell_type": "markdown",
   "id": "2810ddf0-447f-473f-bbcb-134d9b8ee81c",
   "metadata": {},
   "source": [
    "- 10 주어진 y컬럼의 모든 데이터를 활용하여 1사분위수와 3사분위수 차이를 절대값으로 구하고 구한 절대값의 소수점은 버리고 정수로 출력하시오.\n",
    "- (단, 출력화면에는 정답인 정수만 출력)"
   ]
  },
  {
   "cell_type": "code",
   "execution_count": 86,
   "id": "735510f7-2e53-41b3-b919-87e7bb969b5d",
   "metadata": {},
   "outputs": [
    {
     "name": "stdout",
     "output_type": "stream",
     "text": [
      "36\n"
     ]
    }
   ],
   "source": [
    "import numpy as np\n",
    "import pandas as pd\n",
    "x = np.random.choice(range(1,21), size=10, replace=False)\n",
    "y = [1,2,3,4,5,37,41,42,44,10]\n",
    "a = pd.DataFrame({'x':x, 'y':y})\n",
    "#print(a)\n",
    "Q1 = a['y'].quantile(0.25)\n",
    "Q3 = a['y'].quantile(0.75)\n",
    "IQR = Q3 - Q1\n",
    "print(round(np.floor(abs(IQR))))"
   ]
  },
  {
   "cell_type": "markdown",
   "id": "c7d3738c-84f3-4566-b3af-e127b64e5090",
   "metadata": {},
   "source": [
    "- 11 종량제 봉투 가격과 관련된 데이터이다. 용도가 \"음식물쓰레기\"이고\n",
    "- 사용대상이 \"가정용\"인 \"2L\"가격의 평균을 소수점을 버린 후 정수로 출력하시오.\n",
    "- (단, 2L 가격 컬럼은 종량제 봉투가 존재하면 가격을 값으로, 존재하지 않으면 0을 값으로 기록된다.)"
   ]
  },
  {
   "cell_type": "code",
   "execution_count": 93,
   "id": "42b6b584-b8f0-4b86-a0e2-6ec0704007e2",
   "metadata": {},
   "outputs": [
    {
     "name": "stdout",
     "output_type": "stream",
     "text": [
      "119\n"
     ]
    }
   ],
   "source": [
    "import pandas as pd\n",
    "df = pd.read_csv('data/trash.csv', encoding='euc-kr')\n",
    "#print(df.head(5))\n",
    "cond1 = (df['용도']=='음식물쓰레기')\n",
    "cond2 = (df['사용대상']=='가정용')\n",
    "cond3 = (df['2L가격']!=0)\n",
    "df = df[cond1&cond2&cond3]\n",
    "#print(df)\n",
    "result = df['2L가격'].mean()\n",
    "print(round(np.floor(result)))"
   ]
  },
  {
   "cell_type": "markdown",
   "id": "8cd04b6e-bff2-4d6a-ab03-e47cc038d0c7",
   "metadata": {},
   "source": [
    "- 12 비만도가 정상에 속하는 인원 수와 과체중에 속하는 인원수의 차이를 정수로 출력하시오.\n",
    "- (단, BMI 지수는 Weight/(Height)^2, Weight 단위는 kg, Height 단위는 m이다.\n",
    "- 18.5미만 저체중\n",
    "- 18.5이상 23미만 정상\n",
    "- 23이상 25미만 과체중\n",
    "- 25이상 30미만 경도비만\n",
    "- 30이상 중등비만"
   ]
  },
  {
   "cell_type": "code",
   "execution_count": 98,
   "id": "d4aa91ad-6469-4ca7-8c0d-17b277def1de",
   "metadata": {},
   "outputs": [
    {
     "name": "stdout",
     "output_type": "stream",
     "text": [
      "28\n"
     ]
    }
   ],
   "source": [
    "import pandas as pd\n",
    "df = pd.read_csv('data/bmi.csv')\n",
    "#print(df.head(3))\n",
    "df['Height'] = df['Height']/100\n",
    "#print(df)\n",
    "df['bmi'] = df['Weight']/(df['Height']**2)\n",
    "df_normal = df[(df['bmi']>=18.5)&(df['bmi']<23)]\n",
    "df_fat = df[(df['bmi']>=23)&(df['bmi']<25)]\n",
    "print(int(abs(len(df_normal) - len(df_fat))))"
   ]
  },
  {
   "cell_type": "markdown",
   "id": "89985f3b-2be2-4f25-9763-55aa4735cd4b",
   "metadata": {},
   "source": [
    "- 13 student.csv는 '학교', '학년', '총 전입학생', '총 전출학생', '전체 학생수' 변수를 포함한 데이터이다.\n",
    "- 순 전입학생수는 총 전입학생수에서 총 전출학생수 차이를 의미한다.\n",
    "- 순 전입학생이 가장 많은 학교의 전체 학생수를 출력하시오."
   ]
  },
  {
   "cell_type": "code",
   "execution_count": 114,
   "id": "ecbf1d39-b42a-4eae-bf88-47dd3c8bed2b",
   "metadata": {},
   "outputs": [
    {
     "name": "stdout",
     "output_type": "stream",
     "text": [
      "566\n"
     ]
    }
   ],
   "source": [
    "import pandas as pd\n",
    "df = pd.read_csv('data/students.csv', encoding='euc-kr')\n",
    "#print(df.head(3))\n",
    "df['순전입학생'] = df['총전입학생'] - df['총전출학생']\n",
    "#print(df)\n",
    "df2 = df.groupby('학교')['순전입학생'].sum()\n",
    "#print(df)\n",
    "df_A = df[df['학교']=='A']\n",
    "#print(df_A)\n",
    "print(df_A['전체학생수'].sum())"
   ]
  },
  {
   "cell_type": "markdown",
   "id": "33439599-401b-494a-8a0e-8e99b79ba372",
   "metadata": {},
   "source": [
    "- 14 출동소방서별로 주민으로부터 연락받은 신고일시와 출동한 출동일시를 기록한 데이터 파일이다.\n",
    "- 출동소방서별 신고일시부터 출동일시까지의 연도별 월 평균을 구하고,\n",
    "- 가장 늦게 출발한 출동 소방서의 월평균 시간을 분단위로 제출하시오.(30초 단위로 반올림하여 제출)"
   ]
  },
  {
   "cell_type": "code",
   "execution_count": 143,
   "id": "1a47f8c5-3b6b-4540-a70f-5c9dbdf61a94",
   "metadata": {},
   "outputs": [
    {
     "name": "stdout",
     "output_type": "stream",
     "text": [
      "64\n"
     ]
    }
   ],
   "source": [
    "import pandas as pd\n",
    "df = pd.read_csv('data/firestation.csv')\n",
    "#print(df.head(3))\n",
    "df['출동일시'] = pd.to_datetime(df['출동일시'])\n",
    "df['신고일시'] = pd.to_datetime(df['신고일시'])\n",
    "df['시간차'] = (df['출동일시']-df['신고일시']).dt.total_seconds()\n",
    "#print(df)\n",
    "df2 = df.groupby([df['출동소방서'], df['신고일시'].dt.year, df['신고일시'].dt.month]).agg(평균시간=('시간차','mean'))\n",
    "#print(df2)\n",
    "df2 = df2.sort_values('평균시간', ascending=False)\n",
    "#print(df2)\n",
    "# '대화119안전센터'\n",
    "result = df2.iloc[0]['평균시간']/60\n",
    "print(round(result))"
   ]
  },
  {
   "cell_type": "markdown",
   "id": "58e5f891-a99d-4b6f-915c-4ba836b680b0",
   "metadata": {},
   "source": [
    "- 15 초등학교의 학년별 학생 수와 교사 수 저장한 데이터이다.\n",
    "- 교사 1인당 학생 수가 가장 많은 학교를 선정하고, 선정된 학교의 교사 수를 정수로 출력하시오.\n",
    "- (학교명의 중복은 없고 단일 학교의 학생수, 교사 수 데이터만 존재한다.)"
   ]
  },
  {
   "cell_type": "code",
   "execution_count": 157,
   "id": "aa47cf3f-ec5b-4dae-a7da-8c664e24cb66",
   "metadata": {},
   "outputs": [
    {
     "name": "stdout",
     "output_type": "stream",
     "text": [
      "6\n"
     ]
    }
   ],
   "source": [
    "import pandas as pd\n",
    "df = pd.read_csv('data/elementary.csv')\n",
    "#print(df.head(3))\n",
    "df['total_student'] = df['student_1']+df['student_2']+df['student_3']+df['student_4']+df['student_5']+df['student_6']\n",
    "df['per'] = df['total_student']/df['teacher']\n",
    "#print(df)\n",
    "df = df.sort_values('per', ascending=False)\n",
    "#print(df)\n",
    "print(df.iloc[0]['teacher'])"
   ]
  },
  {
   "cell_type": "markdown",
   "id": "84d04f8a-e5cf-4d37-9654-4a40e1cbbe05",
   "metadata": {},
   "source": [
    "- 16 월별 범죄 데이터이다. 연도별 월평균 범죄건수를 구하고, 가장 범죄가 많이 발생한 연도의 월평균 범죄 건수를 정수로 출력하시오."
   ]
  },
  {
   "cell_type": "code",
   "execution_count": 176,
   "id": "042a1783-8498-4d53-a52f-591b2b3c7467",
   "metadata": {},
   "outputs": [
    {
     "name": "stdout",
     "output_type": "stream",
     "text": [
      "19329\n"
     ]
    }
   ],
   "source": [
    "import pandas as pd\n",
    "df = pd.read_csv('data/crime.csv')\n",
    "#print(df.head(3))\n",
    "df['년월'] = pd.to_datetime(df['년월'])\n",
    "#print(df.info())\n",
    "#print(df.head(3))\n",
    "df['총합'] = df['강력범']+df['절도범']+df['폭력범']+df['지능범']+df['풍속범']+df['기타형사범']\n",
    "#print(df)\n",
    "df2 = df.groupby(df['년월'].dt.year).agg(월평균=('총합','mean'))\n",
    "#print(df2)\n",
    "df2 = df2.sort_values('월평균', ascending=False)\n",
    "print(int(df2.iloc[0]['월평균']))"
   ]
  },
  {
   "cell_type": "code",
   "execution_count": 182,
   "id": "85043456-4c9f-4187-8095-1a330f168fa9",
   "metadata": {},
   "outputs": [
    {
     "name": "stdout",
     "output_type": "stream",
     "text": [
      "19329\n"
     ]
    }
   ],
   "source": [
    "import pandas as pd\n",
    "df = pd.read_csv('data/crime.csv')\n",
    "#print(df.head(3))\n",
    "df['year'] = df['년월'].str[:4]\n",
    "#print(df)\n",
    "df['총합'] = df['강력범']+df['절도범']+df['폭력범']+df['지능범']+df['풍속범']+df['기타형사범']\n",
    "df2 = df.groupby('year').agg(평균=('총합', 'mean'))\n",
    "#print(df2)\n",
    "df2 = df2.sort_values('평균', ascending=False)\n",
    "print(int(df2.iloc[0]['평균']))"
   ]
  }
 ],
 "metadata": {
  "kernelspec": {
   "display_name": "Python 3 (ipykernel)",
   "language": "python",
   "name": "python3"
  },
  "language_info": {
   "codemirror_mode": {
    "name": "ipython",
    "version": 3
   },
   "file_extension": ".py",
   "mimetype": "text/x-python",
   "name": "python",
   "nbconvert_exporter": "python",
   "pygments_lexer": "ipython3",
   "version": "3.12.3"
  }
 },
 "nbformat": 4,
 "nbformat_minor": 5
}
